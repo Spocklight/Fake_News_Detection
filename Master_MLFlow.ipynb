{
  "nbformat": 4,
  "nbformat_minor": 0,
  "metadata": {
    "colab": {
      "provenance": [],
      "collapsed_sections": [],
      "authorship_tag": "ABX9TyN9aSjFq3EGpueDv15c0Ke3",
      "include_colab_link": true
    },
    "kernelspec": {
      "name": "python3",
      "display_name": "Python 3"
    },
    "language_info": {
      "name": "python"
    }
  },
  "cells": [
    {
      "cell_type": "markdown",
      "metadata": {
        "id": "view-in-github",
        "colab_type": "text"
      },
      "source": [
        "<a href=\"https://colab.research.google.com/github/Spocklight/Fake_News_Detection/blob/master/Master_MLFlow.ipynb\" target=\"_parent\"><img src=\"https://colab.research.google.com/assets/colab-badge.svg\" alt=\"Open In Colab\"/></a>"
      ]
    },
    {
      "cell_type": "markdown",
      "source": [
        "<h1><center>Detección de noticias falsas</center></h1>\n",
        "<h3><center>Alejandro Sierra Fernández</center></h3>\n",
        "<h4><center>01/08/2022</center></h4>"
      ],
      "metadata": {
        "id": "wzjrX6iMQ76k"
      }
    },
    {
      "cell_type": "markdown",
      "source": [
        "*   <h2>Productivización del modelo</h2>\n",
        "\n",
        "<font color='darkblue'> En este Notebook vamos a poner un ejemplo sobre cómo productivizar el algoritmo RandomForest. Hemos elegido este algoritmo porque es el que mejor resultados nos ha dado a lo largo del estudio y por su simpleza en comparación con las redes neuronales. A pesar de que habíamos realizado ajuste de parámetros (RandomSearchCV) para encontrar aquellos más óptimos, en este caso vamos predecir empleando diferentes combinaciones de parámetros para ver las distintas métricas que se obtienen.</font>"
      ],
      "metadata": {
        "id": "tz9AzFayQ9hm"
      }
    },
    {
      "cell_type": "markdown",
      "source": [
        "<font color='darkblue'>Empleamos la herramienta de Opensource *MLFLOW* para gestionar el ciclo de vida de los modelos, registrando los resultados y parámetros para poder compararlos y permitiendo el control de versiones.\n",
        "\n",
        "También hacemos uso de *Ngrok*, que nos permitirá exponer a internet una URL generada dinámicamente y que apunta a un servicio web que se está generando en nuestra máquina local</font>"
      ],
      "metadata": {
        "id": "8glucFZyR5Vc"
      }
    },
    {
      "cell_type": "markdown",
      "source": [
        "<font color='darkblue'>Empezamos instalando e importando MLFlow</font>"
      ],
      "metadata": {
        "id": "MrMRolWuUv89"
      }
    },
    {
      "cell_type": "code",
      "source": [
        "!pip install mlflow --quiet\n",
        "!pip install pyngrok --quiet"
      ],
      "metadata": {
        "id": "SPEen6Wmfmxr",
        "colab": {
          "base_uri": "https://localhost:8080/"
        },
        "outputId": "bd6fa696-642b-45e3-fc62-5f187f485937"
      },
      "execution_count": 1,
      "outputs": [
        {
          "output_type": "stream",
          "name": "stdout",
          "text": [
            "\u001b[K     |████████████████████████████████| 16.9 MB 8.0 MB/s \n",
            "\u001b[K     |████████████████████████████████| 147 kB 44.9 MB/s \n",
            "\u001b[K     |████████████████████████████████| 209 kB 58.0 MB/s \n",
            "\u001b[K     |████████████████████████████████| 79 kB 10.1 MB/s \n",
            "\u001b[K     |████████████████████████████████| 181 kB 60.0 MB/s \n",
            "\u001b[K     |████████████████████████████████| 77 kB 7.9 MB/s \n",
            "\u001b[K     |████████████████████████████████| 78 kB 9.4 MB/s \n",
            "\u001b[K     |████████████████████████████████| 55 kB 2.6 MB/s \n",
            "\u001b[K     |████████████████████████████████| 140 kB 58.5 MB/s \n",
            "\u001b[K     |████████████████████████████████| 62 kB 1.9 MB/s \n",
            "\u001b[K     |████████████████████████████████| 63 kB 2.3 MB/s \n",
            "\u001b[K     |████████████████████████████████| 59 kB 8.3 MB/s \n",
            "\u001b[?25h  Building wheel for databricks-cli (setup.py) ... \u001b[?25l\u001b[?25hdone\n",
            "\u001b[K     |████████████████████████████████| 745 kB 9.6 MB/s \n",
            "\u001b[?25h  Building wheel for pyngrok (setup.py) ... \u001b[?25l\u001b[?25hdone\n"
          ]
        }
      ]
    },
    {
      "cell_type": "markdown",
      "source": [
        "<font color='darkblue'> Configuramos el experimento en el que deseamos trabajar y le damos nombre</font>"
      ],
      "metadata": {
        "id": "ODe2mcSuV9Ez"
      }
    },
    {
      "cell_type": "code",
      "source": [
        "import mlflow\n",
        "import mlflow.sklearn\n",
        "\n",
        "mlflow.set_experiment(experiment_name=\"mlflow demo2\")"
      ],
      "metadata": {
        "colab": {
          "base_uri": "https://localhost:8080/"
        },
        "id": "oedMspobfoa-",
        "outputId": "de5e8f74-22cb-48b7-96e8-2d2825f37b53"
      },
      "execution_count": 2,
      "outputs": [
        {
          "output_type": "stream",
          "name": "stderr",
          "text": [
            "2022/09/22 09:54:26 INFO mlflow.tracking.fluent: Experiment with name 'mlflow demo2' does not exist. Creating a new experiment.\n"
          ]
        },
        {
          "output_type": "execute_result",
          "data": {
            "text/plain": [
              "<Experiment: artifact_location='file:///content/mlruns/1', creation_time=1663840466888, experiment_id='1', last_update_time=1663840466888, lifecycle_stage='active', name='mlflow demo2', tags={}>"
            ]
          },
          "metadata": {},
          "execution_count": 2
        }
      ]
    },
    {
      "cell_type": "markdown",
      "source": [
        "Ahora importamos las librerías necesarias para procesar los datos y para definir y entrenar nuestro modelo. Tambié importamos Ngrok"
      ],
      "metadata": {
        "id": "Ap8TVDA6WPEs"
      }
    },
    {
      "cell_type": "code",
      "source": [
        "from pyngrok import ngrok"
      ],
      "metadata": {
        "id": "CfLFIB45rEql"
      },
      "execution_count": 3,
      "outputs": []
    },
    {
      "cell_type": "code",
      "execution_count": 4,
      "metadata": {
        "id": "BkH466rDXJ0c"
      },
      "outputs": [],
      "source": [
        "import scipy as sp\n",
        "import pickle\n",
        "import pandas as pd\n",
        "import numpy as np\n",
        "from sklearn.model_selection import train_test_split\n",
        "from sklearn.feature_extraction.text import TfidfVectorizer\n",
        "from sklearn.preprocessing import StandardScaler\n",
        "from sklearn.metrics import mean_squared_error, mean_absolute_error, r2_score"
      ]
    },
    {
      "cell_type": "code",
      "source": [
        "!mlflow"
      ],
      "metadata": {
        "colab": {
          "base_uri": "https://localhost:8080/"
        },
        "id": "Zny1TH1xXOkE",
        "outputId": "217eb09a-d986-4c11-e883-ce7558fb0c90"
      },
      "execution_count": 5,
      "outputs": [
        {
          "output_type": "stream",
          "name": "stdout",
          "text": [
            "Usage: mlflow [OPTIONS] COMMAND [ARGS]...\n",
            "\n",
            "Options:\n",
            "  --version  Show the version and exit.\n",
            "  --help     Show this message and exit.\n",
            "\n",
            "Commands:\n",
            "  artifacts    Upload, list, and download...\n",
            "  azureml      Serve models on Azure ML.\n",
            "  db           Commands for managing an MLflow...\n",
            "  deployments  Deploy MLflow models to custom...\n",
            "  experiments  Manage experiments.\n",
            "  gc           Permanently delete runs in the\n",
            "               `deleted` lifecycle stage.\n",
            "\n",
            "  models       Deploy MLflow models locally.\n",
            "  pipelines    Run MLflow Pipelines and inspect...\n",
            "  run          Run an MLflow project from the...\n",
            "  runs         Manage runs.\n",
            "  sagemaker    Serve models on SageMaker.\n",
            "  server       Run the MLflow tracking server.\n",
            "  ui           Launch the MLflow tracking UI\n",
            "               for...\n"
          ]
        }
      ]
    },
    {
      "cell_type": "markdown",
      "source": [
        "<font color='darkblue'> Cargamos la información del Drive y la procesamos.</font>"
      ],
      "metadata": {
        "id": "9ZhuXzzHWpDc"
      }
    },
    {
      "cell_type": "code",
      "source": [
        "from google.colab import drive\n",
        "drive.mount('/content/drive')"
      ],
      "metadata": {
        "colab": {
          "base_uri": "https://localhost:8080/"
        },
        "id": "5gT-i3qSXtVP",
        "outputId": "bad43f2e-79e7-4feb-dcae-b59376d18c5f"
      },
      "execution_count": 6,
      "outputs": [
        {
          "output_type": "stream",
          "name": "stdout",
          "text": [
            "Mounted at /content/drive\n"
          ]
        }
      ]
    },
    {
      "cell_type": "code",
      "source": [
        "drive.mount('/content/drive')\n",
        "path = '/content/drive/MyDrive/Fake_News/'\n",
        "pickle_in = open(path + 'ISOT_topic_sentiment_pickle', 'rb')\n",
        "ISOT = pickle.load(pickle_in)"
      ],
      "metadata": {
        "colab": {
          "base_uri": "https://localhost:8080/"
        },
        "id": "yFJF0QtdZ9-C",
        "outputId": "d5d5be26-ea4f-471a-f55f-b0edfc531a4c"
      },
      "execution_count": 7,
      "outputs": [
        {
          "output_type": "stream",
          "name": "stdout",
          "text": [
            "Drive already mounted at /content/drive; to attempt to forcibly remount, call drive.mount(\"/content/drive\", force_remount=True).\n"
          ]
        }
      ]
    },
    {
      "cell_type": "code",
      "source": [
        "train, test = train_test_split(ISOT, test_size=0.2, random_state=25)\n",
        "print(train.shape)\n",
        "print(test.shape)"
      ],
      "metadata": {
        "colab": {
          "base_uri": "https://localhost:8080/"
        },
        "id": "0cN9rqStXw1f",
        "outputId": "ac88ee50-9b75-4b38-8cc1-b310bcae7fb8"
      },
      "execution_count": 8,
      "outputs": [
        {
          "output_type": "stream",
          "name": "stdout",
          "text": [
            "(30607, 28)\n",
            "(7652, 28)\n"
          ]
        }
      ]
    },
    {
      "cell_type": "code",
      "source": [
        "count_1, count_0 = train[\"target\"].value_counts()\n",
        "\n",
        "class_0 = train[train.target=='Fake']\n",
        "class_1 = train[train.target=='True']\n",
        "class_1_under = class_1.sample(count_0)\n",
        "train_under = pd.concat([class_1_under, class_0], axis=0)\n",
        "\n",
        "train_under['target'].value_counts().plot(kind='bar', title='count (target)')\n",
        "train_under['target'].value_counts()\n",
        "train = train_under"
      ],
      "metadata": {
        "colab": {
          "base_uri": "https://localhost:8080/",
          "height": 294
        },
        "id": "vgQGjbYfXgoH",
        "outputId": "891bdbb0-0554-434c-98b5-604bbb54df5a"
      },
      "execution_count": 9,
      "outputs": [
        {
          "output_type": "display_data",
          "data": {
            "text/plain": [
              "<Figure size 432x288 with 1 Axes>"
            ],
            "image/png": "[encoded data removed]"
          },
          "metadata": {
            "needs_background": "light"
          }
        }
      ]
    },
    {
      "cell_type": "code",
      "source": [
        "train[\"target\"] = (train['target'] == 'True').astype(np.float32)  #True=1, Fake=0\n",
        "test[\"target\"] = (test['target'] == 'True').astype(np.float32)  #True=1, Fake=0"
      ],
      "metadata": {
        "id": "VVCCPNUdcYG2"
      },
      "execution_count": 10,
      "outputs": []
    },
    {
      "cell_type": "code",
      "source": [
        "vectorizador = TfidfVectorizer(max_features=100,                  \n",
        "                               ngram_range=(1,3),\n",
        "                               min_df=10,\n",
        "                               max_df=0.50,\n",
        "                               lowercase=False)\n",
        "\n",
        "vector_title_train = vectorizador.fit_transform(train[\"clean_title\"])\n",
        "vector_text_train = vectorizador.fit_transform(train[\"clean_text\"])\n",
        "vector_title_test = vectorizador.fit_transform(test[\"clean_title\"])\n",
        "vector_text_test = vectorizador.fit_transform(test[\"clean_text\"])"
      ],
      "metadata": {
        "id": "iT5pvD85ca-R"
      },
      "execution_count": 11,
      "outputs": []
    },
    {
      "cell_type": "code",
      "source": [
        "extra_features_train_d = train[['Sentimiento_text', 'Análisis_text', 'Subjetividad_text', 'Sentimiento_title', 'Análisis_title', 'Subjetividad_title', 'topic_modelling_max',\n",
        "                              'prop_long_text', 'prop_long_title', 'prop_uppercase_text', 'prop_uppercase_title', 'token_title_len', 'token_text_len',\n",
        "                              'char_len_title', 'char_len_text']]\n",
        "\n",
        "extra_features_test_d = test[['Sentimiento_text', 'Análisis_text', 'Subjetividad_text', 'Sentimiento_title', 'Análisis_title', 'Subjetividad_title', 'topic_modelling_max',\n",
        "                              'prop_long_text', 'prop_long_title', 'prop_uppercase_text', 'prop_uppercase_title', 'token_title_len', 'token_text_len',\n",
        "                              'char_len_title', 'char_len_text']]\n",
        "\n",
        "sc = StandardScaler()\n",
        "extra_features_train = sc.fit_transform(extra_features_train_d)\n",
        "extra_features_test = sc.transform(extra_features_test_d)"
      ],
      "metadata": {
        "id": "YyWhOMB-ckAa"
      },
      "execution_count": 12,
      "outputs": []
    },
    {
      "cell_type": "code",
      "source": [
        "y_train = train[\"target\"].values\n",
        "X_train_text = sp.sparse.hstack((vector_text_train, extra_features_train),format='csr')\n",
        "X_train_title = sp.sparse.hstack((vector_title_train, extra_features_train),format='csr')\n",
        "\n",
        "y_test = test[\"target\"].values\n",
        "X_test_text = sp.sparse.hstack((vector_text_test, extra_features_test),format='csr')\n",
        "X_test_title = sp.sparse.hstack((vector_title_test, extra_features_test),format='csr')"
      ],
      "metadata": {
        "id": "yWVzwIEwcm-j"
      },
      "execution_count": 13,
      "outputs": []
    },
    {
      "cell_type": "code",
      "source": [
        "X_train_text = X_train_text.toarray()\n",
        "X_train_title = X_train_title.toarray()\n",
        "X_test_text = X_test_text.toarray()\n",
        "X_test_title = X_test_title.toarray()\n"
      ],
      "metadata": {
        "id": "4m8Zs-Cic0jm"
      },
      "execution_count": 14,
      "outputs": []
    },
    {
      "cell_type": "markdown",
      "source": [
        "<font color='darkblue'> Cabe destacar que, siguiendo el mismo proceso, también podríamos haber hecho *pickle* con nuestro modelo ya entrenado y haberle dado como *input* nuevas noticias para lanzar predicciones. Sin embargo, de esta forma estudiamos en el servidor diferentes modelos con las diferentes métricas y resultados. De esta forma estamos simulando lo que podría ser el control de versiones</font>"
      ],
      "metadata": {
        "id": "QwkJiPtCW08n"
      }
    },
    {
      "cell_type": "markdown",
      "source": [
        "<font color='darkblue'> Definimos las métricas que vamos a emplear.</font>"
      ],
      "metadata": {
        "id": "lR7Oz3nSXnaR"
      }
    },
    {
      "cell_type": "code",
      "source": [
        "def eval_metrics(actual, pred):\n",
        "        rmse = np.sqrt(mean_squared_error(actual, pred))\n",
        "        mae = mean_absolute_error(actual, pred)\n",
        "        r2 = r2_score(actual, pred)\n",
        "        return rmse, mae, r2"
      ],
      "metadata": {
        "id": "ZxQeKnoCto63"
      },
      "execution_count": 15,
      "outputs": []
    },
    {
      "cell_type": "markdown",
      "source": [
        "<font color='darkblue'> Definimos la función *train_model* y empezamos un* run de MLFlow* en el que serán cargadas las métricas y los parámetros de las diferentes versiones. Además, a la función le damos como entrada el número de nodos y la profundidad para poder generar algoritmos con diferentes combinaciones de parámetros y diferentes resultados.</font>"
      ],
      "metadata": {
        "id": "e6AdJPbwXrdV"
      }
    },
    {
      "cell_type": "code",
      "source": [
        "from sklearn.ensemble import RandomForestClassifier\n",
        "\n",
        "\n",
        "def train_model(max_depth, n_estimators):\n",
        "  with mlflow.start_run():\n",
        "    RF_tuned=RandomForestClassifier(criterion = 'gini', max_depth = max_depth, n_estimators = n_estimators)\n",
        "    RF_tuned.fit(X_train_text,y_train)\n",
        "\n",
        "    print('Modelo entrenado')\n",
        "\n",
        "    y_pred = RF_tuned.predict(X_test_text)\n",
        "\n",
        "    from sklearn.metrics import accuracy_score\n",
        "    model_accuracy = accuracy_score(y_test, y_pred)\n",
        "    print(model_accuracy)\n",
        "\n",
        "    (rmse, mae, r2) = eval_metrics(y_test, y_pred)\n",
        "#Cargamos las métricas\n",
        "    mlflow.log_metric(\"accuracy\", model_accuracy)\n",
        "    mlflow.log_metric(\"rmse\", rmse)\n",
        "    mlflow.log_metric(\"r2\", r2)\n",
        "    mlflow.log_metric(\"mae\", mae)\n",
        "    mlflow.sklearn.log_model(RF_tuned, \"model\")\n",
        "\n",
        "  get_ipython().system_raw(\"mlflow ui --port 5000 &\")   #El siguiente bloque de código abre desde colab una url port 5000\n",
        "  from pyngrok import ngrok                             \n",
        "  ngrok.kill()\n",
        "  # Obtener authtoken de https://dashboard.ngrok.com/auth\n",
        "  NGROK_AUTH_TOKEN = \"2F6P0aUCJURTnlTm1Ak5yn3GhWP_2cbM1JToMZRHjPayqDzhu\"\n",
        "  ngrok.set_auth_token(NGROK_AUTH_TOKEN)\n",
        "  ngrok_tunnel = ngrok.connect(addr=\"5000\", proto=\"http\", bind_tls=True)\n",
        "  print(\"MLflow Tracking UI:\", ngrok_tunnel.public_url)  #Ngrok nos devuelve la url pública para acceder a los resultados en tiempo real\n",
        "\n",
        "  #https://stackoverflow.com/questions/61615818/setting-up-mlflow-on-google-colab"
      ],
      "metadata": {
        "id": "eevwMvqZgJ8V"
      },
      "execution_count": 16,
      "outputs": []
    },
    {
      "cell_type": "markdown",
      "source": [
        "<font color='darkblue'> Finalmente llamamos al la función con diferentes combinaciones de parámetros.</font>"
      ],
      "metadata": {
        "id": "ZAtSqXg2cxZD"
      }
    },
    {
      "cell_type": "code",
      "source": [
        "train_model(10, 250)\n",
        "train_model(10, 500)\n",
        "train_model(25, 250)\n",
        "train_model(50, 500)"
      ],
      "metadata": {
        "colab": {
          "base_uri": "https://localhost:8080/"
        },
        "id": "IaQL4HuKl70k",
        "outputId": "aceebea8-45ee-41bb-f01d-f651cfb42933"
      },
      "execution_count": 17,
      "outputs": [
        {
          "output_type": "stream",
          "name": "stdout",
          "text": [
            "Modelo entrenado\n",
            "0.98170412963931\n",
            "MLflow Tracking UI: https://6be2-34-125-173-187.ngrok.io\n",
            "Modelo entrenado\n",
            "0.9827496079456352\n",
            "MLflow Tracking UI: https://43d1-34-125-173-187.ngrok.io\n",
            "Modelo entrenado\n",
            "0.9823575535807632\n",
            "MLflow Tracking UI: https://84e3-34-125-173-187.ngrok.io\n",
            "Modelo entrenado\n",
            "0.9826189231573444\n",
            "MLflow Tracking UI: https://8632-34-125-173-187.ngrok.io\n"
          ]
        }
      ]
    }
  ]
}