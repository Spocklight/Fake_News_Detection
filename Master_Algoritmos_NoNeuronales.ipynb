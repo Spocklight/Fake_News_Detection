{
  "nbformat": 4,
  "nbformat_minor": 0,
  "metadata": {
    "colab": {
      "provenance": [],
      "authorship_tag": "ABX9TyPEM7u1nwxRX63KqFt8irhP",
      "include_colab_link": true
    },
    "kernelspec": {
      "name": "python3",
      "display_name": "Python 3"
    },
    "language_info": {
      "name": "python"
    }
  },
  "cells": [
    {
      "cell_type": "markdown",
      "metadata": {
        "id": "view-in-github",
        "colab_type": "text"
      },
      "source": [
        "<a href=\"https://colab.research.google.com/github/Spocklight/Fake_News_Detection/blob/master/Master_Algoritmos_NoNeuronales.ipynb\" target=\"_parent\"><img src=\"https://colab.research.google.com/assets/colab-badge.svg\" alt=\"Open In Colab\"/></a>"
      ]
    },
    {
      "cell_type": "markdown",
      "source": [
        "<h1><center>Detección de noticias falsas</center></h1>\n",
        "<h3><center>Alejandro Sierra Fernández</center></h3>\n",
        "<h4><center>01/08/2022</center></h4>"
      ],
      "metadata": {
        "id": "p7Bf5nyttbE0"
      }
    },
    {
      "cell_type": "markdown",
      "source": [
        "*   <h2>Aplicación de algoritmos no neuronales</h2>\n",
        "\n",
        "<font color='darkblue'> En este Notebook exploraremos el desempeño que tienen sobres nuestros datos los algoritmos conocidos como 'Support Vector Classifier' (SVC), Regresión Logística, 'K-nearest-neighbours' (KNN), Árboles de decisión, 'Random Forest' y Naive Bayes.   </font>"
      ],
      "metadata": {
        "id": "_TWefeS0tfeS"
      }
    },
    {
      "cell_type": "markdown",
      "source": [
        "<font color='darkblue'>Comenzamos cargando los datos e importando las librerías que vamos a emplear: </n>"
      ],
      "metadata": {
        "id": "Yoxw8MnF3ebM"
      }
    },
    {
      "cell_type": "code",
      "source": [
        "from google.colab import drive\n",
        "import warnings \n",
        "import pickle  \n",
        "from tqdm import tqdm\n",
        "from pprint import pprint\n",
        "\n",
        "import pandas as pd\n",
        "import numpy as np\n",
        "import matplotlib.pyplot as plt\n",
        "import seaborn as sns\n",
        "\n",
        "import scipy as sp\n",
        "from sklearn.model_selection import train_test_split\n",
        "from sklearn.feature_extraction.text import TfidfVectorizer\n",
        "from sklearn.preprocessing import StandardScaler\n",
        "from sklearn.model_selection import KFold\n",
        "from sklearn.model_selection import cross_val_score\n",
        "from sklearn.model_selection import GridSearchCV, RandomizedSearchCV\n",
        "from sklearn.model_selection import validation_curve\n",
        "from sklearn.metrics import classification_report,confusion_matrix\n",
        "from sklearn.metrics import plot_confusion_matrix\n",
        "\n",
        "from sklearn.linear_model import LogisticRegression\n",
        "from sklearn.tree import DecisionTreeClassifier\n",
        "from sklearn.naive_bayes import GaussianNB\n",
        "from sklearn.svm import SVC\n",
        "from sklearn.neighbors import KNeighborsClassifier\n",
        "from sklearn import tree\n",
        "from sklearn.ensemble import RandomForestClassifier\n",
        "\n"
      ],
      "metadata": {
        "id": "_lqJLrW_37yL"
      },
      "execution_count": null,
      "outputs": []
    },
    {
      "cell_type": "code",
      "execution_count": null,
      "metadata": {
        "colab": {
          "base_uri": "https://localhost:8080/"
        },
        "id": "_VQkyAJztTCC",
        "outputId": "1c106f3a-b3a7-40b6-89e3-7d15f59b216f"
      },
      "outputs": [
        {
          "output_type": "stream",
          "name": "stdout",
          "text": [
            "Mounted at /content/drive\n"
          ]
        }
      ],
      "source": [
        "drive.mount('/content/drive')\n",
        "path = '/content/drive/MyDrive/Fake_News/'\n",
        "pickle_in = open(path + 'ISOT_topic_sentiment_pickle', 'rb')\n",
        "ISOT = pickle.load(pickle_in)"
      ]
    },
    {
      "cell_type": "code",
      "source": [
        "display(ISOT.dtypes)"
      ],
      "metadata": {
        "colab": {
          "base_uri": "https://localhost:8080/",
          "height": 520
        },
        "id": "qMFnyDN62Grr",
        "outputId": "d8e200c0-1bd0-442c-9f06-e038af297e78"
      },
      "execution_count": null,
      "outputs": [
        {
          "output_type": "display_data",
          "data": {
            "text/plain": [
              "title                           object\n",
              "text                            object\n",
              "subject                         object\n",
              "date                    datetime64[ns]\n",
              "normaliza_text                  object\n",
              "normaliza_title                 object\n",
              "clean_text                      object\n",
              "clean_title                     object\n",
              "char_len_title                   int64\n",
              "char_len_text                    int64\n",
              "char_len_title_t                 int64\n",
              "char_len_text_t                  int64\n",
              "token_text_len                   int64\n",
              "token_title_len                  int64\n",
              "prop_uppercase_text            float64\n",
              "prop_uppercase_title           float64\n",
              "prop_long_text                 float64\n",
              "prop_long_title                float64\n",
              "target                          object\n",
              "normaliza_b_filter              object\n",
              "topic_modelling                 object\n",
              "topic_modelling_max              int64\n",
              "Sentimiento_text               float64\n",
              "Subjetividad_text              float64\n",
              "Análisis_text                    int64\n",
              "Sentimiento_title              float64\n",
              "Subjetividad_title             float64\n",
              "Análisis_title                   int64\n",
              "dtype: object"
            ]
          },
          "metadata": {}
        }
      ]
    },
    {
      "cell_type": "markdown",
      "source": [
        "<font color='darkblue'>Dividimos nuestros datos en train y test. </n>"
      ],
      "metadata": {
        "id": "4AZ_JSfGIxrE"
      }
    },
    {
      "cell_type": "code",
      "source": [
        "train, test = train_test_split(ISOT, test_size=0.2, random_state=25)\n",
        "print(train.shape)\n",
        "print(test.shape)"
      ],
      "metadata": {
        "colab": {
          "base_uri": "https://localhost:8080/"
        },
        "id": "wFuTDHAJAMSs",
        "outputId": "67509972-beab-419d-e8dc-cd35b58f67b6"
      },
      "execution_count": null,
      "outputs": [
        {
          "output_type": "stream",
          "name": "stdout",
          "text": [
            "(30607, 28)\n",
            "(7652, 28)\n"
          ]
        }
      ]
    },
    {
      "cell_type": "markdown",
      "source": [
        "<font color='darkblue'>Tratamos ahora el desequilibrio que pueda existir con respecto a la variable *target*. En este caso hacemos un Random-Under-Sampling manualmente, que consiste en quedarnos con un set de train balanceado, eliminando aleatoriamente instancias pertenecientes a la clase mayoritaria. Existen otras formas de afrontar este problema, pero es importante aplicar algún método. En el caso de no hacerlo nuestro modelo caería en la trampa métrica, que consiste la tendencia a predecir las instancias como pertenecientes a la clase mayoritaria para así aumentar el accuracy lo máximo posible. Esto nos dificultaría detectar elementos pertenecientes a la clase minoritaria, que con mucha frecuencia es el objeto de estudio y cuya identificación es la que motiva realmente la fabricación del modelo.</n>"
      ],
      "metadata": {
        "id": "xP0Nb_M4AVap"
      }
    },
    {
      "cell_type": "code",
      "source": [
        "train['target'].value_counts()"
      ],
      "metadata": {
        "colab": {
          "base_uri": "https://localhost:8080/"
        },
        "id": "6vMNr216A5gf",
        "outputId": "c724988d-a2ef-407f-b8bb-295241f97975"
      },
      "execution_count": null,
      "outputs": [
        {
          "output_type": "execute_result",
          "data": {
            "text/plain": [
              "True    16694\n",
              "Fake    13913\n",
              "Name: target, dtype: int64"
            ]
          },
          "metadata": {},
          "execution_count": 5
        }
      ]
    },
    {
      "cell_type": "code",
      "source": [
        "test['target'].value_counts()"
      ],
      "metadata": {
        "colab": {
          "base_uri": "https://localhost:8080/"
        },
        "id": "4siIkYCp3vLs",
        "outputId": "853bd7a2-b0f5-479a-e785-f8e02710e34b"
      },
      "execution_count": null,
      "outputs": [
        {
          "output_type": "execute_result",
          "data": {
            "text/plain": [
              "True    4126\n",
              "Fake    3526\n",
              "Name: target, dtype: int64"
            ]
          },
          "metadata": {},
          "execution_count": 95
        }
      ]
    },
    {
      "cell_type": "code",
      "source": [
        "count_1, count_0 = train[\"target\"].value_counts()\n",
        "\n",
        "class_0 = train[train.target=='Fake']\n",
        "class_1 = train[train.target=='True']\n",
        "class_1_under = class_1.sample(count_0)\n",
        "train_under = pd.concat([class_1_under, class_0], axis=0)\n",
        "\n",
        "train_under['target'].value_counts().plot(kind='bar', title='count (target)')\n",
        "train_under['target'].value_counts()\n",
        "train = train_under"
      ],
      "metadata": {
        "colab": {
          "base_uri": "https://localhost:8080/",
          "height": 294
        },
        "id": "IS-pwTDXA812",
        "outputId": "c3e0acf2-70c3-4c1d-efd9-ba3e7a52c47b"
      },
      "execution_count": null,
      "outputs": [
        {
          "output_type": "display_data",
          "data": {
            "text/plain": [
              "<Figure size 432x288 with 1 Axes>"
            ],
            "image/png": "[encoded data removed]"
          },
          "metadata": {
            "needs_background": "light"
          }
        }
      ]
    },
    {
      "cell_type": "code",
      "source": [
        "train['target'].value_counts()"
      ],
      "metadata": {
        "colab": {
          "base_uri": "https://localhost:8080/"
        },
        "id": "aEFFAPxT5Wse",
        "outputId": "778485a5-2bb1-4299-9fc8-beb32e70b854"
      },
      "execution_count": null,
      "outputs": [
        {
          "output_type": "execute_result",
          "data": {
            "text/plain": [
              "True    13913\n",
              "Fake    13913\n",
              "Name: target, dtype: int64"
            ]
          },
          "metadata": {},
          "execution_count": 7
        }
      ]
    },
    {
      "cell_type": "markdown",
      "source": [
        "<font color='darkblue'> Transformamos ahora nuestra variable *target* para convertirla en variable numérica."
      ],
      "metadata": {
        "id": "9BNBYE7XEItd"
      }
    },
    {
      "cell_type": "code",
      "source": [
        "train[\"target\"] = (train['target'] == 'True').astype(np.float32)  #True=1, Fake=0\n",
        "test[\"target\"] = (test['target'] == 'True').astype(np.float32)  #True=1, Fake=0"
      ],
      "metadata": {
        "id": "tcsr0ufqCzBc"
      },
      "execution_count": null,
      "outputs": []
    },
    {
      "cell_type": "markdown",
      "source": [
        "<font color='darkblue'> En el siguiente bloque de código transformamos nuestras noticias y nuestros títulos en un formato numérico que pueda ser pasado al modelo como input. La idea es representar nuestros textos en un espacio vectorial n-dimensional. Para ello empleamos la técnica TF-IDF:</n>"
      ],
      "metadata": {
        "id": "BFhnhQXOEqwe"
      }
    },
    {
      "cell_type": "code",
      "source": [
        "vectorizador = TfidfVectorizer(max_features=100,                  \n",
        "                               ngram_range=(1,3),\n",
        "                               min_df=10,\n",
        "                               max_df=0.50,\n",
        "                               lowercase=False)\n",
        "\n",
        "vector_title_train = vectorizador.fit_transform(train[\"clean_title\"])\n",
        "vector_text_train = vectorizador.fit_transform(train[\"clean_text\"])\n",
        "vector_title_test = vectorizador.fit_transform(test[\"clean_title\"])\n",
        "vector_text_test = vectorizador.fit_transform(test[\"clean_text\"])"
      ],
      "metadata": {
        "id": "wTNfoXee5Vp9"
      },
      "execution_count": null,
      "outputs": []
    },
    {
      "cell_type": "markdown",
      "source": [
        "<font color='darkblue'> A continuación, normalizamos aquellas variables que habíamos obtenido durante el preprocesado de la información. No lo hacemos con los vectores que surgen del *TfidVectorizer* porque estaríamos modificando los pesos asociados a cada una de las palabras que describen nuestro dataset de noticias, y por tanto, modificando la representación de las mismas. </n>\n",
        "\n",
        "<font color='darkblue'> La técnica TF-IDF asocia pesos más pequeños a términos más frecuentes y pesos más grandes a términos menos frecuentes. Al modificar estos datos con la normalización, estaríamos distorsionando la representación de la información original.  </n>\n",
        "\n",
        "<font color='darkblue'>Podemos encontrar más información sobre el tema en el siguiente enlace: \n",
        "\n",
        "https://datascience.stackexchange.com/questions/33730/should-i-rescale-tfidf-features </n>\n",
        "\n",
        "\n"
      ],
      "metadata": {
        "id": "yxm2trMOJQEy"
      }
    },
    {
      "cell_type": "code",
      "source": [
        "extra_features_train_d = train[['Sentimiento_text', 'Análisis_text', 'Subjetividad_text', 'Sentimiento_title', 'Análisis_title', 'Subjetividad_title', 'topic_modelling_max',\n",
        "                              'prop_long_text', 'prop_long_title', 'prop_uppercase_text', 'prop_uppercase_title', 'token_title_len', 'token_text_len',\n",
        "                              'char_len_title', 'char_len_text']]\n",
        "\n",
        "extra_features_test_d = test[['Sentimiento_text', 'Análisis_text', 'Subjetividad_text', 'Sentimiento_title', 'Análisis_title', 'Subjetividad_title', 'topic_modelling_max',\n",
        "                              'prop_long_text', 'prop_long_title', 'prop_uppercase_text', 'prop_uppercase_title', 'token_title_len', 'token_text_len',\n",
        "                              'char_len_title', 'char_len_text']]\n",
        "\n",
        "sc = StandardScaler()\n",
        "extra_features_train = sc.fit_transform(extra_features_train_d)\n",
        "extra_features_test = sc.transform(extra_features_test_d)"
      ],
      "metadata": {
        "id": "bgHuVDgKJOTj"
      },
      "execution_count": null,
      "outputs": []
    },
    {
      "cell_type": "markdown",
      "source": [
        "<font color='darkblue'> Con scipy.sparse.hstack unimos las variables con los vectores del TF-IDF tanto en el set de train como en el de test. Tenemos algunas variables que están definidas tanto para los títulos y las noticias originales como para las preprocesadas. Hemos decidido quedarnos con aquellas que mostraban una distribución más diferente para los sets *true* y *fake*, esto en función de las gráficas obtenidas anteriormente </n>"
      ],
      "metadata": {
        "id": "_81Rphc2JCFA"
      }
    },
    {
      "cell_type": "code",
      "source": [
        "y_train = train[\"target\"].values\n",
        "X_train_text = sp.sparse.hstack((vector_text_train, extra_features_train),format='csr')\n",
        "X_train_title = sp.sparse.hstack((vector_title_train, extra_features_train),format='csr')\n",
        "\n",
        "y_test = test[\"target\"].values\n",
        "X_test_text = sp.sparse.hstack((vector_text_test, extra_features_test),format='csr')\n",
        "X_test_title = sp.sparse.hstack((vector_title_test, extra_features_test),format='csr')"
      ],
      "metadata": {
        "id": "vsD2X3SdH_1K"
      },
      "execution_count": null,
      "outputs": []
    },
    {
      "cell_type": "code",
      "source": [
        "X_columns_text=vectorizador.get_feature_names()+extra_features_train_d.columns.tolist()\n",
        "display(X_columns_text)\n",
        "len(X_columns_text)"
      ],
      "metadata": {
        "colab": {
          "base_uri": "https://localhost:8080/",
          "height": 1000
        },
        "id": "Lr-rieKc-eGY",
        "outputId": "b8f2ccb7-d193-4d7f-e233-654cbe5bf7f5"
      },
      "execution_count": null,
      "outputs": [
        {
          "output_type": "stream",
          "name": "stderr",
          "text": [
            "/usr/local/lib/python3.7/dist-packages/sklearn/utils/deprecation.py:87: FutureWarning: Function get_feature_names is deprecated; get_feature_names is deprecated in 1.0 and will be removed in 1.2. Please use get_feature_names_out instead.\n",
            "  warnings.warn(msg, category=FutureWarning)\n"
          ]
        },
        {
          "output_type": "display_data",
          "data": {
            "text/plain": [
              "['administration',\n",
              " 'also',\n",
              " 'american',\n",
              " 'ask',\n",
              " 'attack',\n",
              " 'back',\n",
              " 'bill',\n",
              " 'call',\n",
              " 'campaign',\n",
              " 'clinton',\n",
              " 'come',\n",
              " 'could',\n",
              " 'country',\n",
              " 'court',\n",
              " 'day',\n",
              " 'democratic',\n",
              " 'donald',\n",
              " 'donald trump',\n",
              " 'election',\n",
              " 'even',\n",
              " 'first',\n",
              " 'force',\n",
              " 'former',\n",
              " 'get',\n",
              " 'give',\n",
              " 'go',\n",
              " 'government',\n",
              " 'group',\n",
              " 'help',\n",
              " 'hillary',\n",
              " 'house',\n",
              " 'image',\n",
              " 'include',\n",
              " 'issue',\n",
              " 'know',\n",
              " 'last',\n",
              " 'law',\n",
              " 'leader',\n",
              " 'leave',\n",
              " 'like',\n",
              " 'make',\n",
              " 'man',\n",
              " 'many',\n",
              " 'may',\n",
              " 'medium',\n",
              " 'million',\n",
              " 'month',\n",
              " 'national',\n",
              " 'need',\n",
              " 'new',\n",
              " 'news',\n",
              " 'obama',\n",
              " 'official',\n",
              " 'one',\n",
              " 'party',\n",
              " 'people',\n",
              " 'percent',\n",
              " 'plan',\n",
              " 'police',\n",
              " 'policy',\n",
              " 'political',\n",
              " 'presidential',\n",
              " 'report',\n",
              " 'republican',\n",
              " 'reuters',\n",
              " 'right',\n",
              " 'russia',\n",
              " 'security',\n",
              " 'see',\n",
              " 'senate',\n",
              " 'show',\n",
              " 'since',\n",
              " 'state',\n",
              " 'statement',\n",
              " 'states',\n",
              " 'support',\n",
              " 'take',\n",
              " 'talk',\n",
              " 'tell',\n",
              " 'think',\n",
              " 'time',\n",
              " 'trump',\n",
              " 'try',\n",
              " 'two',\n",
              " 'united',\n",
              " 'united states',\n",
              " 'use',\n",
              " 'via',\n",
              " 'vote',\n",
              " 'want',\n",
              " 'washington',\n",
              " 'way',\n",
              " 'we',\n",
              " 'week',\n",
              " 'well',\n",
              " 'white',\n",
              " 'white house',\n",
              " 'woman',\n",
              " 'work',\n",
              " 'year',\n",
              " 'Sentimiento_text',\n",
              " 'Análisis_text',\n",
              " 'Subjetividad_text',\n",
              " 'Sentimiento_title',\n",
              " 'Análisis_title',\n",
              " 'Subjetividad_title',\n",
              " 'topic_modelling_max',\n",
              " 'prop_long_text',\n",
              " 'prop_long_title',\n",
              " 'prop_uppercase_text',\n",
              " 'prop_uppercase_title',\n",
              " 'token_title_len',\n",
              " 'token_text_len',\n",
              " 'char_len_title',\n",
              " 'char_len_text']"
            ]
          },
          "metadata": {}
        },
        {
          "output_type": "execute_result",
          "data": {
            "text/plain": [
              "115"
            ]
          },
          "metadata": {},
          "execution_count": 15
        }
      ]
    },
    {
      "cell_type": "code",
      "source": [
        "X_train_text = X_train_text.toarray()\n",
        "X_train_title = X_train_title.toarray()\n",
        "X_test_text = X_test_text.toarray()\n",
        "X_test_title = X_test_title.toarray()\n"
      ],
      "metadata": {
        "id": "57sr9cNZ-3pG"
      },
      "execution_count": null,
      "outputs": []
    },
    {
      "cell_type": "markdown",
      "source": [
        "<font color='darkblue'> Definimos ahora una función para obtener la precisión de los modelos sin realizarles *tunin* o ajuste de parámetros.   </n>"
      ],
      "metadata": {
        "id": "BlBBbiyDNGFZ"
      }
    },
    {
      "cell_type": "code",
      "source": [
        "def model_evaluation(models, score, X, y):\n",
        "    results = []\n",
        "    names = []\n",
        "      \n",
        "    for name, model in models:\n",
        "\n",
        "        warnings.filterwarnings('ignore') \n",
        "        KF = KFold(n_splits = 10, shuffle = True, random_state = 98) \n",
        "        cv_results = cross_val_score(model, X, y, cv = KF, scoring = score, verbose = False)\n",
        "        results.append(cv_results)\n",
        "        names.append(name)\n",
        "        print('Metric: {} , KFold '.format(str(score)), \"\\n\")\n",
        "        print(\"%s: %f (%f) \" % (name, cv_results.mean(), cv_results.std()), \"\\n\")\n",
        "    \n",
        "    return results, names"
      ],
      "metadata": {
        "id": "ETWiOun_M3ie"
      },
      "execution_count": null,
      "outputs": []
    },
    {
      "cell_type": "code",
      "source": [
        "def model_evaluation(models, score, X, y):\n",
        "    results = []\n",
        "    names = []\n",
        "     \n",
        "    pbar = tqdm(total=len(models)) \n",
        "\n",
        "    for name, model in models:\n",
        "\n",
        "        warnings.filterwarnings('ignore') \n",
        "        KF = KFold(n_splits = 10, shuffle = True, random_state = 98) \n",
        "        cv_results = cross_val_score(model, X, y, cv = KF, scoring = score, verbose = False)\n",
        "        results.append(cv_results)\n",
        "        names.append(name)\n",
        "        print('Metric: {} , KFold '.format(str(score)), \"\\n\")\n",
        "        print(\"%s: %f (%f) \" % (name, cv_results.mean(), cv_results.std()), \"\\n\")\n",
        "        pbar.update(1)\n",
        "    \n",
        "    return results, names\n",
        "    pbar.close()"
      ],
      "metadata": {
        "id": "tYToOTYDSYVb"
      },
      "execution_count": null,
      "outputs": []
    },
    {
      "cell_type": "code",
      "source": [
        "models = [\n",
        "          (\"Logistic\", LogisticRegression(random_state=30)),\n",
        "          (\"GaussianNB\", GaussianNB()),\n",
        "          (\"SVM\", SVC(random_state=30)),\n",
        "          (\"KNN\", KNeighborsClassifier()),\n",
        "          (\"DTC\", tree.DecisionTreeClassifier(random_state=30)),\n",
        "          (\"RF\", RandomForestClassifier(random_state=30))\n",
        "]\n",
        "\n",
        "evaluation_score = \"accuracy\"\n",
        "model_evaluation(models,  evaluation_score, X_train_text, y_train) "
      ],
      "metadata": {
        "colab": {
          "base_uri": "https://localhost:8080/"
        },
        "id": "VhTJqa3SN3xR",
        "outputId": "e6ad12f4-aa8b-41b3-f4e6-b75ae29a30bb"
      },
      "execution_count": null,
      "outputs": [
        {
          "output_type": "stream",
          "name": "stderr",
          "text": [
            " 14%|█▍        | 1/7 [00:08<00:50,  8.35s/it]"
          ]
        },
        {
          "output_type": "stream",
          "name": "stdout",
          "text": [
            "Metric: accuracy , KFold  \n",
            "\n",
            "Logistic: 0.995184 (0.001664)  \n",
            "\n"
          ]
        },
        {
          "output_type": "stream",
          "name": "stderr",
          "text": [
            "\r 29%|██▊       | 2/7 [00:36<01:39, 20.00s/it]"
          ]
        },
        {
          "output_type": "stream",
          "name": "stdout",
          "text": [
            "Metric: accuracy , KFold  \n",
            "\n",
            "DecisionTree: 0.990405 (0.001464)  \n",
            "\n"
          ]
        },
        {
          "output_type": "stream",
          "name": "stderr",
          "text": [
            "\r 43%|████▎     | 3/7 [00:37<00:45, 11.28s/it]"
          ]
        },
        {
          "output_type": "stream",
          "name": "stdout",
          "text": [
            "Metric: accuracy , KFold  \n",
            "\n",
            "GaussianNB: 0.974412 (0.001765)  \n",
            "\n"
          ]
        },
        {
          "output_type": "stream",
          "name": "stderr",
          "text": [
            "\r 57%|█████▋    | 4/7 [01:42<01:37, 32.53s/it]"
          ]
        },
        {
          "output_type": "stream",
          "name": "stdout",
          "text": [
            "Metric: accuracy , KFold  \n",
            "\n",
            "SVC: 0.995616 (0.001051)  \n",
            "\n"
          ]
        },
        {
          "output_type": "stream",
          "name": "stderr",
          "text": [
            "\r 71%|███████▏  | 5/7 [02:02<00:55, 27.87s/it]"
          ]
        },
        {
          "output_type": "stream",
          "name": "stdout",
          "text": [
            "Metric: accuracy , KFold  \n",
            "\n",
            "KNN: 0.972436 (0.002251)  \n",
            "\n"
          ]
        },
        {
          "output_type": "stream",
          "name": "stderr",
          "text": [
            "\r 86%|████████▌ | 6/7 [02:28<00:27, 27.36s/it]"
          ]
        },
        {
          "output_type": "stream",
          "name": "stdout",
          "text": [
            "Metric: accuracy , KFold  \n",
            "\n",
            "clf: 0.990405 (0.001464)  \n",
            "\n"
          ]
        },
        {
          "output_type": "stream",
          "name": "stderr",
          "text": [
            "100%|██████████| 7/7 [04:01<00:00, 34.49s/it]"
          ]
        },
        {
          "output_type": "stream",
          "name": "stdout",
          "text": [
            "Metric: accuracy , KFold  \n",
            "\n",
            "RF: 0.995723 (0.000915)  \n",
            "\n"
          ]
        },
        {
          "output_type": "stream",
          "name": "stderr",
          "text": [
            "\n"
          ]
        },
        {
          "output_type": "execute_result",
          "data": {
            "text/plain": [
              "([array([0.99568811, 0.99676608, 0.99353216, 0.99245419, 0.99604743,\n",
              "         0.99317284, 0.99748382, 0.99640546, 0.99640546, 0.99388929]),\n",
              "  array([0.98814229, 0.98922027, 0.99209486, 0.99137621, 0.98993891,\n",
              "         0.98814229, 0.99209202, 0.99065421, 0.99029475, 0.99209202]),\n",
              "  array([0.97700323, 0.97664391, 0.97089472, 0.97412864, 0.97197269,\n",
              "         0.97412864, 0.97483825, 0.97447879, 0.97483825, 0.9751977 ]),\n",
              "  array([0.99353216, 0.9971254 , 0.99604743, 0.99532878, 0.99604743,\n",
              "         0.99461013, 0.99712437, 0.99496765, 0.99604601, 0.9953271 ]),\n",
              "  array([0.96802012, 0.97305066, 0.97125404, 0.97340999, 0.97340999,\n",
              "         0.97664391, 0.97016535, 0.97196262, 0.97196262, 0.97447879]),\n",
              "  array([0.98814229, 0.98922027, 0.99209486, 0.99137621, 0.98993891,\n",
              "         0.98814229, 0.99209202, 0.99065421, 0.99029475, 0.99209202]),\n",
              "  array([0.99568811, 0.99496946, 0.99676608, 0.99496946, 0.99604743,\n",
              "         0.99461013, 0.99640546, 0.99748382, 0.9946082 , 0.99568656])],\n",
              " ['Logistic', 'DecisionTree', 'GaussianNB', 'SVC', 'KNN', 'clf', 'RF'])"
            ]
          },
          "metadata": {},
          "execution_count": 99
        }
      ]
    },
    {
      "cell_type": "code",
      "source": [
        "model = RandomForestClassifier()\n",
        "\n",
        "param_grid = { \n",
        "    'n_estimators': [200, 500],\n",
        "    'max_features': ['auto', 'sqrt', 'log2'],\n",
        "    'max_depth' : [4,5,6,7,8],\n",
        "    'criterion' :['gini', 'entropy']\n",
        "}\n",
        "\n",
        "random_grid = {'max_depth': [5, 10, 15, 20],\n",
        "               'criterion' :['gini', 'entropy'],\n",
        "               'n_estimators': [100, 250, 500]}\n",
        "\n",
        "cv = KFold(n_splits=5)\n",
        "rf_random = RandomizedSearchCV(estimator=model, param_distributions=random_grid, n_iter = 100, cv = cv, verbose=10, random_state=42)"
      ],
      "metadata": {
        "id": "_yo1bIoTZd7E"
      },
      "execution_count": null,
      "outputs": []
    },
    {
      "cell_type": "code",
      "source": [
        "grid_result = rf_random.fit(X_train_text, y_train)"
      ],
      "metadata": {
        "id": "juj91Qd2Zisa"
      },
      "execution_count": null,
      "outputs": []
    },
    {
      "cell_type": "code",
      "source": [
        "pprint(grid_result.best_estimator_.get_params())\n",
        "print(\" Results from Random Search \" )\n",
        "print(\"\\n The best estimator across ALL searched params:\\n\", grid_result.best_estimator_)\n",
        "print(\"\\n The best score across ALL searched params:\\n\", grid_result.best_score_)\n",
        "print(\"\\n The best parameters across ALL searched params:\\n\", grid_result.best_params_)\n"
      ],
      "metadata": {
        "colab": {
          "base_uri": "https://localhost:8080/"
        },
        "id": "Yai63j6Mg54R",
        "outputId": "133fd376-7fde-4e4d-f827-0d6a6ebc3f16"
      },
      "execution_count": null,
      "outputs": [
        {
          "output_type": "stream",
          "name": "stdout",
          "text": [
            "{'bootstrap': True,\n",
            " 'ccp_alpha': 0.0,\n",
            " 'class_weight': None,\n",
            " 'criterion': 'gini',\n",
            " 'max_depth': 20,\n",
            " 'max_features': 'auto',\n",
            " 'max_leaf_nodes': None,\n",
            " 'max_samples': None,\n",
            " 'min_impurity_decrease': 0.0,\n",
            " 'min_samples_leaf': 1,\n",
            " 'min_samples_split': 2,\n",
            " 'min_weight_fraction_leaf': 0.0,\n",
            " 'n_estimators': 500,\n",
            " 'n_jobs': None,\n",
            " 'oob_score': False,\n",
            " 'random_state': None,\n",
            " 'verbose': 0,\n",
            " 'warm_start': False}\n",
            " Results from Random Search \n",
            "\n",
            " The best estimator across ALL searched params:\n",
            " RandomForestClassifier(max_depth=20, n_estimators=500)\n",
            "\n",
            " The best score across ALL searched params:\n",
            " 0.9938546282315392\n",
            "\n",
            " The best parameters across ALL searched params:\n",
            " {'n_estimators': 500, 'max_depth': 20, 'criterion': 'gini'}\n"
          ]
        }
      ]
    },
    {
      "cell_type": "code",
      "source": [
        "RF_tuned=RandomForestClassifier(criterion = 'gini', max_depth = 20, n_estimators = 500)\n",
        "RF_tuned.fit(X_train_text,y_train)"
      ],
      "metadata": {
        "colab": {
          "base_uri": "https://localhost:8080/"
        },
        "id": "mvgzthJuZnA-",
        "outputId": "2e9bb0d0-c6ac-473b-99ca-832d0861d440"
      },
      "execution_count": null,
      "outputs": [
        {
          "output_type": "execute_result",
          "data": {
            "text/plain": [
              "RandomForestClassifier(max_depth=20, n_estimators=500)"
            ]
          },
          "metadata": {},
          "execution_count": 17
        }
      ]
    },
    {
      "cell_type": "code",
      "source": [
        "y_pred = RF_tuned.predict(X_test_text)\n",
        "print(confusion_matrix(y_test,y_pred))\n",
        "print(classification_report(y_test,y_pred))"
      ],
      "metadata": {
        "colab": {
          "base_uri": "https://localhost:8080/"
        },
        "id": "APb96-JaZzZH",
        "outputId": "c40b1ec5-ca20-43d1-dc1e-e31de8509355"
      },
      "execution_count": null,
      "outputs": [
        {
          "output_type": "stream",
          "name": "stdout",
          "text": [
            "[[3471   55]\n",
            " [  75 4051]]\n",
            "              precision    recall  f1-score   support\n",
            "\n",
            "         0.0       0.98      0.98      0.98      3526\n",
            "         1.0       0.99      0.98      0.98      4126\n",
            "\n",
            "    accuracy                           0.98      7652\n",
            "   macro avg       0.98      0.98      0.98      7652\n",
            "weighted avg       0.98      0.98      0.98      7652\n",
            "\n"
          ]
        }
      ]
    },
    {
      "cell_type": "code",
      "source": [
        "plot_confusion_matrix(RF_tuned, X_test_text, y_test, normalize = None)"
      ],
      "metadata": {
        "colab": {
          "base_uri": "https://localhost:8080/",
          "height": 353
        },
        "id": "jGtHLLosQaPX",
        "outputId": "b41eb566-1a4a-4c12-a6ec-b64c92219830"
      },
      "execution_count": null,
      "outputs": [
        {
          "output_type": "stream",
          "name": "stderr",
          "text": [
            "/usr/local/lib/python3.7/dist-packages/sklearn/utils/deprecation.py:87: FutureWarning: Function plot_confusion_matrix is deprecated; Function `plot_confusion_matrix` is deprecated in 1.0 and will be removed in 1.2. Use one of the class methods: ConfusionMatrixDisplay.from_predictions or ConfusionMatrixDisplay.from_estimator.\n",
            "  warnings.warn(msg, category=FutureWarning)\n"
          ]
        },
        {
          "output_type": "execute_result",
          "data": {
            "text/plain": [
              "<sklearn.metrics._plot.confusion_matrix.ConfusionMatrixDisplay at 0x7fd17c959110>"
            ]
          },
          "metadata": {},
          "execution_count": 118
        },
        {
          "output_type": "display_data",
          "data": {
            "text/plain": [
              "<Figure size 432x288 with 2 Axes>"
            ],
            "image/png": "[encoded data removed]"
          },
          "metadata": {
            "needs_background": "light"
          }
        }
      ]
    },
    {
      "cell_type": "code",
      "source": [
        "importance = RF_tuned.feature_importances_\n",
        "\n",
        "for i,v in enumerate(importance):\n",
        " print('Feature: %0d, Name: %s , Score: %.5f' % (i,X_columns_text[i],v))\n",
        "plt.bar([x for x in range(len(importance))], importance)\n",
        "plt.show()"
      ],
      "metadata": {
        "colab": {
          "base_uri": "https://localhost:8080/",
          "height": 1000
        },
        "id": "c2FHe74FS4X1",
        "outputId": "cb1d3879-aa18-47f0-f214-3521d6a31a32"
      },
      "execution_count": null,
      "outputs": [
        {
          "output_type": "stream",
          "name": "stdout",
          "text": [
            "Feature: 0, Name: administration , Score: 0.00040\n",
            "Feature: 1, Name: also , Score: 0.00048\n",
            "Feature: 2, Name: american , Score: 0.00059\n",
            "Feature: 3, Name: ask , Score: 0.00142\n",
            "Feature: 4, Name: attack , Score: 0.00037\n",
            "Feature: 5, Name: back , Score: 0.00042\n",
            "Feature: 6, Name: bill , Score: 0.00040\n",
            "Feature: 7, Name: call , Score: 0.00026\n",
            "Feature: 8, Name: campaign , Score: 0.00048\n",
            "Feature: 9, Name: clinton , Score: 0.00045\n",
            "Feature: 10, Name: come , Score: 0.00117\n",
            "Feature: 11, Name: could , Score: 0.00052\n",
            "Feature: 12, Name: country , Score: 0.00076\n",
            "Feature: 13, Name: court , Score: 0.00085\n",
            "Feature: 14, Name: day , Score: 0.00037\n",
            "Feature: 15, Name: democratic , Score: 0.00042\n",
            "Feature: 16, Name: donald , Score: 0.00086\n",
            "Feature: 17, Name: donald trump , Score: 0.00149\n",
            "Feature: 18, Name: election , Score: 0.00126\n",
            "Feature: 19, Name: even , Score: 0.00074\n",
            "Feature: 20, Name: first , Score: 0.00883\n",
            "Feature: 21, Name: force , Score: 0.00050\n",
            "Feature: 22, Name: former , Score: 0.00122\n",
            "Feature: 23, Name: get , Score: 0.00053\n",
            "Feature: 24, Name: give , Score: 0.01598\n",
            "Feature: 25, Name: go , Score: 0.00040\n",
            "Feature: 26, Name: government , Score: 0.00735\n",
            "Feature: 27, Name: group , Score: 0.00458\n",
            "Feature: 28, Name: help , Score: 0.00066\n",
            "Feature: 29, Name: hillary , Score: 0.00037\n",
            "Feature: 30, Name: house , Score: 0.00500\n",
            "Feature: 31, Name: image , Score: 0.00070\n",
            "Feature: 32, Name: include , Score: 0.05105\n",
            "Feature: 33, Name: issue , Score: 0.00100\n",
            "Feature: 34, Name: know , Score: 0.00041\n",
            "Feature: 35, Name: last , Score: 0.00631\n",
            "Feature: 36, Name: law , Score: 0.00092\n",
            "Feature: 37, Name: leader , Score: 0.00034\n",
            "Feature: 38, Name: leave , Score: 0.00226\n",
            "Feature: 39, Name: like , Score: 0.00039\n",
            "Feature: 40, Name: make , Score: 0.01425\n",
            "Feature: 41, Name: man , Score: 0.00068\n",
            "Feature: 42, Name: many , Score: 0.00124\n",
            "Feature: 43, Name: may , Score: 0.00045\n",
            "Feature: 44, Name: medium , Score: 0.00043\n",
            "Feature: 45, Name: million , Score: 0.00083\n",
            "Feature: 46, Name: month , Score: 0.00037\n",
            "Feature: 47, Name: national , Score: 0.00167\n",
            "Feature: 48, Name: need , Score: 0.00049\n",
            "Feature: 49, Name: new , Score: 0.00034\n",
            "Feature: 50, Name: news , Score: 0.00071\n",
            "Feature: 51, Name: obama , Score: 0.00116\n",
            "Feature: 52, Name: official , Score: 0.00196\n",
            "Feature: 53, Name: one , Score: 0.00038\n",
            "Feature: 54, Name: party , Score: 0.00199\n",
            "Feature: 55, Name: people , Score: 0.00103\n",
            "Feature: 56, Name: percent , Score: 0.00087\n",
            "Feature: 57, Name: plan , Score: 0.00078\n",
            "Feature: 58, Name: police , Score: 0.00075\n",
            "Feature: 59, Name: policy , Score: 0.00061\n",
            "Feature: 60, Name: political , Score: 0.00027\n",
            "Feature: 61, Name: presidential , Score: 0.00043\n",
            "Feature: 62, Name: report , Score: 0.00053\n",
            "Feature: 63, Name: republican , Score: 0.00090\n",
            "Feature: 64, Name: reuters , Score: 0.00071\n",
            "Feature: 65, Name: right , Score: 0.00136\n",
            "Feature: 66, Name: russia , Score: 0.16850\n",
            "Feature: 67, Name: security , Score: 0.00064\n",
            "Feature: 68, Name: see , Score: 0.00091\n",
            "Feature: 69, Name: senate , Score: 0.00099\n",
            "Feature: 70, Name: show , Score: 0.00051\n",
            "Feature: 71, Name: since , Score: 0.00052\n",
            "Feature: 72, Name: state , Score: 0.00065\n",
            "Feature: 73, Name: statement , Score: 0.00059\n",
            "Feature: 74, Name: states , Score: 0.00121\n",
            "Feature: 75, Name: support , Score: 0.00214\n",
            "Feature: 76, Name: take , Score: 0.00135\n",
            "Feature: 77, Name: talk , Score: 0.00043\n",
            "Feature: 78, Name: tell , Score: 0.00051\n",
            "Feature: 79, Name: think , Score: 0.00088\n",
            "Feature: 80, Name: time , Score: 0.00172\n",
            "Feature: 81, Name: trump , Score: 0.00124\n",
            "Feature: 82, Name: try , Score: 0.00032\n",
            "Feature: 83, Name: two , Score: 0.00089\n",
            "Feature: 84, Name: united , Score: 0.00170\n",
            "Feature: 85, Name: united states , Score: 0.00112\n",
            "Feature: 86, Name: use , Score: 0.00047\n",
            "Feature: 87, Name: via , Score: 0.06071\n",
            "Feature: 88, Name: vote , Score: 0.00042\n",
            "Feature: 89, Name: want , Score: 0.00043\n",
            "Feature: 90, Name: washington , Score: 0.00965\n",
            "Feature: 91, Name: way , Score: 0.00088\n",
            "Feature: 92, Name: we , Score: 0.00466\n",
            "Feature: 93, Name: week , Score: 0.00107\n",
            "Feature: 94, Name: well , Score: 0.00059\n",
            "Feature: 95, Name: white , Score: 0.00063\n",
            "Feature: 96, Name: white house , Score: 0.00045\n",
            "Feature: 97, Name: woman , Score: 0.00076\n",
            "Feature: 98, Name: work , Score: 0.00050\n",
            "Feature: 99, Name: year , Score: 0.00084\n",
            "Feature: 100, Name: Sentimiento_text , Score: 0.00132\n",
            "Feature: 101, Name: Análisis_text , Score: 0.00018\n",
            "Feature: 102, Name: Subjetividad_text , Score: 0.02676\n",
            "Feature: 103, Name: Sentimiento_title , Score: 0.00256\n",
            "Feature: 104, Name: Análisis_title , Score: 0.00117\n",
            "Feature: 105, Name: Subjetividad_title , Score: 0.00519\n",
            "Feature: 106, Name: topic_modelling_max , Score: 0.01619\n",
            "Feature: 107, Name: prop_long_text , Score: 0.00706\n",
            "Feature: 108, Name: prop_long_title , Score: 0.00139\n",
            "Feature: 109, Name: prop_uppercase_text , Score: 0.00467\n",
            "Feature: 110, Name: prop_uppercase_title , Score: 0.34240\n",
            "Feature: 111, Name: token_title_len , Score: 0.04324\n",
            "Feature: 112, Name: token_text_len , Score: 0.00667\n",
            "Feature: 113, Name: char_len_title , Score: 0.10816\n",
            "Feature: 114, Name: char_len_text , Score: 0.00646\n"
          ]
        },
        {
          "output_type": "display_data",
          "data": {
            "text/plain": [
              "<Figure size 432x288 with 1 Axes>"
            ],
            "image/png": "[encoded data removed]"
          },
          "metadata": {
            "needs_background": "light"
          }
        }
      ]
    },
    {
      "cell_type": "code",
      "source": [
        "model = SVC()\n",
        "\n",
        "SVM_param_grid = {'C':[1,10,100,1000],'gamma':[1,0.1,0.001,0.0001], 'kernel':['linear','rbf']}\n",
        "\n",
        "cv = KFold(n_splits=5)\n",
        "rf_random = RandomizedSearchCV(estimator=model, param_distributions=SVM_param_grid, n_iter = 100, cv = cv, verbose=10, random_state=42)"
      ],
      "metadata": {
        "id": "0To4X2RjU2Xq"
      },
      "execution_count": null,
      "outputs": []
    },
    {
      "cell_type": "code",
      "source": [
        "grid_result = rf_random.fit(X_train_text, y_train)"
      ],
      "metadata": {
        "id": "UA3L0O6ZUsMA"
      },
      "execution_count": null,
      "outputs": []
    },
    {
      "cell_type": "code",
      "source": [
        "pprint(grid_result.best_estimator_.get_params())\n",
        "print(\" Results from Random Search \" )\n",
        "print(\"\\n The best estimator across ALL searched params:\\n\", grid_result.best_estimator_)\n",
        "print(\"\\n The best score across ALL searched params:\\n\", grid_result.best_score_)\n",
        "print(\"\\n The best parameters across ALL searched params:\\n\", grid_result.best_params_)"
      ],
      "metadata": {
        "colab": {
          "base_uri": "https://localhost:8080/"
        },
        "id": "z5AYnhz2VxDr",
        "outputId": "6b44b1d4-d461-4c9e-f7ee-2e98f47111c5"
      },
      "execution_count": null,
      "outputs": [
        {
          "output_type": "stream",
          "name": "stdout",
          "text": [
            "{'C': 1000,\n",
            " 'break_ties': False,\n",
            " 'cache_size': 200,\n",
            " 'class_weight': None,\n",
            " 'coef0': 0.0,\n",
            " 'decision_function_shape': 'ovr',\n",
            " 'degree': 3,\n",
            " 'gamma': 0.001,\n",
            " 'kernel': 'rbf',\n",
            " 'max_iter': -1,\n",
            " 'probability': False,\n",
            " 'random_state': None,\n",
            " 'shrinking': True,\n",
            " 'tol': 0.001,\n",
            " 'verbose': False}\n",
            " Results from Random Search \n",
            "\n",
            " The best estimator across ALL searched params:\n",
            " SVC(C=1000, gamma=0.001)\n",
            "\n",
            " The best score across ALL searched params:\n",
            " 0.9956874865011193\n",
            "\n",
            " The best parameters across ALL searched params:\n",
            " {'kernel': 'rbf', 'gamma': 0.001, 'C': 1000}\n"
          ]
        }
      ]
    },
    {
      "cell_type": "code",
      "source": [
        "SVM_tuned=SVC(C=1000, gamma = 0.001, kernel = 'rbf')\n",
        "SVM_tuned.fit(X_train_text,y_train)"
      ],
      "metadata": {
        "colab": {
          "base_uri": "https://localhost:8080/"
        },
        "id": "dVWgySb5WCZI",
        "outputId": "03fa71e6-d85e-416f-dea4-e696bc77566b"
      },
      "execution_count": null,
      "outputs": [
        {
          "output_type": "execute_result",
          "data": {
            "text/plain": [
              "SVC(C=1000, gamma=0.001)"
            ]
          },
          "metadata": {},
          "execution_count": 21
        }
      ]
    },
    {
      "cell_type": "code",
      "source": [
        "y_pred = SVM_tuned.predict(X_test_text)\n",
        "print(confusion_matrix(y_test,y_pred))\n",
        "print(classification_report(y_test,y_pred))"
      ],
      "metadata": {
        "colab": {
          "base_uri": "https://localhost:8080/"
        },
        "id": "foueZT7lWXgc",
        "outputId": "b4c955ef-7fdf-4863-c5ef-63abfe98978c"
      },
      "execution_count": null,
      "outputs": [
        {
          "output_type": "stream",
          "name": "stdout",
          "text": [
            "[[3447   79]\n",
            " [  76 4050]]\n",
            "              precision    recall  f1-score   support\n",
            "\n",
            "         0.0       0.98      0.98      0.98      3526\n",
            "         1.0       0.98      0.98      0.98      4126\n",
            "\n",
            "    accuracy                           0.98      7652\n",
            "   macro avg       0.98      0.98      0.98      7652\n",
            "weighted avg       0.98      0.98      0.98      7652\n",
            "\n"
          ]
        }
      ]
    },
    {
      "cell_type": "code",
      "source": [
        "plot_confusion_matrix(SVM_tuned, X_test_text, y_test, normalize = None)"
      ],
      "metadata": {
        "colab": {
          "base_uri": "https://localhost:8080/",
          "height": 354
        },
        "id": "FNJgyddLWifw",
        "outputId": "fe811e5b-fdc4-4f39-8142-114e8adaadaf"
      },
      "execution_count": null,
      "outputs": [
        {
          "output_type": "stream",
          "name": "stderr",
          "text": [
            "/usr/local/lib/python3.7/dist-packages/sklearn/utils/deprecation.py:87: FutureWarning: Function plot_confusion_matrix is deprecated; Function `plot_confusion_matrix` is deprecated in 1.0 and will be removed in 1.2. Use one of the class methods: ConfusionMatrixDisplay.from_predictions or ConfusionMatrixDisplay.from_estimator.\n",
            "  warnings.warn(msg, category=FutureWarning)\n"
          ]
        },
        {
          "output_type": "execute_result",
          "data": {
            "text/plain": [
              "<sklearn.metrics._plot.confusion_matrix.ConfusionMatrixDisplay at 0x7fd14a530190>"
            ]
          },
          "metadata": {},
          "execution_count": 124
        },
        {
          "output_type": "display_data",
          "data": {
            "text/plain": [
              "<Figure size 432x288 with 2 Axes>"
            ],
            "image/png": "[encoded data removed]"
          },
          "metadata": {
            "needs_background": "light"
          }
        }
      ]
    },
    {
      "cell_type": "code",
      "source": [
        "from numpy import savetxt\n",
        "savetxt('data_test_MF.csv', X_test_text, delimiter=',')\n",
        "savetxt('X_train_MF.csv', X_train_text, delimiter=',')\n",
        "savetxt('y__train_MF.csv', y_train, delimiter=',')\n",
        "savetxt('y__test_MF.csv', y_test, delimiter=',')"
      ],
      "metadata": {
        "id": "NQbANxaNBhqN"
      },
      "execution_count": null,
      "outputs": []
    },
    {
      "cell_type": "code",
      "source": [
        "path = '/content/drive/MyDrive/Fake_News/'\n",
        "pickle_out = open(path + 'model_RF_Tuned', 'wb')\n",
        "pickle.dump(ISOT, pickle_out)"
      ],
      "metadata": {
        "id": "4ITjctk7DDdO"
      },
      "execution_count": null,
      "outputs": []
    },
    {
      "cell_type": "code",
      "source": [
        "path = '/content/drive/MyDrive/Fake_News/'\n",
        "pickle_out = open(path + 'ISOT_pickle', 'wb')\n",
        "pickle.dump(ISOT, pickle_out)\n",
        "pickle_out.close()"
      ],
      "metadata": {
        "id": "698zCqjueIj0"
      },
      "execution_count": null,
      "outputs": []
    }
  ]
}