{
  "nbformat": 4,
  "nbformat_minor": 0,
  "metadata": {
    "colab": {
      "provenance": [],
      "authorship_tag": "ABX9TyMK+Ly2a/TeHwes8Ab+IncU",
      "include_colab_link": true
    },
    "kernelspec": {
      "name": "python3",
      "display_name": "Python 3"
    },
    "language_info": {
      "name": "python"
    },
    "accelerator": "GPU",
    "gpuClass": "standard",
    "widgets": {
      "application/vnd.jupyter.widget-state+json": {
        "078c4d78f21b4be1ae81831879e2d0d5": {
          "model_module": "@jupyter-widgets/controls",
          "model_name": "HBoxModel",
          "model_module_version": "1.5.0",
          "state": {
            "_dom_classes": [],
            "_model_module": "@jupyter-widgets/controls",
            "_model_module_version": "1.5.0",
            "_model_name": "HBoxModel",
            "_view_count": null,
            "_view_module": "@jupyter-widgets/controls",
            "_view_module_version": "1.5.0",
            "_view_name": "HBoxView",
            "box_style": "",
            "children": [
              "IPY_MODEL_0fbb651df3974b7f936b4f4896d5beb5",
              "IPY_MODEL_343bbd69793b414b93db572b10d9b6cb",
              "IPY_MODEL_5e28fcd20381495c8271eee8f52cbc8f"
            ],
            "layout": "IPY_MODEL_2d07672b8eab45e78f1f0b1a46119aad"
          }
        },
        "0fbb651df3974b7f936b4f4896d5beb5": {
          "model_module": "@jupyter-widgets/controls",
          "model_name": "HTMLModel",
          "model_module_version": "1.5.0",
          "state": {
            "_dom_classes": [],
            "_model_module": "@jupyter-widgets/controls",
            "_model_module_version": "1.5.0",
            "_model_name": "HTMLModel",
            "_view_count": null,
            "_view_module": "@jupyter-widgets/controls",
            "_view_module_version": "1.5.0",
            "_view_name": "HTMLView",
            "description": "",
            "description_tooltip": null,
            "layout": "IPY_MODEL_848e93bf8a1c4c658eb971465f094bc8",
            "placeholder": "​",
            "style": "IPY_MODEL_641df2964d9145168e3f8e5208c72168",
            "value": "100%"
          }
        },
        "343bbd69793b414b93db572b10d9b6cb": {
          "model_module": "@jupyter-widgets/controls",
          "model_name": "FloatProgressModel",
          "model_module_version": "1.5.0",
          "state": {
            "_dom_classes": [],
            "_model_module": "@jupyter-widgets/controls",
            "_model_module_version": "1.5.0",
            "_model_name": "FloatProgressModel",
            "_view_count": null,
            "_view_module": "@jupyter-widgets/controls",
            "_view_module_version": "1.5.0",
            "_view_name": "ProgressView",
            "bar_style": "success",
            "description": "",
            "description_tooltip": null,
            "layout": "IPY_MODEL_bd0e5d3c41864a6298a03adc1cb14791",
            "max": 38265,
            "min": 0,
            "orientation": "horizontal",
            "style": "IPY_MODEL_b5136e99bf3b4dc78da1dccd2851424d",
            "value": 38265
          }
        },
        "5e28fcd20381495c8271eee8f52cbc8f": {
          "model_module": "@jupyter-widgets/controls",
          "model_name": "HTMLModel",
          "model_module_version": "1.5.0",
          "state": {
            "_dom_classes": [],
            "_model_module": "@jupyter-widgets/controls",
            "_model_module_version": "1.5.0",
            "_model_name": "HTMLModel",
            "_view_count": null,
            "_view_module": "@jupyter-widgets/controls",
            "_view_module_version": "1.5.0",
            "_view_name": "HTMLView",
            "description": "",
            "description_tooltip": null,
            "layout": "IPY_MODEL_44fe6e0af8d448c3a56d4cc21973dce3",
            "placeholder": "​",
            "style": "IPY_MODEL_9c40ee2c0d384e10b76bb3be9ccdb523",
            "value": " 38265/38265 [00:00&lt;00:00, 189039.73it/s]"
          }
        },
        "2d07672b8eab45e78f1f0b1a46119aad": {
          "model_module": "@jupyter-widgets/base",
          "model_name": "LayoutModel",
          "model_module_version": "1.2.0",
          "state": {
            "_model_module": "@jupyter-widgets/base",
            "_model_module_version": "1.2.0",
            "_model_name": "LayoutModel",
            "_view_count": null,
            "_view_module": "@jupyter-widgets/base",
            "_view_module_version": "1.2.0",
            "_view_name": "LayoutView",
            "align_content": null,
            "align_items": null,
            "align_self": null,
            "border": null,
            "bottom": null,
            "display": null,
            "flex": null,
            "flex_flow": null,
            "grid_area": null,
            "grid_auto_columns": null,
            "grid_auto_flow": null,
            "grid_auto_rows": null,
            "grid_column": null,
            "grid_gap": null,
            "grid_row": null,
            "grid_template_areas": null,
            "grid_template_columns": null,
            "grid_template_rows": null,
            "height": null,
            "justify_content": null,
            "justify_items": null,
            "left": null,
            "margin": null,
            "max_height": null,
            "max_width": null,
            "min_height": null,
            "min_width": null,
            "object_fit": null,
            "object_position": null,
            "order": null,
            "overflow": null,
            "overflow_x": null,
            "overflow_y": null,
            "padding": null,
            "right": null,
            "top": null,
            "visibility": null,
            "width": null
          }
        },
        "848e93bf8a1c4c658eb971465f094bc8": {
          "model_module": "@jupyter-widgets/base",
          "model_name": "LayoutModel",
          "model_module_version": "1.2.0",
          "state": {
            "_model_module": "@jupyter-widgets/base",
            "_model_module_version": "1.2.0",
            "_model_name": "LayoutModel",
            "_view_count": null,
            "_view_module": "@jupyter-widgets/base",
            "_view_module_version": "1.2.0",
            "_view_name": "LayoutView",
            "align_content": null,
            "align_items": null,
            "align_self": null,
            "border": null,
            "bottom": null,
            "display": null,
            "flex": null,
            "flex_flow": null,
            "grid_area": null,
            "grid_auto_columns": null,
            "grid_auto_flow": null,
            "grid_auto_rows": null,
            "grid_column": null,
            "grid_gap": null,
            "grid_row": null,
            "grid_template_areas": null,
            "grid_template_columns": null,
            "grid_template_rows": null,
            "height": null,
            "justify_content": null,
            "justify_items": null,
            "left": null,
            "margin": null,
            "max_height": null,
            "max_width": null,
            "min_height": null,
            "min_width": null,
            "object_fit": null,
            "object_position": null,
            "order": null,
            "overflow": null,
            "overflow_x": null,
            "overflow_y": null,
            "padding": null,
            "right": null,
            "top": null,
            "visibility": null,
            "width": null
          }
        },
        "641df2964d9145168e3f8e5208c72168": {
          "model_module": "@jupyter-widgets/controls",
          "model_name": "DescriptionStyleModel",
          "model_module_version": "1.5.0",
          "state": {
            "_model_module": "@jupyter-widgets/controls",
            "_model_module_version": "1.5.0",
            "_model_name": "DescriptionStyleModel",
            "_view_count": null,
            "_view_module": "@jupyter-widgets/base",
            "_view_module_version": "1.2.0",
            "_view_name": "StyleView",
            "description_width": ""
          }
        },
        "bd0e5d3c41864a6298a03adc1cb14791": {
          "model_module": "@jupyter-widgets/base",
          "model_name": "LayoutModel",
          "model_module_version": "1.2.0",
          "state": {
            "_model_module": "@jupyter-widgets/base",
            "_model_module_version": "1.2.0",
            "_model_name": "LayoutModel",
            "_view_count": null,
            "_view_module": "@jupyter-widgets/base",
            "_view_module_version": "1.2.0",
            "_view_name": "LayoutView",
            "align_content": null,
            "align_items": null,
            "align_self": null,
            "border": null,
            "bottom": null,
            "display": null,
            "flex": null,
            "flex_flow": null,
            "grid_area": null,
            "grid_auto_columns": null,
            "grid_auto_flow": null,
            "grid_auto_rows": null,
            "grid_column": null,
            "grid_gap": null,
            "grid_row": null,
            "grid_template_areas": null,
            "grid_template_columns": null,
            "grid_template_rows": null,
            "height": null,
            "justify_content": null,
            "justify_items": null,
            "left": null,
            "margin": null,
            "max_height": null,
            "max_width": null,
            "min_height": null,
            "min_width": null,
            "object_fit": null,
            "object_position": null,
            "order": null,
            "overflow": null,
            "overflow_x": null,
            "overflow_y": null,
            "padding": null,
            "right": null,
            "top": null,
            "visibility": null,
            "width": null
          }
        },
        "b5136e99bf3b4dc78da1dccd2851424d": {
          "model_module": "@jupyter-widgets/controls",
          "model_name": "ProgressStyleModel",
          "model_module_version": "1.5.0",
          "state": {
            "_model_module": "@jupyter-widgets/controls",
            "_model_module_version": "1.5.0",
            "_model_name": "ProgressStyleModel",
            "_view_count": null,
            "_view_module": "@jupyter-widgets/base",
            "_view_module_version": "1.2.0",
            "_view_name": "StyleView",
            "bar_color": null,
            "description_width": ""
          }
        },
        "44fe6e0af8d448c3a56d4cc21973dce3": {
          "model_module": "@jupyter-widgets/base",
          "model_name": "LayoutModel",
          "model_module_version": "1.2.0",
          "state": {
            "_model_module": "@jupyter-widgets/base",
            "_model_module_version": "1.2.0",
            "_model_name": "LayoutModel",
            "_view_count": null,
            "_view_module": "@jupyter-widgets/base",
            "_view_module_version": "1.2.0",
            "_view_name": "LayoutView",
            "align_content": null,
            "align_items": null,
            "align_self": null,
            "border": null,
            "bottom": null,
            "display": null,
            "flex": null,
            "flex_flow": null,
            "grid_area": null,
            "grid_auto_columns": null,
            "grid_auto_flow": null,
            "grid_auto_rows": null,
            "grid_column": null,
            "grid_gap": null,
            "grid_row": null,
            "grid_template_areas": null,
            "grid_template_columns": null,
            "grid_template_rows": null,
            "height": null,
            "justify_content": null,
            "justify_items": null,
            "left": null,
            "margin": null,
            "max_height": null,
            "max_width": null,
            "min_height": null,
            "min_width": null,
            "object_fit": null,
            "object_position": null,
            "order": null,
            "overflow": null,
            "overflow_x": null,
            "overflow_y": null,
            "padding": null,
            "right": null,
            "top": null,
            "visibility": null,
            "width": null
          }
        },
        "9c40ee2c0d384e10b76bb3be9ccdb523": {
          "model_module": "@jupyter-widgets/controls",
          "model_name": "DescriptionStyleModel",
          "model_module_version": "1.5.0",
          "state": {
            "_model_module": "@jupyter-widgets/controls",
            "_model_module_version": "1.5.0",
            "_model_name": "DescriptionStyleModel",
            "_view_count": null,
            "_view_module": "@jupyter-widgets/base",
            "_view_module_version": "1.2.0",
            "_view_name": "StyleView",
            "description_width": ""
          }
        }
      }
    }
  },
  "cells": [
    {
      "cell_type": "markdown",
      "metadata": {
        "id": "view-in-github",
        "colab_type": "text"
      },
      "source": [
        "<a href=\"https://colab.research.google.com/github/Spocklight/Fake_News_Detection/blob/master/Master_TopicModelling.ipynb\" target=\"_parent\"><img src=\"https://colab.research.google.com/assets/colab-badge.svg\" alt=\"Open In Colab\"/></a>"
      ]
    },
    {
      "cell_type": "markdown",
      "source": [
        "<h1><center>Detección de noticias falsas</center></h1>\n",
        "<h3><center>Alejandro Sierra Fernández</center></h3>\n",
        "<h4><center>01/08/2022</center></h4>"
      ],
      "metadata": {
        "id": "L9bSEFxetaTt"
      }
    },
    {
      "cell_type": "markdown",
      "source": [
        "*   <h2>Bigramas, filtro gramatical y Topic Modelling</h2>\n",
        "\n",
        "<font color='darkblue'> En este Notebook aplicaremos distintas funcionalidades que nos ofrece la librería *Gensim* para generar bigramas en nuestros documentos y para filtrar nuestros *tokens* según su pertenencia a las diferentes categorías gramaticales. Por último, aplicaremos la técnica conocida como *Topic Modelling* para asociar nuestros documentos a diferentes categorías temáticas que surgen de la distribución semántica de los mismos. Dicho de otro modo, nuestros documentos están formados palabras que serán representadas por vectores. Dependiendo de la distribución que tenga nuestro conjunto de documentos dentro de este espacio vectorial, podremos definir una serie de clústers que identifiquen cada una de las noticias. De este modo obtendremos una nueva variable que sustituya a la columna *'subject'*, que ya vimos que no nos era de mucha utilidad al estar definida de forma diferente en los datasets de noticias falsas y verdaderas</font>"
      ],
      "metadata": {
        "id": "Xx9f8kJDteqf"
      }
    },
    {
      "cell_type": "markdown",
      "source": [
        "<font color='darkblue'> Empezamos importando las librerías que vamos a emplear y los dataframes ya preprocesados:</font>"
      ],
      "metadata": {
        "id": "pibEFRSlymlN"
      }
    },
    {
      "cell_type": "code",
      "source": [
        "!pip install --upgrade gensim\n",
        "import gensim\n",
        "from sklearn.feature_extraction.text import CountVectorizer\n",
        "from gensim.corpora import Dictionary\n",
        "from gensim.models.ldamodel import LdaModel\n",
        "from gensim.models import CoherenceModel\n",
        "\n",
        "!pip install pyLDAvis\n",
        "import pyLDAvis\n",
        "import pyLDAvis.gensim_models as gensimvis\n",
        "\n",
        "from tqdm.autonotebook import tqdm  \n",
        "tqdm.pandas()\n",
        "\n",
        "import spacy\n",
        "nlp = spacy.load('en_core_web_sm', disable=['parser', 'ner'])\n",
        "\n",
        "import matplotlib.pyplot as plt\n",
        "import seaborn as sns\n",
        "import numpy as np\n",
        "import pandas as pd"
      ],
      "metadata": {
        "colab": {
          "base_uri": "https://localhost:8080/"
        },
        "id": "nHBFHLqQy_SP",
        "outputId": "16b95cbb-e1f1-480b-b5bc-12afd1120219"
      },
      "execution_count": null,
      "outputs": [
        {
          "output_type": "stream",
          "name": "stdout",
          "text": [
            "Looking in indexes: https://pypi.org/simple, https://us-python.pkg.dev/colab-wheels/public/simple/\n",
            "Requirement already satisfied: gensim in /usr/local/lib/python3.7/dist-packages (3.6.0)\n",
            "Collecting gensim\n",
            "  Downloading gensim-4.2.0-cp37-cp37m-manylinux_2_12_x86_64.manylinux2010_x86_64.whl (24.1 MB)\n",
            "\u001b[K     |████████████████████████████████| 24.1 MB 1.4 MB/s \n",
            "\u001b[?25hRequirement already satisfied: smart-open>=1.8.1 in /usr/local/lib/python3.7/dist-packages (from gensim) (5.2.1)\n",
            "Requirement already satisfied: numpy>=1.17.0 in /usr/local/lib/python3.7/dist-packages (from gensim) (1.21.6)\n",
            "Requirement already satisfied: scipy>=0.18.1 in /usr/local/lib/python3.7/dist-packages (from gensim) (1.7.3)\n",
            "Installing collected packages: gensim\n",
            "  Attempting uninstall: gensim\n",
            "    Found existing installation: gensim 3.6.0\n",
            "    Uninstalling gensim-3.6.0:\n",
            "      Successfully uninstalled gensim-3.6.0\n",
            "Successfully installed gensim-4.2.0\n",
            "Looking in indexes: https://pypi.org/simple, https://us-python.pkg.dev/colab-wheels/public/simple/\n",
            "Collecting pyLDAvis\n",
            "  Downloading pyLDAvis-3.3.1.tar.gz (1.7 MB)\n",
            "\u001b[K     |████████████████████████████████| 1.7 MB 4.0 MB/s \n",
            "\u001b[?25h  Installing build dependencies ... \u001b[?25l\u001b[?25hdone\n",
            "  Getting requirements to build wheel ... \u001b[?25l\u001b[?25hdone\n",
            "  Installing backend dependencies ... \u001b[?25l\u001b[?25hdone\n",
            "    Preparing wheel metadata ... \u001b[?25l\u001b[?25hdone\n",
            "Requirement already satisfied: numpy>=1.20.0 in /usr/local/lib/python3.7/dist-packages (from pyLDAvis) (1.21.6)\n",
            "Collecting funcy\n",
            "  Downloading funcy-1.17-py2.py3-none-any.whl (33 kB)\n",
            "Requirement already satisfied: joblib in /usr/local/lib/python3.7/dist-packages (from pyLDAvis) (1.1.0)\n",
            "Requirement already satisfied: gensim in /usr/local/lib/python3.7/dist-packages (from pyLDAvis) (4.2.0)\n",
            "Requirement already satisfied: future in /usr/local/lib/python3.7/dist-packages (from pyLDAvis) (0.16.0)\n",
            "Requirement already satisfied: scipy in /usr/local/lib/python3.7/dist-packages (from pyLDAvis) (1.7.3)\n",
            "Requirement already satisfied: setuptools in /usr/local/lib/python3.7/dist-packages (from pyLDAvis) (57.4.0)\n",
            "Requirement already satisfied: jinja2 in /usr/local/lib/python3.7/dist-packages (from pyLDAvis) (2.11.3)\n",
            "Requirement already satisfied: numexpr in /usr/local/lib/python3.7/dist-packages (from pyLDAvis) (2.8.3)\n",
            "Requirement already satisfied: pandas>=1.2.0 in /usr/local/lib/python3.7/dist-packages (from pyLDAvis) (1.3.5)\n",
            "Collecting sklearn\n",
            "  Downloading sklearn-0.0.tar.gz (1.1 kB)\n",
            "Requirement already satisfied: scikit-learn in /usr/local/lib/python3.7/dist-packages (from pyLDAvis) (1.0.2)\n",
            "Requirement already satisfied: python-dateutil>=2.7.3 in /usr/local/lib/python3.7/dist-packages (from pandas>=1.2.0->pyLDAvis) (2.8.2)\n",
            "Requirement already satisfied: pytz>=2017.3 in /usr/local/lib/python3.7/dist-packages (from pandas>=1.2.0->pyLDAvis) (2022.2.1)\n",
            "Requirement already satisfied: six>=1.5 in /usr/local/lib/python3.7/dist-packages (from python-dateutil>=2.7.3->pandas>=1.2.0->pyLDAvis) (1.15.0)\n",
            "Requirement already satisfied: smart-open>=1.8.1 in /usr/local/lib/python3.7/dist-packages (from gensim->pyLDAvis) (5.2.1)\n",
            "Requirement already satisfied: MarkupSafe>=0.23 in /usr/local/lib/python3.7/dist-packages (from jinja2->pyLDAvis) (2.0.1)\n",
            "Requirement already satisfied: packaging in /usr/local/lib/python3.7/dist-packages (from numexpr->pyLDAvis) (21.3)\n",
            "Requirement already satisfied: pyparsing!=3.0.5,>=2.0.2 in /usr/local/lib/python3.7/dist-packages (from packaging->numexpr->pyLDAvis) (3.0.9)\n",
            "Requirement already satisfied: threadpoolctl>=2.0.0 in /usr/local/lib/python3.7/dist-packages (from scikit-learn->pyLDAvis) (3.1.0)\n",
            "Building wheels for collected packages: pyLDAvis, sklearn\n",
            "  Building wheel for pyLDAvis (PEP 517) ... \u001b[?25l\u001b[?25hdone\n",
            "  Created wheel for pyLDAvis: filename=pyLDAvis-3.3.1-py2.py3-none-any.whl size=136898 sha256=a6fb64ffeb0a5b93eeba35f2dc44b82b2c3810e681e7f873301e1d0fab5dec47\n",
            "  Stored in directory: /root/.cache/pip/wheels/c9/21/f6/17bcf2667e8a68532ba2fbf6d5c72fdf4c7f7d9abfa4852d2f\n",
            "  Building wheel for sklearn (setup.py) ... \u001b[?25l\u001b[?25hdone\n",
            "  Created wheel for sklearn: filename=sklearn-0.0-py2.py3-none-any.whl size=1310 sha256=0e6ec50e8fe286600c6fadec7adb4d23bea17a1e0e7a3d4118a5cfa4fee148f8\n",
            "  Stored in directory: /root/.cache/pip/wheels/46/ef/c3/157e41f5ee1372d1be90b09f74f82b10e391eaacca8f22d33e\n",
            "Successfully built pyLDAvis sklearn\n",
            "Installing collected packages: sklearn, funcy, pyLDAvis\n",
            "Successfully installed funcy-1.17 pyLDAvis-3.3.1 sklearn-0.0\n"
          ]
        },
        {
          "output_type": "stream",
          "name": "stderr",
          "text": [
            "/usr/local/lib/python3.7/dist-packages/past/types/oldstr.py:5: DeprecationWarning: Using or importing the ABCs from 'collections' instead of from 'collections.abc' is deprecated since Python 3.3,and in 3.9 it will stop working\n",
            "  from collections import Iterable\n",
            "/usr/local/lib/python3.7/dist-packages/past/builtins/misc.py:4: DeprecationWarning: Using or importing the ABCs from 'collections' instead of from 'collections.abc' is deprecated since Python 3.3,and in 3.9 it will stop working\n",
            "  from collections import Mapping\n"
          ]
        }
      ]
    },
    {
      "cell_type": "code",
      "execution_count": null,
      "metadata": {
        "colab": {
          "base_uri": "https://localhost:8080/"
        },
        "id": "D8HjQSYatW-5",
        "outputId": "7abf4331-3254-46a5-d440-b5a3be34387b"
      },
      "outputs": [
        {
          "output_type": "stream",
          "name": "stdout",
          "text": [
            "Mounted at /content/drive\n"
          ]
        }
      ],
      "source": [
        "from google.colab import drive\n",
        "drive.mount('/content/drive')"
      ]
    },
    {
      "cell_type": "code",
      "source": [
        "import pickle                                    \n",
        "path = '/content/drive/MyDrive/Fake_News/'\n",
        "pickle_in = open(path + 'ISOT_pickle', 'rb')\n",
        "ISOT = pickle.load(pickle_in)"
      ],
      "metadata": {
        "id": "P-ccM0QhW5oy"
      },
      "execution_count": null,
      "outputs": []
    },
    {
      "cell_type": "code",
      "source": [
        "display(ISOT.dtypes)"
      ],
      "metadata": {
        "colab": {
          "base_uri": "https://localhost:8080/",
          "height": 364
        },
        "id": "nnmsH8Lu0CmD",
        "outputId": "3e8eeaa1-d32a-474a-f491-0b6669b1671d"
      },
      "execution_count": null,
      "outputs": [
        {
          "output_type": "display_data",
          "data": {
            "text/plain": [
              "title                    object\n",
              "text                     object\n",
              "subject                  object\n",
              "date                     object\n",
              "normaliza_text           object\n",
              "normaliza_title          object\n",
              "clean_text               object\n",
              "clean_title              object\n",
              "char_len_title            int64\n",
              "char_len_text             int64\n",
              "char_len_title_t          int64\n",
              "char_len_text_t           int64\n",
              "token_text_len            int64\n",
              "token_title_len           int64\n",
              "prop_uppercase_text     float64\n",
              "prop_uppercase_title    float64\n",
              "prop_long_text          float64\n",
              "prop_long_title         float64\n",
              "target                   object\n",
              "dtype: object"
            ]
          },
          "metadata": {}
        }
      ]
    },
    {
      "cell_type": "markdown",
      "source": [
        "<font color='darkblue'> Pasamos ahora a formar los bigramas haciendo uso del método *Phrases* que nos ofrece *Gensim*. El funcionamiento de esta herramienta podemos encontrarlo en el famoso paper de Mikolov de 2013 que podemos encontrar en el apartado 4 del mismo:</font>\n",
        "\n",
        "https://proceedings.neurips.cc/paper/2013/file/9aa42b31882ec039965f3c4923ce901b-Paper.pdf"
      ],
      "metadata": {
        "id": "lzBzhLpwIjQL"
      }
    },
    {
      "cell_type": "code",
      "source": [
        "bigram = gensim.models.Phrases(ISOT['normaliza_text'], min_count=10, threshold=100) \n",
        "bigram_mod = gensim.models.phrases.Phraser(bigram)"
      ],
      "metadata": {
        "id": "Z0wTiBYn0OUr"
      },
      "execution_count": null,
      "outputs": []
    },
    {
      "cell_type": "code",
      "source": [
        "bigram_mod"
      ],
      "metadata": {
        "colab": {
          "base_uri": "https://localhost:8080/"
        },
        "id": "7NgJ7aGyNUfU",
        "outputId": "c50d8d22-d508-434a-dfd6-ba284b86299f"
      },
      "execution_count": null,
      "outputs": [
        {
          "output_type": "execute_result",
          "data": {
            "text/plain": [
              "<gensim.models.phrases.FrozenPhrases at 0x7f865cda7710>"
            ]
          },
          "metadata": {},
          "execution_count": 7
        }
      ]
    },
    {
      "cell_type": "markdown",
      "source": [
        "<font color='darkblue'> Definimos ahora una primera función para generar una lista que ya incluya los bigramas de cada noticia. La segunda función la emplearemos para filtrar las categorías gramaticales. Esto lo hacemos a través del modelo pre-entrenado de spacy *'en_core_web_sm'*.\n",
        "\n",
        "La lista con la nomenclatura de las categorías gramaticales podemos encontrarla en el siguiente enlace: </font>\n",
        "\n",
        "https://machinelearningknowledge.ai/tutorial-on-spacy-part-of-speech-pos-tagging/#Spacy_POS_Tags_List"
      ],
      "metadata": {
        "id": "FFPuJU2fLLHA"
      }
    },
    {
      "cell_type": "code",
      "source": [
        "def make_bigrams(textos):\n",
        "    return [bigram_mod[doc] for doc in textos]\n",
        "\n",
        "def filtra_tags(textos, tags_permitidas=['NOUN', 'ADJ', 'VERB', 'ADV']):\n",
        "    textos_out = []\n",
        "    for sent in textos:\n",
        "        doc = nlp(\" \".join(sent)) \n",
        "        textos_out.append([token.text for token in doc if token.pos_ in tags_permitidas])\n",
        "    return textos_out"
      ],
      "metadata": {
        "id": "DYeLA5L6LypE"
      },
      "execution_count": null,
      "outputs": []
    },
    {
      "cell_type": "code",
      "source": [
        "#Esta celda tarda aproximadamente una hora en computarse\n",
        "ISOT_bigrams = make_bigrams(ISOT['normaliza_text'])\n",
        "ISOT_pos = filtra_tags(ISOT_bigrams, tags_permitidas = [\"NOUN\", \"ADJ\", \"ADV\", 'VERB',  'PROPN']) "
      ],
      "metadata": {
        "id": "tIFvLREi2I4n"
      },
      "execution_count": null,
      "outputs": []
    },
    {
      "cell_type": "markdown",
      "source": [
        "<font color='darkblue'> Podemos comparar el número de tokens antes y después de hacer el filtrado de las categorías gramaticales de, por ejemplo, la primera noticia. Esta reducción de tokens nos permite aligerar el peso de nuestro dataset pensando en el entrenamiento de futuros modelo. Además, no perdemos información relevante al mantener las categorías más relevantes (sustantivos, nombres propios, verbos...)</font>"
      ],
      "metadata": {
        "id": "pdaiYAuMADu4"
      }
    },
    {
      "cell_type": "code",
      "source": [
        "print(\"Numero tokens antes de filtrar: {} tokens\".format(len(ISOT_bigrams[0])))\n",
        "print(\"Numero tokens despues de filtrar: {} tokens\".format(len(ISOT_pos[0])))"
      ],
      "metadata": {
        "colab": {
          "base_uri": "https://localhost:8080/"
        },
        "id": "-zq9e1053aTv",
        "outputId": "437d4ac5-83bb-4905-f68b-2bcba3ed2d58"
      },
      "execution_count": null,
      "outputs": [
        {
          "output_type": "stream",
          "name": "stdout",
          "text": [
            "Numero tokens antes de filtrar: 222 tokens\n",
            "Numero tokens despues de filtrar: 216 tokens\n"
          ]
        }
      ]
    },
    {
      "cell_type": "code",
      "source": [
        "print(ISOT_pos[50])"
      ],
      "metadata": {
        "colab": {
          "base_uri": "https://localhost:8080/"
        },
        "id": "rZOaohFjtA6R",
        "outputId": "17df357e-5cd0-4899-8ea2-cd8a7bb54ffe"
      },
      "execution_count": null,
      "outputs": [
        {
          "output_type": "stream",
          "name": "stdout",
          "text": [
            "['fear', 'purge', 'personnel', 'base', 'ideology', 'reach', 'state', 'department', 'department_homeland', 'security', 'new', 'unusual', 'request', 'donald', 'trump', 'transition_team', 'surface', 'incoming', 'trump', 'team', 'demand', 'list', 'name', 'donald', 'trump', 'transition_team', 'ask', 'cabinet', 'department', 'name', 'government', 'official', 'work', 'program', 'counter', 'violent_extremism', 'accord', 'document', 'see', 'reuters', 'request', 'state', 'department', 'department_homeland', 'security', 'involve', 'set', 'program', 'seek', 'prevent', 'violence', 'extremist', 'stripe', 'include', 'recruitment', 'militant', 'islamist', 'group', 'united_states', 'determine', 'trump', 'team', 'ask', 'name', 'trump', 'team', 'request', 'often', 'attack', 'president', 'obama', 'team', 'include', 'former', 'secretary', 'state', 'hillary', 'clinton', 'tough', 'extremist', 'often', 'critique', 'include', 'complaint', 'obama', 'subordinate', 'explicitly', 'blame', 'islamic', 'faith', 'rather', 'point', 'extremist', 'deviate', 'mainstream', 'certainly', 'plausible', 'trump', 'team', 'consider', 'way', 'remove', 'differ', 'ideology', 'permanent', 'bureaucracy', 'assume', 'power', 'purge', 'see', 'disloyal', 'line', 'authoritarian', 'mindset', 'trump', 'often', 'embrace', 'also', 'issue', 'similar', 'demand', 'department', 'energy', 'ask', 'name', 'work', 'obama', 'administration', 'climate_change', 'policy', 'department', 'refuse', 'request', 'obama', 'white', 'house', 'express', 'concern', 'trump', 'team', 'try', 'target', 'civil_servant', 'scientist', 'lawyer', 'eventually', 'face', 'bad', 'headline', 'trump', 'team', 'disavow', 'purge', 'flickrthese', 'clown', 'obama']\n"
          ]
        }
      ]
    },
    {
      "cell_type": "code",
      "source": [
        "list1 = [x for x in ISOT_pos if x != []]"
      ],
      "metadata": {
        "id": "KWTOc_dw1--I"
      },
      "execution_count": null,
      "outputs": []
    },
    {
      "cell_type": "code",
      "source": [
        "print(len(ISOT_pos))\n",
        "print(len(list1))"
      ],
      "metadata": {
        "colab": {
          "base_uri": "https://localhost:8080/"
        },
        "id": "ybG7831f2CPi",
        "outputId": "2687f418-575b-45d4-9a5f-b0ff6a49c6ee"
      },
      "execution_count": null,
      "outputs": [
        {
          "output_type": "stream",
          "name": "stdout",
          "text": [
            "38271\n",
            "38265\n"
          ]
        }
      ]
    },
    {
      "cell_type": "code",
      "source": [
        "index_drop = [i for i,x in enumerate(ISOT_pos) if not x] #Índices de listas vacías de la lista ISOT_pos\n",
        "index_drop"
      ],
      "metadata": {
        "colab": {
          "base_uri": "https://localhost:8080/"
        },
        "id": "6sq_oN4p2maP",
        "outputId": "800474ee-82a8-4809-b9ad-c624ddaa8616"
      },
      "execution_count": null,
      "outputs": [
        {
          "output_type": "execute_result",
          "data": {
            "text/plain": [
              "[12408, 16725, 17743, 20195, 27190, 33448]"
            ]
          },
          "metadata": {},
          "execution_count": 14
        }
      ]
    },
    {
      "cell_type": "code",
      "source": [
        "display(ISOT[\"normaliza_text\"].iloc[12408])\n",
        "display(ISOT[\"normaliza_text\"].iloc[16725])\n",
        "display(ISOT[\"normaliza_text\"].iloc[17743])\n",
        "display(ISOT[\"normaliza_text\"].iloc[20195])\n",
        "display(ISOT[\"normaliza_text\"].iloc[33448])\n"
      ],
      "metadata": {
        "colab": {
          "base_uri": "https://localhost:8080/",
          "height": 104
        },
        "id": "4Q6IRM6U4_Gs",
        "outputId": "081adce7-0440-45a5-8488-eff0b2b16a05"
      },
      "execution_count": null,
      "outputs": [
        {
          "output_type": "display_data",
          "data": {
            "text/plain": [
              "[]"
            ]
          },
          "metadata": {}
        },
        {
          "output_type": "display_data",
          "data": {
            "text/plain": [
              "[]"
            ]
          },
          "metadata": {}
        },
        {
          "output_type": "display_data",
          "data": {
            "text/plain": [
              "[]"
            ]
          },
          "metadata": {}
        },
        {
          "output_type": "display_data",
          "data": {
            "text/plain": [
              "[]"
            ]
          },
          "metadata": {}
        },
        {
          "output_type": "display_data",
          "data": {
            "text/plain": [
              "['yep', 'like']"
            ]
          },
          "metadata": {}
        }
      ]
    },
    {
      "cell_type": "code",
      "source": [
        "display(ISOT[\"text\"].iloc[12408])\n",
        "display(ISOT[\"text\"].iloc[16725])\n",
        "display(ISOT[\"text\"].iloc[17743])\n",
        "display(ISOT[\"text\"].iloc[20195])\n",
        "display(ISOT[\"text\"].iloc[33448])"
      ],
      "metadata": {
        "colab": {
          "base_uri": "https://localhost:8080/",
          "height": 110
        },
        "id": "lNYHOMmW50Ah",
        "outputId": "3463b38a-0f9d-4db8-b8fa-a10897ea2f64"
      },
      "execution_count": null,
      "outputs": [
        {
          "output_type": "display_data",
          "data": {
            "text/plain": [
              "'  '"
            ],
            "application/vnd.google.colaboratory.intrinsic+json": {
              "type": "string"
            }
          },
          "metadata": {}
        },
        {
          "output_type": "display_data",
          "data": {
            "text/plain": [
              "' '"
            ],
            "application/vnd.google.colaboratory.intrinsic+json": {
              "type": "string"
            }
          },
          "metadata": {}
        },
        {
          "output_type": "display_data",
          "data": {
            "text/plain": [
              "' '"
            ],
            "application/vnd.google.colaboratory.intrinsic+json": {
              "type": "string"
            }
          },
          "metadata": {}
        },
        {
          "output_type": "display_data",
          "data": {
            "text/plain": [
              "'I VE HAD IT! '"
            ],
            "application/vnd.google.colaboratory.intrinsic+json": {
              "type": "string"
            }
          },
          "metadata": {}
        },
        {
          "output_type": "display_data",
          "data": {
            "text/plain": [
              "'Yep, she s just like you and me! '"
            ],
            "application/vnd.google.colaboratory.intrinsic+json": {
              "type": "string"
            }
          },
          "metadata": {}
        }
      ]
    },
    {
      "cell_type": "code",
      "source": [
        "ISOT = ISOT.drop(index_drop, axis=0)\n",
        "ISOT.reset_index()"
      ],
      "metadata": {
        "id": "IxxKVePI6WGK",
        "colab": {
          "base_uri": "https://localhost:8080/",
          "height": 1000
        },
        "outputId": "d6259cc6-c851-4c1d-8ebc-25f1c2c85599"
      },
      "execution_count": null,
      "outputs": [
        {
          "output_type": "execute_result",
          "data": {
            "text/plain": [
              "       index                                              title  \\\n",
              "0          0  China's graft watchdog warns officials over 'c...   \n",
              "1          1  Hurricane Irma may cut power to over 9 million...   \n",
              "2          2  BREAKING! Wikileaksâ Julian Assange Explains...   \n",
              "3          3     SUNDAY SCREENING: Guns, Drugs & the CIA (1988)   \n",
              "4          4  Suspected U.S. drone strike targets militants ...   \n",
              "...      ...                                                ...   \n",
              "38260  38266  Indian Hindu tried to raise money with video o...   \n",
              "38261  38267  Ben Carson Outwits Dimwits On The Viewâ¦A MUS...   \n",
              "38262  38268  Wheelbarrow bomb kills man pushing it in Somal...   \n",
              "38263  38269  Millions to lose health insurance under Republ...   \n",
              "38264  38270       Women drivers seen reviving Saudi car market   \n",
              "\n",
              "                                                    text       subject  \\\n",
              "0      BEIJING (Reuters) - Chinese officials trying t...     worldnews   \n",
              "1      (Reuters) - Hurricane Irma threatens to knock ...     worldnews   \n",
              "2      Julian Assange met with John Pilger of Dartmou...      politics   \n",
              "3      This week s documentary screening, curated by ...       US_News   \n",
              "4      PARACHINAR/PESHAWAR, Pakistan (Reuters) - A su...     worldnews   \n",
              "...                                                  ...           ...   \n",
              "38260  NEW DELHI (Reuters) - A Hindu man in India tri...     worldnews   \n",
              "38261  The progressive dimwits on The View proved tod...     left-news   \n",
              "38262  BOSSASO, SOMALIA S (Reuters) - A wheelbarrow e...     worldnews   \n",
              "38263  WASHINGTON (Reuters) - Millions of Americans w...  politicsNews   \n",
              "38264  DUBAI/PARIS (Reuters) - Saudi Arabia s decisio...     worldnews   \n",
              "\n",
              "                      date                                     normaliza_text  \\\n",
              "0       December 11, 2017   [beijing, reuters, chinese, official, try, hid...   \n",
              "1       September 8, 2017   [reuters, hurricane, irma, threaten, knock, po...   \n",
              "2              Nov 4, 2016  [julian, assange, meet, john, pilger, dartmout...   \n",
              "3            April 2, 2017  [week, documentary, screening, curate, editori...   \n",
              "4      September 15, 2017   [pakistan, reuters, suspect, drone, strike, ki...   \n",
              "...                    ...                                                ...   \n",
              "38260   December 14, 2017   [new, delhi, reuters, hindu, man, india, try, ...   \n",
              "38261          Oct 6, 2015  [progressive, dimwit, view, prove, today, matc...   \n",
              "38262    October 24, 2017   [bossaso, somalia, reuters, wheelbarrow, explo...   \n",
              "38263      March 13, 2017   [washington, reuters, million, americans, woul...   \n",
              "38264  September 27, 2017   [reuters, saudi, arabia, decision, lift, ban, ...   \n",
              "\n",
              "                                         normaliza_title  \\\n",
              "0      [china, graft, watchdog, warn, official, conce...   \n",
              "1      [hurricane, irma, may, cut, power, 9, million,...   \n",
              "2      [break, wikileak, julian, assange, explain, tr...   \n",
              "3              [sunday, screening, gun, drug, cia, 1988]   \n",
              "4      [suspect, drone, strike, target, militant, pak...   \n",
              "...                                                  ...   \n",
              "38260  [indian, hindu, try, raise, money, video, kill...   \n",
              "38261  [ben, carson, outwit, dimwit, viewa, must, watch]   \n",
              "38262  [wheelbarrow, bomb, kill, man, push, somalia, ...   \n",
              "38263  [million, lose, health, insurance, republican,...   \n",
              "38264   [woman, driver, see, revive, saudi, car, market]   \n",
              "\n",
              "                                              clean_text  \\\n",
              "0      beijing reuters chinese official try hide dish...   \n",
              "1      reuters hurricane irma threaten knock power mi...   \n",
              "2      julian assange meet john pilger dartmouth film...   \n",
              "3      week documentary screening curate editorial te...   \n",
              "4      pakistan reuters suspect drone strike kill thr...   \n",
              "...                                                  ...   \n",
              "38260  new delhi reuters hindu man india try raise mo...   \n",
              "38261  progressive dimwit view prove today match bril...   \n",
              "38262  bossaso somalia reuters wheelbarrow explode ou...   \n",
              "38263  washington reuters million americans would los...   \n",
              "38264  reuters saudi arabia decision lift ban woman d...   \n",
              "\n",
              "                                             clean_title  char_len_title  \\\n",
              "0      china graft watchdog warn official conceal ext...              68   \n",
              "1      hurricane irma may cut power 9 million people ...              73   \n",
              "2      break wikileak julian assange explain trump wi...             170   \n",
              "3                     sunday screening gun drug cia 1988              46   \n",
              "4      suspect drone strike target militant pakistan ...              81   \n",
              "...                                                  ...             ...   \n",
              "38260  indian hindu try raise money video kill muslim...              73   \n",
              "38261          ben carson outwit dimwit viewa must watch              54   \n",
              "38262  wheelbarrow bomb kill man push somalia puntlan...              73   \n",
              "38263  million lose health insurance republican plan ...              77   \n",
              "38264           woman driver see revive saudi car market              44   \n",
              "\n",
              "       char_len_text  char_len_title_t  char_len_text_t  token_text_len  \\\n",
              "0               2447                55             1583             224   \n",
              "1               4471                61             3039             453   \n",
              "2                764               115              485              67   \n",
              "3                645                34              440              59   \n",
              "4               2159                67             1451             199   \n",
              "...              ...               ...              ...             ...   \n",
              "38260           1918                53             1270             195   \n",
              "38261           1842                41             1058             153   \n",
              "38262            598                58              424              60   \n",
              "38263            443                66              324              42   \n",
              "38264           2807                40             1891             287   \n",
              "\n",
              "       token_title_len  prop_uppercase_text  prop_uppercase_title  \\\n",
              "0                    7             0.015938              0.014706   \n",
              "1                   10             0.032431              0.041096   \n",
              "2                   18             0.061518              0.235294   \n",
              "3                    6             0.151938              0.434783   \n",
              "4                    9             0.048170              0.049383   \n",
              "...                ...                  ...                   ...   \n",
              "38260                9             0.036496              0.041096   \n",
              "38261                7             0.025516              0.240741   \n",
              "38262                9             0.048495              0.041096   \n",
              "38263                8             0.054176              0.025974   \n",
              "38264                7             0.038475              0.045455   \n",
              "\n",
              "       prop_long_text  prop_long_title target  \n",
              "0            0.187500         0.571429   True  \n",
              "1            0.119205         0.400000   True  \n",
              "2            0.194030         0.277778   Fake  \n",
              "3            0.288136         0.166667   Fake  \n",
              "4            0.170854         0.555556   True  \n",
              "...               ...              ...    ...  \n",
              "38260        0.097436         0.000000   True  \n",
              "38261        0.176471         0.000000   Fake  \n",
              "38262        0.133333         0.333333   True  \n",
              "38263        0.285714         0.500000   True  \n",
              "38264        0.128920         0.000000   True  \n",
              "\n",
              "[38265 rows x 20 columns]"
            ],
            "text/html": [
              "\n",
              "  <div id=\"df-925bfa17-4743-4e75-a5ff-ad2a77371ce2\">\n",
              "    <div class=\"colab-df-container\">\n",
              "      <div>\n",
              "<style scoped>\n",
              "    .dataframe tbody tr th:only-of-type {\n",
              "        vertical-align: middle;\n",
              "    }\n",
              "\n",
              "    .dataframe tbody tr th {\n",
              "        vertical-align: top;\n",
              "    }\n",
              "\n",
              "    .dataframe thead th {\n",
              "        text-align: right;\n",
              "    }\n",
              "</style>\n",
              "<table border=\"1\" class=\"dataframe\">\n",
              "  <thead>\n",
              "    <tr style=\"text-align: right;\">\n",
              "      <th></th>\n",
              "      <th>index</th>\n",
              "      <th>title</th>\n",
              "      <th>text</th>\n",
              "      <th>subject</th>\n",
              "      <th>date</th>\n",
              "      <th>normaliza_text</th>\n",
              "      <th>normaliza_title</th>\n",
              "      <th>clean_text</th>\n",
              "      <th>clean_title</th>\n",
              "      <th>char_len_title</th>\n",
              "      <th>char_len_text</th>\n",
              "      <th>char_len_title_t</th>\n",
              "      <th>char_len_text_t</th>\n",
              "      <th>token_text_len</th>\n",
              "      <th>token_title_len</th>\n",
              "      <th>prop_uppercase_text</th>\n",
              "      <th>prop_uppercase_title</th>\n",
              "      <th>prop_long_text</th>\n",
              "      <th>prop_long_title</th>\n",
              "      <th>target</th>\n",
              "    </tr>\n",
              "  </thead>\n",
              "  <tbody>\n",
              "    <tr>\n",
              "      <th>0</th>\n",
              "      <td>0</td>\n",
              "      <td>China's graft watchdog warns officials over 'c...</td>\n",
              "      <td>BEIJING (Reuters) - Chinese officials trying t...</td>\n",
              "      <td>worldnews</td>\n",
              "      <td>December 11, 2017</td>\n",
              "      <td>[beijing, reuters, chinese, official, try, hid...</td>\n",
              "      <td>[china, graft, watchdog, warn, official, conce...</td>\n",
              "      <td>beijing reuters chinese official try hide dish...</td>\n",
              "      <td>china graft watchdog warn official conceal ext...</td>\n",
              "      <td>68</td>\n",
              "      <td>2447</td>\n",
              "      <td>55</td>\n",
              "      <td>1583</td>\n",
              "      <td>224</td>\n",
              "      <td>7</td>\n",
              "      <td>0.015938</td>\n",
              "      <td>0.014706</td>\n",
              "      <td>0.187500</td>\n",
              "      <td>0.571429</td>\n",
              "      <td>True</td>\n",
              "    </tr>\n",
              "    <tr>\n",
              "      <th>1</th>\n",
              "      <td>1</td>\n",
              "      <td>Hurricane Irma may cut power to over 9 million...</td>\n",
              "      <td>(Reuters) - Hurricane Irma threatens to knock ...</td>\n",
              "      <td>worldnews</td>\n",
              "      <td>September 8, 2017</td>\n",
              "      <td>[reuters, hurricane, irma, threaten, knock, po...</td>\n",
              "      <td>[hurricane, irma, may, cut, power, 9, million,...</td>\n",
              "      <td>reuters hurricane irma threaten knock power mi...</td>\n",
              "      <td>hurricane irma may cut power 9 million people ...</td>\n",
              "      <td>73</td>\n",
              "      <td>4471</td>\n",
              "      <td>61</td>\n",
              "      <td>3039</td>\n",
              "      <td>453</td>\n",
              "      <td>10</td>\n",
              "      <td>0.032431</td>\n",
              "      <td>0.041096</td>\n",
              "      <td>0.119205</td>\n",
              "      <td>0.400000</td>\n",
              "      <td>True</td>\n",
              "    </tr>\n",
              "    <tr>\n",
              "      <th>2</th>\n",
              "      <td>2</td>\n",
              "      <td>BREAKING! Wikileaksâ Julian Assange Explains...</td>\n",
              "      <td>Julian Assange met with John Pilger of Dartmou...</td>\n",
              "      <td>politics</td>\n",
              "      <td>Nov 4, 2016</td>\n",
              "      <td>[julian, assange, meet, john, pilger, dartmout...</td>\n",
              "      <td>[break, wikileak, julian, assange, explain, tr...</td>\n",
              "      <td>julian assange meet john pilger dartmouth film...</td>\n",
              "      <td>break wikileak julian assange explain trump wi...</td>\n",
              "      <td>170</td>\n",
              "      <td>764</td>\n",
              "      <td>115</td>\n",
              "      <td>485</td>\n",
              "      <td>67</td>\n",
              "      <td>18</td>\n",
              "      <td>0.061518</td>\n",
              "      <td>0.235294</td>\n",
              "      <td>0.194030</td>\n",
              "      <td>0.277778</td>\n",
              "      <td>Fake</td>\n",
              "    </tr>\n",
              "    <tr>\n",
              "      <th>3</th>\n",
              "      <td>3</td>\n",
              "      <td>SUNDAY SCREENING: Guns, Drugs &amp; the CIA (1988)</td>\n",
              "      <td>This week s documentary screening, curated by ...</td>\n",
              "      <td>US_News</td>\n",
              "      <td>April 2, 2017</td>\n",
              "      <td>[week, documentary, screening, curate, editori...</td>\n",
              "      <td>[sunday, screening, gun, drug, cia, 1988]</td>\n",
              "      <td>week documentary screening curate editorial te...</td>\n",
              "      <td>sunday screening gun drug cia 1988</td>\n",
              "      <td>46</td>\n",
              "      <td>645</td>\n",
              "      <td>34</td>\n",
              "      <td>440</td>\n",
              "      <td>59</td>\n",
              "      <td>6</td>\n",
              "      <td>0.151938</td>\n",
              "      <td>0.434783</td>\n",
              "      <td>0.288136</td>\n",
              "      <td>0.166667</td>\n",
              "      <td>Fake</td>\n",
              "    </tr>\n",
              "    <tr>\n",
              "      <th>4</th>\n",
              "      <td>4</td>\n",
              "      <td>Suspected U.S. drone strike targets militants ...</td>\n",
              "      <td>PARACHINAR/PESHAWAR, Pakistan (Reuters) - A su...</td>\n",
              "      <td>worldnews</td>\n",
              "      <td>September 15, 2017</td>\n",
              "      <td>[pakistan, reuters, suspect, drone, strike, ki...</td>\n",
              "      <td>[suspect, drone, strike, target, militant, pak...</td>\n",
              "      <td>pakistan reuters suspect drone strike kill thr...</td>\n",
              "      <td>suspect drone strike target militant pakistan ...</td>\n",
              "      <td>81</td>\n",
              "      <td>2159</td>\n",
              "      <td>67</td>\n",
              "      <td>1451</td>\n",
              "      <td>199</td>\n",
              "      <td>9</td>\n",
              "      <td>0.048170</td>\n",
              "      <td>0.049383</td>\n",
              "      <td>0.170854</td>\n",
              "      <td>0.555556</td>\n",
              "      <td>True</td>\n",
              "    </tr>\n",
              "    <tr>\n",
              "      <th>...</th>\n",
              "      <td>...</td>\n",
              "      <td>...</td>\n",
              "      <td>...</td>\n",
              "      <td>...</td>\n",
              "      <td>...</td>\n",
              "      <td>...</td>\n",
              "      <td>...</td>\n",
              "      <td>...</td>\n",
              "      <td>...</td>\n",
              "      <td>...</td>\n",
              "      <td>...</td>\n",
              "      <td>...</td>\n",
              "      <td>...</td>\n",
              "      <td>...</td>\n",
              "      <td>...</td>\n",
              "      <td>...</td>\n",
              "      <td>...</td>\n",
              "      <td>...</td>\n",
              "      <td>...</td>\n",
              "      <td>...</td>\n",
              "    </tr>\n",
              "    <tr>\n",
              "      <th>38260</th>\n",
              "      <td>38266</td>\n",
              "      <td>Indian Hindu tried to raise money with video o...</td>\n",
              "      <td>NEW DELHI (Reuters) - A Hindu man in India tri...</td>\n",
              "      <td>worldnews</td>\n",
              "      <td>December 14, 2017</td>\n",
              "      <td>[new, delhi, reuters, hindu, man, india, try, ...</td>\n",
              "      <td>[indian, hindu, try, raise, money, video, kill...</td>\n",
              "      <td>new delhi reuters hindu man india try raise mo...</td>\n",
              "      <td>indian hindu try raise money video kill muslim...</td>\n",
              "      <td>73</td>\n",
              "      <td>1918</td>\n",
              "      <td>53</td>\n",
              "      <td>1270</td>\n",
              "      <td>195</td>\n",
              "      <td>9</td>\n",
              "      <td>0.036496</td>\n",
              "      <td>0.041096</td>\n",
              "      <td>0.097436</td>\n",
              "      <td>0.000000</td>\n",
              "      <td>True</td>\n",
              "    </tr>\n",
              "    <tr>\n",
              "      <th>38261</th>\n",
              "      <td>38267</td>\n",
              "      <td>Ben Carson Outwits Dimwits On The Viewâ¦A MUS...</td>\n",
              "      <td>The progressive dimwits on The View proved tod...</td>\n",
              "      <td>left-news</td>\n",
              "      <td>Oct 6, 2015</td>\n",
              "      <td>[progressive, dimwit, view, prove, today, matc...</td>\n",
              "      <td>[ben, carson, outwit, dimwit, viewa, must, watch]</td>\n",
              "      <td>progressive dimwit view prove today match bril...</td>\n",
              "      <td>ben carson outwit dimwit viewa must watch</td>\n",
              "      <td>54</td>\n",
              "      <td>1842</td>\n",
              "      <td>41</td>\n",
              "      <td>1058</td>\n",
              "      <td>153</td>\n",
              "      <td>7</td>\n",
              "      <td>0.025516</td>\n",
              "      <td>0.240741</td>\n",
              "      <td>0.176471</td>\n",
              "      <td>0.000000</td>\n",
              "      <td>Fake</td>\n",
              "    </tr>\n",
              "    <tr>\n",
              "      <th>38262</th>\n",
              "      <td>38268</td>\n",
              "      <td>Wheelbarrow bomb kills man pushing it in Somal...</td>\n",
              "      <td>BOSSASO, SOMALIA S (Reuters) - A wheelbarrow e...</td>\n",
              "      <td>worldnews</td>\n",
              "      <td>October 24, 2017</td>\n",
              "      <td>[bossaso, somalia, reuters, wheelbarrow, explo...</td>\n",
              "      <td>[wheelbarrow, bomb, kill, man, push, somalia, ...</td>\n",
              "      <td>bossaso somalia reuters wheelbarrow explode ou...</td>\n",
              "      <td>wheelbarrow bomb kill man push somalia puntlan...</td>\n",
              "      <td>73</td>\n",
              "      <td>598</td>\n",
              "      <td>58</td>\n",
              "      <td>424</td>\n",
              "      <td>60</td>\n",
              "      <td>9</td>\n",
              "      <td>0.048495</td>\n",
              "      <td>0.041096</td>\n",
              "      <td>0.133333</td>\n",
              "      <td>0.333333</td>\n",
              "      <td>True</td>\n",
              "    </tr>\n",
              "    <tr>\n",
              "      <th>38263</th>\n",
              "      <td>38269</td>\n",
              "      <td>Millions to lose health insurance under Republ...</td>\n",
              "      <td>WASHINGTON (Reuters) - Millions of Americans w...</td>\n",
              "      <td>politicsNews</td>\n",
              "      <td>March 13, 2017</td>\n",
              "      <td>[washington, reuters, million, americans, woul...</td>\n",
              "      <td>[million, lose, health, insurance, republican,...</td>\n",
              "      <td>washington reuters million americans would los...</td>\n",
              "      <td>million lose health insurance republican plan ...</td>\n",
              "      <td>77</td>\n",
              "      <td>443</td>\n",
              "      <td>66</td>\n",
              "      <td>324</td>\n",
              "      <td>42</td>\n",
              "      <td>8</td>\n",
              "      <td>0.054176</td>\n",
              "      <td>0.025974</td>\n",
              "      <td>0.285714</td>\n",
              "      <td>0.500000</td>\n",
              "      <td>True</td>\n",
              "    </tr>\n",
              "    <tr>\n",
              "      <th>38264</th>\n",
              "      <td>38270</td>\n",
              "      <td>Women drivers seen reviving Saudi car market</td>\n",
              "      <td>DUBAI/PARIS (Reuters) - Saudi Arabia s decisio...</td>\n",
              "      <td>worldnews</td>\n",
              "      <td>September 27, 2017</td>\n",
              "      <td>[reuters, saudi, arabia, decision, lift, ban, ...</td>\n",
              "      <td>[woman, driver, see, revive, saudi, car, market]</td>\n",
              "      <td>reuters saudi arabia decision lift ban woman d...</td>\n",
              "      <td>woman driver see revive saudi car market</td>\n",
              "      <td>44</td>\n",
              "      <td>2807</td>\n",
              "      <td>40</td>\n",
              "      <td>1891</td>\n",
              "      <td>287</td>\n",
              "      <td>7</td>\n",
              "      <td>0.038475</td>\n",
              "      <td>0.045455</td>\n",
              "      <td>0.128920</td>\n",
              "      <td>0.000000</td>\n",
              "      <td>True</td>\n",
              "    </tr>\n",
              "  </tbody>\n",
              "</table>\n",
              "<p>38265 rows × 20 columns</p>\n",
              "</div>\n",
              "      <button class=\"colab-df-convert\" onclick=\"convertToInteractive('df-925bfa17-4743-4e75-a5ff-ad2a77371ce2')\"\n",
              "              title=\"Convert this dataframe to an interactive table.\"\n",
              "              style=\"display:none;\">\n",
              "        \n",
              "  <svg xmlns=\"http://www.w3.org/2000/svg\" height=\"24px\"viewBox=\"0 0 24 24\"\n",
              "       width=\"24px\">\n",
              "    <path d=\"M0 0h24v24H0V0z\" fill=\"none\"/>\n",
              "    <path d=\"M18.56 5.44l.94 2.06.94-2.06 2.06-.94-2.06-.94-.94-2.06-.94 2.06-2.06.94zm-11 1L8.5 8.5l.94-2.06 2.06-.94-2.06-.94L8.5 2.5l-.94 2.06-2.06.94zm10 10l.94 2.06.94-2.06 2.06-.94-2.06-.94-.94-2.06-.94 2.06-2.06.94z\"/><path d=\"M17.41 7.96l-1.37-1.37c-.4-.4-.92-.59-1.43-.59-.52 0-1.04.2-1.43.59L10.3 9.45l-7.72 7.72c-.78.78-.78 2.05 0 2.83L4 21.41c.39.39.9.59 1.41.59.51 0 1.02-.2 1.41-.59l7.78-7.78 2.81-2.81c.8-.78.8-2.07 0-2.86zM5.41 20L4 18.59l7.72-7.72 1.47 1.35L5.41 20z\"/>\n",
              "  </svg>\n",
              "      </button>\n",
              "      \n",
              "  <style>\n",
              "    .colab-df-container {\n",
              "      display:flex;\n",
              "      flex-wrap:wrap;\n",
              "      gap: 12px;\n",
              "    }\n",
              "\n",
              "    .colab-df-convert {\n",
              "      background-color: #E8F0FE;\n",
              "      border: none;\n",
              "      border-radius: 50%;\n",
              "      cursor: pointer;\n",
              "      display: none;\n",
              "      fill: #1967D2;\n",
              "      height: 32px;\n",
              "      padding: 0 0 0 0;\n",
              "      width: 32px;\n",
              "    }\n",
              "\n",
              "    .colab-df-convert:hover {\n",
              "      background-color: #E2EBFA;\n",
              "      box-shadow: 0px 1px 2px rgba(60, 64, 67, 0.3), 0px 1px 3px 1px rgba(60, 64, 67, 0.15);\n",
              "      fill: #174EA6;\n",
              "    }\n",
              "\n",
              "    [theme=dark] .colab-df-convert {\n",
              "      background-color: #3B4455;\n",
              "      fill: #D2E3FC;\n",
              "    }\n",
              "\n",
              "    [theme=dark] .colab-df-convert:hover {\n",
              "      background-color: #434B5C;\n",
              "      box-shadow: 0px 1px 3px 1px rgba(0, 0, 0, 0.15);\n",
              "      filter: drop-shadow(0px 1px 2px rgba(0, 0, 0, 0.3));\n",
              "      fill: #FFFFFF;\n",
              "    }\n",
              "  </style>\n",
              "\n",
              "      <script>\n",
              "        const buttonEl =\n",
              "          document.querySelector('#df-925bfa17-4743-4e75-a5ff-ad2a77371ce2 button.colab-df-convert');\n",
              "        buttonEl.style.display =\n",
              "          google.colab.kernel.accessAllowed ? 'block' : 'none';\n",
              "\n",
              "        async function convertToInteractive(key) {\n",
              "          const element = document.querySelector('#df-925bfa17-4743-4e75-a5ff-ad2a77371ce2');\n",
              "          const dataTable =\n",
              "            await google.colab.kernel.invokeFunction('convertToInteractive',\n",
              "                                                     [key], {});\n",
              "          if (!dataTable) return;\n",
              "\n",
              "          const docLinkHtml = 'Like what you see? Visit the ' +\n",
              "            '<a target=\"_blank\" href=https://colab.research.google.com/notebooks/data_table.ipynb>data table notebook</a>'\n",
              "            + ' to learn more about interactive tables.';\n",
              "          element.innerHTML = '';\n",
              "          dataTable['output_type'] = 'display_data';\n",
              "          await google.colab.output.renderOutput(dataTable, element);\n",
              "          const docLink = document.createElement('div');\n",
              "          docLink.innerHTML = docLinkHtml;\n",
              "          element.appendChild(docLink);\n",
              "        }\n",
              "      </script>\n",
              "    </div>\n",
              "  </div>\n",
              "  "
            ]
          },
          "metadata": {},
          "execution_count": 17
        }
      ]
    },
    {
      "cell_type": "code",
      "source": [
        "for index in sorted(index_drop, reverse=True):\n",
        "    del ISOT_pos[index]"
      ],
      "metadata": {
        "id": "xtLpeJIECcUT"
      },
      "execution_count": null,
      "outputs": []
    },
    {
      "cell_type": "code",
      "source": [
        "index_drop = [i for i,x in enumerate(ISOT_pos) if not x] \n",
        "index_drop"
      ],
      "metadata": {
        "colab": {
          "base_uri": "https://localhost:8080/"
        },
        "id": "thfYoVn4DK-b",
        "outputId": "b10f5e47-8207-4f4d-9c1c-abee61efd6ed"
      },
      "execution_count": null,
      "outputs": [
        {
          "output_type": "execute_result",
          "data": {
            "text/plain": [
              "[]"
            ]
          },
          "metadata": {},
          "execution_count": 19
        }
      ]
    },
    {
      "cell_type": "code",
      "source": [
        "print(len(ISOT_pos))\n",
        "print(len(ISOT))"
      ],
      "metadata": {
        "colab": {
          "base_uri": "https://localhost:8080/"
        },
        "id": "Iy-qW9UbDRVw",
        "outputId": "e507fc31-0650-496f-b25b-386c6a4b69a7"
      },
      "execution_count": null,
      "outputs": [
        {
          "output_type": "stream",
          "name": "stdout",
          "text": [
            "38265\n",
            "38265\n"
          ]
        }
      ]
    },
    {
      "cell_type": "markdown",
      "source": [
        "<font color='darkblue'> Incluímos esta nueva columna en nuestro dataframe.</font>"
      ],
      "metadata": {
        "id": "4qfmCelNlgiz"
      }
    },
    {
      "cell_type": "code",
      "source": [
        "ISOT[\"normaliza_b_filter\"] = ISOT_pos\n",
        "display(ISOT.columns)"
      ],
      "metadata": {
        "colab": {
          "base_uri": "https://localhost:8080/",
          "height": 121
        },
        "id": "5t75JulucWtZ",
        "outputId": "7e7c2ae4-74bd-43c5-d9eb-44fea6a8a710"
      },
      "execution_count": null,
      "outputs": [
        {
          "output_type": "display_data",
          "data": {
            "text/plain": [
              "Index(['title', 'text', 'subject', 'date', 'normaliza_text', 'normaliza_title',\n",
              "       'clean_text', 'clean_title', 'char_len_title', 'char_len_text',\n",
              "       'char_len_title_t', 'char_len_text_t', 'token_text_len',\n",
              "       'token_title_len', 'prop_uppercase_text', 'prop_uppercase_title',\n",
              "       'prop_long_text', 'prop_long_title', 'target', 'normaliza_b_filter'],\n",
              "      dtype='object')"
            ]
          },
          "metadata": {}
        }
      ]
    },
    {
      "cell_type": "markdown",
      "source": [
        "<font color='darkblue'> Implementamos ahora *Topic Modelling* con Gensim. Empezamos creando un diccionario de términos haciendo uso del módulo *Corpora* y transformamos nuestro corpus en un *Bag of Words* que queda almacenado en la variable 'corpus':</font>"
      ],
      "metadata": {
        "id": "KkxHTP9dmGlK"
      }
    },
    {
      "cell_type": "code",
      "source": [
        "import gensim.corpora as corpora\n",
        "id2word = corpora.Dictionary(ISOT_pos)\n",
        "print(id2word)"
      ],
      "metadata": {
        "colab": {
          "base_uri": "https://localhost:8080/"
        },
        "id": "0ZcKiSMlmY0n",
        "outputId": "e51287e8-7b56-49c4-bef0-75d35cb48b6f"
      },
      "execution_count": null,
      "outputs": [
        {
          "output_type": "stream",
          "name": "stdout",
          "text": [
            "Dictionary<100342 unique tokens: ['accept', 'actually', 'address', 'agency', 'also']...>\n"
          ]
        }
      ]
    },
    {
      "cell_type": "code",
      "source": [
        "texts = ISOT_pos\n",
        "corpus = [id2word.doc2bow(text) for text in texts]\n",
        "print(corpus[0])"
      ],
      "metadata": {
        "colab": {
          "base_uri": "https://localhost:8080/"
        },
        "id": "dEAsaomLmfd9",
        "outputId": "600bdf03-a832-4c32-d721-d08eb4f152a0"
      },
      "execution_count": null,
      "outputs": [
        {
          "output_type": "stream",
          "name": "stdout",
          "text": [
            "[(0, 1), (1, 1), (2, 1), (3, 1), (4, 1), (5, 1), (6, 1), (7, 1), (8, 1), (9, 1), (10, 1), (11, 1), (12, 2), (13, 1), (14, 2), (15, 1), (16, 1), (17, 2), (18, 1), (19, 1), (20, 1), (21, 1), (22, 2), (23, 1), (24, 1), (25, 1), (26, 1), (27, 2), (28, 2), (29, 1), (30, 1), (31, 1), (32, 1), (33, 1), (34, 1), (35, 1), (36, 1), (37, 1), (38, 1), (39, 1), (40, 2), (41, 1), (42, 1), (43, 1), (44, 1), (45, 2), (46, 1), (47, 1), (48, 1), (49, 1), (50, 1), (51, 1), (52, 2), (53, 1), (54, 1), (55, 2), (56, 2), (57, 1), (58, 2), (59, 2), (60, 1), (61, 2), (62, 2), (63, 1), (64, 1), (65, 1), (66, 1), (67, 4), (68, 1), (69, 1), (70, 1), (71, 1), (72, 1), (73, 1), (74, 1), (75, 1), (76, 1), (77, 1), (78, 1), (79, 1), (80, 1), (81, 1), (82, 1), (83, 13), (84, 1), (85, 1), (86, 2), (87, 1), (88, 1), (89, 1), (90, 5), (91, 1), (92, 1), (93, 1), (94, 1), (95, 1), (96, 1), (97, 1), (98, 1), (99, 2), (100, 1), (101, 1), (102, 1), (103, 1), (104, 1), (105, 2), (106, 1), (107, 1), (108, 1), (109, 1), (110, 1), (111, 1), (112, 7), (113, 1), (114, 1), (115, 1), (116, 1), (117, 1), (118, 1), (119, 1), (120, 1), (121, 1), (122, 3), (123, 1), (124, 1), (125, 1), (126, 1), (127, 1), (128, 2), (129, 1), (130, 1), (131, 1), (132, 2), (133, 2), (134, 1), (135, 2), (136, 1), (137, 1), (138, 1), (139, 1), (140, 1), (141, 1), (142, 1), (143, 1), (144, 1), (145, 3), (146, 1), (147, 1), (148, 1), (149, 1), (150, 1), (151, 1), (152, 1), (153, 1), (154, 1), (155, 1), (156, 4), (157, 2), (158, 1), (159, 2)]\n"
          ]
        }
      ]
    },
    {
      "cell_type": "code",
      "source": [
        "print(len(corpus))"
      ],
      "metadata": {
        "colab": {
          "base_uri": "https://localhost:8080/"
        },
        "id": "tzlr7dGpt5dT",
        "outputId": "059592ae-7adb-4238-e3e3-ad1930daaa98"
      },
      "execution_count": null,
      "outputs": [
        {
          "output_type": "stream",
          "name": "stdout",
          "text": [
            "38265\n"
          ]
        }
      ]
    },
    {
      "cell_type": "markdown",
      "source": [
        "<font color='darkblue'>Empleamos los modelos LDA (Latent Dirichlet Allocation) para asociar nuestras noticias a los *topics*. Estos modelos, además de los vectores de entrada, necesitan un número de \"topics\" para ser entrenados. Como no sabemos a priori qué valor es el más óptimo, definimos la función \"calculo_valor_coherencia\" que a partir del corpus, el diccionario y otros parámetros, calcula un modelo lda y devuelve la coherencia entre sus topics. La definición de esta función nos permitirá realiza un GridSearch para optimizar el número de *topics*</font>"
      ],
      "metadata": {
        "id": "y5Fyb9StoSs_"
      }
    },
    {
      "cell_type": "code",
      "source": [
        "def calculo_valor_coherencia(corpus, dictionary, k, a, b):\n",
        "    lda_model = gensim.models.LdaMulticore(corpus=corpus,\n",
        "                                           id2word=dictionary,\n",
        "                                           num_topics=k, \n",
        "                                           random_state=100,\n",
        "                                           chunksize=100,\n",
        "                                           passes=10,\n",
        "                                           alpha=a,\n",
        "                                           eta=b)\n",
        "    \n",
        "    coherence_model_lda = CoherenceModel(model=lda_model, texts=ISOT_pos, dictionary=dictionary, coherence='c_v')\n",
        "    \n",
        "    return coherence_model_lda.get_coherence()"
      ],
      "metadata": {
        "id": "zBGWTyijmhzc"
      },
      "execution_count": null,
      "outputs": []
    },
    {
      "cell_type": "code",
      "source": [
        "grid = {}\n",
        "# Topics range\n",
        "min_topics = 2\n",
        "max_topics = 10\n",
        "step_size = 2\n",
        "topics_range = range(min_topics, max_topics, step_size)\n",
        "alpha = 0.01\n",
        "beta = 0.9\n",
        "num_of_docs = len(corpus)\n",
        "corpus_sets = corpus\n",
        "corpus_title = '100% Corpus'\n",
        "model_results = {'Topics': [],\n",
        "                 'Alpha': [],\n",
        "                 'Beta': [],\n",
        "                 'Coherence': []}\n",
        "\n",
        "from tqdm import tqdm\n",
        "if 1 == 1:\n",
        "    pbar = tqdm(total=len(topics_range))\n",
        "    \n",
        "    for k in topics_range:\n",
        "        cv = calculo_valor_coherencia(corpus=corpus, dictionary=id2word,\n",
        "                                    k=k, a=alpha, b=beta)\n",
        "        \n",
        "        model_results['Topics'].append(k)\n",
        "        model_results['Alpha'].append(alpha)\n",
        "        model_results['Beta'].append(beta)\n",
        "        model_results['Coherence'].append(cv)\n",
        "        pbar.update(1)\n",
        "    pbar.close()"
      ],
      "metadata": {
        "colab": {
          "base_uri": "https://localhost:8080/"
        },
        "id": "1IKoTnowmoKW",
        "outputId": "7e35aa19-eb0e-4278-82b5-7a69873ace33"
      },
      "execution_count": null,
      "outputs": [
        {
          "output_type": "stream",
          "name": "stderr",
          "text": [
            "100%|██████████| 4/4 [51:45<00:00, 776.44s/it]\n"
          ]
        }
      ]
    },
    {
      "cell_type": "code",
      "source": [
        "model_results"
      ],
      "metadata": {
        "id": "SJ-S2opSmqpB",
        "colab": {
          "base_uri": "https://localhost:8080/"
        },
        "outputId": "8d6e2066-d9ca-4e40-b8a6-2b3fff99feb1"
      },
      "execution_count": null,
      "outputs": [
        {
          "output_type": "execute_result",
          "data": {
            "text/plain": [
              "{'Topics': [2, 4, 6, 8],\n",
              " 'Alpha': [0.01, 0.01, 0.01, 0.01],\n",
              " 'Beta': [0.9, 0.9, 0.9, 0.9],\n",
              " 'Coherence': [0.32025245231938315,\n",
              "  0.4093103785676511,\n",
              "  0.3600231462144261,\n",
              "  0.45829149761343524]}"
            ]
          },
          "metadata": {},
          "execution_count": 163
        }
      ]
    },
    {
      "cell_type": "code",
      "source": [
        "import matplotlib.pyplot as plt\n",
        "plt.plot(topics_range, model_results[\"Coherence\"])\n",
        "plt.xlabel(\"Num Topics\")\n",
        "plt.ylabel(\"Coherence score\")\n",
        "plt.legend((\"coherence_values\"), loc='best')\n",
        "plt.show()"
      ],
      "metadata": {
        "id": "5Gra31SOmthc",
        "colab": {
          "base_uri": "https://localhost:8080/",
          "height": 279
        },
        "outputId": "c21f1e4f-44e5-4c37-ea1b-3f1b3813afa8"
      },
      "execution_count": null,
      "outputs": [
        {
          "output_type": "display_data",
          "data": {
            "text/plain": [
              "<Figure size 432x288 with 1 Axes>"
            ],
            "image/png": "[encoded data removed]"
          },
          "metadata": {
            "needs_background": "light"
          }
        }
      ]
    },
    {
      "cell_type": "code",
      "source": [
        "lda_model = gensim.models.LdaMulticore(corpus=corpus,\n",
        "                                      id2word=id2word,\n",
        "                                      num_topics=8, \n",
        "                                      random_state=100,\n",
        "                                      chunksize=100,\n",
        "                                      passes=10,\n",
        "                                      alpha=0.01,\n",
        "                                      eta=0.9)"
      ],
      "metadata": {
        "id": "hOIGQrq7mwDa"
      },
      "execution_count": null,
      "outputs": []
    },
    {
      "cell_type": "markdown",
      "source": [
        "<font color='darkblue'> Definimos ahora nuestro modelo y con la librería *pyLDAvis* visualizamos en un gráfico interactivo los términos más relevantes de cada *topic* y la distancia entre ellos en un espacio bidimensional a través de transformaciones vectoriales.</font>"
      ],
      "metadata": {
        "id": "7WSc7-6ip1I-"
      }
    },
    {
      "cell_type": "code",
      "source": [],
      "metadata": {
        "id": "YWqXSAYR4IYe"
      },
      "execution_count": null,
      "outputs": []
    },
    {
      "cell_type": "code",
      "source": [
        "model_topics = lda_model.show_topics(formatted=False)\n",
        "print(lda_model.print_topics(num_words=3))"
      ],
      "metadata": {
        "id": "N4MbrfOWmyaH",
        "colab": {
          "base_uri": "https://localhost:8080/"
        },
        "outputId": "857680a5-9d6a-416e-b9cf-40a7faaa1283"
      },
      "execution_count": null,
      "outputs": [
        {
          "output_type": "stream",
          "name": "stdout",
          "text": [
            "[(0, '0.014*\"quot_quot\" + 0.014*\"quot\" + 0.011*\"amp_amp\"'), (1, '0.009*\"people\" + 0.008*\"say\" + 0.005*\"police\"'), (2, '0.027*\"say\" + 0.008*\"government\" + 0.008*\"state\"'), (3, '0.046*\"trump\" + 0.015*\"say\" + 0.010*\"president\"'), (4, '0.029*\"say\" + 0.010*\"president\" + 0.009*\"united_states\"'), (5, '0.023*\"say\" + 0.008*\"state\" + 0.007*\"house\"'), (6, '0.020*\"say\" + 0.016*\"party\" + 0.011*\"government\"'), (7, '0.017*\"say\" + 0.009*\"investigation\" + 0.009*\"report\"')]\n"
          ]
        }
      ]
    },
    {
      "cell_type": "code",
      "source": [
        "pyLDAvis.enable_notebook()\n",
        "vis = gensimvis.prepare(lda_model, corpus, id2word)\n",
        "vis"
      ],
      "metadata": {
        "id": "iLdCxL_6m0lv",
        "colab": {
          "base_uri": "https://localhost:8080/",
          "height": 916
        },
        "outputId": "4b30f7cc-da14-417b-ea12-afbf953f364f"
      },
      "execution_count": null,
      "outputs": [
        {
          "output_type": "stream",
          "name": "stderr",
          "text": [
            "/usr/local/lib/python3.7/dist-packages/pyLDAvis/_prepare.py:247: FutureWarning: In a future version of pandas all arguments of DataFrame.drop except for the argument 'labels' will be keyword-only\n",
            "  by='saliency', ascending=False).head(R).drop('saliency', 1)\n"
          ]
        },
        {
          "output_type": "execute_result",
          "data": {
            "text/plain": [
              "PreparedData(topic_coordinates=              x         y  topics  cluster       Freq\n",
              "topic                                                \n",
              "3      0.126774  0.140936       1        1  24.946819\n",
              "5      0.113553 -0.025814       2        1  21.714527\n",
              "1      0.064263  0.149104       3        1  18.073923\n",
              "4      0.046225 -0.118778       4        1  10.480580\n",
              "2     -0.007544 -0.105922       5        1   8.708153\n",
              "7      0.012189 -0.027791       6        1   8.672477\n",
              "6      0.012479 -0.062577       7        1   6.754004\n",
              "0     -0.367940  0.050841       8        1   0.649517, topic_info=            Term           Freq          Total Category  logprob  loglift\n",
              "543        trump  103429.000000  103429.000000  Default  30.0000  30.0000\n",
              "112          say  138801.000000  138801.000000  Default  29.0000  29.0000\n",
              "90         party   17337.000000   17337.000000  Default  28.0000  28.0000\n",
              "388      clinton   20016.000000   20016.000000  Default  27.0000  27.0000\n",
              "399   government   22860.000000   22860.000000  Default  26.0000  26.0000\n",
              "...          ...            ...            ...      ...      ...      ...\n",
              "6175         amp      98.768845     163.634797   Topic8  -6.2098   4.5318\n",
              "352        storm     139.873950     623.895011   Topic8  -5.8618   3.5415\n",
              "627          oil     161.003860    1972.156556   Topic8  -5.7212   2.5312\n",
              "220      florida     153.877033    2705.770654   Topic8  -5.7664   2.1697\n",
              "251       island     108.637084    1757.283248   Topic8  -6.1146   2.2532\n",
              "\n",
              "[621 rows x 6 columns], token_table=       Topic      Freq   Term\n",
              "term                         \n",
              "16372      1  0.004086  abadi\n",
              "16372      2  0.004086  abadi\n",
              "16372      3  0.004086  abadi\n",
              "16372      4  0.004086  abadi\n",
              "16372      5  0.976665  abadi\n",
              "...      ...       ...    ...\n",
              "21926      4  0.021149  zinke\n",
              "21926      5  0.021149  zinke\n",
              "21926      6  0.021149  zinke\n",
              "21926      7  0.021149  zinke\n",
              "21926      8  0.867098  zinke\n",
              "\n",
              "[3678 rows x 3 columns], R=30, lambda_step=0.01, plot_opts={'xlab': 'PC1', 'ylab': 'PC2'}, topic_order=[4, 6, 2, 5, 3, 8, 7, 1])"
            ],
            "text/html": [
              "\n",
              "<link rel=\"stylesheet\" type=\"text/css\" href=\"https://cdn.jsdelivr.net/gh/bmabey/pyLDAvis@3.3.1/pyLDAvis/js/ldavis.v1.0.0.css\">\n",
              "\n",
              "\n",
              "<div id=\"ldavis_el691402137686837281174935297\"></div>\n",
              "<script type=\"text/javascript\">\n",
              "\n",
              "var ldavis_el691402137686837281174935297_data = {\"mdsDat\": {\"x\": [0.1267740420663698, 0.11355307102215113, 0.0642629842698601, 0.04622510892622462, -0.007543838963561228, 0.012188806476165482, 0.012479410622816153, -0.36793958442002633], \"y\": [0.14093606200772724, -0.025813733890957858, 0.14910403885980178, -0.11877783371316039, -0.1059220102442472, -0.027790863758479226, -0.06257703407946195, 0.050841374818777325], \"topics\": [1, 2, 3, 4, 5, 6, 7, 8], \"cluster\": [1, 1, 1, 1, 1, 1, 1, 1], \"Freq\": [24.946819497655927, 21.71452652483474, 18.07392253741854, 10.48058016910596, 8.708152642450766, 8.672477067395883, 6.754004354211138, 0.6495172069270441]}, \"tinfo\": {\"Term\": [\"trump\", \"say\", \"party\", \"clinton\", \"government\", \"election\", \"republican\", \"russia\", \"china\", \"vote\", \"donald\", \"investigation\", \"tax\", \"president\", \"campaign\", \"united_states\", \"bill\", \"official\", \"military\", \"police\", \"percent\", \"russian\", \"iran\", \"reuters\", \"people\", \"hillary\", \"senate\", \"attack\", \"eu\", \"house\", \"realdonaldtrump\", \"cruz\", \"sander\", \"bannon\", \"rubio\", \"ivanka\", \"conway\", \"carson\", \"romney\", \"bernie\", \"jeb_bush\", \"rnc\", \"hannity\", \"potus\", \"gop\", \"golf\", \"lewandowski\", \"kasich\", \"mitt_romney\", \"john_kasich\", \"running_mate\", \"maher\", \"ted_cruz\", \"colbert\", \"sean_hannity\", \"kellyanne_conway\", \"presumptive\", \"steve_bannon\", \"jeb\", \"elector\", \"new_hampshire\", \"giuliani\", \"msnbc\", \"edt\", \"reilly\", \"bush\", \"convention\", \"hillary\", \"candidate\", \"trump\", \"endorsement\", \"moore\", \"melania\", \"tweet\", \"clinton\", \"bernie_sanders\", \"donald\", \"cnn\", \"primary\", \"presidential\", \"nominee\", \"campaign\", \"ad\", \"https\", \"race\", \"think\", \"fox_news\", \"voter\", \"obama\", \"win\", \"thing\", \"image\", \"go\", \"poll\", \"get\", \"republican\", \"twitter\", \"president\", \"know\", \"even\", \"supporter\", \"election\", \"make\", \"say\", \"people\", \"white\", \"want\", \"time\", \"come\", \"party\", \"show\", \"take\", \"vote\", \"call\", \"tell\", \"tax\", \"legislation\", \"insurance\", \"repeal\", \"insurer\", \"regulation\", \"income\", \"deduction\", \"health_insurance\", \"gorsuch\", \"consumer\", \"medicaid\", \"mnuchin\", \"legislative\", \"premium\", \"dreamer\", \"mortgage\", \"regulatory\", \"mulvaney\", \"scalia\", \"inc\", \"freedom_caucus\", \"daca\", \"cfpb\", \"overhaul\", \"enact\", \"co\", \"zika\", \"puerto_ricos\", \"automaker\", \"debt\", \"obamacare\", \"budget\", \"provision\", \"revenue\", \"healthcare\", \"funding\", \"fiscal\", \"industry\", \"rate\", \"subsidy\", \"requirement\", \"senate\", \"bill\", \"taxis\", \"fund\", \"company\", \"reform\", \"price\", \"spending\", \"federal\", \"pass\", \"cost\", \"cut\", \"congress\", \"law\", \"plan\", \"percent\", \"representative\", \"proposal\", \"measure\", \"house\", \"lawmaker\", \"court\", \"rule\", \"state\", \"republican\", \"say\", \"republicans\", \"administration\", \"year\", \"business\", \"program\", \"include\", \"vote\", \"washington\", \"reuters\", \"president\", \"government\", \"also\", \"new\", \"make\", \"trump\", \"work\", \"last\", \"antifa\", \"campus\", \"cop\", \"nra\", \"bundy\", \"church\", \"firearm\", \"music\", \"nfl\", \"police_brutality\", \"berkeley\", \"christianity\", \"gay\", \"mass_shooting\", \"statue\", \"nba\", \"beyonc\", \"pastor\", \"starbuck\", \"film\", \"blm\", \"finicum\", \"handgun\", \"baptist_church\", \"paddock\", \"kaepernick\", \"teen\", \"pope\", \"kneel\", \"classmate\", \"gun\", \"girl\", \"bathroom\", \"shooter\", \"jesus\", \"hammond\", \"student\", \"black\", \"shooting\", \"god\", \"dress\", \"victim\", \"protester\", \"flag\", \"wear\", \"sex\", \"culture\", \"rape\", \"school\", \"shoot\", \"life\", \"park\", \"child\", \"religion\", \"police\", \"murder\", \"kid\", \"man\", \"mother\", \"woman\", \"video\", \"protest\", \"parent\", \"death\", \"live\", \"family\", \"officer\", \"people\", \"violence\", \"young\", \"right\", \"see\", \"go\", \"get\", \"use\", \"take\", \"know\", \"make\", \"time\", \"say\", \"come\", \"even\", \"america\", \"tell\", \"also\", \"year\", \"many\", \"call\", \"want\", \"china\", \"north_korea\", \"israel\", \"missile\", \"beijing\", \"chinese\", \"taiwan\", \"south_korea\", \"israeli\", \"pyongyang\", \"hariri\", \"north_korean\", \"tillerson\", \"palestinian\", \"jerusalem\", \"tehran\", \"lebanon\", \"ballistic_missile\", \"xi\", \"palestinians\", \"riyadh\", \"rex_tillerson\", \"gaza\", \"mattis\", \"hamas\", \"bilateral\", \"south_korean\", \"seoul\", \"netanyahu\", \"nuclear\", \"japan\", \"qatar\", \"saudi\", \"iran\", \"sanction\", \"foreign_ministry\", \"iranian\", \"diplomatic\", \"saudi_arabia\", \"nato\", \"diplomat\", \"united_states\", \"trade\", \"foreign\", \"russia\", \"deal\", \"say\", \"visit\", \"agreement\", \"military\", \"international\", \"ally\", \"official\", \"president\", \"country\", \"defense\", \"world\", \"washington\", \"security\", \"reuters\", \"meet\", \"trump\", \"policy\", \"state\", \"also\", \"tell\", \"call\", \"leader\", \"myanmar\", \"iraqi\", \"rohingya\", \"kurdish\", \"bangladesh\", \"baghdad\", \"raqqa\", \"suu_kyi\", \"rakhine\", \"erdogan\", \"sdf\", \"kirkuk\", \"mosul\", \"taliban\", \"jihadist\", \"ethnic_cleansing\", \"afghan\", \"pakistan\", \"krg\", \"nigeria\", \"kurd\", \"somalia\", \"resettle\", \"istanbul\", \"turkey\", \"convoy\", \"al_qaeda\", \"aung_san\", \"abadi\", \"rohingya_muslims\", \"militant\", \"libya\", \"turkish\", \"syrian\", \"islamic\", \"refugee\", \"army\", \"iraq\", \"fighter\", \"islamist\", \"afghanistan\", \"syria\", \"rebel\", \"troop\", \"detain\", \"militia\", \"soldier\", \"military\", \"kill\", \"migrant\", \"force\", \"attack\", \"terrorist\", \"group\", \"say\", \"area\", \"security\", \"government\", \"border\", \"city\", \"state\", \"police\", \"people\", \"country\", \"reuters\", \"last\", \"year\", \"official\", \"tell\", \"also\", \"comey\", \"flynn\", \"fbi_director\", \"probe\", \"james_comey\", \"wikileak\", \"special_counsel\", \"collusion\", \"robert_mueller\", \"hacker\", \"dossier\", \"federal_bureau\", \"manafort\", \"nune\", \"veselnitskaya\", \"subpoena\", \"rosenstein\", \"schiff\", \"kislyak\", \"clapper\", \"russian_meddling\", \"wiretap\", \"nsa\", \"mueller\", \"guccifer\", \"investigation\", \"server\", \"flynns\", \"hacking\", \"classified\", \"fbi\", \"cia\", \"prosecutor\", \"hack\", \"intelligence\", \"email\", \"investigate\", \"testify\", \"information\", \"document\", \"testimony\", \"russian\", \"allegation\", \"spy\", \"leak\", \"russia\", \"lawyer\", \"attorney_general\", \"evidence\", \"committee\", \"department\", \"report\", \"allege\", \"charge\", \"former\", \"official\", \"agency\", \"release\", \"say\", \"campaign\", \"clinton\", \"case\", \"election\", \"house\", \"security\", \"source\", \"president\", \"national\", \"tell\", \"washington\", \"also\", \"government\", \"state\", \"eu\", \"brexit\", \"merkel\", \"catalan\", \"spain\", \"mugabe\", \"catalonia\", \"labour\", \"zimbabwe\", \"puigdemont\", \"afd\", \"maduro\", \"madrid\", \"fdp\", \"parliamentary\", \"tusk\", \"pis\", \"mnangagwa\", \"ireland\", \"barnier\", \"spd\", \"harare\", \"dublin\", \"chancellor_angela\", \"juncker\", \"austria\", \"hun_sen\", \"babi\", \"warsaw\", \"lindner\", \"irish\", \"berlin\", \"parliament\", \"bloc\", \"german\", \"poland\", \"britain\", \"european_union\", \"brussels\", \"germany\", \"euro\", \"spanish\", \"british\", \"london\", \"european\", \"party\", \"referendum\", \"independence\", \"prime_minister\", \"opposition\", \"minister\", \"government\", \"coalition\", \"election\", \"say\", \"leader\", \"vote\", \"political\", \"rule\", \"reuters\", \"europe\", \"percent\", \"talk\", \"year\", \"country\", \"president\", \"want\", \"tell\", \"new\", \"take\", \"also\", \"epa\", \"flint\", \"quot_quot\", \"quot\", \"irma\", \"pruitt\", \"amp_amp\", \"havana\", \"snyder\", \"fossil_fuel\", \"greenhouse_gas\", \"fpl\", \"global_warming\", \"hurricane_irma\", \"epas\", \"carbon_dioxide\", \"dakota_access\", \"emission\", \"sierra_club\", \"zinke\", \"amp_quot\", \"quot_amp\", \"flint_water\", \"renewable_fuel\", \"nasa\", \"cubans\", \"var\", \"quot_var\", \"rock_sioux\", \"carbon\", \"cuba\", \"void_0\", \"var_quot\", \"climate_change\", \"cuban\", \"coal\", \"c\", \"hurricane\", \"environmental\", \"pipeline\", \"water\", \"energy\", \"climate\", \"environmental_protection\", \"tribe\", \"amp\", \"storm\", \"oil\", \"florida\", \"island\"], \"Freq\": [103429.0, 138801.0, 17337.0, 20016.0, 22860.0, 17786.0, 24617.0, 10038.0, 7228.0, 16879.0, 23740.0, 6243.0, 9561.0, 42862.0, 19411.0, 14128.0, 12904.0, 15619.0, 8765.0, 10827.0, 13244.0, 6959.0, 6203.0, 18255.0, 34814.0, 10866.0, 11222.0, 12110.0, 4224.0, 23048.0, 3180.941964164622, 3463.086465346317, 2075.757827601194, 1243.2579311624397, 1319.4159004827186, 752.9773032717243, 716.8899640844131, 869.6544789493347, 442.85079301872577, 478.37712349628885, 432.00733494996996, 628.8051962706102, 441.74575172333607, 451.68626128804607, 3362.979854719559, 608.6643160828629, 498.10969768287583, 367.92463653550476, 370.0832688342919, 408.8017973802637, 336.8355023025199, 323.68999390268027, 1166.9837111023257, 240.77821919480354, 477.59484831457195, 330.8761410658608, 662.8668278590543, 351.7795458961138, 209.62696278598284, 387.9803614081553, 690.0131885946947, 519.6899773903214, 849.7797228559928, 571.6203256040822, 735.254834032722, 1394.4846509145418, 1982.571542207233, 9868.552993819852, 9250.827767638315, 86744.20120097326, 842.6177762839735, 1772.488874872929, 743.5389628409762, 4450.7419829589935, 16076.537644036871, 862.5004985196955, 18348.566716008474, 2933.470509733765, 2082.2157869424723, 8722.67582417847, 3801.201412523436, 12931.262022169505, 1322.981216178533, 2486.4558690319213, 3081.682951087097, 8985.710154118566, 1967.9889966609526, 5048.673817577292, 9829.169264915694, 4390.789564551825, 6137.1468553505, 4388.559044685422, 15755.810423302055, 3527.6109000904817, 12667.339879395886, 13490.434673446236, 3904.2364869669104, 19621.54967566442, 8927.047701387828, 7952.760139833588, 4342.518917086353, 8936.85144052871, 12913.430169554787, 28600.39642126402, 12171.375106753012, 7572.062480728151, 7541.151650737196, 7726.487414359632, 7353.542734651896, 7231.201247169709, 6225.584880374672, 8241.050547330917, 6746.493677549134, 6946.421655966532, 6552.107936671705, 9555.148356248115, 4248.76147246418, 1419.8346006223728, 1397.0139292146234, 842.7128307994392, 2317.749169089893, 1712.2824893393358, 572.1478988682017, 902.9715038466721, 574.8124162339293, 1019.0379931544451, 540.9677041254522, 526.118730789578, 1132.6583618876975, 358.99406526862435, 375.51317390839927, 358.87052068572876, 402.16595104494115, 328.690876865342, 627.4363831487742, 841.9860529512307, 318.0185807667, 302.09048722272775, 270.9472578225672, 992.8880498824848, 637.2284211054964, 331.53448246909716, 268.66929847342016, 235.30343818643513, 237.72916326468888, 1794.8568480016427, 2510.5234785113134, 3648.9596238689574, 953.9347082999805, 1208.7392536166883, 2525.6390040070714, 2385.8685007193612, 1073.1681662730682, 2370.822219487599, 2959.41032296547, 687.0022309910562, 893.8323130529808, 9575.464852843437, 10678.897831468781, 1968.4996558980545, 4454.366437951999, 6731.062748769839, 3273.445684830569, 1999.2138864775623, 1940.3908842132557, 7043.508935647988, 4249.637928866467, 2875.8772564270685, 4375.339987048232, 6580.009256100782, 8890.545736067792, 8078.56301229513, 8856.418643172785, 3801.252244555041, 2581.439934097711, 3050.8726228613623, 11969.257422292863, 3698.225196159389, 5809.188995471083, 5794.021058571086, 13244.900502910401, 11098.128620118083, 37066.47441025229, 5644.8061732653605, 6006.625050632388, 10420.746033733123, 4437.997629534419, 4121.303823522879, 6741.445562719243, 6876.33491924275, 6144.331998340029, 6758.0611255582435, 9553.102398657791, 7144.735633179755, 6527.6055031608685, 5391.718005796258, 6451.344232036994, 8454.436179863307, 5100.762024916406, 4704.669149696503, 844.1972164078218, 844.4130290129518, 824.1038767367431, 673.1296253975408, 470.4630409188113, 1705.9479343581063, 626.0399677295793, 429.5357844222735, 332.74100499872566, 279.568472825709, 260.5402650825689, 277.3411490219143, 1231.373866307561, 272.76339031368525, 336.0081658373272, 254.9968225824983, 204.72476485472995, 532.2720576106657, 219.74535401429694, 745.9258202330533, 227.25598692073916, 214.90680515689553, 191.26069724254708, 207.44282152622102, 202.3209937476261, 146.9555774345161, 216.9306155246832, 548.9699509347817, 150.40058863698204, 179.1256165489718, 5515.0143040477005, 1559.853865956897, 579.2103041480638, 503.649224251179, 436.2486231658743, 408.4307286321985, 4005.5023304212464, 5484.920585588623, 988.4093925237946, 1393.8704887613878, 461.29180126350667, 2189.5370943601706, 2523.4987819435755, 1666.9278053352325, 1240.9896671924303, 641.4029036646396, 840.1796470401684, 953.0794918754735, 4230.187850699971, 2240.770895369285, 4316.937990247932, 922.9225660359193, 4265.365225729912, 1003.7276295367668, 7233.857021660765, 1553.3304503390457, 1362.0400798583714, 6207.441126783636, 1275.4712037932145, 7027.646843561687, 3927.9833342487527, 3212.254481810392, 1497.4521009589564, 2327.640125901117, 3132.1985929413704, 3777.965313456516, 2704.9147903658422, 12082.299983476192, 2724.8880041715056, 2401.8855529300613, 5720.659596036116, 5257.801023917623, 6635.595503556768, 5751.073650136302, 4745.4910352344505, 5607.062081827384, 4456.963194848071, 5763.5546399860705, 4694.503536032888, 10478.552651697875, 4279.455217562304, 3838.289036313432, 3286.8528830522273, 4045.6933085021265, 4079.175706774992, 4128.1778255368845, 3497.7063358219175, 3577.669562989585, 3369.964379090307, 7222.092539207545, 3652.498954497495, 3133.4553844675515, 2012.4327773024802, 1506.4472886333574, 2061.8119508825953, 1291.6202974293656, 1206.9170283608123, 1339.0753661046037, 1045.0793193735362, 975.5791656545719, 969.2232768742186, 958.4164933448558, 1041.6407469834332, 799.528506142082, 945.3809388108084, 952.0005022520861, 615.4716831419472, 637.3195661283432, 604.9334673957179, 727.1065583644311, 682.1055751231444, 601.4340541087139, 591.9336880476327, 642.5739484733004, 446.05489714512004, 564.1488321681193, 401.51857586757046, 407.26577870973193, 4518.017676242635, 1231.4129213698404, 749.0259917227517, 1489.2945872141806, 5764.910035882284, 4194.128068767612, 1154.9987859695116, 1223.8646802625124, 1667.0134321077087, 1285.4305901579983, 1327.8089983798338, 1526.9342373842182, 7253.3383558193445, 3238.377219149953, 3773.2560405250565, 4566.036007910276, 4288.624044868471, 22898.015700811728, 2468.160269178133, 2407.0339093739153, 3698.0463517726344, 2632.581177399537, 2222.9913964481652, 4681.086051627013, 7838.809845082404, 5157.033216993242, 2253.4461890771913, 3329.45834988727, 4053.771166277994, 3404.5240146652372, 3746.6308084475536, 2583.2972812179073, 6040.176041704715, 2700.961360070996, 3523.955341543332, 3281.4595907084654, 3233.377740775168, 2879.9458618015738, 2611.015433686175, 3355.255750925931, 1903.6370653951453, 1710.5825628571524, 1669.6733751021022, 1203.1289956636588, 928.4094605238871, 709.9399243051439, 695.9525810103188, 700.7693433411641, 703.6185757792865, 531.1061930109626, 508.7827180551729, 506.6032006050974, 536.2569498504793, 618.0199408784346, 499.93650451882684, 484.5485168202735, 652.0421219755781, 423.2676584912979, 416.8401052347893, 559.0710607450524, 382.29879050479457, 332.0124039150463, 327.0228143843763, 2407.869817835403, 304.19462723983975, 505.21989261821795, 255.72400018557806, 239.17207537662057, 261.58351730595615, 2483.847508483251, 1082.238402196201, 1175.263697261736, 2953.0907691340485, 3511.8195507110504, 3844.777556442448, 2456.596809071562, 2854.76260167762, 905.3649133628811, 780.8434912127318, 1035.024895492906, 3494.9553594468393, 832.7947491435347, 1488.5431055441156, 1026.084904214977, 956.9340030249193, 1343.3085774598903, 4328.457756579004, 3718.198700503351, 1279.1533258754187, 4542.310282809709, 4802.728117857104, 2191.7919400437063, 4741.0166106600345, 18020.65975418508, 1942.8637001981515, 3656.790657310945, 5250.8570035626035, 2295.7243727308473, 2725.7057120664685, 5100.514369292702, 3103.591118771389, 4676.203572462826, 3499.2053897083083, 3241.1953221478625, 2783.948094858357, 3044.6779854090314, 2389.454093973032, 2052.9760285232333, 1974.3573725688757, 3115.9313094728327, 1356.548649701757, 989.168971337679, 1380.7362429461482, 862.4802541316589, 809.411096221522, 533.9976726715153, 672.7883608229586, 431.427907313436, 444.09841389868353, 416.45197419354764, 403.72294862145446, 596.7499276093199, 311.97992158749156, 305.76382624491026, 300.98035744354286, 307.9253808709647, 303.52413807604063, 253.16755675327815, 245.98964150940853, 339.66150324295256, 242.99804929578477, 255.36774842580417, 615.5336056402457, 220.17048772674596, 6087.532489885372, 336.20926499677967, 215.90668051581054, 258.9693972575167, 237.30260868570977, 4084.6497284010147, 1291.2819500204216, 1792.288512517851, 1386.7445997052046, 4573.555847863905, 3826.0969542437106, 2259.6339759186926, 986.0115434965157, 3668.476445152654, 2437.8400283458213, 811.1309891077574, 4815.350189866625, 2024.6388373484308, 760.7383490881397, 1025.781001119498, 5460.358075002176, 2130.975781583585, 1606.0509965305607, 1875.107699640028, 3571.8590004219714, 3830.5856508378406, 5628.051183802928, 1399.7462045789496, 2759.6234081408443, 4801.899073610896, 4897.761424782855, 3119.4060844045403, 2402.1717127213187, 11341.653153805908, 4085.39626565879, 3934.935241386568, 2647.491556297086, 3238.6405827822596, 3476.0770173624956, 2756.147105298253, 2289.5935581084323, 3121.4736534123613, 2266.876120716336, 2470.288271782929, 2340.5923203756133, 2351.129710576129, 2328.522129976571, 2322.731347727353, 4218.796671484893, 1846.7057597026226, 1567.8136711017162, 900.5460627967992, 905.4683276444414, 1099.43523913951, 742.428099060031, 920.9944074059099, 853.8939892422002, 550.9338324233382, 498.0061433812154, 524.2364074471761, 462.3603142356797, 451.51128744062646, 701.9551388283675, 409.13767483539044, 336.6747527569173, 368.10325287301254, 573.816030638475, 305.6988965792851, 299.43577520678195, 293.9477946797396, 263.2639140709833, 257.5873913987005, 250.27300923877982, 230.4229245039087, 209.241576939639, 213.7093981012974, 281.2306597059533, 234.3511486361388, 495.4188501435784, 898.6804534410703, 2540.7239822162182, 945.6342301255255, 1432.642577499263, 940.9934993363489, 3171.780789393522, 1189.0306569442876, 1084.3942285197725, 2035.7746806306604, 492.4948405061345, 502.7173171807942, 1797.0787778658168, 1471.675501731116, 1669.1467745063383, 7961.640383524193, 1021.8796265349341, 1173.7214393221063, 2010.0767848561516, 2022.6568117915326, 2105.119398826797, 5653.355251270468, 1503.521454028366, 4226.405944507194, 10395.539682313705, 2906.6799429355715, 3248.870668986756, 2651.449447343948, 2163.3955210303384, 2596.6533526441635, 1214.5298367941818, 2118.6101872513987, 1839.6126721180322, 2470.553224529858, 1856.898458736483, 1951.2384274766803, 1669.0457506620282, 1724.4215722987722, 1596.2307622710086, 1590.14220153408, 1538.7755629201108, 304.62619633926283, 219.5205731999251, 704.587595328662, 697.9029200619282, 110.36678490148775, 113.6092467367431, 561.4784387334244, 149.51382946692206, 112.72194501978939, 101.21099609501952, 80.47485566951622, 76.42427298177016, 115.89865452507807, 61.930627409076735, 58.609762843440826, 51.85989023943144, 58.23291136299747, 188.68543102854647, 43.16874188615663, 40.63326635897056, 92.75296469753981, 96.74489552882152, 30.38785525253857, 31.03249642803895, 48.371148967081965, 78.8685981114015, 214.08983812075618, 69.54699236490853, 32.625039372950575, 84.06245429978112, 427.7630998718453, 80.6805348165439, 56.73718317403486, 429.3823511248221, 278.1702783524068, 238.05577281637858, 197.19460185565046, 140.12069832215957, 271.98511939401004, 210.66655165651835, 431.62328573708, 378.7776369329689, 188.95832722851955, 119.16812219025361, 110.36109765679693, 98.76884516355973, 139.87394971598633, 161.00386031665207, 153.87703324386487, 108.63708438139678], \"Total\": [103429.0, 138801.0, 17337.0, 20016.0, 22860.0, 17786.0, 24617.0, 10038.0, 7228.0, 16879.0, 23740.0, 6243.0, 9561.0, 42862.0, 19411.0, 14128.0, 12904.0, 15619.0, 8765.0, 10827.0, 13244.0, 6959.0, 6203.0, 18255.0, 34814.0, 10866.0, 11222.0, 12110.0, 4224.0, 23048.0, 3186.617805566991, 3470.3139141914544, 2083.771049028025, 1249.5801639641327, 1327.7530300259873, 759.6655772729667, 723.6978158216197, 879.3222963314295, 448.2530886863263, 484.3772395261032, 437.4889368513409, 637.0088540671744, 447.5655324043389, 457.7259941218428, 3408.043897105116, 617.5621803698706, 505.4314545366809, 373.9835195731082, 376.26315317194207, 415.86413829314597, 342.80061315999717, 329.95077598305113, 1195.125299472395, 246.61140423514516, 489.2206147639402, 338.95728500753177, 679.2035446437354, 360.6254343851718, 214.9610604242265, 397.95525742568464, 709.2002168934304, 533.3060039621155, 876.7142762459423, 587.6947505814298, 757.9559712921667, 1450.189746127962, 2084.78379611681, 10866.904518976113, 10245.026569131853, 103429.10996760243, 876.1766934397933, 1889.2441055734553, 771.8473255333149, 5008.8840350018345, 20016.957822216093, 909.8005714652512, 23740.06277503279, 3420.4699458697987, 2373.673736839257, 11760.72547767512, 4801.215263815795, 19411.258530659874, 1483.6618399977453, 3046.4231240275517, 3902.424426588579, 13364.29469752018, 2337.225557891265, 6921.9386315350675, 15157.716178736153, 5940.978340287047, 8845.302848520278, 5983.034136594789, 27441.426628853194, 4628.445190358546, 22077.681970277376, 24617.62426279237, 5300.016095988303, 42862.71209314845, 16588.24946896264, 14283.559198246327, 6342.754675247589, 17786.064664485177, 30152.838813715454, 138801.67994755466, 34814.11721349588, 16666.107846284085, 16548.66761537878, 19259.134894610677, 17662.13813771394, 17337.187867044548, 12841.903295854376, 24849.223859308746, 16879.64551084012, 19823.819558300787, 23455.261772292222, 9561.87382799856, 4255.661727728645, 1426.181918068084, 1405.3333831620748, 848.0098739006417, 2332.331774923079, 1727.1187602827247, 577.3479914708913, 911.2171374800154, 580.3533101886167, 1029.7234585590315, 546.9899619874933, 532.6201430487645, 1149.0399454545066, 364.5625361826196, 381.4888447148233, 364.6813687229018, 408.7568962198992, 334.10420945874625, 637.8775079399483, 856.9242465615413, 324.0813358495103, 307.86833078523046, 276.20828513774006, 1012.5631389715917, 650.2907287682583, 338.46162318305284, 274.2844747092213, 240.54648347322754, 243.06654901707543, 1840.5895135826697, 2583.9626959904003, 3785.6165782558837, 976.6784944308264, 1242.1462923409997, 2630.6084438054377, 2489.756866440101, 1109.6110982499233, 2512.122127536116, 3175.6266186740404, 709.556210440975, 934.9721208674221, 11222.567236077079, 12904.262480462237, 2152.8518960261135, 5194.738205029521, 8102.409101793426, 3739.034510818252, 2213.343651174479, 2145.9931292396363, 8754.662911854371, 5258.915200663852, 3388.522713883308, 5481.007269025186, 8792.769840966166, 13017.905632684964, 11720.631999909363, 13244.891763255755, 4865.998089787886, 3083.740956673428, 3824.0888919732975, 23048.22321324401, 4965.902477378406, 9111.815967493816, 9300.3653685972, 30382.385034155624, 24617.62426279237, 138801.67994755466, 9635.302119582007, 10926.4445605692, 26617.94232352342, 7098.189913331369, 6355.479653981735, 16132.416706290975, 16879.64551084012, 14533.149785464693, 18255.040525993194, 42862.71209314845, 22860.37519358718, 25150.550839524614, 14983.118606695109, 30152.838813715454, 103429.10996760243, 14828.312193276572, 17719.276379207135, 850.0589184846493, 850.430473915653, 830.6745444336651, 679.5478748622364, 476.25680021223866, 1738.335250242217, 638.1134308178587, 437.9064299266809, 339.37631211302903, 285.6889321532095, 266.5393263806767, 283.9661156817682, 1261.4130935554751, 279.58807418890206, 344.4543360016309, 261.52811516893695, 210.20364811699332, 546.7132775307107, 225.75274070493302, 766.5916878886152, 233.6376460437489, 220.98119787074012, 196.931002813158, 213.84129473659786, 208.9505001500418, 152.21538446602258, 224.81137668892936, 569.591216918971, 156.0642694248009, 185.89346429682408, 5767.559354884892, 1618.9401900375922, 601.7480810108751, 524.3479944152753, 454.42318724495215, 425.085643016347, 4440.041769789325, 6165.504766595806, 1056.4366596121283, 1511.4401610435343, 487.2550629823461, 2484.827457436977, 2886.5704513720184, 1890.5420568038073, 1386.1825792893671, 691.1988584353059, 928.1510750486544, 1064.4597009542085, 5402.454057334301, 2730.7772826903933, 5638.82333348833, 1035.2108706907486, 5727.4911543389835, 1137.5686305526542, 10827.333040146548, 1882.6470004703124, 1628.0659634091808, 9590.330408853917, 1509.528085501026, 11428.539719709901, 6328.057935194299, 4938.105271528377, 1901.1498904914226, 3387.754015689989, 5100.166056015486, 6637.0457662880135, 4229.198911140068, 34814.11721349588, 4377.017566076518, 3750.7144567595806, 13806.22090028012, 15828.603536458675, 27441.426628853194, 22077.681970277376, 15595.452394786658, 24849.223859308746, 16588.24946896264, 30152.838813715454, 19259.134894610677, 138801.67994755466, 17662.13813771394, 14283.559198246327, 9212.916574653113, 23455.261772292222, 25150.550839524614, 26617.94232352342, 13518.735351679199, 19823.819558300787, 16548.66761537878, 7228.981910887996, 3658.1327269165035, 3140.011281736086, 2018.7323854112003, 1512.3446085948385, 2070.1692754993137, 1297.0432975575752, 1212.6185464980645, 1345.6957812398314, 1050.3708554746077, 981.0105426750806, 974.7080733050576, 963.8940452806021, 1048.5066803263244, 805.2091293339009, 952.6398377111734, 959.5667897451862, 620.8300243843895, 642.8712626174482, 610.724430350994, 734.3334921720045, 689.572010289941, 608.107964078724, 599.1443511474035, 651.1482498362675, 452.05172280272177, 572.2848056322432, 407.36201292718675, 413.2046264798437, 4585.461774191535, 1259.8489926803866, 763.1991733314012, 1534.294587614854, 6203.711868512457, 4484.263515732387, 1188.965954821962, 1276.053158959116, 1769.2034060288108, 1377.5530224433567, 1438.469787755939, 1753.5785097545056, 14128.974591262942, 5488.512160013515, 7462.876058491539, 10038.415976750819, 9555.70697412803, 138801.67994755466, 4286.691029359768, 4198.010480949361, 8765.209172059705, 5004.2761724404345, 3784.6789011454975, 15619.85353469585, 42862.71209314845, 19567.153689102946, 4132.37261381168, 9548.472130431945, 14533.149785464693, 11842.056774305973, 18255.040525993194, 7570.119293621494, 103429.10996760243, 9712.034997798564, 30382.385034155624, 25150.550839524614, 23455.261772292222, 19823.819558300787, 11253.287149891661, 3360.8615592815154, 1909.3131149346189, 1716.090353234203, 1675.228091087479, 1208.996266325505, 934.1150869827699, 715.4196944852189, 701.5051098779892, 706.3632663008893, 710.4155996708571, 536.5951580322062, 514.2856407890272, 512.1189496080839, 542.2672289778127, 625.0042981786085, 505.59665451480987, 490.5392091914775, 660.2867164348271, 428.8347223316759, 423.38822988914205, 567.9057399087866, 388.45946090582856, 338.1425460111112, 333.0719855966259, 2452.9418004822146, 310.03724324951867, 515.7270804778296, 261.31817541414387, 244.71042257429863, 267.84702475392737, 2562.706009444161, 1110.4912892575076, 1209.8719908768471, 3184.417391880181, 3845.5758765915207, 4300.086085652795, 2729.657379255944, 3213.170146388926, 991.3429510180919, 842.9755130564708, 1195.816644041304, 5006.163297709878, 941.4509270772054, 1955.8877510480456, 1232.289017089782, 1138.09362727815, 1759.4814658457294, 8765.209172059705, 7128.414178386866, 1686.7093726226396, 10171.700352290687, 12110.116001794453, 3909.407418890377, 15058.290246716764, 138801.67994755466, 3796.2963733494903, 11842.056774305973, 22860.37519358718, 5294.6036599991885, 8032.482854253306, 30382.385034155624, 10827.333040146548, 34814.11721349588, 19567.153689102946, 18255.040525993194, 17719.276379207135, 26617.94232352342, 15619.85353469585, 23455.261772292222, 25150.550839524614, 3121.664333656087, 1362.3737697043894, 995.4578688303499, 1389.5804625465546, 869.0758678200824, 815.7837311068629, 539.3662628153252, 680.4032390896504, 436.9016913657676, 449.835785674857, 422.2387230700207, 409.54859872994547, 606.1894005746025, 317.30104562089315, 311.1719248299682, 306.4258293266457, 313.60989149988313, 309.30548758538424, 258.54579819816405, 251.4296187450858, 347.2556615343783, 248.55433339094924, 261.270931712535, 630.5203248188451, 225.56768055469874, 6243.759551664092, 345.1909626783893, 221.96729416433567, 266.66302225125685, 244.67785537819015, 4246.137990791472, 1332.0221403494004, 1917.1169067432181, 1515.952520117147, 5263.623158690595, 4533.868372506105, 2632.944854414719, 1110.4925651135216, 4827.992634219253, 3120.3498241397097, 928.519226357871, 6959.346640600548, 2663.666238243057, 876.708215500455, 1297.345874771566, 10038.415976750819, 3166.9603469496155, 2436.4061850168796, 2990.3965915414174, 7495.166254610276, 8287.359138234257, 14295.515176225925, 2080.285300777244, 5714.451078365882, 13821.151845583647, 15619.85353469585, 7721.535741530928, 6389.764435844955, 138801.67994755466, 19411.258530659874, 20016.957822216093, 8560.102192030745, 17786.064664485177, 23048.22321324401, 11842.056774305973, 6734.522524600442, 42862.71209314845, 10972.312543204369, 23455.261772292222, 14533.149785464693, 25150.550839524614, 22860.37519358718, 30382.385034155624, 4224.818856716185, 1852.420627206921, 1573.4602500631477, 905.919430067694, 911.0100450777147, 1107.0112858535595, 747.8264728575733, 928.285604049712, 861.4425786806396, 556.2611526762552, 503.43900250392767, 530.0616601754584, 467.7388816250399, 456.93930484574946, 711.4306379357117, 414.89346968744553, 342.27870705574725, 374.2401222014345, 583.5314691594115, 311.0755203378513, 304.7668435018089, 299.9869606660302, 268.8845026715506, 263.1099285873484, 255.72241241287244, 236.25579143182787, 214.7388088798138, 219.42414532055471, 288.82947582050826, 240.81331718710004, 510.06722008616197, 930.8582979642769, 2681.18036050083, 1008.3773800189296, 1547.5630889691831, 1009.0621898985587, 3583.26751976819, 1330.2922634972622, 1215.8793794350463, 2436.782363853411, 525.9200250513567, 539.0972473118892, 2452.4467141715345, 1966.3925801783673, 2322.3708176095156, 17337.187867044548, 1314.96297135292, 1607.849717363201, 3437.488077799787, 3627.9063623884954, 4466.665919742262, 22860.37519358718, 2839.049034702937, 17786.064664485177, 138801.67994755466, 11253.287149891661, 16879.64551084012, 11150.505329166086, 9300.3653685972, 18255.040525993194, 2109.9650032412833, 13244.891763255755, 9547.783188087065, 26617.94232352342, 19567.153689102946, 42862.71209314845, 16548.66761537878, 23455.261772292222, 14983.118606695109, 24849.223859308746, 25150.550839524614, 311.59379252296253, 226.0758222082153, 733.2043815445421, 729.2025187572411, 116.90108612583154, 120.52897346595572, 598.2167394416615, 160.9581248208426, 121.84079637621682, 109.41087899392423, 88.07812714082368, 84.18998507250004, 127.82385486332653, 68.4451207390122, 65.7238203005405, 58.26849467958456, 65.67076362712416, 216.35526041164331, 50.0715860825593, 47.2841513111088, 108.79262057333241, 113.85562860644143, 36.422440035506625, 37.26311886520607, 58.45912648740705, 95.54422864484035, 259.3893586261461, 84.85537686142027, 39.96889712576818, 103.02342162241163, 548.537147468332, 100.4466243979366, 70.01382251924991, 775.3083112881232, 465.5827429594566, 409.10147944735763, 330.0631517121486, 225.82944493925388, 663.8464307356844, 526.0816624039128, 1847.730343562043, 1739.2923043200053, 600.5356021695195, 232.56377158406406, 206.84782589649024, 163.6347965740324, 623.8950107413563, 1972.1565564652951, 2705.7706542183655, 1757.2832483803284], \"Category\": [\"Default\", \"Default\", \"Default\", \"Default\", \"Default\", \"Default\", \"Default\", \"Default\", \"Default\", \"Default\", \"Default\", \"Default\", \"Default\", \"Default\", \"Default\", \"Default\", \"Default\", \"Default\", \"Default\", \"Default\", \"Default\", \"Default\", \"Default\", \"Default\", \"Default\", \"Default\", \"Default\", \"Default\", \"Default\", \"Default\", \"Topic1\", \"Topic1\", \"Topic1\", \"Topic1\", \"Topic1\", \"Topic1\", \"Topic1\", \"Topic1\", \"Topic1\", \"Topic1\", \"Topic1\", \"Topic1\", \"Topic1\", \"Topic1\", \"Topic1\", \"Topic1\", \"Topic1\", \"Topic1\", \"Topic1\", \"Topic1\", \"Topic1\", \"Topic1\", \"Topic1\", \"Topic1\", \"Topic1\", \"Topic1\", \"Topic1\", \"Topic1\", \"Topic1\", \"Topic1\", \"Topic1\", \"Topic1\", \"Topic1\", \"Topic1\", \"Topic1\", \"Topic1\", \"Topic1\", \"Topic1\", \"Topic1\", \"Topic1\", \"Topic1\", \"Topic1\", \"Topic1\", \"Topic1\", \"Topic1\", \"Topic1\", \"Topic1\", \"Topic1\", \"Topic1\", \"Topic1\", \"Topic1\", \"Topic1\", \"Topic1\", \"Topic1\", \"Topic1\", \"Topic1\", \"Topic1\", \"Topic1\", \"Topic1\", \"Topic1\", \"Topic1\", \"Topic1\", \"Topic1\", \"Topic1\", \"Topic1\", \"Topic1\", \"Topic1\", \"Topic1\", \"Topic1\", \"Topic1\", \"Topic1\", \"Topic1\", \"Topic1\", \"Topic1\", \"Topic1\", \"Topic1\", \"Topic1\", \"Topic1\", \"Topic1\", \"Topic1\", \"Topic1\", \"Topic1\", \"Topic1\", \"Topic1\", \"Topic1\", \"Topic2\", \"Topic2\", \"Topic2\", \"Topic2\", \"Topic2\", \"Topic2\", \"Topic2\", \"Topic2\", \"Topic2\", \"Topic2\", \"Topic2\", \"Topic2\", \"Topic2\", \"Topic2\", \"Topic2\", \"Topic2\", \"Topic2\", \"Topic2\", \"Topic2\", \"Topic2\", \"Topic2\", \"Topic2\", \"Topic2\", \"Topic2\", \"Topic2\", \"Topic2\", \"Topic2\", \"Topic2\", \"Topic2\", \"Topic2\", \"Topic2\", \"Topic2\", \"Topic2\", \"Topic2\", \"Topic2\", \"Topic2\", \"Topic2\", \"Topic2\", \"Topic2\", \"Topic2\", \"Topic2\", \"Topic2\", \"Topic2\", \"Topic2\", \"Topic2\", \"Topic2\", \"Topic2\", \"Topic2\", \"Topic2\", \"Topic2\", \"Topic2\", \"Topic2\", \"Topic2\", \"Topic2\", \"Topic2\", \"Topic2\", \"Topic2\", \"Topic2\", \"Topic2\", \"Topic2\", \"Topic2\", \"Topic2\", \"Topic2\", \"Topic2\", \"Topic2\", \"Topic2\", \"Topic2\", \"Topic2\", \"Topic2\", \"Topic2\", \"Topic2\", \"Topic2\", \"Topic2\", \"Topic2\", \"Topic2\", \"Topic2\", \"Topic2\", \"Topic2\", \"Topic2\", \"Topic2\", \"Topic2\", \"Topic2\", \"Topic2\", \"Topic2\", \"Topic2\", \"Topic3\", \"Topic3\", \"Topic3\", \"Topic3\", \"Topic3\", \"Topic3\", \"Topic3\", \"Topic3\", \"Topic3\", \"Topic3\", \"Topic3\", \"Topic3\", \"Topic3\", \"Topic3\", \"Topic3\", \"Topic3\", \"Topic3\", \"Topic3\", \"Topic3\", \"Topic3\", \"Topic3\", \"Topic3\", \"Topic3\", \"Topic3\", \"Topic3\", \"Topic3\", \"Topic3\", \"Topic3\", \"Topic3\", \"Topic3\", \"Topic3\", \"Topic3\", \"Topic3\", \"Topic3\", \"Topic3\", \"Topic3\", \"Topic3\", \"Topic3\", \"Topic3\", \"Topic3\", \"Topic3\", \"Topic3\", \"Topic3\", \"Topic3\", \"Topic3\", \"Topic3\", \"Topic3\", \"Topic3\", \"Topic3\", \"Topic3\", \"Topic3\", \"Topic3\", \"Topic3\", \"Topic3\", \"Topic3\", \"Topic3\", \"Topic3\", \"Topic3\", \"Topic3\", \"Topic3\", \"Topic3\", \"Topic3\", \"Topic3\", \"Topic3\", \"Topic3\", \"Topic3\", \"Topic3\", \"Topic3\", \"Topic3\", \"Topic3\", \"Topic3\", \"Topic3\", \"Topic3\", \"Topic3\", \"Topic3\", \"Topic3\", \"Topic3\", \"Topic3\", \"Topic3\", \"Topic3\", \"Topic3\", \"Topic3\", \"Topic3\", \"Topic3\", \"Topic3\", \"Topic3\", \"Topic3\", \"Topic3\", \"Topic3\", \"Topic4\", \"Topic4\", \"Topic4\", \"Topic4\", \"Topic4\", \"Topic4\", \"Topic4\", \"Topic4\", \"Topic4\", \"Topic4\", \"Topic4\", \"Topic4\", \"Topic4\", \"Topic4\", \"Topic4\", \"Topic4\", \"Topic4\", \"Topic4\", \"Topic4\", \"Topic4\", \"Topic4\", \"Topic4\", \"Topic4\", \"Topic4\", \"Topic4\", \"Topic4\", \"Topic4\", \"Topic4\", \"Topic4\", \"Topic4\", \"Topic4\", \"Topic4\", \"Topic4\", \"Topic4\", \"Topic4\", \"Topic4\", \"Topic4\", \"Topic4\", \"Topic4\", \"Topic4\", \"Topic4\", \"Topic4\", \"Topic4\", \"Topic4\", \"Topic4\", \"Topic4\", \"Topic4\", \"Topic4\", \"Topic4\", \"Topic4\", \"Topic4\", \"Topic4\", \"Topic4\", \"Topic4\", \"Topic4\", \"Topic4\", \"Topic4\", \"Topic4\", \"Topic4\", \"Topic4\", \"Topic4\", \"Topic4\", \"Topic4\", \"Topic4\", \"Topic4\", \"Topic4\", \"Topic4\", \"Topic4\", \"Topic5\", \"Topic5\", \"Topic5\", \"Topic5\", \"Topic5\", \"Topic5\", \"Topic5\", \"Topic5\", \"Topic5\", \"Topic5\", \"Topic5\", \"Topic5\", \"Topic5\", \"Topic5\", \"Topic5\", \"Topic5\", \"Topic5\", \"Topic5\", \"Topic5\", \"Topic5\", \"Topic5\", \"Topic5\", \"Topic5\", \"Topic5\", \"Topic5\", \"Topic5\", \"Topic5\", \"Topic5\", \"Topic5\", \"Topic5\", \"Topic5\", \"Topic5\", \"Topic5\", \"Topic5\", \"Topic5\", \"Topic5\", \"Topic5\", \"Topic5\", \"Topic5\", \"Topic5\", \"Topic5\", \"Topic5\", \"Topic5\", \"Topic5\", \"Topic5\", \"Topic5\", \"Topic5\", \"Topic5\", \"Topic5\", \"Topic5\", \"Topic5\", \"Topic5\", \"Topic5\", \"Topic5\", \"Topic5\", \"Topic5\", \"Topic5\", \"Topic5\", \"Topic5\", \"Topic5\", \"Topic5\", \"Topic5\", \"Topic5\", \"Topic5\", \"Topic5\", \"Topic5\", \"Topic5\", \"Topic5\", \"Topic5\", \"Topic5\", \"Topic6\", \"Topic6\", \"Topic6\", \"Topic6\", \"Topic6\", \"Topic6\", \"Topic6\", \"Topic6\", \"Topic6\", \"Topic6\", \"Topic6\", \"Topic6\", \"Topic6\", \"Topic6\", \"Topic6\", \"Topic6\", \"Topic6\", \"Topic6\", \"Topic6\", \"Topic6\", \"Topic6\", \"Topic6\", \"Topic6\", \"Topic6\", \"Topic6\", \"Topic6\", \"Topic6\", \"Topic6\", \"Topic6\", \"Topic6\", \"Topic6\", \"Topic6\", \"Topic6\", \"Topic6\", \"Topic6\", \"Topic6\", \"Topic6\", \"Topic6\", \"Topic6\", \"Topic6\", \"Topic6\", \"Topic6\", \"Topic6\", \"Topic6\", \"Topic6\", \"Topic6\", \"Topic6\", \"Topic6\", \"Topic6\", \"Topic6\", \"Topic6\", \"Topic6\", \"Topic6\", \"Topic6\", \"Topic6\", \"Topic6\", \"Topic6\", \"Topic6\", \"Topic6\", \"Topic6\", \"Topic6\", \"Topic6\", \"Topic6\", \"Topic6\", \"Topic6\", \"Topic6\", \"Topic6\", \"Topic6\", \"Topic6\", \"Topic6\", \"Topic6\", \"Topic6\", \"Topic6\", \"Topic7\", \"Topic7\", \"Topic7\", \"Topic7\", \"Topic7\", \"Topic7\", \"Topic7\", \"Topic7\", \"Topic7\", \"Topic7\", \"Topic7\", \"Topic7\", \"Topic7\", \"Topic7\", \"Topic7\", \"Topic7\", \"Topic7\", \"Topic7\", \"Topic7\", \"Topic7\", \"Topic7\", \"Topic7\", \"Topic7\", \"Topic7\", \"Topic7\", \"Topic7\", \"Topic7\", \"Topic7\", \"Topic7\", \"Topic7\", \"Topic7\", \"Topic7\", \"Topic7\", \"Topic7\", \"Topic7\", \"Topic7\", \"Topic7\", \"Topic7\", \"Topic7\", \"Topic7\", \"Topic7\", \"Topic7\", \"Topic7\", \"Topic7\", \"Topic7\", \"Topic7\", \"Topic7\", \"Topic7\", \"Topic7\", \"Topic7\", \"Topic7\", \"Topic7\", \"Topic7\", \"Topic7\", \"Topic7\", \"Topic7\", \"Topic7\", \"Topic7\", \"Topic7\", \"Topic7\", \"Topic7\", \"Topic7\", \"Topic7\", \"Topic7\", \"Topic7\", \"Topic7\", \"Topic7\", \"Topic7\", \"Topic7\", \"Topic7\", \"Topic7\", \"Topic8\", \"Topic8\", \"Topic8\", \"Topic8\", \"Topic8\", \"Topic8\", \"Topic8\", \"Topic8\", \"Topic8\", \"Topic8\", \"Topic8\", \"Topic8\", \"Topic8\", \"Topic8\", \"Topic8\", \"Topic8\", \"Topic8\", \"Topic8\", \"Topic8\", \"Topic8\", \"Topic8\", \"Topic8\", \"Topic8\", \"Topic8\", \"Topic8\", \"Topic8\", \"Topic8\", \"Topic8\", \"Topic8\", \"Topic8\", \"Topic8\", \"Topic8\", \"Topic8\", \"Topic8\", \"Topic8\", \"Topic8\", \"Topic8\", \"Topic8\", \"Topic8\", \"Topic8\", \"Topic8\", \"Topic8\", \"Topic8\", \"Topic8\", \"Topic8\", \"Topic8\", \"Topic8\", \"Topic8\", \"Topic8\", \"Topic8\"], \"logprob\": [30.0, 29.0, 28.0, 27.0, 26.0, 25.0, 24.0, 23.0, 22.0, 21.0, 20.0, 19.0, 18.0, 17.0, 16.0, 15.0, 14.0, 13.0, 12.0, 11.0, 10.0, 9.0, 8.0, 7.0, 6.0, 5.0, 4.0, 3.0, 2.0, 1.0, -6.3859, -6.3009, -6.8128, -7.3254, -7.2659, -7.8268, -7.8759, -7.6828, -8.3576, -8.2805, -8.3824, -8.007, -8.3601, -8.3379, -6.3303, -8.0396, -8.24, -8.543, -8.5371, -8.4376, -8.6313, -8.6711, -7.3887, -8.967, -8.2821, -8.6491, -7.9543, -8.5879, -9.1055, -8.4899, -7.9142, -8.1976, -7.7059, -8.1024, -7.8506, -7.2106, -6.8587, -5.2538, -5.3184, -3.0801, -7.7143, -6.9707, -7.8394, -6.05, -4.7657, -7.691, -4.6336, -6.4669, -6.8097, -5.3772, -6.2078, -4.9835, -7.2632, -6.6322, -6.4176, -5.3475, -6.8661, -5.924, -5.2578, -6.0636, -5.7287, -6.0641, -4.7859, -6.2825, -5.0041, -4.9411, -6.181, -4.5665, -5.354, -5.4696, -6.0747, -5.3529, -4.9848, -4.1897, -5.044, -5.5186, -5.5227, -5.4985, -5.5479, -5.5647, -5.7144, -5.434, -5.6341, -5.6049, -5.6633, -5.1473, -5.9577, -7.0538, -7.07, -7.5755, -6.5637, -6.8665, -7.9627, -7.5064, -7.9581, -7.3855, -8.0187, -8.0466, -7.2798, -8.4288, -8.3838, -8.4291, -8.3152, -8.517, -7.8705, -7.5763, -8.55, -8.6014, -8.7102, -7.4115, -7.855, -8.5084, -8.7186, -8.8512, -8.841, -6.8194, -6.4839, -6.1099, -7.4515, -7.2148, -6.4778, -6.5348, -7.3337, -6.5411, -6.3194, -7.7798, -7.5166, -5.1451, -5.0361, -6.7271, -5.9105, -5.4976, -6.2185, -6.7116, -6.7415, -5.4522, -5.9575, -6.348, -5.9284, -5.5203, -5.2194, -5.3151, -5.2232, -6.069, -6.456, -6.2889, -4.922, -6.0965, -5.6449, -5.6475, -4.8207, -4.9976, -3.7916, -5.6736, -5.6115, -5.0605, -5.9141, -5.9882, -5.4961, -5.4763, -5.5888, -5.4936, -5.1475, -5.438, -5.5283, -5.7195, -5.5401, -5.2697, -5.775, -5.8558, -7.3902, -7.3899, -7.4143, -7.6166, -7.9749, -6.6867, -7.6892, -8.0659, -8.3212, -8.4953, -8.5658, -8.5033, -7.0127, -8.52, -8.3115, -8.5873, -8.8069, -7.8514, -8.7361, -7.514, -8.7025, -8.7584, -8.8749, -8.7937, -8.8187, -9.1385, -8.749, -7.8205, -9.1153, -8.9405, -5.5134, -6.7762, -7.7669, -7.9067, -8.0504, -8.1163, -5.8332, -5.5188, -7.2325, -6.8887, -7.9946, -6.4371, -6.2952, -6.7098, -7.0049, -7.6649, -7.395, -7.2689, -5.7786, -6.414, -5.7583, -7.301, -5.7703, -7.2171, -5.2421, -6.7804, -6.9118, -5.3951, -6.9775, -5.271, -5.8527, -6.0539, -6.8171, -6.376, -6.0791, -5.8916, -6.2258, -4.7291, -6.2184, -6.3446, -5.4767, -5.5611, -5.3284, -5.4714, -5.6636, -5.4968, -5.7264, -5.4693, -5.6744, -4.8715, -5.767, -5.8758, -6.0309, -5.8232, -5.8149, -5.803, -5.9687, -5.9461, -6.0059, -4.6987, -5.3805, -5.5337, -5.9765, -6.2661, -5.9523, -6.42, -6.4878, -6.3839, -6.6318, -6.7006, -6.7071, -6.7184, -6.6351, -6.8996, -6.7321, -6.7251, -7.1613, -7.1264, -7.1785, -6.9946, -7.0585, -7.1843, -7.2002, -7.1182, -7.4832, -7.2483, -7.5884, -7.5742, -5.1678, -6.4677, -6.9649, -6.2776, -4.9241, -5.2422, -6.5318, -6.4739, -6.1649, -6.4248, -6.3924, -6.2526, -4.6944, -5.5008, -5.3479, -5.1572, -5.2199, -3.5448, -5.7724, -5.7975, -5.3681, -5.7079, -5.877, -5.1324, -4.6168, -5.0355, -5.8634, -5.4731, -5.2762, -5.4508, -5.355, -5.7268, -4.8775, -5.6823, -5.4163, -5.4876, -5.5024, -5.6181, -5.7161, -5.2801, -5.8469, -5.9538, -5.978, -6.3057, -6.5649, -6.8332, -6.8531, -6.8462, -6.8421, -7.1234, -7.1664, -7.1706, -7.1138, -6.9719, -7.1839, -7.2152, -6.9183, -7.3504, -7.3657, -7.0721, -7.4522, -7.5932, -7.6083, -5.6119, -7.6807, -7.1734, -7.8543, -7.9212, -7.8316, -5.5808, -6.4116, -6.3291, -5.4078, -5.2345, -5.1439, -5.5918, -5.4416, -6.59, -6.738, -6.4562, -5.2393, -6.6736, -6.0928, -6.4649, -6.5346, -6.1955, -5.0254, -5.1774, -6.2444, -4.9772, -4.9214, -5.7059, -4.9344, -3.5991, -5.8265, -5.194, -4.8322, -5.6596, -5.4879, -4.8613, -5.3581, -4.9481, -5.2381, -5.3147, -5.4668, -5.3772, -5.6196, -5.7713, -5.8104, -5.35, -6.1816, -6.4974, -6.1639, -6.6345, -6.698, -7.1139, -6.8828, -7.3272, -7.2982, -7.3625, -7.3935, -7.0028, -7.6513, -7.6715, -7.6872, -7.6644, -7.6788, -7.8602, -7.889, -7.5663, -7.9012, -7.8516, -6.9718, -7.9999, -4.6803, -7.5765, -8.0194, -7.8376, -7.9249, -5.0793, -6.2309, -5.903, -6.1596, -4.9662, -5.1447, -5.6713, -6.5006, -5.1867, -5.5954, -6.6958, -4.9147, -5.7811, -6.76, -6.4611, -4.789, -5.7299, -6.0127, -5.8578, -5.2134, -5.1435, -4.7588, -6.1502, -5.4714, -4.9175, -4.8977, -5.3489, -5.6101, -4.058, -5.0791, -5.1166, -5.5129, -5.3114, -5.2406, -5.4727, -5.6581, -5.3482, -5.6681, -5.5822, -5.6361, -5.6316, -5.6413, -5.6438, -4.7969, -5.6231, -5.7868, -6.3413, -6.3358, -6.1417, -6.5343, -6.3188, -6.3944, -6.8326, -6.9336, -6.8823, -7.0079, -7.0317, -6.5904, -7.1302, -7.3251, -7.2359, -6.7919, -7.4217, -7.4424, -7.4608, -7.5711, -7.5929, -7.6217, -7.7043, -7.8008, -7.7796, -7.5051, -7.6874, -6.9388, -6.3433, -5.304, -6.2924, -5.877, -6.2973, -5.0822, -6.0634, -6.1555, -5.5256, -6.9448, -6.9242, -5.6503, -5.8501, -5.7242, -4.1619, -6.2149, -6.0763, -5.5383, -5.5321, -5.4921, -4.5042, -5.8287, -4.7951, -3.8951, -5.1695, -5.0582, -5.2614, -5.4648, -5.2823, -6.0421, -5.4857, -5.6269, -5.3321, -5.6176, -5.568, -5.7242, -5.6916, -5.7689, -5.7727, -5.8055, -5.0835, -5.4111, -4.245, -4.2545, -6.0988, -6.0698, -4.472, -5.7952, -6.0777, -6.1854, -6.4146, -6.4663, -6.0499, -6.6766, -6.7317, -6.854, -6.7381, -5.5625, -7.0375, -7.098, -6.2727, -6.2305, -7.3885, -7.3676, -6.9237, -6.4348, -5.4362, -6.5606, -7.3175, -6.371, -4.744, -6.4121, -6.7642, -4.7402, -5.1744, -5.3301, -5.5184, -5.8601, -5.1968, -5.4523, -4.735, -4.8656, -5.5611, -6.0221, -6.0988, -6.2098, -5.8618, -5.7212, -5.7664, -6.1146], \"loglift\": [30.0, 29.0, 28.0, 27.0, 26.0, 25.0, 24.0, 23.0, 22.0, 21.0, 20.0, 19.0, 18.0, 17.0, 16.0, 15.0, 14.0, 13.0, 12.0, 11.0, 10.0, 9.0, 8.0, 7.0, 6.0, 5.0, 4.0, 3.0, 2.0, 1.0, 1.3866, 1.3863, 1.3846, 1.3834, 1.3821, 1.3796, 1.379, 1.3774, 1.3763, 1.376, 1.3758, 1.3755, 1.3753, 1.3751, 1.3751, 1.3739, 1.3738, 1.3721, 1.3719, 1.3713, 1.3709, 1.3693, 1.3646, 1.3645, 1.3644, 1.3643, 1.3641, 1.3636, 1.3633, 1.363, 1.361, 1.3626, 1.3572, 1.3607, 1.358, 1.3493, 1.3382, 1.2921, 1.2863, 1.2125, 1.3494, 1.3246, 1.3511, 1.2703, 1.1692, 1.335, 1.1308, 1.2348, 1.2574, 1.0896, 1.1549, 0.9822, 1.2738, 1.1853, 1.1523, 0.9915, 1.2165, 1.0729, 0.9553, 1.0861, 1.0229, 1.0785, 0.8336, 1.1168, 0.8329, 0.7869, 1.0828, 0.6071, 0.7688, 0.8028, 1.0096, 0.7002, 0.5404, -0.1912, 0.3375, 0.5995, 0.6025, 0.4751, 0.5122, 0.514, 0.6644, 0.2847, 0.4713, 0.3398, 0.1131, 1.5265, 1.5256, 1.5227, 1.5213, 1.5209, 1.5209, 1.5186, 1.5181, 1.5181, 1.5176, 1.5168, 1.5161, 1.5149, 1.5128, 1.5118, 1.5114, 1.5111, 1.5109, 1.5109, 1.5107, 1.5096, 1.5083, 1.5082, 1.508, 1.5076, 1.5069, 1.5065, 1.5065, 1.5052, 1.505, 1.502, 1.4984, 1.4904, 1.5036, 1.4999, 1.4865, 1.4846, 1.4938, 1.4693, 1.4567, 1.4949, 1.4822, 1.3685, 1.3379, 1.4377, 1.3734, 1.3418, 1.3942, 1.4254, 1.4265, 1.3097, 1.3141, 1.3632, 1.3019, 1.2373, 1.1459, 1.1551, 1.1247, 1.2802, 1.3494, 1.3013, 0.8719, 1.2324, 1.0771, 1.054, 0.6969, 0.7305, 0.2069, 0.9925, 0.9289, 0.5894, 1.0576, 1.094, 0.6546, 0.6292, 0.6663, 0.5335, 0.0261, 0.3642, 0.1783, 0.5051, -0.0148, -0.977, 0.46, 0.2011, 1.7038, 1.7036, 1.7028, 1.7012, 1.6985, 1.6919, 1.6916, 1.6914, 1.691, 1.689, 1.6879, 1.6871, 1.6866, 1.686, 1.6859, 1.6854, 1.6843, 1.6839, 1.6837, 1.6834, 1.683, 1.6828, 1.6815, 1.6803, 1.6785, 1.6755, 1.675, 1.6738, 1.6737, 1.6736, 1.6659, 1.6735, 1.6725, 1.6704, 1.6699, 1.6707, 1.6077, 1.5937, 1.6441, 1.6297, 1.6559, 1.5842, 1.5763, 1.5848, 1.6001, 1.6359, 1.6111, 1.6002, 1.4661, 1.5129, 1.4436, 1.5959, 1.416, 1.5855, 1.3074, 1.5184, 1.5323, 1.2757, 1.5422, 1.2244, 1.2338, 1.2807, 1.472, 1.3354, 1.2232, 1.1472, 1.2638, 0.6524, 1.2368, 1.265, 0.8297, 0.6086, 0.2911, 0.3655, 0.5209, 0.2219, 0.3965, 0.056, 0.2991, -0.873, 0.2931, 0.3966, 0.68, -0.0467, -0.1083, -0.153, 0.3587, -0.0015, 0.1193, 2.2547, 2.2541, 2.2536, 2.2525, 2.2517, 2.2516, 2.2515, 2.2509, 2.2507, 2.2506, 2.2501, 2.25, 2.2499, 2.2491, 2.2486, 2.248, 2.2477, 2.247, 2.247, 2.2461, 2.2458, 2.2448, 2.2446, 2.2435, 2.2424, 2.2423, 2.2413, 2.2412, 2.2412, 2.2408, 2.2328, 2.2369, 2.2259, 2.1823, 2.1888, 2.2267, 2.2139, 2.1962, 2.1864, 2.1756, 2.1172, 1.5889, 1.7281, 1.5736, 1.4679, 1.4545, 0.4537, 1.7036, 1.6994, 1.3927, 1.6133, 1.7235, 1.0506, 0.5567, 0.9222, 1.6493, 1.2021, 0.9789, 1.0091, 0.6721, 1.1805, -0.5848, 0.9759, 0.1014, 0.2191, 0.2741, 0.3265, 0.7947, 2.4392, 2.4379, 2.4377, 2.4376, 2.436, 2.4348, 2.4332, 2.433, 2.433, 2.4313, 2.4306, 2.4302, 2.4301, 2.4298, 2.4297, 2.4297, 2.4286, 2.4283, 2.4278, 2.4253, 2.4252, 2.4249, 2.4226, 2.4226, 2.4224, 2.4219, 2.4203, 2.4193, 2.418, 2.4172, 2.4097, 2.4151, 2.4119, 2.3655, 2.3501, 2.329, 2.3355, 2.3226, 2.3502, 2.3643, 2.2965, 2.0816, 2.3183, 2.1679, 2.2578, 2.2675, 2.171, 1.7353, 1.7901, 2.1643, 1.6347, 1.5161, 1.8622, 1.2852, 0.3994, 1.771, 1.2658, 0.9699, 1.6053, 1.3601, 0.6564, 1.1914, 0.4334, 0.7196, 0.7124, 0.5901, 0.2727, 0.5634, 0.0051, -0.1037, 2.4432, 2.4407, 2.4387, 2.4386, 2.4374, 2.4372, 2.435, 2.4338, 2.4324, 2.4322, 2.4312, 2.4307, 2.4293, 2.4281, 2.4275, 2.4271, 2.4267, 2.4261, 2.424, 2.4231, 2.4229, 2.4224, 2.4222, 2.421, 2.4208, 2.4197, 2.4187, 2.4173, 2.4157, 2.4144, 2.4062, 2.414, 2.3777, 2.3559, 2.3045, 2.2753, 2.2921, 2.3261, 2.1704, 2.1982, 2.3099, 2.0767, 2.1707, 2.3031, 2.2101, 1.8361, 2.0488, 2.0283, 1.9783, 1.7038, 1.6733, 1.5128, 2.0488, 1.7171, 1.3878, 1.2853, 1.5386, 1.4667, -0.0595, 0.8866, 0.8183, 1.2715, 0.7418, 0.5533, 0.9872, 1.3661, -0.1747, 0.868, 0.1943, 0.619, 0.075, 0.1608, -0.1261, 2.6936, 2.6919, 2.6914, 2.6891, 2.6889, 2.6882, 2.6878, 2.6871, 2.6862, 2.6854, 2.6842, 2.684, 2.6835, 2.6831, 2.6816, 2.6811, 2.6785, 2.6785, 2.6782, 2.6776, 2.6774, 2.6747, 2.6739, 2.6738, 2.6735, 2.67, 2.6691, 2.6686, 2.6684, 2.6678, 2.6659, 2.6599, 2.6412, 2.6308, 2.6179, 2.6252, 2.5731, 2.5828, 2.5806, 2.5152, 2.6294, 2.6252, 2.3841, 2.4052, 2.3648, 1.9168, 2.4429, 2.3803, 2.1585, 2.1108, 1.9428, 1.2979, 2.0594, 1.258, 0.1034, 1.3414, 1.0472, 1.2587, 1.2367, 0.7448, 2.1427, 0.8622, 1.0483, 0.3179, 0.3401, -0.3945, 0.401, 0.0848, 0.4558, -0.054, -0.0989, 5.0141, 5.0073, 4.9969, 4.9928, 4.9792, 4.9776, 4.9733, 4.9629, 4.9589, 4.9588, 4.9464, 4.9399, 4.9388, 4.9367, 4.9221, 4.9202, 4.9165, 4.8999, 4.8884, 4.8851, 4.8772, 4.8738, 4.8556, 4.8537, 4.8473, 4.8449, 4.8448, 4.8378, 4.8337, 4.8333, 4.788, 4.8176, 4.8264, 4.4458, 4.5216, 4.4952, 4.5216, 4.5594, 4.1444, 4.1215, 3.5825, 3.5124, 3.8804, 4.3681, 4.4085, 4.5318, 3.5415, 2.5312, 2.1697, 2.2532]}, \"token.table\": {\"Topic\": [1, 2, 3, 4, 5, 6, 7, 1, 2, 3, 4, 5, 6, 7, 1, 2, 3, 4, 5, 6, 7, 1, 2, 3, 4, 5, 6, 7, 1, 2, 3, 4, 5, 6, 7, 1, 2, 3, 4, 5, 6, 7, 1, 2, 3, 4, 5, 6, 7, 8, 1, 2, 3, 4, 5, 6, 7, 1, 2, 3, 4, 5, 6, 7, 1, 2, 3, 4, 5, 6, 7, 1, 2, 3, 4, 5, 6, 7, 1, 2, 3, 4, 5, 6, 7, 1, 2, 3, 4, 5, 6, 7, 1, 2, 3, 4, 5, 6, 7, 1, 2, 3, 4, 5, 6, 7, 8, 1, 2, 3, 4, 5, 6, 7, 8, 1, 2, 3, 4, 5, 6, 7, 8, 1, 2, 3, 4, 5, 6, 7, 1, 2, 3, 4, 5, 6, 7, 8, 1, 2, 3, 4, 5, 6, 7, 1, 2, 3, 4, 5, 6, 7, 1, 2, 3, 4, 5, 6, 7, 1, 2, 3, 4, 5, 6, 7, 1, 2, 3, 4, 5, 6, 7, 1, 2, 3, 4, 5, 6, 7, 1, 2, 3, 4, 5, 6, 7, 1, 2, 3, 4, 5, 6, 7, 1, 2, 3, 4, 5, 6, 7, 1, 2, 3, 4, 5, 6, 7, 1, 2, 3, 4, 5, 6, 7, 1, 2, 3, 4, 5, 6, 7, 1, 2, 3, 4, 5, 6, 7, 1, 2, 3, 4, 5, 6, 7, 1, 2, 3, 4, 5, 6, 7, 1, 2, 3, 4, 5, 6, 7, 1, 2, 3, 4, 5, 6, 7, 1, 2, 3, 4, 5, 6, 7, 1, 2, 3, 4, 5, 6, 7, 1, 2, 3, 4, 5, 6, 7, 1, 2, 3, 4, 5, 6, 7, 1, 2, 3, 4, 5, 6, 7, 1, 2, 3, 4, 5, 6, 7, 1, 2, 3, 4, 5, 6, 7, 8, 1, 2, 3, 4, 5, 6, 7, 1, 2, 3, 4, 5, 6, 7, 1, 2, 3, 4, 5, 6, 7, 1, 2, 3, 4, 5, 6, 7, 1, 2, 3, 4, 5, 6, 7, 1, 2, 3, 4, 5, 6, 7, 1, 2, 3, 4, 5, 6, 7, 1, 2, 3, 4, 5, 6, 7, 1, 2, 3, 4, 5, 6, 7, 1, 2, 3, 4, 5, 6, 7, 1, 2, 3, 4, 5, 6, 7, 8, 1, 2, 3, 4, 5, 6, 7, 1, 2, 3, 4, 5, 6, 7, 1, 2, 3, 4, 5, 6, 7, 1, 2, 3, 4, 5, 6, 7, 1, 2, 3, 4, 5, 6, 7, 8, 1, 2, 3, 4, 5, 6, 7, 8, 1, 2, 3, 4, 5, 6, 7, 1, 2, 3, 4, 5, 6, 7, 8, 1, 2, 3, 4, 5, 6, 7, 1, 2, 3, 4, 5, 6, 7, 1, 2, 3, 4, 5, 6, 7, 1, 2, 3, 4, 5, 6, 7, 1, 2, 3, 4, 5, 6, 7, 1, 2, 3, 4, 5, 6, 7, 1, 2, 3, 4, 5, 6, 7, 1, 2, 3, 4, 5, 6, 7, 1, 2, 3, 4, 5, 6, 7, 1, 2, 3, 4, 5, 6, 7, 1, 2, 3, 4, 5, 6, 7, 1, 2, 3, 4, 5, 6, 7, 8, 1, 2, 3, 4, 5, 6, 7, 1, 2, 3, 4, 5, 6, 7, 1, 2, 3, 4, 5, 6, 7, 1, 2, 3, 4, 5, 6, 7, 8, 1, 2, 3, 4, 5, 6, 7, 8, 1, 2, 3, 4, 5, 6, 7, 1, 2, 3, 4, 5, 6, 7, 1, 2, 3, 4, 5, 6, 7, 1, 2, 3, 4, 5, 6, 7, 8, 1, 2, 3, 4, 5, 6, 7, 8, 1, 2, 3, 4, 5, 6, 7, 1, 2, 3, 4, 5, 6, 7, 1, 2, 3, 4, 5, 6, 7, 1, 2, 3, 4, 5, 6, 7, 1, 2, 3, 4, 5, 6, 7, 1, 2, 3, 4, 5, 6, 7, 1, 2, 3, 4, 5, 6, 7, 1, 2, 3, 4, 5, 6, 7, 1, 2, 3, 4, 5, 6, 7, 1, 2, 3, 4, 5, 6, 7, 1, 2, 3, 4, 5, 6, 7, 1, 2, 3, 4, 5, 6, 7, 1, 2, 3, 4, 5, 6, 7, 1, 2, 3, 4, 5, 6, 7, 1, 2, 3, 4, 5, 6, 7, 1, 2, 3, 4, 5, 6, 7, 1, 2, 3, 4, 5, 6, 7, 8, 1, 2, 3, 4, 5, 6, 7, 8, 1, 2, 3, 4, 5, 6, 7, 8, 1, 2, 3, 4, 5, 6, 7, 1, 2, 3, 4, 5, 6, 7, 1, 2, 3, 4, 5, 6, 7, 1, 2, 3, 4, 5, 6, 7, 8, 1, 2, 3, 4, 5, 6, 7, 1, 2, 3, 4, 5, 6, 7, 1, 2, 3, 4, 5, 6, 7, 1, 2, 3, 4, 5, 6, 7, 1, 2, 3, 4, 5, 6, 7, 1, 2, 3, 4, 5, 6, 7, 8, 1, 2, 3, 4, 5, 6, 7, 1, 2, 3, 4, 5, 6, 7, 1, 2, 3, 4, 5, 6, 7, 1, 2, 3, 4, 5, 6, 7, 1, 2, 3, 4, 5, 6, 7, 1, 2, 3, 4, 5, 6, 7, 1, 2, 3, 4, 5, 6, 7, 1, 2, 3, 4, 5, 6, 7, 1, 2, 3, 4, 5, 6, 7, 1, 2, 3, 4, 5, 6, 7, 1, 2, 3, 4, 5, 6, 7, 1, 2, 3, 4, 5, 6, 7, 1, 2, 3, 4, 5, 6, 7, 8, 1, 2, 3, 4, 5, 6, 7, 8, 1, 2, 3, 4, 5, 6, 7, 1, 2, 3, 4, 5, 6, 7, 1, 2, 3, 4, 5, 6, 7, 8, 1, 2, 3, 4, 5, 6, 7, 8, 1, 2, 3, 4, 5, 6, 7, 8, 1, 2, 3, 4, 5, 6, 7, 8, 1, 2, 3, 4, 5, 6, 7, 8, 1, 2, 3, 4, 5, 6, 7, 1, 2, 3, 4, 5, 6, 7, 1, 2, 3, 4, 5, 6, 7, 1, 2, 3, 4, 5, 6, 7, 1, 2, 3, 4, 5, 6, 7, 1, 2, 3, 4, 5, 6, 7, 1, 2, 3, 4, 5, 6, 7, 1, 2, 3, 4, 5, 6, 7, 1, 2, 3, 4, 5, 6, 7, 1, 2, 3, 4, 5, 6, 7, 1, 2, 3, 4, 5, 6, 7, 1, 2, 3, 4, 5, 6, 7, 1, 2, 3, 4, 5, 6, 7, 1, 2, 3, 4, 5, 6, 7, 1, 2, 3, 4, 5, 6, 7, 1, 2, 3, 4, 5, 6, 7, 1, 2, 3, 4, 5, 6, 7, 1, 2, 3, 4, 5, 6, 7, 1, 2, 3, 4, 5, 6, 7, 1, 2, 3, 4, 5, 6, 7, 1, 2, 3, 4, 5, 6, 7, 1, 2, 3, 4, 5, 6, 7, 8, 1, 2, 3, 4, 5, 6, 7, 8, 1, 2, 3, 4, 5, 6, 7, 8, 1, 2, 3, 4, 5, 6, 7, 1, 2, 3, 4, 5, 6, 7, 1, 2, 3, 4, 5, 6, 7, 1, 2, 3, 4, 5, 6, 7, 1, 2, 3, 4, 5, 6, 7, 1, 2, 3, 4, 5, 6, 7, 1, 2, 3, 4, 5, 6, 7, 8, 1, 2, 3, 4, 5, 6, 7, 1, 2, 3, 4, 5, 6, 7, 8, 1, 2, 3, 4, 5, 6, 7, 1, 2, 3, 4, 5, 6, 7, 1, 2, 3, 4, 5, 6, 7, 1, 2, 3, 4, 5, 6, 7, 1, 2, 3, 4, 5, 6, 7, 1, 2, 3, 4, 5, 6, 7, 1, 2, 3, 4, 5, 6, 7, 1, 2, 3, 4, 5, 6, 7, 1, 2, 3, 4, 5, 6, 7, 1, 2, 3, 4, 5, 6, 7, 1, 2, 3, 4, 5, 6, 7, 8, 1, 2, 3, 4, 5, 6, 7, 1, 2, 3, 4, 5, 6, 7, 1, 2, 3, 4, 5, 6, 7, 1, 2, 3, 4, 5, 6, 7, 1, 2, 3, 4, 5, 6, 7, 1, 2, 3, 4, 5, 6, 7, 1, 2, 3, 4, 5, 6, 7, 8, 1, 2, 3, 4, 5, 6, 7, 1, 2, 3, 4, 5, 6, 7, 1, 2, 3, 4, 5, 6, 7, 1, 2, 3, 4, 5, 6, 7, 1, 2, 3, 4, 5, 6, 7, 1, 2, 3, 4, 5, 6, 7, 1, 2, 3, 4, 5, 6, 7, 1, 2, 3, 4, 5, 6, 7, 1, 2, 3, 4, 5, 6, 7, 1, 2, 3, 4, 5, 6, 7, 1, 2, 3, 4, 5, 6, 7, 1, 2, 3, 4, 5, 6, 7, 1, 2, 3, 4, 5, 6, 7, 8, 1, 2, 3, 4, 5, 6, 7, 1, 2, 3, 4, 5, 6, 7, 1, 2, 3, 4, 5, 6, 7, 1, 2, 3, 4, 5, 6, 7, 1, 2, 3, 4, 5, 6, 7, 1, 2, 3, 4, 5, 6, 7, 1, 2, 3, 4, 5, 6, 7, 8, 1, 2, 3, 4, 5, 6, 7, 8, 1, 2, 3, 4, 5, 6, 7, 1, 2, 3, 4, 5, 6, 7, 1, 2, 3, 4, 5, 6, 7, 1, 2, 3, 4, 5, 6, 7, 1, 2, 3, 4, 5, 6, 7, 1, 2, 3, 4, 5, 6, 7, 8, 1, 2, 3, 4, 5, 6, 7, 1, 2, 3, 4, 5, 6, 7, 1, 2, 3, 4, 5, 6, 7, 1, 2, 3, 4, 5, 6, 7, 1, 2, 3, 4, 5, 6, 7, 1, 2, 3, 4, 5, 6, 7, 1, 2, 3, 4, 5, 6, 7, 1, 2, 3, 4, 5, 6, 7, 1, 2, 3, 4, 5, 6, 7, 1, 2, 3, 4, 5, 6, 7, 1, 2, 3, 4, 5, 6, 7, 1, 2, 3, 4, 5, 6, 7, 1, 2, 3, 4, 5, 6, 7, 1, 2, 3, 4, 5, 6, 7, 8, 1, 2, 3, 4, 5, 6, 7, 1, 2, 3, 4, 5, 6, 7, 1, 2, 3, 4, 5, 6, 7, 8, 1, 2, 3, 4, 5, 6, 7, 1, 2, 3, 4, 5, 6, 7, 1, 2, 3, 4, 5, 6, 7, 1, 2, 3, 4, 5, 6, 7, 1, 2, 3, 4, 5, 6, 7, 1, 2, 3, 4, 5, 6, 7, 1, 2, 3, 4, 5, 6, 7, 1, 2, 3, 4, 5, 6, 7, 1, 2, 3, 4, 5, 6, 7, 1, 2, 3, 4, 5, 6, 7, 1, 2, 3, 4, 5, 6, 7, 1, 2, 3, 4, 5, 6, 7, 1, 2, 3, 4, 5, 6, 7, 1, 2, 3, 4, 5, 6, 7, 1, 2, 3, 4, 5, 6, 7, 1, 2, 3, 4, 5, 6, 7, 1, 2, 3, 4, 5, 6, 7, 1, 2, 3, 4, 5, 6, 7, 1, 2, 3, 4, 5, 6, 7, 1, 2, 3, 4, 5, 6, 7, 1, 2, 3, 4, 5, 6, 7, 1, 2, 3, 4, 5, 6, 7, 1, 2, 3, 4, 5, 6, 7, 1, 2, 3, 4, 5, 6, 7, 1, 2, 3, 4, 5, 6, 7, 1, 2, 3, 4, 5, 6, 7, 1, 2, 3, 4, 5, 6, 7, 1, 2, 3, 4, 5, 6, 7, 1, 2, 3, 4, 5, 6, 7, 1, 2, 3, 4, 5, 6, 7, 1, 2, 3, 4, 5, 6, 7, 1, 2, 3, 4, 5, 6, 7, 8, 1, 2, 3, 4, 5, 6, 7, 1, 2, 3, 4, 5, 6, 7, 1, 2, 3, 4, 5, 6, 7, 1, 2, 3, 4, 5, 6, 7, 1, 2, 3, 4, 5, 6, 7, 1, 2, 3, 4, 5, 6, 7, 1, 2, 3, 4, 5, 6, 7, 1, 2, 3, 4, 5, 6, 7, 1, 2, 3, 4, 5, 6, 7, 1, 2, 3, 4, 5, 6, 7, 1, 2, 3, 4, 5, 6, 7, 1, 2, 3, 4, 5, 6, 7, 1, 2, 3, 4, 5, 6, 7, 1, 2, 3, 4, 5, 6, 7, 1, 2, 3, 4, 5, 6, 7, 1, 2, 3, 4, 5, 6, 7, 1, 2, 3, 4, 5, 6, 7, 1, 2, 3, 4, 5, 6, 7, 1, 2, 3, 4, 5, 6, 7, 1, 2, 3, 4, 5, 6, 7, 1, 2, 3, 4, 5, 6, 7, 1, 2, 3, 4, 5, 6, 7, 1, 2, 3, 4, 5, 6, 7, 1, 2, 3, 4, 5, 6, 7, 1, 2, 3, 4, 5, 6, 7, 1, 2, 3, 4, 5, 6, 7, 1, 2, 3, 4, 5, 6, 7, 1, 2, 3, 4, 5, 6, 7, 1, 2, 3, 4, 5, 6, 7, 1, 2, 3, 4, 5, 6, 7, 1, 2, 3, 4, 5, 6, 7, 1, 2, 3, 4, 5, 6, 7, 1, 2, 3, 4, 5, 6, 7, 1, 2, 3, 4, 5, 6, 7, 1, 2, 3, 4, 5, 6, 7, 1, 2, 3, 4, 5, 6, 7, 1, 2, 3, 4, 5, 6, 7, 1, 2, 3, 4, 5, 6, 7, 8, 1, 2, 3, 4, 5, 6, 7, 1, 2, 3, 4, 5, 6, 7, 1, 2, 3, 4, 5, 6, 7, 1, 2, 3, 4, 5, 6, 7, 1, 2, 3, 4, 5, 6, 7, 1, 2, 3, 4, 5, 6, 7, 8, 1, 2, 3, 4, 5, 6, 7, 1, 2, 3, 4, 5, 6, 7, 1, 2, 3, 4, 5, 6, 7, 1, 2, 3, 4, 5, 6, 7, 1, 2, 3, 4, 5, 6, 7, 1, 2, 3, 4, 5, 6, 7, 1, 2, 3, 4, 5, 6, 7, 1, 2, 3, 4, 5, 6, 7, 1, 2, 3, 4, 5, 6, 7, 1, 2, 3, 4, 5, 6, 7, 1, 2, 3, 4, 5, 6, 7, 1, 2, 3, 4, 5, 6, 7, 1, 2, 3, 4, 5, 6, 7, 1, 2, 3, 4, 5, 6, 7, 8, 1, 2, 3, 4, 5, 6, 7, 1, 2, 3, 4, 5, 6, 7, 1, 2, 3, 4, 5, 6, 7, 1, 2, 3, 4, 5, 6, 7, 1, 2, 3, 4, 5, 6, 7, 1, 2, 3, 4, 5, 6, 7, 8, 1, 2, 3, 4, 5, 6, 7, 1, 2, 3, 4, 5, 6, 7, 1, 2, 3, 4, 5, 6, 7, 1, 2, 3, 4, 5, 6, 7, 1, 2, 3, 4, 5, 6, 7, 1, 2, 3, 4, 5, 6, 7, 1, 2, 3, 4, 5, 6, 7, 1, 2, 3, 4, 5, 6, 7, 1, 2, 3, 4, 5, 6, 7, 1, 2, 3, 4, 5, 6, 7, 1, 2, 3, 4, 5, 6, 7, 1, 2, 3, 4, 5, 6, 7, 1, 2, 3, 4, 5, 6, 7, 1, 2, 3, 4, 5, 6, 7, 1, 2, 3, 4, 5, 6, 7, 1, 2, 3, 4, 5, 6, 7, 8, 1, 2, 3, 4, 5, 6, 7, 1, 2, 3, 4, 5, 6, 7, 1, 2, 3, 4, 5, 6, 7, 1, 2, 3, 4, 5, 6, 7, 1, 2, 3, 4, 5, 6, 7, 1, 2, 3, 4, 5, 6, 7, 1, 2, 3, 4, 5, 6, 7, 1, 2, 3, 4, 5, 6, 7, 1, 2, 3, 4, 5, 6, 7, 1, 2, 3, 4, 5, 6, 7, 1, 2, 3, 4, 5, 6, 7, 1, 2, 3, 4, 5, 6, 7, 1, 2, 3, 4, 5, 6, 7, 1, 2, 3, 4, 5, 6, 7, 1, 2, 3, 4, 5, 6, 7, 1, 2, 3, 4, 5, 6, 7, 1, 2, 3, 4, 5, 6, 7, 1, 2, 3, 4, 5, 6, 7, 1, 2, 3, 4, 5, 6, 7, 1, 2, 3, 4, 5, 6, 7, 1, 2, 3, 4, 5, 6, 7, 1, 2, 3, 4, 5, 6, 7, 8, 1, 2, 3, 4, 5, 6, 7, 1, 2, 3, 4, 5, 6, 7, 1, 2, 3, 4, 5, 6, 7, 8, 1, 2, 3, 4, 5, 6, 7, 1, 2, 3, 4, 5, 6, 7, 1, 2, 3, 4, 5, 6, 7, 1, 2, 3, 4, 5, 6, 7, 1, 2, 3, 4, 5, 6, 7, 8, 1, 2, 3, 4, 5, 6, 7, 8, 1, 2, 3, 4, 5, 6, 7, 8, 1, 2, 3, 4, 5, 6, 7, 8, 1, 2, 3, 4, 5, 6, 7, 1, 2, 3, 4, 5, 6, 7, 1, 2, 3, 4, 5, 6, 7, 1, 2, 3, 4, 5, 6, 7, 1, 2, 3, 4, 5, 6, 7, 1, 2, 3, 4, 5, 6, 7, 1, 2, 3, 4, 5, 6, 7, 1, 2, 3, 4, 5, 6, 7, 1, 2, 3, 4, 5, 6, 7, 1, 2, 3, 4, 5, 6, 7, 1, 2, 3, 4, 5, 6, 7, 8, 1, 2, 3, 4, 5, 6, 7, 1, 2, 3, 4, 5, 6, 7, 1, 2, 3, 4, 5, 6, 7, 1, 2, 3, 4, 5, 6, 7, 1, 2, 3, 4, 5, 6, 7, 8, 1, 2, 3, 4, 5, 6, 7, 1, 2, 3, 4, 5, 6, 7, 1, 2, 3, 4, 5, 6, 7, 1, 2, 3, 4, 5, 6, 7, 1, 2, 3, 4, 5, 6, 7, 1, 2, 3, 4, 5, 6, 7, 1, 2, 3, 4, 5, 6, 7, 1, 2, 3, 4, 5, 6, 7, 1, 2, 3, 4, 5, 6, 7, 1, 2, 3, 4, 5, 6, 7, 1, 2, 3, 4, 5, 6, 7, 1, 2, 3, 4, 5, 6, 7, 1, 2, 3, 4, 5, 6, 7, 1, 2, 3, 4, 5, 6, 7, 1, 2, 3, 4, 5, 6, 7, 8, 1, 2, 3, 4, 5, 6, 7, 1, 2, 3, 4, 5, 6, 7, 1, 2, 3, 4, 5, 6, 7, 1, 2, 3, 4, 5, 6, 7, 1, 2, 3, 4, 5, 6, 7, 1, 2, 3, 4, 5, 6, 7, 1, 2, 3, 4, 5, 6, 7, 1, 2, 3, 4, 5, 6, 7, 1, 2, 3, 4, 5, 6, 7, 1, 2, 3, 4, 5, 6, 7, 1, 2, 3, 4, 5, 6, 7, 1, 2, 3, 4, 5, 6, 7, 1, 2, 3, 4, 5, 6, 7, 1, 2, 3, 4, 5, 6, 7, 1, 2, 3, 4, 5, 6, 7, 1, 2, 3, 4, 5, 6, 7, 1, 2, 3, 4, 5, 6, 7, 1, 2, 3, 4, 5, 6, 7, 1, 2, 3, 4, 5, 6, 7, 1, 2, 3, 4, 5, 6, 7, 1, 2, 3, 4, 5, 6, 7, 1, 2, 3, 4, 5, 6, 7, 1, 2, 3, 4, 5, 6, 7, 1, 2, 3, 4, 5, 6, 7, 1, 2, 3, 4, 5, 6, 7, 1, 2, 3, 4, 5, 6, 7, 1, 2, 3, 4, 5, 6, 7, 1, 2, 3, 4, 5, 6, 7, 1, 2, 3, 4, 5, 6, 7, 1, 2, 3, 4, 5, 6, 7, 1, 2, 3, 4, 5, 6, 7, 8, 1, 2, 3, 4, 5, 6, 7, 8, 1, 2, 3, 4, 5, 6, 7, 1, 2, 3, 4, 5, 6, 7, 1, 2, 3, 4, 5, 6, 7, 8, 1, 2, 3, 4, 5, 6, 7, 1, 2, 3, 4, 5, 6, 7, 1, 2, 3, 4, 5, 6, 7, 1, 2, 3, 4, 5, 6, 7, 1, 2, 3, 4, 5, 6, 7, 1, 2, 3, 4, 5, 6, 7, 1, 2, 3, 4, 5, 6, 7, 1, 2, 3, 4, 5, 6, 7, 1, 2, 3, 4, 5, 6, 7, 1, 2, 3, 4, 5, 6, 7, 1, 2, 3, 4, 5, 6, 7, 1, 2, 3, 4, 5, 6, 7, 1, 2, 3, 4, 5, 6, 7, 8, 1, 2, 3, 4, 5, 6, 7, 1, 2, 3, 4, 5, 6, 7, 1, 2, 3, 4, 5, 6, 7, 1, 2, 3, 4, 5, 6, 7, 1, 2, 3, 4, 5, 6, 7, 1, 2, 3, 4, 5, 6, 7, 1, 2, 3, 4, 5, 6, 7, 1, 2, 3, 4, 5, 6, 7, 1, 2, 3, 4, 5, 6, 7, 1, 2, 3, 4, 5, 6, 7, 1, 2, 3, 4, 5, 6, 7, 1, 2, 3, 4, 5, 6, 7, 1, 2, 3, 4, 5, 6, 7, 1, 2, 3, 4, 5, 6, 7, 1, 2, 3, 4, 5, 6, 7, 1, 2, 3, 4, 5, 6, 7, 1, 2, 3, 4, 5, 6, 7, 1, 2, 3, 4, 5, 6, 7, 1, 2, 3, 4, 5, 6, 7, 1, 2, 3, 4, 5, 6, 7, 1, 2, 3, 4, 5, 6, 7, 1, 2, 3, 4, 5, 6, 7, 1, 2, 3, 4, 5, 6, 7, 1, 2, 3, 4, 5, 6, 7, 1, 2, 3, 4, 5, 6, 7, 1, 2, 3, 4, 5, 6, 7, 8, 1, 2, 3, 4, 5, 6, 7, 1, 2, 3, 4, 5, 6, 7, 1, 2, 3, 4, 5, 6, 7, 1, 2, 3, 4, 5, 6, 7, 1, 2, 3, 4, 5, 6, 7, 1, 2, 3, 4, 5, 6, 7, 1, 2, 3, 4, 5, 6, 7, 1, 2, 3, 4, 5, 6, 7, 1, 2, 3, 4, 5, 6, 7, 1, 2, 3, 4, 5, 6, 7, 8, 1, 2, 3, 4, 5, 6, 7, 8, 1, 2, 3, 4, 5, 6, 7, 1, 2, 3, 4, 5, 6, 7, 1, 2, 3, 4, 5, 6, 7, 1, 2, 3, 4, 5, 6, 7, 1, 2, 3, 4, 5, 6, 7, 8, 1, 2, 3, 4, 5, 6, 7, 8, 1, 2, 3, 4, 5, 6, 7, 1, 2, 3, 4, 5, 6, 7, 1, 2, 3, 4, 5, 6, 7, 1, 2, 3, 4, 5, 6, 7, 1, 2, 3, 4, 5, 6, 7, 1, 2, 3, 4, 5, 6, 7, 8, 1, 2, 3, 4, 5, 6, 7, 1, 2, 3, 4, 5, 6, 7, 1, 2, 3, 4, 5, 6, 7, 1, 2, 3, 4, 5, 6, 7, 1, 2, 3, 4, 5, 6, 7, 1, 2, 3, 4, 5, 6, 7, 1, 2, 3, 4, 5, 6, 7, 1, 2, 3, 4, 5, 6, 7, 1, 2, 3, 4, 5, 6, 7, 1, 2, 3, 4, 5, 6, 7, 1, 2, 3, 4, 5, 6, 7, 1, 2, 3, 4, 5, 6, 7, 1, 2, 3, 4, 5, 6, 7, 1, 2, 3, 4, 5, 6, 7, 8], \"Freq\": [0.00408646264217202, 0.00408646264217202, 0.00408646264217202, 0.00408646264217202, 0.9766645714791129, 0.00408646264217202, 0.00408646264217202, 0.8917126290732196, 0.009436112476965287, 0.016850200851723725, 0.0006740080340689491, 0.004718056238482643, 0.0754888998157223, 0.0006740080340689491, 0.08740263081060748, 0.5497671238526901, 0.0001830421587656701, 0.2117797776918803, 0.00027456323814850517, 0.150369133425998, 0.0001830421587656701, 0.0019863379575804684, 0.0019863379575804684, 0.0019863379575804684, 0.0019863379575804684, 0.0019863379575804684, 0.0019863379575804684, 0.9891963028750732, 0.0020385730258917164, 0.0020385730258917164, 0.0020385730258917164, 0.0020385730258917164, 0.9887079175574826, 0.0020385730258917164, 0.0020385730258917164, 0.0016724972093053751, 0.0008362486046526876, 0.0008362486046526876, 0.12878228511651388, 0.8655173058155315, 0.0008362486046526876, 0.0008362486046526876, 0.00025901583142882214, 0.36430576690463834, 0.00012950791571441107, 0.12147842494011758, 0.10956369669439177, 0.4039351891132481, 0.00012950791571441107, 0.00012950791571441107, 0.0009528323042908215, 0.27298645517932035, 0.00047641615214541076, 0.5733668391070018, 0.00047641615214541076, 0.025488264139779476, 0.12625028031853386, 0.003878020130622125, 0.0019390100653110625, 0.0019390100653110625, 0.003878020130622125, 0.9792000829820865, 0.005817030195933187, 0.0019390100653110625, 0.1437867832317555, 0.0007508448210535535, 0.00938556026316942, 0.01163809472633008, 0.05255913747374875, 0.7602303813167229, 0.02177449981055305, 0.06441424161865414, 0.00480703295661598, 0.15046013154208018, 0.030765010922342274, 0.05480017570542218, 0.6729846139262372, 0.02211235160043351, 0.08296608726963932, 0.04861707024717718, 0.0005284464157301867, 0.5873681910841025, 0.14532276432580135, 0.027479213617969712, 0.107538845601093, 0.21462750595175556, 0.259556939394787, 0.16218332656117282, 0.13045439922706742, 0.07848734656331335, 0.09347707789784686, 0.0611915027157747, 0.5458640550198788, 0.057419384590478406, 0.35678169593365316, 0.03950974667473372, 0.00021708652019084462, 0.00010854326009542231, 0.00010854326009542231, 0.17111274977099453, 0.012222339269356753, 0.18944625867502965, 0.006111169634678376, 0.006111169634678376, 0.006111169634678376, 0.006111169634678376, 0.6050057938331592, 0.026746158950572682, 0.005014904803232378, 0.023402889081751095, 0.0016716349344107926, 0.0016716349344107926, 0.0016716349344107926, 0.0016716349344107926, 0.9377871982044547, 0.055150799460296655, 0.009191799910049443, 0.04595899955024721, 0.009191799910049443, 0.009191799910049443, 0.009191799910049443, 0.009191799910049443, 0.8548373916345982, 0.0011763890458118384, 0.0011763890458118384, 0.9928723546651916, 0.0011763890458118384, 0.0011763890458118384, 0.0011763890458118384, 0.0011763890458118384, 0.0055317072047964475, 0.22442926373745586, 0.15093658230230306, 0.08560975435994503, 0.5118146237580713, 0.0034243901743978007, 0.01817560938718833, 0.00026341462879983084, 0.005495195153059368, 0.0007326926870745824, 0.019416356207476435, 0.05458560518705639, 0.9001129660711245, 0.016485585459178106, 0.0029307707482983296, 0.37109471117651455, 0.007018925333779203, 0.14326865240125786, 0.027993125742954705, 0.396610569154606, 0.053921861681856705, 8.257559216210828e-05, 0.0008208811865194571, 0.3382030488460163, 0.00041044059325972854, 0.00041044059325972854, 0.00041044059325972854, 0.659167592775124, 0.00041044059325972854, 0.0038267525724729017, 0.0038267525724729017, 0.0038267525724729017, 0.0038267525724729017, 0.9796486585530628, 0.0038267525724729017, 0.0038267525724729017, 0.004232700472396894, 0.004232700472396894, 0.004232700472396894, 0.004232700472396894, 0.004232700472396894, 0.004232700472396894, 0.9735211086512857, 0.00411409963256503, 0.9791557125504773, 0.00411409963256503, 0.00411409963256503, 0.00411409963256503, 0.00411409963256503, 0.00411409963256503, 0.004557383593948192, 0.004557383593948192, 0.004557383593948192, 0.004557383593948192, 0.004557383593948192, 0.004557383593948192, 0.975280089104913, 0.0010705319011922194, 0.0010705319011922194, 0.0010705319011922194, 0.0010705319011922194, 0.9934536043063796, 0.0010705319011922194, 0.0010705319011922194, 0.001610746840073646, 0.001610746840073646, 0.001610746840073646, 0.9906093066452923, 0.001610746840073646, 0.001610746840073646, 0.001610746840073646, 0.0008271324137660854, 0.0008271324137660854, 0.0008271324137660854, 0.0008271324137660854, 0.9950402937606007, 0.0008271324137660854, 0.0008271324137660854, 0.9947341001770883, 0.0008002687853395723, 0.0008002687853395723, 0.0008002687853395723, 0.0008002687853395723, 0.0008002687853395723, 0.0008002687853395723, 0.004676365251303611, 0.004676365251303611, 0.9680076070198474, 0.004676365251303611, 0.004676365251303611, 0.004676365251303611, 0.004676365251303611, 0.003214653467151402, 0.003214653467151402, 0.003214653467151402, 0.003214653467151402, 0.003214653467151402, 0.003214653467151402, 0.9836839609483289, 0.008309124960731927, 0.023265549890049395, 0.9621966704527571, 0.0016618249921463853, 0.0016618249921463853, 0.0016618249921463853, 0.0016618249921463853, 0.0006612249578018649, 0.0006612249578018649, 0.0006612249578018649, 0.9958047864496086, 0.0006612249578018649, 0.0006612249578018649, 0.0006612249578018649, 0.0037517915782970816, 0.0037517915782970816, 0.9792176019355383, 0.0037517915782970816, 0.0037517915782970816, 0.0037517915782970816, 0.0037517915782970816, 0.0010742773655098002, 0.0010742773655098002, 0.0010742773655098002, 0.027931211503254807, 0.0021485547310196003, 0.0010742773655098002, 0.9657753515933104, 0.9868341470124763, 0.0020645065837081094, 0.0020645065837081094, 0.0020645065837081094, 0.0020645065837081094, 0.0020645065837081094, 0.0020645065837081094, 0.9485595272930221, 0.04396567913293266, 0.0021982839566466327, 0.0010991419783233163, 0.0010991419783233163, 0.0021982839566466327, 0.0010991419783233163, 0.004757291364626691, 0.004757291364626691, 0.9752447297484718, 0.004757291364626691, 0.004757291364626691, 0.004757291364626691, 0.004757291364626691, 0.002212136243613889, 0.002212136243613889, 0.002212136243613889, 0.9866127646517946, 0.002212136243613889, 0.002212136243613889, 0.002212136243613889, 0.15824228646090394, 0.8275560122997028, 0.013793891767894662, 7.74937739769363e-05, 7.74937739769363e-05, 0.0001549875479538726, 7.74937739769363e-05, 0.10656061829026092, 0.00032438544380596936, 0.8896270796378709, 0.0008109636095149233, 0.0006487708876119387, 0.00016219272190298468, 0.0017841199409328312, 0.004280132148792275, 0.004280132148792275, 0.9715899977758464, 0.004280132148792275, 0.004280132148792275, 0.004280132148792275, 0.004280132148792275, 0.004280132148792275, 0.002975076652298253, 0.023800613218386023, 0.000991692217432751, 0.03173415095784803, 0.000991692217432751, 0.000991692217432751, 0.9381408376913823, 0.12503296611253834, 0.2370337952737698, 0.0005666146500568202, 0.06232761150625023, 0.43364907884348647, 0.0001888715500189401, 0.14108704786414825, 0.0005398341960312758, 0.0005398341960312758, 0.0005398341960312758, 0.0005398341960312758, 0.0005398341960312758, 0.0005398341960312758, 0.9970737600697666, 0.0002790748930921832, 0.0002790748930921832, 0.0002790748930921832, 0.10521123469575305, 0.008093171899673311, 0.0002790748930921832, 0.885225560888405, 0.0008155121122277364, 0.0008155121122277364, 0.02324209519849049, 0.049746238845891924, 0.0424066298358423, 0.15086974076213125, 0.7327376328366212, 0.0016449000072106595, 0.0008224500036053298, 0.0008224500036053298, 0.08060010035332232, 0.022206150097343905, 0.0008224500036053298, 0.8915358039081775, 0.00026415776118053717, 0.9639116705477802, 0.00026415776118053717, 0.0005283155223610743, 0.00026415776118053717, 0.00026415776118053717, 0.03434050895346983, 0.0020997075517963436, 0.0020997075517963436, 0.9868625493442815, 0.0020997075517963436, 0.0020997075517963436, 0.0020997075517963436, 0.0020997075517963436, 0.961253521287135, 0.009653909109053007, 0.001379129872721858, 0.000689564936360929, 0.023445207836271586, 0.002068694809082787, 0.000689564936360929, 0.16877542227349998, 0.6252298197410625, 0.053393894024755, 0.05297125106413689, 0.0005635239474908179, 0.053534775011627705, 0.04536367777301084, 0.09998086677903273, 0.012118892942913058, 0.22116979620816332, 0.0030297232357282644, 0.0030297232357282644, 0.06059446471456529, 0.0030297232357282644, 0.5968554774384681, 0.3503865629714893, 0.13650245312422257, 0.1804899398663963, 0.14527977272644532, 0.052563028882276396, 0.06361034493334984, 0.07112655539732218, 0.6661597948209089, 0.06351983814199835, 0.00010303298968693975, 0.010148749484163565, 0.026376445359856577, 0.21044488143557444, 0.023182422679561443, 0.001175875078177386, 0.001175875078177386, 0.9924385659817139, 0.001175875078177386, 0.001175875078177386, 0.001175875078177386, 0.001175875078177386, 0.9029747202289505, 0.03152749266392293, 9.760833642081402e-05, 9.760833642081402e-05, 9.760833642081402e-05, 0.007613450240823494, 0.05749131015185946, 0.009706530653437944, 0.07765224522750355, 0.009706530653437944, 0.019413061306875888, 0.009706530653437944, 0.009706530653437944, 0.048532653267189724, 0.8153485748887873, 0.017161932970792333, 0.017161932970792333, 0.017161932970792333, 0.017161932970792333, 0.017161932970792333, 0.017161932970792333, 0.017161932970792333, 0.8924205144812014, 0.9893983168966345, 0.0022744788894175504, 0.0022744788894175504, 0.0011372394447087752, 0.0011372394447087752, 0.004548957778835101, 0.0011372394447087752, 0.07534956774236644, 0.3147158689890468, 0.2512820468431476, 0.002803704846227588, 0.025817448792345706, 0.3092252803318511, 0.020794144276187945, 0.00011682103525948285, 0.0011038509240554383, 0.0011038509240554383, 0.0011038509240554383, 0.0011038509240554383, 0.0011038509240554383, 0.0011038509240554383, 0.99456968257395, 0.0013372086122851847, 0.0013372086122851847, 0.0013372086122851847, 0.0013372086122851847, 0.0013372086122851847, 0.0013372086122851847, 0.992208790315607, 0.00362045620572648, 0.981143631751876, 0.00362045620572648, 0.00362045620572648, 0.00362045620572648, 0.00362045620572648, 0.00362045620572648, 0.0038006927574685406, 0.0038006927574685406, 0.0038006927574685406, 0.0038006927574685406, 0.0038006927574685406, 0.0038006927574685406, 0.9805787314268835, 0.01977442775349015, 0.07857272620634581, 0.2708921607292279, 0.009974711344680871, 0.07542281736065712, 0.4829860230056001, 0.06229819717028755, 0.05377572687592333, 0.12099538547082749, 0.7446541400188733, 0.0001745965158309199, 0.07961601121889947, 0.0003491930316618398, 0.0001745965158309199, 0.0001383320656113195, 0.0001383320656113195, 0.0001383320656113195, 0.9990341778449494, 0.0001383320656113195, 0.0001383320656113195, 0.0001383320656113195, 0.0004830522855474248, 0.0004830522855474248, 0.0009661045710948497, 0.9960538127987899, 0.0004830522855474248, 0.0009661045710948497, 0.0004830522855474248, 0.0035215469197764013, 0.0035215469197764013, 0.9754684967780631, 0.0035215469197764013, 0.0035215469197764013, 0.0035215469197764013, 0.0035215469197764013, 0.0005752630281533217, 0.006903156337839861, 0.9813987260295669, 0.0005752630281533217, 0.009204208450453147, 0.0005752630281533217, 0.0005752630281533217, 0.0022522148161989823, 0.0007507382720663275, 0.0007507382720663275, 0.022522148161989823, 0.00300295308826531, 0.9692031092376288, 0.0007507382720663275, 0.002738879173374234, 0.22147572951967098, 0.3524439518101116, 0.06648006720826549, 0.3393720284826437, 0.000248989015761294, 0.017055747579648638, 0.000124494507880647, 0.003977256160157722, 0.003977256160157722, 0.003977256160157722, 0.003977256160157722, 0.003977256160157722, 0.9784050153987996, 0.003977256160157722, 0.004087006559928909, 0.008174013119857817, 0.004087006559928909, 0.004087006559928909, 0.004087006559928909, 0.9686205547031514, 0.004087006559928909, 0.005379425273409597, 0.005379425273409597, 0.9629171239403178, 0.005379425273409597, 0.005379425273409597, 0.005379425273409597, 0.005379425273409597, 0.07659828964980347, 0.24644667104719378, 0.15819211992894194, 0.11989297510404022, 0.0016651802097783362, 0.0016651802097783362, 0.07992865006936015, 0.31471905964810554, 0.15993637394907098, 0.08383761537652915, 0.0012898094673312176, 0.19476122956701386, 0.0012898094673312176, 0.0012898094673312176, 0.003869428401993653, 0.5533282614850924, 0.8031690001443038, 4.995764135997411e-05, 4.995764135997411e-05, 4.995764135997411e-05, 4.995764135997411e-05, 0.19658331875149812, 4.995764135997411e-05, 0.8574845113144711, 0.0005847149753252446, 0.02689688886496125, 0.0002923574876626223, 0.007308937191565557, 0.10700284048451976, 0.0002923574876626223, 0.0029545447149828333, 0.9809088453743007, 0.0029545447149828333, 0.0029545447149828333, 0.0029545447149828333, 0.0029545447149828333, 0.0029545447149828333, 0.002444381284934165, 0.19066174022486487, 0.002444381284934165, 0.21266117178927238, 0.002444381284934165, 0.002444381284934165, 0.00488876256986833, 0.5817627458143313, 0.006692381768597405, 0.10743033891695836, 0.0014089224775994539, 0.01725930035059331, 0.33673247214626945, 0.00035223061939986347, 0.5297548515773947, 0.0007044612387997269, 0.9772459661687233, 0.004054962515222918, 0.004054962515222918, 0.004054962515222918, 0.004054962515222918, 0.004054962515222918, 0.004054962515222918, 0.00440915008578423, 0.0014697166952614101, 0.0014697166952614101, 0.0014697166952614101, 0.0014697166952614101, 0.989119335910929, 0.0014697166952614101, 0.41637088005200307, 0.14709430872655752, 0.24226964859158567, 0.06579044909170895, 0.06114774958609781, 0.025478228994207423, 0.041897532123807764, 0.0003203419372219312, 0.0003203419372219312, 0.0003203419372219312, 0.0003203419372219312, 0.0003203419372219312, 0.9981854763835377, 0.0003203419372219312, 0.019479221012635366, 0.46136401549104855, 0.0001334193220043518, 0.0365568942291924, 0.0053367728801740726, 0.4765738181995447, 0.0005336772880174072, 0.00037026024757697874, 0.8307405754802146, 0.04208624814124992, 0.023326395597349663, 0.0011107807427309362, 0.09947658651568163, 0.00296208198061583, 0.055272685261894376, 0.748342117331821, 0.0002274596101312526, 0.09382708917914169, 0.0002274596101312526, 0.08927789697651664, 0.012851467972415771, 0.0019422690464862755, 0.9895860791847574, 0.002913403569729413, 0.0009711345232431377, 0.0009711345232431377, 0.0019422690464862755, 0.0009711345232431377, 0.9511777689818982, 0.00815432277997593, 0.01582897951407092, 0.0009593320917618741, 0.0014389981376428111, 0.00047966604588093703, 0.021584972064642167, 0.0032254189513457833, 0.0032254189513457833, 0.0032254189513457833, 0.0032254189513457833, 0.9805273612091181, 0.0032254189513457833, 0.0032254189513457833, 0.9907450103134336, 0.0013817922040633664, 0.0013817922040633664, 0.0013817922040633664, 0.0013817922040633664, 0.002763584408126733, 0.0013817922040633664, 0.001203840910620148, 0.001203840910620148, 0.991964910351002, 0.002407681821240296, 0.001203840910620148, 0.001203840910620148, 0.001203840910620148, 0.03954525653641955, 0.8487474462592733, 0.03895502882692075, 0.038069687262672555, 0.03187229631293516, 0.0005902277094987993, 0.0020657969832457977, 0.2204715140762905, 0.1361465260777093, 0.10599395461154995, 0.26355391703556563, 0.17882008061032464, 0.00010221210666494692, 0.09490394103840322, 0.00010974760723520711, 0.6375238504293181, 0.044118538108553255, 0.00010974760723520711, 0.045764752217081366, 0.18097380433085652, 0.0912002616124571, 0.9978924344101711, 0.0005763167394803182, 0.0002881583697401591, 0.0002881583697401591, 0.0002881583697401591, 0.0002881583697401591, 0.0002881583697401591, 0.0018230305907545336, 0.020053336498299868, 0.0018230305907545336, 0.16589578375866254, 0.023699397679808935, 0.0018230305907545336, 0.0018230305907545336, 0.7802570928429403, 0.38231657571444916, 0.006443537792940154, 0.004295691861960103, 0.0021478459309800515, 0.0021478459309800515, 0.0021478459309800515, 0.0021478459309800515, 0.5971011688124542, 0.010466356934202982, 0.07326449853942088, 0.010466356934202982, 0.020932713868405964, 0.04186542773681193, 0.010466356934202982, 0.010466356934202982, 0.8268421978020356, 0.024780448591081274, 0.009696697274770934, 0.9050250789786205, 0.002154821616615763, 0.002154821616615763, 0.002154821616615763, 0.052793129607086195, 0.060755256042421754, 0.7982109465032888, 0.02700233601885411, 0.07681069908065934, 0.024265612773699978, 0.00018244821634360887, 0.012406478711365403, 0.0032481418190999384, 0.9809388293681813, 0.0032481418190999384, 0.0032481418190999384, 0.0032481418190999384, 0.0032481418190999384, 0.0032481418190999384, 0.015227476349718697, 0.030454952699437394, 0.015227476349718697, 0.015227476349718697, 0.015227476349718697, 0.015227476349718697, 0.015227476349718697, 0.8831936282836844, 0.13102117963535048, 0.24278685044250248, 0.026057726620768586, 0.44884172480512635, 0.018104364278686606, 0.012243992026626203, 0.12087017769874585, 0.05519881288131642, 0.08235544809565391, 0.6871809432497573, 0.003837350628112906, 0.16677716191413786, 0.003837350628112906, 0.0008855424526414399, 0.010866083856508783, 0.9752310261216632, 0.0010866083856508782, 0.0010866083856508782, 0.0005433041928254391, 0.0005433041928254391, 0.010866083856508783, 0.0017320576407520384, 0.990736970510166, 0.0017320576407520384, 0.0017320576407520384, 0.0017320576407520384, 0.0017320576407520384, 0.0017320576407520384, 0.05009228821915559, 0.11784997276680566, 0.06388581685921292, 0.5452073688780558, 0.059771957440248456, 0.15777860830381374, 0.005565809802128399, 0.00024133140203528447, 0.37261568474247925, 0.07951869697062623, 0.08325933370217314, 0.002051316917299918, 0.4622703005985874, 0.00012066570101764223, 0.00012066570101764223, 0.000811497940930802, 0.004868987645584812, 0.033271415578162884, 0.054370362042363736, 0.8325968873950029, 0.025967934109785665, 0.047066880573986516, 0.0011405249259584006, 0.0005702624629792003, 0.0005702624629792003, 0.8707907809692389, 0.02052944866725121, 0.05588572137196163, 0.05018309674216963, 0.0011304522663616388, 0.0005652261331808194, 0.0011304522663616388, 0.942231964012426, 0.027130854392679333, 0.013000201063158847, 0.015261105595882125, 0.0016023844382187231, 0.11537167955174805, 0.03749579585431812, 0.014421459943968507, 0.028842919887937014, 0.7813226520754494, 0.0208309976968434, 0.7729128677493421, 0.11339481388529234, 4.21228877731398e-05, 0.08774197523145019, 4.21228877731398e-05, 0.025821330204934694, 4.21228877731398e-05, 0.0023683284960914586, 0.0023683284960914586, 0.0023683284960914586, 0.0023683284960914586, 0.0023683284960914586, 0.9852246543740468, 0.0023683284960914586, 0.0026213086276416185, 0.9856120439932485, 0.0026213086276416185, 0.0026213086276416185, 0.0026213086276416185, 0.0026213086276416185, 0.0026213086276416185, 0.03283701128125518, 0.0020523132050784486, 0.9461163875411648, 0.004104626410156897, 0.0020523132050784486, 0.0020523132050784486, 0.008209252820313795, 0.003719068931323, 0.003719068931323, 0.003719068931323, 0.003719068931323, 0.003719068931323, 0.003719068931323, 0.978115128937949, 0.9732943835793966, 0.0051046908229688635, 0.0017015636076562878, 0.010209381645937727, 0.0017015636076562878, 0.0051046908229688635, 0.0017015636076562878, 0.5024720290062369, 0.0753961050573306, 5.6223791989060854e-05, 0.002305175471551495, 5.6223791989060854e-05, 0.18210886225256812, 0.23760174494577116, 0.9749839781233605, 0.005025690608883302, 0.002512845304441651, 0.002512845304441651, 0.002512845304441651, 0.007538535913324952, 0.005025690608883302, 0.096826807470227, 0.027129151067967927, 0.03109927073645104, 0.0002205622038046173, 0.0002205622038046173, 0.8438709917564658, 0.0002205622038046173, 0.0002205622038046173, 0.00462202766920191, 0.10168460872244202, 0.00462202766920191, 0.00462202766920191, 0.00462202766920191, 0.00462202766920191, 0.00462202766920191, 0.873563229479161, 0.001537773730672956, 0.979561866438673, 0.00768886865336478, 0.003075547461345912, 0.001537773730672956, 0.001537773730672956, 0.003075547461345912, 0.9621346998976377, 0.004565289204733749, 0.019402479120118433, 0.010271900710650936, 0.0011413223011834373, 0.0011413223011834373, 0.0011413223011834373, 0.03622162867249074, 0.4783554770716238, 0.0005749464868649324, 0.24780193583878588, 0.004024625408054527, 0.0028747324343246622, 0.01207387622416358, 0.2179047185218094, 0.0015063724887272275, 0.5091539011898029, 0.015063724887272275, 0.007531862443636138, 0.003012744977454455, 0.003012744977454455, 0.04971029212799851, 0.4097333169338059, 0.004299895865932555, 0.4471891700569857, 0.004299895865932555, 0.004299895865932555, 0.004299895865932555, 0.00859979173186511, 0.00859979173186511, 0.511687608045974, 0.003209306552300159, 0.006418613104600318, 0.003209306552300159, 0.003209306552300159, 0.003209306552300159, 0.003209306552300159, 0.003209306552300159, 0.9788384984515486, 0.015215183710064648, 0.030430367420129296, 0.015215183710064648, 0.015215183710064648, 0.015215183710064648, 0.015215183710064648, 0.015215183710064648, 0.8976958388938142, 0.0014076267475873424, 0.0014076267475873424, 0.0014076267475873424, 0.0014076267475873424, 0.990969230301489, 0.0014076267475873424, 0.0014076267475873424, 0.001977861188499435, 0.001977861188499435, 0.001977861188499435, 0.001977861188499435, 0.9889305942497174, 0.001977861188499435, 0.001977861188499435, 0.00023669653869545253, 0.00023669653869545253, 0.00023669653869545253, 0.00023669653869545253, 0.00023669653869545253, 0.00023669653869545253, 0.9986226967561141, 0.0019014297846946385, 0.04753574461736596, 0.0019014297846946385, 0.0019014297846946385, 0.003802859569389277, 0.005704289354083915, 0.9355034540697621, 0.0028436490609005023, 0.0014218245304502511, 0.03981108685260703, 0.2232264512806894, 0.15118734173787668, 0.006161239631951088, 0.5758389348323517, 0.0004305944564999871, 0.0012917833694999614, 0.0008611889129999742, 0.2729968854209918, 0.0034447556519998966, 0.0017223778259999483, 0.7186621478984785, 0.0007517145122463971, 0.0007517145122463971, 0.0007517145122463971, 0.10072974464101721, 0.002255143536739191, 0.0007517145122463971, 0.8937885550609661, 0.5567939957833783, 0.11152682450432815, 0.26870053512091113, 0.03255491110766641, 0.012181837704804204, 0.0007001056152186324, 0.017572650941987674, 0.17188355599852248, 0.026417900630123108, 0.12841106129072496, 0.008694498941559504, 0.034777995766238017, 0.6270071352086181, 0.00267523044355677, 0.15172413080453986, 0.1631750086011089, 0.5692291620452349, 0.0022600416703754695, 0.09477108071107802, 0.01099886946249395, 0.007684141679276596, 0.00023550812577657234, 0.00023550812577657234, 0.03673926762114528, 0.00023550812577657234, 0.00023550812577657234, 0.9620506937972979, 0.00023550812577657234, 0.0010045628562612972, 0.0010045628562612972, 0.0010045628562612972, 0.0010045628562612972, 0.0010045628562612972, 0.993512664842423, 0.0010045628562612972, 0.0021884744634466788, 0.0021884744634466788, 0.0021884744634466788, 0.0021884744634466788, 0.0021884744634466788, 0.0021884744634466788, 0.9891904574778989, 0.00022844968677113457, 0.8045997968079359, 0.06887758056149706, 0.00011422484338556729, 0.011536709181942295, 0.11456751791572398, 0.00011422484338556729, 0.0024417126638965636, 0.0024417126638965636, 0.0024417126638965636, 0.0024417126638965636, 0.0024417126638965636, 0.9864519162142118, 0.0024417126638965636, 0.01412225707120048, 0.0010087326479428914, 0.01311352442325759, 0.05648902828480192, 0.9129030463883168, 0.0010087326479428914, 0.0010087326479428914, 0.007826852410212661, 0.0026089508034042204, 0.9731386496697743, 0.0013044754017021102, 0.0013044754017021102, 0.011740278615318992, 0.0013044754017021102, 0.004525271876682179, 0.004525271876682179, 0.9729334534866684, 0.004525271876682179, 0.004525271876682179, 0.004525271876682179, 0.004525271876682179, 0.0015671194989867517, 0.007835597494933759, 0.9810168063657067, 0.0015671194989867517, 0.0031342389979735034, 0.0015671194989867517, 0.0015671194989867517, 0.0009012166529130776, 0.9670054685757323, 0.0009012166529130776, 0.0009012166529130776, 0.0009012166529130776, 0.0009012166529130776, 0.028838932893218483, 0.019571106533621912, 0.004231590601864197, 0.8817576916634521, 0.012165822980359566, 0.039671161892476846, 0.00899213002896142, 0.033852724814913575, 0.004423294761166465, 0.004423294761166465, 0.004423294761166465, 0.004423294761166465, 0.004423294761166465, 0.004423294761166465, 0.004423294761166465, 0.9731248474566224, 0.02745560151997352, 0.02745560151997352, 0.02745560151997352, 0.02745560151997352, 0.02745560151997352, 0.02745560151997352, 0.02745560151997352, 0.8236680455992055, 0.5499357448053367, 0.2912294132436864, 0.09793882551976762, 0.0014783218946380018, 0.00036958047365950045, 0.0018479023682975023, 0.00036958047365950045, 0.05691539294356307, 0.0007340129575578823, 0.0007340129575578823, 0.0007340129575578823, 0.0007340129575578823, 0.0007340129575578823, 0.9960555834060463, 0.0007340129575578823, 0.004505168222033829, 0.004505168222033829, 0.004505168222033829, 0.009010336444067658, 0.004505168222033829, 0.973116335959307, 0.004505168222033829, 0.06695045827285283, 0.13173805298916708, 0.12721570191640463, 0.1666388058333121, 0.4465330124453708, 0.013173805298916708, 0.04777962220353373, 0.04609482956756115, 0.10706328146651557, 0.0001339965975801196, 0.5055691626697913, 0.06793627497312064, 0.20273685213872097, 0.0703482137295628, 0.0008410669758409877, 0.0008410669758409877, 0.0008410669758409877, 0.9714323570963408, 0.021026674396024694, 0.0016821339516819753, 0.0033642679033639507, 0.3127814561549263, 0.17610688509856365, 0.0073076398500225665, 0.04876583424668525, 0.03668290498971724, 0.34743848079018186, 0.07090581240615956, 0.00913985893537636, 0.01827971787075272, 0.00913985893537636, 0.00913985893537636, 0.00913985893537636, 0.00913985893537636, 0.01827971787075272, 0.9231257524730123, 0.8420239943703189, 0.0008557154414332509, 0.10910371878273949, 0.00042785772071662545, 0.00042785772071662545, 0.04620863383739555, 0.00042785772071662545, 0.011877897343001688, 0.023755794686003376, 0.011877897343001688, 0.011877897343001688, 0.023755794686003376, 0.011877897343001688, 0.011877897343001688, 0.9027201980681283, 0.0030856451433054996, 0.9812351555711489, 0.0030856451433054996, 0.0030856451433054996, 0.0030856451433054996, 0.0030856451433054996, 0.0030856451433054996, 0.02483282023242342, 0.8574060567070846, 0.040810526273440034, 0.01520769611132907, 0.020020258171876245, 0.02598783512695474, 0.015592701076172845, 0.00240987386394034, 0.9583265065602753, 0.0008032912879801134, 0.023697092995413345, 0.011647723675711645, 0.00240987386394034, 0.0008032912879801134, 0.017440757601453003, 0.0031710468366278185, 0.9758896639722111, 0.0007927617091569546, 0.0007927617091569546, 0.0007927617091569546, 0.0007927617091569546, 0.0016444448339284416, 0.0016444448339284416, 0.0016444448339284416, 0.9883113451909934, 0.003288889667856883, 0.0016444448339284416, 0.0016444448339284416, 0.0006461772105627631, 0.0006461772105627631, 0.0025847088422510526, 0.0368321010020775, 0.025847088422510527, 0.007107949316190395, 0.9259719427364396, 0.009438676322176306, 0.0004103772313989699, 0.009438676322176306, 0.13706599528725594, 0.0057452812395855785, 0.002462263388393819, 0.8355280431283026, 0.5737468279982139, 0.13352851100803145, 0.260489303530254, 0.011776598664209015, 0.00724713763951324, 0.00018117844098783102, 0.012999553140876875, 0.029649026131648156, 0.0006176880444093366, 0.963593349278565, 0.0006176880444093366, 0.0006176880444093366, 0.0037061282664560195, 0.0006176880444093366, 0.9750499640670449, 0.0018750960847443172, 0.011250576508465903, 0.0018750960847443172, 0.0018750960847443172, 0.0056252882542329515, 0.0018750960847443172, 0.04693959516723539, 0.007823265861205898, 0.007823265861205898, 0.015646531722411795, 0.007823265861205898, 0.007823265861205898, 0.007823265861205898, 0.9074988398998842, 0.5741683992272256, 0.11956375462455744, 0.24182416205076598, 0.02157322241320878, 0.019787600963466837, 0.00010932376222909855, 0.02299443132218706, 0.07277826991447242, 0.0006616206355861128, 0.9222991660070413, 0.0013232412711722257, 0.0019848619067583386, 0.0006616206355861128, 0.0006616206355861128, 0.9861355169697366, 0.0016192701428074492, 0.004857810428422348, 0.0016192701428074492, 0.0016192701428074492, 0.0016192701428074492, 0.0016192701428074492, 0.9867830642840671, 0.0014671172528755087, 0.010563244220703661, 0.0002934234505751017, 0.0002934234505751017, 0.0002934234505751017, 0.0002934234505751017, 0.001723088302322247, 0.9907757738352921, 0.001723088302322247, 0.001723088302322247, 0.001723088302322247, 0.001723088302322247, 0.001723088302322247, 0.0006124133957314618, 0.31254955089294967, 0.036701059929906896, 0.07130241678873449, 0.229698767213279, 0.10187934276132676, 0.24728378043356813, 0.011353556580524815, 0.02270711316104963, 0.011353556580524815, 0.011353556580524815, 0.011353556580524815, 0.011353556580524815, 0.011353556580524815, 0.9082845264419852, 0.05438864483161166, 0.3100617615614101, 0.21768739652994265, 0.04462658037465572, 0.31484318088726604, 0.037122408377131766, 0.02125075255935987, 0.004433259221981078, 0.004433259221981078, 0.004433259221981078, 0.004433259221981078, 0.004433259221981078, 0.975317028835837, 0.004433259221981078, 0.001560452081412454, 0.02982197311143801, 0.9562103587766315, 0.00017338356460138378, 0.01196346595749548, 0.00017338356460138378, 0.00017338356460138378, 0.08179675705833964, 0.0006596512665995131, 0.0006596512665995131, 0.0006596512665995131, 0.0006596512665995131, 0.9149363067735248, 0.0006596512665995131, 0.0022230334531961934, 0.0022230334531961934, 0.0022230334531961934, 0.0022230334531961934, 0.0022230334531961934, 0.9870268532191098, 0.0022230334531961934, 0.007500102500584231, 0.0037500512502921155, 0.0037500512502921155, 0.0037500512502921155, 0.0037500512502921155, 0.9712632738256579, 0.0037500512502921155, 0.0015357485799147152, 0.0015357485799147152, 0.0015357485799147152, 0.9874863368851619, 0.0046072457397441455, 0.0015357485799147152, 0.0015357485799147152, 0.009409868495243856, 0.004704934247621928, 0.9598065865148734, 0.004704934247621928, 0.004704934247621928, 0.007057401371432892, 0.009409868495243856, 0.005077920620496555, 0.005077920620496555, 0.969882838514842, 0.005077920620496555, 0.005077920620496555, 0.005077920620496555, 0.005077920620496555, 0.9875648770931026, 0.002234309676681228, 0.002234309676681228, 0.002234309676681228, 0.002234309676681228, 0.002234309676681228, 0.002234309676681228, 0.003333478221119354, 0.003333478221119354, 0.003333478221119354, 0.003333478221119354, 0.003333478221119354, 0.003333478221119354, 0.9800425970090901, 0.0010193570369520573, 0.0010193570369520573, 0.0010193570369520573, 0.994892468065208, 0.0010193570369520573, 0.0010193570369520573, 0.0010193570369520573, 0.006212796036938603, 0.006212796036938603, 0.006212796036938603, 0.03727677622163162, 0.006212796036938603, 0.006212796036938603, 0.006212796036938603, 0.9319194055407904, 0.0021948665337122937, 0.9909822399711007, 0.0021948665337122937, 0.0010974332668561469, 0.0010974332668561469, 0.0010974332668561469, 0.0010974332668561469, 0.03801401924162458, 0.9602341260434369, 0.0003801401924162458, 0.0003801401924162458, 0.0003801401924162458, 0.0003801401924162458, 0.0003801401924162458, 0.9081703057909875, 9.202252566531437e-05, 9.202252566531437e-05, 9.202252566531437e-05, 9.202252566531437e-05, 0.09137836798565717, 9.202252566531437e-05, 0.2512558103252126, 0.5193025028116853, 0.007983261802769663, 0.0603517237372424, 0.010196013715493864, 0.1508142284044965, 8.677458481271374e-05, 0.8160389738354404, 0.0003282538108750766, 0.18218086503566752, 0.0003282538108750766, 0.0003282538108750766, 0.0003282538108750766, 0.0003282538108750766, 0.0046568200932868425, 0.0046568200932868425, 0.0046568200932868425, 0.0046568200932868425, 0.0046568200932868425, 0.0046568200932868425, 0.9732753994969501, 0.022140602618692863, 0.3232527982329158, 0.008856241047477145, 0.004428120523738572, 0.004428120523738572, 0.008856241047477145, 0.004428120523738572, 0.6199368733234002, 0.014610245247621022, 0.014610245247621022, 0.014610245247621022, 0.014610245247621022, 0.014610245247621022, 0.014610245247621022, 0.014610245247621022, 0.9058352053525034, 0.7335742868580682, 0.00033427855404787797, 0.2647486148059193, 0.00033427855404787797, 0.0005014178310718169, 0.0005014178310718169, 0.00016713927702393899, 0.0011669642958669433, 0.9825839371199663, 0.0011669642958669433, 0.0011669642958669433, 0.0011669642958669433, 0.01050267866280249, 0.0011669642958669433, 0.08393038840064156, 0.417854319208807, 0.09632778698271563, 0.13147441196289567, 0.11907701338082158, 0.11610163772112381, 0.03514662498018003, 0.0023159959187434285, 0.9912462532221874, 0.0034739938781151425, 0.0005789989796858571, 0.0005789989796858571, 0.0005789989796858571, 0.0005789989796858571, 0.0037316920450996636, 0.052243688631395294, 0.0018658460225498318, 0.06592655946342739, 0.13496286229777116, 0.01119507613529899, 0.7301677434911675, 0.0007961396375110138, 0.9438235402693068, 0.02428225894408592, 0.028661026950396497, 0.0007961396375110138, 0.0011942094562665208, 0.0007961396375110138, 0.0003980698187555069, 0.029826060416781604, 0.09113518460683268, 0.043289212688245524, 0.020091165697415383, 0.05530248702278256, 0.7597360389496869, 0.0004142508391219667, 0.0007011728218757723, 0.9956654070635966, 0.0007011728218757723, 0.0007011728218757723, 0.0007011728218757723, 0.0007011728218757723, 0.0007011728218757723, 0.0011792315523405882, 0.9940921986231157, 0.0011792315523405882, 0.0011792315523405882, 0.0011792315523405882, 0.0011792315523405882, 0.0011792315523405882, 0.0009499160272795487, 0.00018998320545590976, 0.0003799664109118195, 0.05623502881494929, 0.07181365166233389, 0.8689831817553312, 0.001519865643647278, 0.012189575055017825, 0.08992309466816428, 0.03536975056947795, 0.5261500183583924, 0.25558141795684913, 0.023180175514460125, 0.05755078058762514, 0.0007596057306884169, 0.0007596057306884169, 0.06988372722333436, 0.00037980286534420845, 0.06988372722333436, 0.8583544756779111, 0.00037980286534420845, 0.00016015991514815446, 0.00016015991514815446, 0.0009609594908889268, 0.00016015991514815446, 0.023063027781334244, 0.9750535634219644, 0.00032031983029630893, 0.00016119381770059266, 0.00048358145310177796, 0.00016119381770059266, 0.9292823590439167, 0.06963572924665602, 0.00016119381770059266, 0.00016119381770059266, 0.0007836664115276403, 0.0007836664115276403, 0.0007836664115276403, 0.9592076877098318, 0.0368323213417991, 0.0007836664115276403, 0.0007836664115276403, 0.06224382491066247, 0.0006224382491066248, 0.0003112191245533124, 0.047305306932103476, 0.8885306005997068, 0.0006224382491066248, 0.0003112191245533124, 0.0005237485628616988, 0.0005237485628616988, 0.0005237485628616988, 0.0005237485628616988, 0.9972172636886744, 0.0005237485628616988, 0.0005237485628616988, 0.0017137036352821205, 0.003427407270564241, 0.0017137036352821205, 0.003427407270564241, 0.0017137036352821205, 0.0017137036352821205, 0.9836658866519371, 0.005881577725173619, 0.005881577725173619, 0.005881577725173619, 0.0019605259083912063, 0.003921051816782413, 0.0019605259083912063, 0.9704603246536471, 0.00855424045353699, 0.00855424045353699, 0.00855424045353699, 0.00855424045353699, 0.00855424045353699, 0.00855424045353699, 0.00855424045353699, 0.940966449889069, 0.0005200781532290751, 0.00026003907661453757, 0.0005200781532290751, 0.08477273897633926, 0.913257237070256, 0.00026003907661453757, 0.00026003907661453757, 0.0011862740785603461, 0.0011862740785603461, 0.0023725481571206923, 0.04982351129953454, 0.9264800553556304, 0.0023725481571206923, 0.016607837099844844, 0.002276240898379224, 0.31412124397633295, 0.056336962234885796, 0.25664616129225754, 0.22307160804116397, 0.000569060224594806, 0.0853590336892209, 0.06202756448083386, 0.00031847019334500874, 0.00031847019334500874, 0.00031847019334500874, 0.9977671157499124, 0.00031847019334500874, 0.00031847019334500874, 0.00031847019334500874, 0.0007431100059470119, 0.0007431100059470119, 0.0007431100059470119, 0.995024297963049, 0.0007431100059470119, 0.0007431100059470119, 0.0007431100059470119, 0.0030023539752486775, 0.0030023539752486775, 0.0030023539752486775, 0.0030023539752486775, 0.9817697499063175, 0.0030023539752486775, 0.0030023539752486775, 0.9912256426085612, 0.0013163687152836136, 0.0026327374305672273, 0.0013163687152836136, 0.0013163687152836136, 0.0013163687152836136, 0.0013163687152836136, 0.002301295058412603, 0.0011506475292063015, 0.0011506475292063015, 0.0011506475292063015, 0.0011506475292063015, 0.9918581701758318, 0.0011506475292063015, 0.0007937459217810336, 0.0007937459217810336, 0.0007937459217810336, 0.9771012297124523, 0.0007937459217810336, 0.0007937459217810336, 0.018256156200963772, 0.9769211204371814, 0.0046520053354151495, 0.0046520053354151495, 0.0046520053354151495, 0.0046520053354151495, 0.0046520053354151495, 0.0046520053354151495, 0.987453541360736, 0.0022857720864831853, 0.0022857720864831853, 0.0022857720864831853, 0.0022857720864831853, 0.0022857720864831853, 0.0022857720864831853, 0.0012419133906581975, 0.0012419133906581975, 0.0012419133906581975, 0.993530712526558, 0.0012419133906581975, 0.0012419133906581975, 0.0012419133906581975, 0.02860769512844529, 0.0022005919329573303, 0.9594580827693959, 0.0022005919329573303, 0.0022005919329573303, 0.0022005919329573303, 0.0022005919329573303, 0.0015999889967384328, 0.0015999889967384328, 0.0015999889967384328, 0.0015999889967384328, 0.9887931999843514, 0.0015999889967384328, 0.0015999889967384328, 0.983494276949874, 0.007213894451955066, 0.002404631483985022, 0.002404631483985022, 0.002404631483985022, 0.002404631483985022, 0.002404631483985022, 0.003910490248251946, 0.003910490248251946, 0.003910490248251946, 0.003910490248251946, 0.003910490248251946, 0.003910490248251946, 0.9776225620629864, 0.006569638170990655, 0.006569638170990655, 0.9657368111356263, 0.006569638170990655, 0.006569638170990655, 0.006569638170990655, 0.006569638170990655, 0.9840005795444189, 0.0026739146183272253, 0.0026739146183272253, 0.0026739146183272253, 0.0026739146183272253, 0.0026739146183272253, 0.0026739146183272253, 0.9765242248522408, 0.0059004484885331766, 0.0029502242442665883, 0.0029502242442665883, 0.0029502242442665883, 0.008850672732799766, 0.0029502242442665883, 0.16031291475037307, 0.0006142257270129236, 0.836575440191602, 0.0006142257270129236, 0.0006142257270129236, 0.0006142257270129236, 0.0006142257270129236, 0.041383678419588885, 0.06930012589585394, 0.3549176488188471, 0.012064394386727607, 0.5215746317424796, 0.0002805673113192467, 0.00042085096697887003, 0.001944444722325477, 0.001944444722325477, 0.001944444722325477, 0.001944444722325477, 0.9897223636636678, 0.001944444722325477, 0.001944444722325477, 0.003867786701501696, 0.003867786701501696, 0.003867786701501696, 0.003867786701501696, 0.003867786701501696, 0.978550035479929, 0.003867786701501696, 0.0064076165780011995, 0.0064076165780011995, 0.96114248670018, 0.0064076165780011995, 0.0064076165780011995, 0.0064076165780011995, 0.0064076165780011995, 0.5381520224121791, 0.07294320008051268, 0.26868416756929336, 0.02025530184053906, 0.028393592758612786, 0.06414178916170701, 0.007414887280911619, 0.002331900725208918, 0.002331900725208918, 0.002331900725208918, 0.002331900725208918, 0.9863940067633723, 0.002331900725208918, 0.002331900725208918, 0.005282566787371864, 0.0017608555957906212, 0.0017608555957906212, 0.0035217111915812425, 0.9843182780469573, 0.0017608555957906212, 0.0017608555957906212, 0.000596933638661018, 0.000596933638661018, 0.000596933638661018, 0.000596933638661018, 0.9968791765638999, 0.000596933638661018, 0.000596933638661018, 0.0010772546677848163, 0.0010772546677848163, 0.0010772546677848163, 0.0010772546677848163, 0.0021545093355696326, 0.0010772546677848163, 0.9921515490298158, 0.2071190674753851, 0.2655300306462362, 0.09475556247715847, 0.10728429080945698, 0.1571170255726082, 0.09328823393373613, 0.07494662714095679, 0.0002304518164940212, 0.6829823668161141, 0.1687675469457882, 0.009755793564913563, 0.012290763546347797, 0.0754345612657096, 0.050622582356519986, 0.0014096128612850717, 0.7446783372903135, 0.0006041197976936021, 0.03181697601186304, 0.0004027465317957347, 0.0875973706655723, 0.13371184855618393, 0.0009472805691708676, 0.24755598874332005, 0.04641674788937251, 0.0003157601897236225, 0.02841841707512603, 0.6728849643010396, 0.00378912227668347, 0.19123301230438414, 0.20482903966617352, 0.029147039050110596, 0.23202109438975232, 0.07642211458260705, 0.007908800230060497, 0.25832451987399846, 0.14645284938640962, 0.057039530813654274, 0.0023124134113643624, 0.0007708044704547875, 0.0007708044704547875, 0.790845386686612, 0.001541608940909575, 0.0007708044704547875, 0.0010421369420939952, 0.0010421369420939952, 0.0010421369420939952, 0.9921143688734835, 0.003126410826281986, 0.0010421369420939952, 0.0010421369420939952, 0.00023498108260914936, 0.9984346200062756, 0.00023498108260914936, 0.00023498108260914936, 0.00023498108260914936, 0.00023498108260914936, 0.00023498108260914936, 0.00087029176309832, 0.9860405675903966, 0.00087029176309832, 0.00087029176309832, 0.00087029176309832, 0.00174058352619664, 0.0087029176309832, 0.9852968103390138, 0.0019785076512831602, 0.0019785076512831602, 0.0019785076512831602, 0.0019785076512831602, 0.0039570153025663204, 0.0019785076512831602, 0.0018010046718486485, 0.0009005023359243242, 0.0009005023359243242, 0.01260703270294054, 0.9743435274701189, 0.004502511679621621, 0.003602009343697297, 0.15357814011602822, 0.05107448539655442, 0.7655852550587688, 0.005320258895474418, 0.022167745397810076, 0.0007093678527299225, 0.001418735705459845, 0.004152594265470167, 0.004152594265470167, 0.004152594265470167, 0.004152594265470167, 0.004152594265470167, 0.004152594265470167, 0.971707058120019, 0.20273849687314188, 0.06470377559781124, 0.6140976520374085, 0.014901475592223195, 0.08882063741154088, 0.00039214409453218935, 0.014313259450424911, 0.0025427272511099794, 0.0005085454502219959, 0.05492290862397556, 0.038140908766649696, 0.15307218051682075, 0.0020341818008879835, 0.748578902726778, 0.0021379449929964218, 0.0021379449929964218, 0.0021379449929964218, 0.0021379449929964218, 0.0021379449929964218, 0.0021379449929964218, 0.9877305867643468, 0.0018865729690183306, 0.0018865729690183306, 0.0018865729690183306, 0.0018865729690183306, 0.0018865729690183306, 0.0018865729690183306, 0.9885642357656053, 0.981964655287379, 0.0030307551089116635, 0.006061510217823327, 0.0030307551089116635, 0.0030307551089116635, 0.0030307551089116635, 0.0030307551089116635, 0.4282515513639245, 0.2139433716292633, 0.19115944722850312, 0.07690818149252233, 0.0168143372215217, 0.02245228066858026, 0.0504430116645651, 0.24681110025310024, 0.00020854338846903274, 0.6472144061136431, 0.003128150827035491, 0.09791112088621087, 0.004483682852084204, 0.00020854338846903274, 0.008248247157176513, 0.0016496494314353028, 0.0016496494314353028, 0.0016496494314353028, 0.0016496494314353028, 0.9848407105668758, 0.0016496494314353028, 0.33509051565517306, 0.22073070611810958, 0.2587520140754515, 0.04793347773610422, 0.08580684286092731, 0.0009616284113724613, 0.05067042013770277, 0.0035766904682935645, 0.0035766904682935645, 0.9764364978441432, 0.0035766904682935645, 0.0035766904682935645, 0.0035766904682935645, 0.0035766904682935645, 0.0016690468633893147, 0.0016690468633893147, 0.0016690468633893147, 0.9880757431264743, 0.0033380937267786293, 0.0016690468633893147, 0.0016690468633893147, 0.01516701144728646, 0.7978371021667412, 0.013598010263084413, 0.09204806947318679, 0.06276004736808191, 0.0005230003947340159, 0.01778201342095654, 0.0018281871140130074, 0.989049228681037, 0.0018281871140130074, 0.0018281871140130074, 0.0018281871140130074, 0.0018281871140130074, 0.0018281871140130074, 0.15217725841793056, 0.20739435392026995, 0.054424505614745995, 0.34120994660895365, 0.02087153370662589, 0.1553476179683041, 0.06855902527682808, 0.9639211996827565, 0.0012955930103262857, 0.02979863923750457, 0.0012955930103262857, 0.0012955930103262857, 0.0012955930103262857, 0.0012955930103262857, 0.0006355419528137854, 0.0006355419528137854, 0.0006355419528137854, 0.0006355419528137854, 0.0006355419528137854, 0.0006355419528137854, 0.9965297820120156, 0.0005928703641725276, 0.0011857407283450553, 0.0011857407283450553, 0.0005928703641725276, 0.7582811957766629, 0.0005928703641725276, 0.23714814566901105, 0.00039021253172028713, 0.00039021253172028713, 0.0007804250634405743, 0.02809530228386067, 0.9692879287931931, 0.00039021253172028713, 0.00039021253172028713, 0.037306582601857, 0.023730180982220964, 0.021334345402285196, 0.42189523688583236, 0.4937703042839055, 0.0014831363113888103, 0.00045634963427348014, 0.0008786623314916427, 0.0008786623314916427, 0.15376590801103748, 0.0008786623314916427, 0.8408798512375021, 0.0008786623314916427, 0.0008786623314916427, 0.00044776126890533265, 0.00022388063445266633, 0.00022388063445266633, 0.40052245503582, 0.12649255846575647, 0.0006716419033579989, 0.4712687355228626, 0.0004953603594150038, 0.0004953603594150038, 0.0004953603594150038, 0.9966650431429875, 0.0009907207188300075, 0.0004953603594150038, 0.0004953603594150038, 0.9833543276317573, 0.0026577143990047496, 0.0026577143990047496, 0.0026577143990047496, 0.0026577143990047496, 0.0026577143990047496, 0.0026577143990047496, 0.0026720812138409647, 0.0026720812138409647, 0.0026720812138409647, 0.0026720812138409647, 0.0026720812138409647, 0.0026720812138409647, 0.983325886693475, 0.0018775106669378146, 0.9875706108092904, 0.0018775106669378146, 0.0037550213338756293, 0.0018775106669378146, 0.0018775106669378146, 0.0018775106669378146, 0.9379412616783751, 0.0010586244488469245, 0.05822434468658085, 0.0005293122244234622, 0.0005293122244234622, 0.0005293122244234622, 0.0005293122244234622, 0.002742119794882739, 0.9844210063629032, 0.002742119794882739, 0.002742119794882739, 0.002742119794882739, 0.002742119794882739, 0.002742119794882739, 0.0019526713486491436, 0.0019526713486491436, 0.0019526713486491436, 0.0019526713486491436, 0.9900043737651159, 0.0019526713486491436, 0.0019526713486491436, 0.14110370124667365, 0.009274421678185122, 0.844634831406145, 0.0006624586912989372, 0.0013249173825978745, 0.0006624586912989372, 0.0013249173825978745, 0.9695290963433014, 0.007984357264003658, 0.009124979730289896, 0.001140622466286237, 0.001140622466286237, 0.010265602196576133, 0.001140622466286237, 0.0015859916970754435, 0.0015859916970754435, 0.0047579750912263305, 0.0015859916970754435, 0.006343966788301774, 0.9769708853984732, 0.006343966788301774, 0.0015859916970754435, 0.0009033331572847981, 0.0009033331572847981, 0.0009033331572847981, 0.0009033331572847981, 0.0009033331572847981, 0.0009033331572847981, 0.9927631398559931, 0.0029930781226013728, 0.9847227023358516, 0.0029930781226013728, 0.0029930781226013728, 0.0029930781226013728, 0.0029930781226013728, 0.0029930781226013728, 0.0015935010648573825, 0.0026558351080956375, 0.824902384574505, 0.0005311670216191275, 0.056834871313246646, 0.11154507454001678, 0.00212466808647651, 0.004567185734940822, 0.002283592867470411, 0.9819449330122768, 0.002283592867470411, 0.002283592867470411, 0.002283592867470411, 0.004567185734940822, 0.00029754275276181857, 0.00029754275276181857, 0.00029754275276181857, 0.00029754275276181857, 0.9982559355159013, 0.00029754275276181857, 0.00029754275276181857, 0.03421193781318011, 0.03421193781318011, 0.017105968906590056, 0.017105968906590056, 0.017105968906590056, 0.017105968906590056, 0.03421193781318011, 0.8210865075163226, 0.23340567359121928, 0.25044857127242115, 0.05905774169742682, 0.07901707106739052, 0.0534071553004508, 0.20661095745072008, 0.11802434490457983, 0.0006951831790364075, 0.0006951831790364075, 0.0006951831790364075, 0.9232032617603491, 0.04101580756314804, 0.0006951831790364075, 0.032673609414711154, 0.0076473613504539585, 0.0038236806752269792, 0.9750385721828797, 0.0038236806752269792, 0.0038236806752269792, 0.0038236806752269792, 0.0038236806752269792, 0.002420108430341548, 0.002420108430341548, 0.002420108430341548, 0.98498413114901, 0.002420108430341548, 0.002420108430341548, 0.002420108430341548, 0.1773329084382164, 0.35987167568643685, 0.12507409499932914, 0.1627832004820511, 0.04091271090426295, 0.02749761320156009, 0.10651988026623763, 0.9729269444141815, 0.019740546698258754, 0.002820078099751251, 0.0014100390498756254, 0.0014100390498756254, 0.0014100390498756254, 0.0014100390498756254, 0.005893163219163927, 0.0029465816095819637, 0.981211675990794, 0.0029465816095819637, 0.0029465816095819637, 0.0029465816095819637, 0.0029465816095819637, 0.0023618984407333082, 0.0023618984407333082, 0.0023618984407333082, 0.0023618984407333082, 0.9849116497857895, 0.0023618984407333082, 0.0023618984407333082, 0.7916745638643021, 0.20703091725364808, 0.0002082806008588009, 0.0002082806008588009, 0.0002082806008588009, 0.0004165612017176018, 0.0002082806008588009, 0.0002733635093778884, 0.0002733635093778884, 0.0002733635093778884, 0.9983235362480484, 0.0002733635093778884, 0.0002733635093778884, 0.0002733635093778884, 0.0010259482068402102, 0.0010259482068402102, 0.0010259482068402102, 0.9941438124281636, 0.0010259482068402102, 0.0010259482068402102, 0.0010259482068402102, 0.00294313333023881, 0.001471566665119405, 0.9903643656253596, 0.001471566665119405, 0.001471566665119405, 0.001471566665119405, 0.001471566665119405, 0.003827444536004703, 0.003827444536004703, 0.003827444536004703, 0.003827444536004703, 0.003827444536004703, 0.9759983566811993, 0.003827444536004703, 0.013084832663462477, 0.00043616108878208256, 0.00021808054439104128, 0.9852878995587244, 0.00021808054439104128, 0.00021808054439104128, 0.00021808054439104128, 0.00021808054439104128, 0.00315158116810868, 0.00315158116810868, 0.00315158116810868, 0.00315158116810868, 0.00315158116810868, 0.9832933244499081, 0.00315158116810868, 0.6484486108658316, 0.2287283888362843, 0.059507645437071946, 0.048622100540046585, 6.597299937591125e-05, 0.014514059862700475, 6.597299937591125e-05, 0.026703171879017072, 0.9717632549016213, 0.0003870024910002474, 0.0003870024910002474, 0.0003870024910002474, 0.0003870024910002474, 0.0003870024910002474, 0.0004729027983838336, 0.0974179764670697, 0.6396010348141349, 0.004729027983838336, 0.14021567972080665, 0.1170434425999988, 0.0004729027983838336, 0.011651837809857152, 0.14968130109585726, 0.026568751049949, 0.29968270762605126, 0.15294637652609197, 0.31357528347626556, 0.04583909819702044, 0.0010141182724279297, 0.21904954684443284, 0.0010141182724279297, 0.3407437395357844, 0.32705314285800735, 0.0010141182724279297, 0.029409429900409963, 0.08163652093044835, 0.06808334486267811, 0.20921157388976797, 0.009371796458830186, 0.0609166769823962, 0.05292308588515869, 0.0418974429924173, 0.557621889300396, 0.0009875927352200956, 0.9806795860735549, 0.0009875927352200956, 0.0009875927352200956, 0.0009875927352200956, 0.0009875927352200956, 0.013826298293081338, 0.004785822476050197, 0.004785822476050197, 0.9667361401621397, 0.004785822476050197, 0.004785822476050197, 0.009571644952100394, 0.004785822476050197, 0.0015144935906017184, 0.0015144935906017184, 0.0015144935906017184, 0.006057974362406873, 0.9874498210723205, 0.0015144935906017184, 0.0015144935906017184, 0.0009537373664503236, 0.0009537373664503236, 0.0009537373664503236, 0.9937943358412372, 0.0019074747329006472, 0.0009537373664503236, 0.0009537373664503236, 0.0016373997015729051, 0.0016373997015729051, 0.0016373997015729051, 0.9906268194516076, 0.0016373997015729051, 0.0016373997015729051, 0.0016373997015729051, 0.05680772491435875, 0.15306525879702218, 0.7874181870073615, 0.0005259974529107292, 0.0005259974529107292, 0.0005259974529107292, 0.0005259974529107292, 0.0009659867649310386, 0.07051703383996583, 0.8916057840313486, 0.03284355000765531, 0.0009659867649310386, 0.0019319735298620772, 0.0009659867649310386, 0.0003729700600272954, 0.0003729700600272954, 0.0003729700600272954, 0.04214561678308438, 0.008205341320600499, 0.0007459401200545908, 0.9477169225293576, 0.0014056184070194132, 0.00421685522105824, 0.0014056184070194132, 0.0028112368140388263, 0.0014056184070194132, 0.0014056184070194132, 0.986744121727628, 0.4170803278739957, 0.06904233888330423, 0.0010382306598993116, 0.04014491884944005, 0.006979217213767595, 0.006460101883817939, 0.45924402856212887, 0.061229357712281184, 0.8081514604881833, 0.09545694898001601, 0.024719927026697373, 0.004943985405339474, 0.0019015328482074902, 0.003612912411594231, 0.014632898685272216, 0.001829112335659027, 0.9730877625706023, 0.003658224671318054, 0.001829112335659027, 0.001829112335659027, 0.001829112335659027, 0.3495995582872871, 0.12790788210116585, 0.3470431240840525, 0.008875709761792106, 0.1343133295991582, 0.0002297918384929995, 0.03202723748996181, 0.1636102460279619, 0.6686351355900464, 0.00015100161147020018, 0.0021140225605828025, 0.005436058012927206, 7.550080573510009e-05, 0.15998620735267707, 0.0019008455748686108, 0.3326479756020069, 0.0019008455748686108, 0.08173635971935027, 0.1748777928879122, 0.0019008455748686108, 0.0019008455748686108, 0.40107841629727686, 0.0029215957036939754, 0.0029215957036939754, 0.0029215957036939754, 0.0029215957036939754, 0.0029215957036939754, 0.0029215957036939754, 0.9845777521448698, 0.07414275953777237, 0.6892973006969655, 0.02115926854472675, 0.11108615985981546, 0.05434860509270541, 0.0024742693056333705, 0.04743771496317772, 0.0009910191958540536, 0.0009910191958540536, 0.0009910191958540536, 0.061443190142951326, 0.0009910191958540536, 0.0009910191958540536, 0.9325490632986645, 9.235884739964228e-05, 0.00018471769479928455, 0.6681239020890123, 9.235884739964228e-05, 0.28668186232848963, 0.00018471769479928455, 0.044609323294027226, 0.0035003106086858105, 0.0035003106086858105, 0.9800869704320269, 0.0035003106086858105, 0.0035003106086858105, 0.0035003106086858105, 0.0035003106086858105, 0.1990314079838216, 0.4310116263943493, 0.027079803569449085, 0.27810855300791626, 0.0006177901955007396, 0.0033978460752540677, 0.060749369224239395, 0.313079981305303, 0.09622882266989119, 0.11900805935036869, 0.10869462542023124, 0.018922909210947848, 0.10627321049750332, 0.23774707259821207, 0.7622430114002713, 0.02052525115732023, 0.00021605527534021294, 0.00021605527534021294, 0.00021605527534021294, 0.00021605527534021294, 0.21627133061555318, 0.003511290098218836, 0.001755645049109418, 0.9638491319610705, 0.003511290098218836, 0.021067740589313017, 0.001755645049109418, 0.003511290098218836, 0.9874903453258576, 0.0021847131533757913, 0.0021847131533757913, 0.0021847131533757913, 0.0021847131533757913, 0.0021847131533757913, 0.0021847131533757913, 0.002743013614265268, 0.9847418875212313, 0.002743013614265268, 0.002743013614265268, 0.002743013614265268, 0.002743013614265268, 0.002743013614265268, 0.4577871777538909, 0.2228743710673183, 0.0007932302539818719, 0.1828862341459969, 0.01733441407966267, 0.07281387125521831, 0.045517418397606826, 0.7417059446339851, 0.07440017213742256, 8.502876815705435e-05, 0.01989673174875072, 0.00025508630447116303, 0.11470380824386632, 0.048976570458463306, 0.9761433155472786, 0.014723126931331503, 0.0014723126931331504, 0.0014723126931331504, 0.0014723126931331504, 0.002944625386266301, 0.0014723126931331504, 0.01987942540086445, 0.9031584403710917, 0.018072204909876773, 0.028915527855802835, 0.014005958805154498, 0.0009036102454938386, 0.014457763927901417, 0.8771213868559524, 0.09942394202593889, 0.013902500368033827, 0.001263863669821257, 0.004212878899404191, 0.001263863669821257, 0.002527727339642514, 0.00029091009986573224, 0.00029091009986573224, 0.00029091009986573224, 0.34240118754196686, 0.07156388456697013, 0.00029091009986573224, 0.5847293007301219, 0.0007196416666418821, 0.0007196416666418821, 0.0007196416666418821, 0.0014392833332837643, 0.0007196416666418821, 0.9938251416324392, 0.0007196416666418821, 0.014475697352340921, 0.6484168346630101, 0.07631210017266682, 0.24467075416184927, 0.00015734453643848826, 0.01557710910741034, 0.00031468907287697653, 0.024321109021072224, 0.8369704317784987, 0.0006485629072285926, 0.054155002753587485, 0.0003242814536142963, 0.0003242814536142963, 0.08301605212525985, 0.000521616598592723, 0.001043233197185446, 0.001043233197185446, 0.000521616598592723, 0.030253762718377934, 0.9347369446781596, 0.03129699591556338, 0.03624872094810532, 0.04536152789036644, 0.6504519088565045, 0.03341362545495742, 0.08809046710852411, 0.0002025068209391359, 0.14580491107617785, 0.0002025068209391359, 0.06582205534241886, 0.0006928637404465144, 0.8740476085732779, 0.0003464318702232572, 0.027714549617860577, 0.0003464318702232572, 0.03083243644986989, 0.0010238783854688686, 0.9767799797373008, 0.0010238783854688686, 0.01740593255297077, 0.0010238783854688686, 0.0010238783854688686, 0.0010238783854688686, 0.008296760282974262, 0.016593520565948525, 0.008296760282974262, 0.008296760282974262, 0.008296760282974262, 0.008296760282974262, 0.008296760282974262, 0.9458306722590658, 0.004157200660600381, 0.9769421552410894, 0.004157200660600381, 0.004157200660600381, 0.004157200660600381, 0.004157200660600381, 0.004157200660600381, 0.0017977167652079445, 0.0017977167652079445, 0.0017977167652079445, 0.0017977167652079445, 0.0017977167652079445, 0.0017977167652079445, 0.9905419376295774, 0.0009520446942981413, 0.0009520446942981413, 0.0009520446942981413, 0.9948867055415577, 0.0009520446942981413, 0.0009520446942981413, 0.0009520446942981413, 0.0013102739559254916, 0.0013102739559254916, 0.0013102739559254916, 0.9813951929881932, 0.011792465603329425, 0.0013102739559254916, 0.0013102739559254916, 0.01919905600965257, 0.002742722287093224, 0.016456333722559346, 0.001371361143546612, 0.001371361143546612, 0.001371361143546612, 0.001371361143546612, 0.9572100781955352, 0.06148136974586053, 0.017566105641674434, 0.0526983169250233, 0.008783052820837217, 0.008783052820837217, 0.008783052820837217, 0.008783052820837217, 0.8519561236212101, 0.01636651430631283, 0.0027277523843854718, 0.015002638114120096, 0.0013638761921927359, 0.0013638761921927359, 0.0013638761921927359, 0.0013638761921927359, 0.9615327154958788, 0.07070854225064337, 0.011784757041773893, 0.05892378520886947, 0.011784757041773893, 0.011784757041773893, 0.011784757041773893, 0.011784757041773893, 0.8249329929241725, 0.7897654542651125, 0.03818139282462743, 0.15631308471827338, 0.001025003834218186, 0.002818760544100012, 0.000512501917109093, 0.011275042176400048, 0.001415702157385447, 0.001415702157385447, 0.001415702157385447, 0.001415702157385447, 0.9924072123271983, 0.001415702157385447, 0.001415702157385447, 0.02160720596503768, 0.0009394437376103339, 0.8952898819426482, 0.005636662425662004, 0.07421605527121639, 0.0009394437376103339, 0.0009394437376103339, 0.0013977809217560766, 0.0013977809217560766, 0.0013977809217560766, 0.0013977809217560766, 0.9924244544468144, 0.0013977809217560766, 0.0013977809217560766, 0.03337923903795073, 0.9317846067292095, 0.03086005118602992, 0.0003148984814901012, 0.002834086333410911, 0.0003148984814901012, 0.0003148984814901012, 0.99823706327217, 0.0003138123430594687, 0.0003138123430594687, 0.0003138123430594687, 0.0003138123430594687, 0.0003138123430594687, 0.0003138123430594687, 0.0063731415280745265, 0.0010621902546790877, 0.03823884916844716, 0.044611990696521685, 0.88480448214768, 0.0010621902546790877, 0.02336818560293993, 0.0015209553756044317, 0.0015209553756044317, 0.0007604776878022159, 0.0007604776878022159, 0.21749661871143372, 0.0007604776878022159, 0.7772081969338646, 0.0008023461648508504, 0.8753596658522779, 0.0010697948864678006, 0.007488564205274604, 0.00026744872161695016, 0.0005348974432339003, 0.11420060413043771, 0.00046510696766582997, 0.062091780183388304, 0.000697660451498745, 0.0037208557413266397, 0.8941681453375582, 0.00023255348383291498, 0.03860387831626389, 0.00042875546727608264, 0.9938551731459596, 0.0008575109345521653, 0.00042875546727608264, 0.00042875546727608264, 0.0008575109345521653, 0.0030012882709325784, 0.00042875546727608264, 0.0024464419053177987, 0.9834696459377552, 0.0024464419053177987, 0.0024464419053177987, 0.0024464419053177987, 0.0024464419053177987, 0.0024464419053177987, 0.9697133182379561, 0.0013193378479427974, 0.023748081262970355, 0.0013193378479427974, 0.0013193378479427974, 0.0013193378479427974, 0.0013193378479427974, 0.18733084952007528, 0.19656436674788183, 0.1461712727249376, 0.017528032703632776, 0.05258409811089832, 0.37591370137612434, 0.0236315440915049, 0.031646442274441466, 0.0474696634116622, 0.8825841123205341, 0.008790678409567073, 0.027251103069657927, 0.0008790678409567074, 0.0008790678409567074, 0.026836186300383365, 0.026836186300383365, 0.026836186300383365, 0.026836186300383365, 0.026836186300383365, 0.026836186300383365, 0.026836186300383365, 0.8319217753118844, 0.0021347247819943197, 0.9940701734820215, 0.0007115749273314399, 0.0007115749273314399, 0.0007115749273314399, 0.0007115749273314399, 0.0007115749273314399, 0.12374510314549036, 0.1406734892174003, 0.1604699076403363, 0.05910944723456154, 0.1146513420324809, 0.3936899041847483, 0.00762476893321563, 0.05322649027412382, 0.7811347086175469, 0.0014385537911925357, 0.0367858755176377, 0.008220307378243061, 0.11878344161561223, 0.0004110153689121531, 0.5479813915426879, 0.4508152322713677, 4.062130404319406e-05, 4.062130404319406e-05, 4.062130404319406e-05, 0.0010155326010798517, 4.062130404319406e-05, 0.4135832951103016, 0.5858664243155967, 0.00010378501759355122, 0.00010378501759355122, 0.00010378501759355122, 0.00010378501759355122, 0.00010378501759355122, 0.004278202430559098, 0.9561782432299585, 0.014973708506956843, 0.005347753038198873, 0.004278202430559098, 0.012834607291677295, 0.002139101215279549, 0.0029573326746263405, 0.0029573326746263405, 0.0029573326746263405, 0.0029573326746263405, 0.9818344479759451, 0.0029573326746263405, 0.0029573326746263405, 0.011503672079006499, 0.37019912338059957, 5.4779390852411897e-05, 0.20525837752398737, 0.17754000575266696, 0.09317974383995263, 0.14226207804371369, 0.0008050581531063939, 0.9733153071056302, 0.0008050581531063939, 0.008050581531063939, 0.013685988602808695, 0.0008050581531063939, 0.0016101163062127877, 0.001450174869452046, 0.001450174869452046, 0.001450174869452046, 0.9890192609662953, 0.002900349738904092, 0.001450174869452046, 0.001450174869452046, 0.32919942631859417, 0.14746975401202592, 0.4143784197950885, 0.020860161667712897, 0.04541431029741662, 0.0002172933507053427, 0.04244463450444361, 0.0013617790971813225, 0.0013617790971813225, 0.0013617790971813225, 0.9900134036508214, 0.0040853372915439674, 0.0013617790971813225, 0.0013617790971813225, 0.9874274054182458, 0.0015698368925568295, 0.0015698368925568295, 0.0015698368925568295, 0.0015698368925568295, 0.004709510677670488, 0.0015698368925568295, 0.0022888444237283002, 0.0022888444237283002, 0.0022888444237283002, 0.0022888444237283002, 0.0022888444237283002, 0.9864919466268974, 0.0022888444237283002, 0.025019454423607156, 0.05003890884721431, 0.025019454423607156, 0.025019454423607156, 0.025019454423607156, 0.025019454423607156, 0.025019454423607156, 0.8256419959790361, 0.0005827199005666372, 0.0005827199005666372, 0.0005827199005666372, 0.0005827199005666372, 0.9970337498695162, 0.0005827199005666372, 0.0005827199005666372, 0.003733474362534756, 0.003733474362534756, 0.003733474362534756, 0.007466948725069512, 0.978170282984106, 0.003733474362534756, 0.003733474362534756, 0.9882809760402962, 0.002230882564425048, 0.002230882564425048, 0.002230882564425048, 0.002230882564425048, 0.002230882564425048, 0.002230882564425048, 0.003188674933744469, 0.003188674933744469, 0.003188674933744469, 0.003188674933744469, 0.003188674933744469, 0.9821118795932965, 0.003188674933744469, 0.9934076369414755, 0.0030126084516799863, 0.0007531521129199966, 0.0007531521129199966, 0.0007531521129199966, 0.0007531521129199966, 0.0007531521129199966, 0.019676646319498562, 0.6229862774599709, 0.026988187028383275, 0.03472981836720238, 0.047094923977816235, 0.01580583065008901, 0.232571508137024, 0.9830787550041813, 0.0029171476409619625, 0.0029171476409619625, 0.0029171476409619625, 0.0029171476409619625, 0.0029171476409619625, 0.0029171476409619625, 0.00029885193111623017, 9.961731037207672e-05, 9.961731037207672e-05, 0.4548526391589023, 0.0005977038622324603, 0.5439105146315388, 9.961731037207672e-05, 0.00014369164975430886, 0.00014369164975430886, 0.00014369164975430886, 0.2978727899406823, 0.009627340533538694, 0.6918752935669972, 0.00014369164975430886, 0.0028797226676778027, 0.0057594453353556055, 0.0028797226676778027, 0.0057594453353556055, 0.0028797226676778027, 0.9791057070104529, 0.0028797226676778027, 0.000223002059645167, 0.000446004119290334, 0.000223002059645167, 0.9352706381518304, 0.000446004119290334, 0.05686552520951759, 0.006467059729709844, 0.9962706800098552, 0.0014396975144651087, 0.00047989917148836956, 0.00047989917148836956, 0.00047989917148836956, 0.00047989917148836956, 0.00047989917148836956, 0.0006517653181287405, 0.0006517653181287405, 0.0006517653181287405, 0.9704785586936946, 0.02607061272514962, 0.0006517653181287405, 0.0006517653181287405, 0.0014518497418361533, 0.0007259248709180767, 0.0007259248709180767, 0.9328134591297285, 0.061703614028036514, 0.0007259248709180767, 0.0007259248709180767, 0.20604937930727013, 0.2670428773917229, 0.0754962043972337, 0.16496918487335216, 0.1298327225348362, 0.08171370839521182, 0.07489822892581749, 0.004703097323008964, 0.9829473405088736, 0.006270796430678619, 0.0015676991076696547, 0.0015676991076696547, 0.0015676991076696547, 0.0015676991076696547, 0.0032330496552342883, 0.0032330496552342883, 0.0032330496552342883, 0.0032330496552342883, 0.0032330496552342883, 0.9828470951912237, 0.0032330496552342883, 0.000925505325346, 0.206387687552158, 0.782977505242716, 0.0001851010650692, 0.00462752662673, 0.0044424255616608, 0.0001851010650692, 0.001863602354645139, 0.001863602354645139, 0.001863602354645139, 0.001863602354645139, 0.9895728503165688, 0.001863602354645139, 0.001863602354645139, 0.9770643050899349, 0.0020440675838701568, 0.010220337919350784, 0.0020440675838701568, 0.0020440675838701568, 0.006132202751610471, 0.0020440675838701568, 0.023813430840144503, 0.11763159276709678, 0.027782335980168587, 0.2875345106762129, 0.30881459780995907, 0.23272984182779521, 0.0016888958042655677, 0.35454801726972623, 0.1030413072286036, 0.332183441697117, 0.07322187313179129, 0.05294213087527273, 0.01648913622726275, 0.06753596408790757, 0.0491866066282491, 0.8531915914229803, 8.91061714279875e-05, 8.91061714279875e-05, 8.91061714279875e-05, 0.09721483302793436, 8.91061714279875e-05, 0.002454818977386444, 0.002454818977386444, 0.002454818977386444, 0.9868372289093506, 0.002454818977386444, 0.002454818977386444, 0.002454818977386444, 0.0028969472208682625, 0.0028969472208682625, 0.008690841662604787, 0.005793894441736525, 0.0028969472208682625, 0.9733742662117362, 0.0028969472208682625, 0.060763989244827545, 0.00144676164868637, 0.9273742168079632, 0.00144676164868637, 0.00144676164868637, 0.00578704659474548, 0.00144676164868637, 0.0875208686973309, 0.003661961033361126, 0.8206454675762282, 0.003661961033361126, 0.08312651545729756, 0.0007323922066722251, 0.0007323922066722251, 0.0038142607987473906, 0.0019071303993736953, 0.9611937212843424, 0.0038142607987473906, 0.0019071303993736953, 0.026699825591231734, 0.0019071303993736953, 0.003786313134446322, 0.001893156567223161, 0.9352193442082416, 0.001893156567223161, 0.05395496216586009, 0.001893156567223161, 0.0009465782836115805, 0.48481910014147805, 0.07436592364842781, 0.25751634503178095, 0.03768911732548593, 0.038779298405148745, 0.034262833932259935, 0.07249704179757727, 0.019971406504902294, 0.03994281300980459, 0.019971406504902294, 0.019971406504902294, 0.019971406504902294, 0.019971406504902294, 0.019971406504902294, 0.8587704797107987, 0.00820743158073447, 0.024622294742203413, 0.00820743158073447, 0.00820743158073447, 0.00820743158073447, 0.00820743158073447, 0.00820743158073447, 0.9274397686229953, 0.11082810690834383, 0.0005683492661966349, 0.12162674296607989, 0.0022733970647865398, 0.7632930645020808, 0.0005683492661966349, 0.0005683492661966349, 0.0025742711933650726, 0.0025742711933650726, 0.0025742711933650726, 0.0025742711933650726, 0.9833715958654576, 0.0025742711933650726, 0.0025742711933650726, 0.13096696859772236, 0.11804845808978376, 0.022124805352676455, 0.20001417993325626, 0.1386883771771799, 0.34003895474918844, 0.05004066713994607, 0.00014848862652802987, 0.0008246616406189002, 0.0008246616406189002, 0.0008246616406189002, 0.9953666002270126, 0.0008246616406189002, 0.0008246616406189002, 0.0008246616406189002, 0.0017473817060287488, 0.0017473817060287488, 0.0017473817060287488, 0.9855232822002142, 0.0034947634120574976, 0.0017473817060287488, 0.0017473817060287488, 0.0010976827373124012, 0.0010976827373124012, 0.0010976827373124012, 0.0010976827373124012, 0.0010976827373124012, 0.0010976827373124012, 0.9934028772677231, 0.018549528957647603, 0.016694576061882842, 0.025969340540706643, 0.0018549528957647603, 0.0018549528957647603, 0.0018549528957647603, 0.9330413065696744, 0.0032811968274169055, 0.0032811968274169055, 0.0032811968274169055, 0.0032811968274169055, 0.0032811968274169055, 0.0032811968274169055, 0.9810778513976548, 0.0018540277153789877, 0.0018540277153789877, 0.0018540277153789877, 0.0018540277153789877, 0.0018540277153789877, 0.9900508000123794, 0.0018540277153789877, 0.02143529696029298, 0.9040103500645301, 0.0004659847165281083, 0.04706445636933894, 0.0004659847165281083, 0.0009319694330562166, 0.02516317469251785, 0.0034218910544684443, 0.0011406303514894813, 0.0365001712476634, 0.07414097284681628, 0.01596882492085274, 0.8680196974834953, 0.0011406303514894813, 0.004429625070674274, 0.004429625070674274, 0.9745175155483403, 0.004429625070674274, 0.004429625070674274, 0.004429625070674274, 0.004429625070674274, 0.1347491316233916, 0.43594339236732343, 0.05206964490185773, 0.11598826083068688, 0.16789333669050333, 0.07645877693237389, 0.016917697521842523, 0.005806284871358189, 0.005806284871358189, 0.9754558583881758, 0.0029031424356790944, 0.0029031424356790944, 0.005806284871358189, 0.0029031424356790944, 0.9760820131839085, 0.005545920529454026, 0.002772960264727013, 0.005545920529454026, 0.002772960264727013, 0.002772960264727013, 0.002772960264727013, 0.16990038095358911, 0.009617002695486177, 0.272481743038775, 0.014425504043229264, 0.28690724708200427, 0.017631171608391324, 0.003205667565162059, 0.2243967295613441, 0.0004504462128280603, 0.09639548954520491, 0.9022437642946048, 0.00022522310641403016, 0.00022522310641403016, 0.00022522310641403016, 0.00022522310641403016, 0.003263432466504035, 0.003263432466504035, 0.003263432466504035, 0.003263432466504035, 0.003263432466504035, 0.9822931724177146, 0.003263432466504035, 0.0014093316150083728, 0.968210819510752, 0.0014093316150083728, 0.0014093316150083728, 0.0014093316150083728, 0.0014093316150083728, 0.023958637455142335, 0.6847182686961594, 0.03941505115681323, 0.15592594237635313, 0.0007883010231362645, 0.02427967151259695, 0.00031532040925450584, 0.09459612277635175, 0.0014255063661245849, 0.0014255063661245849, 0.0014255063661245849, 0.0014255063661245849, 0.9921524308227111, 0.0014255063661245849, 0.0014255063661245849, 0.00019975377160738256, 0.00019975377160738256, 0.00019975377160738256, 0.3006294262691107, 0.698139431767802, 0.00019975377160738256, 0.00019975377160738256, 0.0003140291855426553, 0.0003140291855426553, 0.0003140291855426553, 0.0709705959326401, 0.9273281849074612, 0.0003140291855426553, 0.0003140291855426553, 0.0007709842854768774, 0.0007709842854768774, 0.0007709842854768774, 0.9961116968361255, 0.0007709842854768774, 0.0007709842854768774, 0.0007709842854768774, 0.33164013679698273, 0.17887882636361951, 0.22564085026340033, 0.09163264063666178, 0.0750124032264987, 0.033200232114732525, 0.06398590189384815, 0.00184410922615594, 0.00184410922615594, 0.00184410922615594, 0.00184410922615594, 0.9884425452195837, 0.00184410922615594, 0.00184410922615594, 0.411928080322066, 0.045141368578390656, 0.08096120164987465, 0.25566144013886677, 0.012987307897263205, 0.0006284181240611228, 0.1927148913787443, 0.00020916402328419236, 0.9992811212402289, 0.00010458201164209618, 0.00010458201164209618, 0.00010458201164209618, 0.00010458201164209618, 0.00010458201164209618, 0.0780360229656793, 0.9141362690265288, 0.000464500136700472, 0.000464500136700472, 0.000464500136700472, 0.000464500136700472, 0.005574001640405664, 0.9764666520867633, 0.018408111693152353, 0.0008367323496887432, 0.0008367323496887432, 0.0008367323496887432, 0.0008367323496887432, 0.0008367323496887432, 0.013344520389424458, 0.004448173463141486, 0.9652536415017025, 0.004448173463141486, 0.004448173463141486, 0.004448173463141486, 0.004448173463141486, 0.001049714656488243, 0.001049714656488243, 0.001049714656488243, 0.9919803503813897, 0.003149143969464729, 0.001049714656488243, 0.001049714656488243, 0.2793403059666509, 0.14393358866657716, 0.17249860774436349, 0.13783687563952723, 0.08752833457715725, 0.10530686137631681, 0.07350163117925919, 0.048344922835810406, 0.0005115864850350308, 0.3460882571261983, 0.04271747150042507, 0.5606987875983938, 0.0015347594551050922, 0.0002557932425175154, 0.0018010026026563694, 0.07204010410625478, 0.0351195507517992, 0.0009005013013281847, 0.0009005013013281847, 0.8878942831095901, 0.0009005013013281847, 0.0010769836225389896, 0.04200236127902059, 0.04523331214663756, 0.0021539672450779793, 0.03446347592124767, 0.8734337178791205, 0.0010769836225389896, 0.6938145708630714, 0.050761404972709645, 0.22316929491342727, 0.023967523060611236, 0.0010174891865353825, 0.00022610870811897392, 0.0070093699516881915, 0.6723886447720584, 0.067044316238122, 0.20719387462428554, 0.037936906621348056, 0.0003741312290073773, 0.00022447873740442635, 0.01481559666869214, 0.0010374584269880899, 0.0010374584269880899, 0.0010374584269880899, 0.99388517305459, 0.0010374584269880899, 0.0010374584269880899, 0.0010374584269880899, 0.40116028275818255, 0.14289323041036997, 0.24378042034036593, 0.07824858220509723, 0.029284804488171754, 0.05088494396880908, 0.053688808228314885, 0.024414631159288536, 0.2297526111333048, 0.00018219873999469056, 0.589959520102808, 0.00018219873999469056, 0.00018219873999469056, 0.15523332647547636, 0.009668943781893216, 0.009668943781893216, 0.06768260647325251, 0.004834471890946608, 0.3432475042572092, 0.004834471890946608, 0.029006831345679652, 0.5317919080041269, 0.011759366041162457, 0.0005112767843983677, 0.0015338303531951033, 0.22393923156648507, 0.7612911319691695, 0.0005112767843983677, 0.0005112767843983677, 0.8386807159722366, 0.08173714346616813, 9.668457944898051e-06, 0.05839748598718423, 9.668457944898051e-06, 0.021144917525492038, 9.668457944898051e-06, 0.0004076737572018275, 0.0004076737572018275, 0.0004076737572018275, 0.012230212716054826, 0.9816784073420006, 0.000815347514403655, 0.004076737572018275, 0.0008265337221958964, 0.0008265337221958964, 0.0008265337221958964, 0.0016530674443917927, 0.9711771235801782, 0.023142944221485096, 0.0008265337221958964, 0.0024102572661684374, 0.0024102572661684374, 0.0024102572661684374, 0.0024102572661684374, 0.0024102572661684374, 0.0024102572661684374, 0.9857952218628909, 0.8886210918233746, 0.0005989358066659455, 0.07806130013546157, 0.016570557317757827, 0.009183682368877831, 0.0013975168822205396, 0.005590067528882158, 0.7366015365415629, 0.024150870050543047, 0.11301852468965067, 0.028301800840480135, 0.01622636581520861, 0.06188660450451656, 0.019811260588336092, 0.16830662300649224, 0.20546430890994408, 0.027673628929999358, 0.5133422778242591, 0.06419432593224915, 0.020879080650511025, 7.077654457800347e-05, 0.18896534229331757, 0.2239755482288966, 0.3042553611068177, 0.07232877709767975, 0.06816089543868224, 0.13452639570118094, 0.007758672011364582, 0.030841666143792267, 0.007710416535948067, 0.12336666457516907, 0.0038552082679740333, 0.0038552082679740333, 0.0038552082679740333, 0.0038552082679740333, 0.8250145693464431, 0.07141446960170297, 0.014282893920340595, 0.05713157568136238, 0.014282893920340595, 0.014282893920340595, 0.014282893920340595, 0.014282893920340595, 0.8141249534594139, 0.003213657532074669, 0.003213657532074669, 0.003213657532074669, 0.003213657532074669, 0.003213657532074669, 0.9833792048148488, 0.003213657532074669, 0.0024146545797545296, 0.03058562467689071, 0.8813489216104032, 0.0004024424299590883, 0.07163475253271771, 0.012878157758690825, 0.0004024424299590883, 0.36772735392609057, 0.00015802636610489498, 0.6207275660600274, 0.00031605273220978997, 0.010429740162923067, 0.00031605273220978997, 0.00015802636610489498, 0.054831856709940466, 0.00045693213924950386, 0.622570039727449, 0.015307226664858379, 0.28055633349919534, 0.00022846606962475193, 0.02604513193722172, 0.06928420965398058, 0.013063689362366708, 0.22441552083208524, 0.5757354526128756, 0.11057479924574677, 0.0006998405015553594, 0.0060652843468131145, 0.0002332801671851198, 0.07964428917299024, 0.01991107229324756, 0.06968875302636647, 0.00995553614662378, 0.00995553614662378, 0.00995553614662378, 0.00995553614662378, 0.8063984278765263, 0.39965294269170015, 0.40735452623008156, 5.9242950295241647e-05, 0.00017772885088572493, 0.00011848590059048329, 5.9242950295241647e-05, 0.1924803455092401, 0.7294199311443897, 0.15718139930384156, 0.00014446819788956026, 0.00014446819788956026, 0.00014446819788956026, 0.00014446819788956026, 0.11268519435385699, 0.4556862325878188, 0.1431535187641616, 0.2036417721550125, 0.086109651430532, 0.010272730346098553, 0.00024171130226114244, 0.10085404086846168, 0.003462250510129532, 0.003462250510129532, 0.003462250510129532, 0.006924501020259064, 0.003462250510129532, 0.003462250510129532, 0.9728923933463984, 0.1298410893615973, 0.42275763277035183, 0.00708724547124776, 0.2789484770916351, 0.00020642462537614836, 0.16108001600185443, 6.880820845871612e-05, 0.10986451605739064, 0.12501824241013418, 0.1704794214683648, 0.1114881295951846, 0.23867119005571072, 0.001082409025195967, 0.009741681226763704, 0.23380034944232886, 0.08945430555300238, 0.0028856227597742704, 0.8952644612199674, 0.0007214056899435676, 0.008656868279322811, 0.0007214056899435676, 0.0014428113798871352, 0.4543352335073405, 0.23484787426673678, 0.13608456280964717, 0.07266243631502765, 6.000201182083208e-05, 0.10194341808359371, 6.000201182083208e-05, 0.0024516301609574655, 0.0012258150804787327, 0.0012258150804787327, 0.0012258150804787327, 0.0012258150804787327, 0.9916844001072948, 0.0012258150804787327, 0.7391038560473597, 0.11041952392782237, 0.00033664489002384866, 0.008247799805584292, 0.0072378651355127464, 0.00033664489002384866, 0.13448963356452753, 0.004023265200639683, 0.004023265200639683, 0.004023265200639683, 0.004023265200639683, 0.004023265200639683, 0.9776534437554429, 0.004023265200639683, 0.37345103614937936, 0.00026250072831493395, 0.6149517061991185, 8.750024277164465e-05, 0.011025030589227226, 8.750024277164465e-05, 8.750024277164465e-05, 0.20939672428854472, 0.34400408714842723, 0.16987772897998202, 0.10291124034277592, 0.037698154227792754, 0.11046435890004387, 0.025626652247873426, 0.25805175596072416, 0.03372267265395827, 0.28978458147050473, 0.34864216541933873, 0.04566175551902424, 0.0002094575941239644, 0.023878165730131944, 0.0015555213899723925, 0.0015555213899723925, 0.0015555213899723925, 0.990867125412414, 0.0015555213899723925, 0.0015555213899723925, 0.0015555213899723925, 0.14046916003329396, 0.391502839450911, 0.15508336256149705, 0.06660920586761974, 0.1143965210755229, 0.0391089584366566, 0.09283211940151628, 0.20742714727266948, 0.09331555468564823, 0.6404113210140773, 0.000533231741060847, 0.009331555468564822, 0.000533231741060847, 0.048257472566006654, 0.0036458498099833595, 0.9807335988855237, 0.0036458498099833595, 0.0036458498099833595, 0.0036458498099833595, 0.0036458498099833595, 0.0036458498099833595, 0.0011608434790065414, 0.0011608434790065414, 0.002321686958013083, 0.0011608434790065414, 0.0011608434790065414, 0.0011608434790065414, 0.9913603310715864, 0.021148735300765838, 0.021148735300765838, 0.021148735300765838, 0.021148735300765838, 0.021148735300765838, 0.021148735300765838, 0.021148735300765838, 0.8670981473313993], \"Term\": [\"abadi\", \"abadi\", \"abadi\", \"abadi\", \"abadi\", \"abadi\", \"abadi\", \"ad\", \"ad\", \"ad\", \"ad\", \"ad\", \"ad\", \"ad\", \"administration\", \"administration\", \"administration\", \"administration\", \"administration\", \"administration\", \"administration\", \"afd\", \"afd\", \"afd\", \"afd\", \"afd\", \"afd\", \"afd\", \"afghan\", \"afghan\", \"afghan\", \"afghan\", \"afghan\", \"afghan\", \"afghan\", \"afghanistan\", \"afghanistan\", \"afghanistan\", \"afghanistan\", \"afghanistan\", \"afghanistan\", \"afghanistan\", \"agency\", \"agency\", \"agency\", \"agency\", \"agency\", \"agency\", \"agency\", \"agency\", \"agreement\", \"agreement\", \"agreement\", \"agreement\", \"agreement\", \"agreement\", \"agreement\", \"al_qaeda\", \"al_qaeda\", \"al_qaeda\", \"al_qaeda\", \"al_qaeda\", \"al_qaeda\", \"al_qaeda\", \"allegation\", \"allegation\", \"allegation\", \"allegation\", \"allegation\", \"allegation\", \"allegation\", \"allege\", \"allege\", \"allege\", \"allege\", \"allege\", \"allege\", \"allege\", \"ally\", \"ally\", \"ally\", \"ally\", \"ally\", \"ally\", \"ally\", \"also\", \"also\", \"also\", \"also\", \"also\", \"also\", \"also\", \"america\", \"america\", \"america\", \"america\", \"america\", \"america\", \"america\", \"amp\", \"amp\", \"amp\", \"amp\", \"amp\", \"amp\", \"amp\", \"amp\", \"amp_amp\", \"amp_amp\", \"amp_amp\", \"amp_amp\", \"amp_amp\", \"amp_amp\", \"amp_amp\", \"amp_amp\", \"amp_quot\", \"amp_quot\", \"amp_quot\", \"amp_quot\", \"amp_quot\", \"amp_quot\", \"amp_quot\", \"amp_quot\", \"antifa\", \"antifa\", \"antifa\", \"antifa\", \"antifa\", \"antifa\", \"antifa\", \"area\", \"area\", \"area\", \"area\", \"area\", \"area\", \"area\", \"area\", \"army\", \"army\", \"army\", \"army\", \"army\", \"army\", \"army\", \"attack\", \"attack\", \"attack\", \"attack\", \"attack\", \"attack\", \"attack\", \"attorney_general\", \"attorney_general\", \"attorney_general\", \"attorney_general\", \"attorney_general\", \"attorney_general\", \"attorney_general\", \"aung_san\", \"aung_san\", \"aung_san\", \"aung_san\", \"aung_san\", \"aung_san\", \"aung_san\", \"austria\", \"austria\", \"austria\", \"austria\", \"austria\", \"austria\", \"austria\", \"automaker\", \"automaker\", \"automaker\", \"automaker\", \"automaker\", \"automaker\", \"automaker\", \"babi\", \"babi\", \"babi\", \"babi\", \"babi\", \"babi\", \"babi\", \"baghdad\", \"baghdad\", \"baghdad\", \"baghdad\", \"baghdad\", \"baghdad\", \"baghdad\", \"ballistic_missile\", \"ballistic_missile\", \"ballistic_missile\", \"ballistic_missile\", \"ballistic_missile\", \"ballistic_missile\", \"ballistic_missile\", \"bangladesh\", \"bangladesh\", \"bangladesh\", \"bangladesh\", \"bangladesh\", \"bangladesh\", \"bangladesh\", \"bannon\", \"bannon\", \"bannon\", \"bannon\", \"bannon\", \"bannon\", \"bannon\", \"baptist_church\", \"baptist_church\", \"baptist_church\", \"baptist_church\", \"baptist_church\", \"baptist_church\", \"baptist_church\", \"barnier\", \"barnier\", \"barnier\", \"barnier\", \"barnier\", \"barnier\", \"barnier\", \"bathroom\", \"bathroom\", \"bathroom\", \"bathroom\", \"bathroom\", \"bathroom\", \"bathroom\", \"beijing\", \"beijing\", \"beijing\", \"beijing\", \"beijing\", \"beijing\", \"beijing\", \"berkeley\", \"berkeley\", \"berkeley\", \"berkeley\", \"berkeley\", \"berkeley\", \"berkeley\", \"berlin\", \"berlin\", \"berlin\", \"berlin\", \"berlin\", \"berlin\", \"berlin\", \"bernie\", \"bernie\", \"bernie\", \"bernie\", \"bernie\", \"bernie\", \"bernie\", \"bernie_sanders\", \"bernie_sanders\", \"bernie_sanders\", \"bernie_sanders\", \"bernie_sanders\", \"bernie_sanders\", \"bernie_sanders\", \"beyonc\", \"beyonc\", \"beyonc\", \"beyonc\", \"beyonc\", \"beyonc\", \"beyonc\", \"bilateral\", \"bilateral\", \"bilateral\", \"bilateral\", \"bilateral\", \"bilateral\", \"bilateral\", \"bill\", \"bill\", \"bill\", \"bill\", \"bill\", \"bill\", \"bill\", \"black\", \"black\", \"black\", \"black\", \"black\", \"black\", \"black\", \"blm\", \"blm\", \"blm\", \"blm\", \"blm\", \"blm\", \"blm\", \"blm\", \"bloc\", \"bloc\", \"bloc\", \"bloc\", \"bloc\", \"bloc\", \"bloc\", \"border\", \"border\", \"border\", \"border\", \"border\", \"border\", \"border\", \"brexit\", \"brexit\", \"brexit\", \"brexit\", \"brexit\", \"brexit\", \"brexit\", \"britain\", \"britain\", \"britain\", \"britain\", \"britain\", \"britain\", \"britain\", \"british\", \"british\", \"british\", \"british\", \"british\", \"british\", \"british\", \"brussels\", \"brussels\", \"brussels\", \"brussels\", \"brussels\", \"brussels\", \"brussels\", \"budget\", \"budget\", \"budget\", \"budget\", \"budget\", \"budget\", \"budget\", \"bundy\", \"bundy\", \"bundy\", \"bundy\", \"bundy\", \"bundy\", \"bundy\", \"bush\", \"bush\", \"bush\", \"bush\", \"bush\", \"bush\", \"bush\", \"business\", \"business\", \"business\", \"business\", \"business\", \"business\", \"business\", \"c\", \"c\", \"c\", \"c\", \"c\", \"c\", \"c\", \"c\", \"call\", \"call\", \"call\", \"call\", \"call\", \"call\", \"call\", \"campaign\", \"campaign\", \"campaign\", \"campaign\", \"campaign\", \"campaign\", \"campaign\", \"campus\", \"campus\", \"campus\", \"campus\", \"campus\", \"campus\", \"campus\", \"candidate\", \"candidate\", \"candidate\", \"candidate\", \"candidate\", \"candidate\", \"candidate\", \"carbon\", \"carbon\", \"carbon\", \"carbon\", \"carbon\", \"carbon\", \"carbon\", \"carbon\", \"carbon_dioxide\", \"carbon_dioxide\", \"carbon_dioxide\", \"carbon_dioxide\", \"carbon_dioxide\", \"carbon_dioxide\", \"carbon_dioxide\", \"carbon_dioxide\", \"carson\", \"carson\", \"carson\", \"carson\", \"carson\", \"carson\", \"carson\", \"case\", \"case\", \"case\", \"case\", \"case\", \"case\", \"case\", \"case\", \"catalan\", \"catalan\", \"catalan\", \"catalan\", \"catalan\", \"catalan\", \"catalan\", \"catalonia\", \"catalonia\", \"catalonia\", \"catalonia\", \"catalonia\", \"catalonia\", \"catalonia\", \"cfpb\", \"cfpb\", \"cfpb\", \"cfpb\", \"cfpb\", \"cfpb\", \"cfpb\", \"chancellor_angela\", \"chancellor_angela\", \"chancellor_angela\", \"chancellor_angela\", \"chancellor_angela\", \"chancellor_angela\", \"chancellor_angela\", \"charge\", \"charge\", \"charge\", \"charge\", \"charge\", \"charge\", \"charge\", \"child\", \"child\", \"child\", \"child\", \"child\", \"child\", \"child\", \"china\", \"china\", \"china\", \"china\", \"china\", \"china\", \"china\", \"chinese\", \"chinese\", \"chinese\", \"chinese\", \"chinese\", \"chinese\", \"chinese\", \"christianity\", \"christianity\", \"christianity\", \"christianity\", \"christianity\", \"christianity\", \"christianity\", \"church\", \"church\", \"church\", \"church\", \"church\", \"church\", \"church\", \"cia\", \"cia\", \"cia\", \"cia\", \"cia\", \"cia\", \"cia\", \"city\", \"city\", \"city\", \"city\", \"city\", \"city\", \"city\", \"city\", \"clapper\", \"clapper\", \"clapper\", \"clapper\", \"clapper\", \"clapper\", \"clapper\", \"classified\", \"classified\", \"classified\", \"classified\", \"classified\", \"classified\", \"classified\", \"classmate\", \"classmate\", \"classmate\", \"classmate\", \"classmate\", \"classmate\", \"classmate\", \"climate\", \"climate\", \"climate\", \"climate\", \"climate\", \"climate\", \"climate\", \"climate\", \"climate_change\", \"climate_change\", \"climate_change\", \"climate_change\", \"climate_change\", \"climate_change\", \"climate_change\", \"climate_change\", \"clinton\", \"clinton\", \"clinton\", \"clinton\", \"clinton\", \"clinton\", \"clinton\", \"cnn\", \"cnn\", \"cnn\", \"cnn\", \"cnn\", \"cnn\", \"cnn\", \"co\", \"co\", \"co\", \"co\", \"co\", \"co\", \"co\", \"coal\", \"coal\", \"coal\", \"coal\", \"coal\", \"coal\", \"coal\", \"coal\", \"coalition\", \"coalition\", \"coalition\", \"coalition\", \"coalition\", \"coalition\", \"coalition\", \"coalition\", \"colbert\", \"colbert\", \"colbert\", \"colbert\", \"colbert\", \"colbert\", \"colbert\", \"collusion\", \"collusion\", \"collusion\", \"collusion\", \"collusion\", \"collusion\", \"collusion\", \"come\", \"come\", \"come\", \"come\", \"come\", \"come\", \"come\", \"comey\", \"comey\", \"comey\", \"comey\", \"comey\", \"comey\", \"comey\", \"committee\", \"committee\", \"committee\", \"committee\", \"committee\", \"committee\", \"committee\", \"company\", \"company\", \"company\", \"company\", \"company\", \"company\", \"company\", \"congress\", \"congress\", \"congress\", \"congress\", \"congress\", \"congress\", \"congress\", \"consumer\", \"consumer\", \"consumer\", \"consumer\", \"consumer\", \"consumer\", \"consumer\", \"convention\", \"convention\", \"convention\", \"convention\", \"convention\", \"convention\", \"convention\", \"convoy\", \"convoy\", \"convoy\", \"convoy\", \"convoy\", \"convoy\", \"convoy\", \"conway\", \"conway\", \"conway\", \"conway\", \"conway\", \"conway\", \"conway\", \"cop\", \"cop\", \"cop\", \"cop\", \"cop\", \"cop\", \"cop\", \"cost\", \"cost\", \"cost\", \"cost\", \"cost\", \"cost\", \"cost\", \"country\", \"country\", \"country\", \"country\", \"country\", \"country\", \"country\", \"court\", \"court\", \"court\", \"court\", \"court\", \"court\", \"court\", \"cruz\", \"cruz\", \"cruz\", \"cruz\", \"cruz\", \"cruz\", \"cruz\", \"cuba\", \"cuba\", \"cuba\", \"cuba\", \"cuba\", \"cuba\", \"cuba\", \"cuba\", \"cuban\", \"cuban\", \"cuban\", \"cuban\", \"cuban\", \"cuban\", \"cuban\", \"cuban\", \"cubans\", \"cubans\", \"cubans\", \"cubans\", \"cubans\", \"cubans\", \"cubans\", \"cubans\", \"culture\", \"culture\", \"culture\", \"culture\", \"culture\", \"culture\", \"culture\", \"cut\", \"cut\", \"cut\", \"cut\", \"cut\", \"cut\", \"cut\", \"daca\", \"daca\", \"daca\", \"daca\", \"daca\", \"daca\", \"daca\", \"dakota_access\", \"dakota_access\", \"dakota_access\", \"dakota_access\", \"dakota_access\", \"dakota_access\", \"dakota_access\", \"dakota_access\", \"deal\", \"deal\", \"deal\", \"deal\", \"deal\", \"deal\", \"deal\", \"death\", \"death\", \"death\", \"death\", \"death\", \"death\", \"death\", \"debt\", \"debt\", \"debt\", \"debt\", \"debt\", \"debt\", \"debt\", \"deduction\", \"deduction\", \"deduction\", \"deduction\", \"deduction\", \"deduction\", \"deduction\", \"defense\", \"defense\", \"defense\", \"defense\", \"defense\", \"defense\", \"defense\", \"department\", \"department\", \"department\", \"department\", \"department\", \"department\", \"department\", \"department\", \"detain\", \"detain\", \"detain\", \"detain\", \"detain\", \"detain\", \"detain\", \"diplomat\", \"diplomat\", \"diplomat\", \"diplomat\", \"diplomat\", \"diplomat\", \"diplomat\", \"diplomatic\", \"diplomatic\", \"diplomatic\", \"diplomatic\", \"diplomatic\", \"diplomatic\", \"diplomatic\", \"document\", \"document\", \"document\", \"document\", \"document\", \"document\", \"document\", \"donald\", \"donald\", \"donald\", \"donald\", \"donald\", \"donald\", \"donald\", \"dossier\", \"dossier\", \"dossier\", \"dossier\", \"dossier\", \"dossier\", \"dossier\", \"dreamer\", \"dreamer\", \"dreamer\", \"dreamer\", \"dreamer\", \"dreamer\", \"dreamer\", \"dress\", \"dress\", \"dress\", \"dress\", \"dress\", \"dress\", \"dress\", \"dublin\", \"dublin\", \"dublin\", \"dublin\", \"dublin\", \"dublin\", \"dublin\", \"edt\", \"edt\", \"edt\", \"edt\", \"edt\", \"edt\", \"edt\", \"election\", \"election\", \"election\", \"election\", \"election\", \"election\", \"election\", \"elector\", \"elector\", \"elector\", \"elector\", \"elector\", \"elector\", \"elector\", \"email\", \"email\", \"email\", \"email\", \"email\", \"email\", \"email\", \"email\", \"emission\", \"emission\", \"emission\", \"emission\", \"emission\", \"emission\", \"emission\", \"emission\", \"enact\", \"enact\", \"enact\", \"enact\", \"enact\", \"enact\", \"enact\", \"endorsement\", \"endorsement\", \"endorsement\", \"endorsement\", \"endorsement\", \"endorsement\", \"endorsement\", \"energy\", \"energy\", \"energy\", \"energy\", \"energy\", \"energy\", \"energy\", \"energy\", \"environmental\", \"environmental\", \"environmental\", \"environmental\", \"environmental\", \"environmental\", \"environmental\", \"environmental\", \"environmental_protection\", \"environmental_protection\", \"environmental_protection\", \"environmental_protection\", \"environmental_protection\", \"environmental_protection\", \"environmental_protection\", \"environmental_protection\", \"epa\", \"epa\", \"epa\", \"epa\", \"epa\", \"epa\", \"epa\", \"epa\", \"epas\", \"epas\", \"epas\", \"epas\", \"epas\", \"epas\", \"epas\", \"epas\", \"erdogan\", \"erdogan\", \"erdogan\", \"erdogan\", \"erdogan\", \"erdogan\", \"erdogan\", \"ethnic_cleansing\", \"ethnic_cleansing\", \"ethnic_cleansing\", \"ethnic_cleansing\", \"ethnic_cleansing\", \"ethnic_cleansing\", \"ethnic_cleansing\", \"eu\", \"eu\", \"eu\", \"eu\", \"eu\", \"eu\", \"eu\", \"euro\", \"euro\", \"euro\", \"euro\", \"euro\", \"euro\", \"euro\", \"europe\", \"europe\", \"europe\", \"europe\", \"europe\", \"europe\", \"europe\", \"european\", \"european\", \"european\", \"european\", \"european\", \"european\", \"european\", \"european_union\", \"european_union\", \"european_union\", \"european_union\", \"european_union\", \"european_union\", \"european_union\", \"even\", \"even\", \"even\", \"even\", \"even\", \"even\", \"even\", \"evidence\", \"evidence\", \"evidence\", \"evidence\", \"evidence\", \"evidence\", \"evidence\", \"family\", \"family\", \"family\", \"family\", \"family\", \"family\", \"family\", \"fbi\", \"fbi\", \"fbi\", \"fbi\", \"fbi\", \"fbi\", \"fbi\", \"fbi_director\", \"fbi_director\", \"fbi_director\", \"fbi_director\", \"fbi_director\", \"fbi_director\", \"fbi_director\", \"fdp\", \"fdp\", \"fdp\", \"fdp\", \"fdp\", \"fdp\", \"fdp\", \"federal\", \"federal\", \"federal\", \"federal\", \"federal\", \"federal\", \"federal\", \"federal_bureau\", \"federal_bureau\", \"federal_bureau\", \"federal_bureau\", \"federal_bureau\", \"federal_bureau\", \"federal_bureau\", \"fighter\", \"fighter\", \"fighter\", \"fighter\", \"fighter\", \"fighter\", \"fighter\", \"film\", \"film\", \"film\", \"film\", \"film\", \"film\", \"film\", \"finicum\", \"finicum\", \"finicum\", \"finicum\", \"finicum\", \"finicum\", \"finicum\", \"firearm\", \"firearm\", \"firearm\", \"firearm\", \"firearm\", \"firearm\", \"firearm\", \"fiscal\", \"fiscal\", \"fiscal\", \"fiscal\", \"fiscal\", \"fiscal\", \"fiscal\", \"flag\", \"flag\", \"flag\", \"flag\", \"flag\", \"flag\", \"flag\", \"flint\", \"flint\", \"flint\", \"flint\", \"flint\", \"flint\", \"flint\", \"flint\", \"flint_water\", \"flint_water\", \"flint_water\", \"flint_water\", \"flint_water\", \"flint_water\", \"flint_water\", \"flint_water\", \"florida\", \"florida\", \"florida\", \"florida\", \"florida\", \"florida\", \"florida\", \"florida\", \"flynn\", \"flynn\", \"flynn\", \"flynn\", \"flynn\", \"flynn\", \"flynn\", \"flynns\", \"flynns\", \"flynns\", \"flynns\", \"flynns\", \"flynns\", \"flynns\", \"force\", \"force\", \"force\", \"force\", \"force\", \"force\", \"force\", \"foreign\", \"foreign\", \"foreign\", \"foreign\", \"foreign\", \"foreign\", \"foreign\", \"foreign_ministry\", \"foreign_ministry\", \"foreign_ministry\", \"foreign_ministry\", \"foreign_ministry\", \"foreign_ministry\", \"foreign_ministry\", \"former\", \"former\", \"former\", \"former\", \"former\", \"former\", \"former\", \"fossil_fuel\", \"fossil_fuel\", \"fossil_fuel\", \"fossil_fuel\", \"fossil_fuel\", \"fossil_fuel\", \"fossil_fuel\", \"fossil_fuel\", \"fox_news\", \"fox_news\", \"fox_news\", \"fox_news\", \"fox_news\", \"fox_news\", \"fox_news\", \"fpl\", \"fpl\", \"fpl\", \"fpl\", \"fpl\", \"fpl\", \"fpl\", \"fpl\", \"freedom_caucus\", \"freedom_caucus\", \"freedom_caucus\", \"freedom_caucus\", \"freedom_caucus\", \"freedom_caucus\", \"freedom_caucus\", \"fund\", \"fund\", \"fund\", \"fund\", \"fund\", \"fund\", \"fund\", \"funding\", \"funding\", \"funding\", \"funding\", \"funding\", \"funding\", \"funding\", \"gay\", \"gay\", \"gay\", \"gay\", \"gay\", \"gay\", \"gay\", \"gaza\", \"gaza\", \"gaza\", \"gaza\", \"gaza\", \"gaza\", \"gaza\", \"german\", \"german\", \"german\", \"german\", \"german\", \"german\", \"german\", \"germany\", \"germany\", \"germany\", \"germany\", \"germany\", \"germany\", \"germany\", \"get\", \"get\", \"get\", \"get\", \"get\", \"get\", \"get\", \"girl\", \"girl\", \"girl\", \"girl\", \"girl\", \"girl\", \"girl\", \"giuliani\", \"giuliani\", \"giuliani\", \"giuliani\", \"giuliani\", \"giuliani\", \"giuliani\", \"global_warming\", \"global_warming\", \"global_warming\", \"global_warming\", \"global_warming\", \"global_warming\", \"global_warming\", \"global_warming\", \"go\", \"go\", \"go\", \"go\", \"go\", \"go\", \"go\", \"god\", \"god\", \"god\", \"god\", \"god\", \"god\", \"god\", \"golf\", \"golf\", \"golf\", \"golf\", \"golf\", \"golf\", \"golf\", \"gop\", \"gop\", \"gop\", \"gop\", \"gop\", \"gop\", \"gop\", \"gorsuch\", \"gorsuch\", \"gorsuch\", \"gorsuch\", \"gorsuch\", \"gorsuch\", \"gorsuch\", \"government\", \"government\", \"government\", \"government\", \"government\", \"government\", \"government\", \"greenhouse_gas\", \"greenhouse_gas\", \"greenhouse_gas\", \"greenhouse_gas\", \"greenhouse_gas\", \"greenhouse_gas\", \"greenhouse_gas\", \"greenhouse_gas\", \"group\", \"group\", \"group\", \"group\", \"group\", \"group\", \"group\", \"guccifer\", \"guccifer\", \"guccifer\", \"guccifer\", \"guccifer\", \"guccifer\", \"guccifer\", \"gun\", \"gun\", \"gun\", \"gun\", \"gun\", \"gun\", \"gun\", \"hack\", \"hack\", \"hack\", \"hack\", \"hack\", \"hack\", \"hack\", \"hacker\", \"hacker\", \"hacker\", \"hacker\", \"hacker\", \"hacker\", \"hacker\", \"hacking\", \"hacking\", \"hacking\", \"hacking\", \"hacking\", \"hacking\", \"hacking\", \"hamas\", \"hamas\", \"hamas\", \"hamas\", \"hamas\", \"hamas\", \"hamas\", \"hammond\", \"hammond\", \"hammond\", \"hammond\", \"hammond\", \"hammond\", \"hammond\", \"handgun\", \"handgun\", \"handgun\", \"handgun\", \"handgun\", \"handgun\", \"handgun\", \"hannity\", \"hannity\", \"hannity\", \"hannity\", \"hannity\", \"hannity\", \"hannity\", \"harare\", \"harare\", \"harare\", \"harare\", \"harare\", \"harare\", \"harare\", \"hariri\", \"hariri\", \"hariri\", \"hariri\", \"hariri\", \"hariri\", \"hariri\", \"havana\", \"havana\", \"havana\", \"havana\", \"havana\", \"havana\", \"havana\", \"havana\", \"health_insurance\", \"health_insurance\", \"health_insurance\", \"health_insurance\", \"health_insurance\", \"health_insurance\", \"health_insurance\", \"healthcare\", \"healthcare\", \"healthcare\", \"healthcare\", \"healthcare\", \"healthcare\", \"healthcare\", \"hillary\", \"hillary\", \"hillary\", \"hillary\", \"hillary\", \"hillary\", \"hillary\", \"house\", \"house\", \"house\", \"house\", \"house\", \"house\", \"house\", \"https\", \"https\", \"https\", \"https\", \"https\", \"https\", \"https\", \"hun_sen\", \"hun_sen\", \"hun_sen\", \"hun_sen\", \"hun_sen\", \"hun_sen\", \"hun_sen\", \"hurricane\", \"hurricane\", \"hurricane\", \"hurricane\", \"hurricane\", \"hurricane\", \"hurricane\", \"hurricane\", \"hurricane_irma\", \"hurricane_irma\", \"hurricane_irma\", \"hurricane_irma\", \"hurricane_irma\", \"hurricane_irma\", \"hurricane_irma\", \"hurricane_irma\", \"image\", \"image\", \"image\", \"image\", \"image\", \"image\", \"image\", \"inc\", \"inc\", \"inc\", \"inc\", \"inc\", \"inc\", \"inc\", \"include\", \"include\", \"include\", \"include\", \"include\", \"include\", \"include\", \"income\", \"income\", \"income\", \"income\", \"income\", \"income\", \"income\", \"independence\", \"independence\", \"independence\", \"independence\", \"independence\", \"independence\", \"independence\", \"industry\", \"industry\", \"industry\", \"industry\", \"industry\", \"industry\", \"industry\", \"industry\", \"information\", \"information\", \"information\", \"information\", \"information\", \"information\", \"information\", \"insurance\", \"insurance\", \"insurance\", \"insurance\", \"insurance\", \"insurance\", \"insurance\", \"insurer\", \"insurer\", \"insurer\", \"insurer\", \"insurer\", \"insurer\", \"insurer\", \"intelligence\", \"intelligence\", \"intelligence\", \"intelligence\", \"intelligence\", \"intelligence\", \"intelligence\", \"international\", \"international\", \"international\", \"international\", \"international\", \"international\", \"international\", \"investigate\", \"investigate\", \"investigate\", \"investigate\", \"investigate\", \"investigate\", \"investigate\", \"investigation\", \"investigation\", \"investigation\", \"investigation\", \"investigation\", \"investigation\", \"investigation\", \"iran\", \"iran\", \"iran\", \"iran\", \"iran\", \"iran\", \"iran\", \"iranian\", \"iranian\", \"iranian\", \"iranian\", \"iranian\", \"iranian\", \"iranian\", \"iraq\", \"iraq\", \"iraq\", \"iraq\", \"iraq\", \"iraq\", \"iraq\", \"iraqi\", \"iraqi\", \"iraqi\", \"iraqi\", \"iraqi\", \"iraqi\", \"iraqi\", \"ireland\", \"ireland\", \"ireland\", \"ireland\", \"ireland\", \"ireland\", \"ireland\", \"irish\", \"irish\", \"irish\", \"irish\", \"irish\", \"irish\", \"irish\", \"irma\", \"irma\", \"irma\", \"irma\", \"irma\", \"irma\", \"irma\", \"irma\", \"islamic\", \"islamic\", \"islamic\", \"islamic\", \"islamic\", \"islamic\", \"islamic\", \"islamist\", \"islamist\", \"islamist\", \"islamist\", \"islamist\", \"islamist\", \"islamist\", \"island\", \"island\", \"island\", \"island\", \"island\", \"island\", \"island\", \"island\", \"israel\", \"israel\", \"israel\", \"israel\", \"israel\", \"israel\", \"israel\", \"israeli\", \"israeli\", \"israeli\", \"israeli\", \"israeli\", \"israeli\", \"israeli\", \"istanbul\", \"istanbul\", \"istanbul\", \"istanbul\", \"istanbul\", \"istanbul\", \"istanbul\", \"ivanka\", \"ivanka\", \"ivanka\", \"ivanka\", \"ivanka\", \"ivanka\", \"ivanka\", \"james_comey\", \"james_comey\", \"james_comey\", \"james_comey\", \"james_comey\", \"james_comey\", \"james_comey\", \"japan\", \"japan\", \"japan\", \"japan\", \"japan\", \"japan\", \"japan\", \"jeb\", \"jeb\", \"jeb\", \"jeb\", \"jeb\", \"jeb\", \"jeb\", \"jeb_bush\", \"jeb_bush\", \"jeb_bush\", \"jeb_bush\", \"jeb_bush\", \"jeb_bush\", \"jeb_bush\", \"jerusalem\", \"jerusalem\", \"jerusalem\", \"jerusalem\", \"jerusalem\", \"jerusalem\", \"jerusalem\", \"jesus\", \"jesus\", \"jesus\", \"jesus\", \"jesus\", \"jesus\", \"jesus\", \"jihadist\", \"jihadist\", \"jihadist\", \"jihadist\", \"jihadist\", \"jihadist\", \"jihadist\", \"john_kasich\", \"john_kasich\", \"john_kasich\", \"john_kasich\", \"john_kasich\", \"john_kasich\", \"john_kasich\", \"juncker\", \"juncker\", \"juncker\", \"juncker\", \"juncker\", \"juncker\", \"juncker\", \"kaepernick\", \"kaepernick\", \"kaepernick\", \"kaepernick\", \"kaepernick\", \"kaepernick\", \"kaepernick\", \"kasich\", \"kasich\", \"kasich\", \"kasich\", \"kasich\", \"kasich\", \"kasich\", \"kellyanne_conway\", \"kellyanne_conway\", \"kellyanne_conway\", \"kellyanne_conway\", \"kellyanne_conway\", \"kellyanne_conway\", \"kellyanne_conway\", \"kid\", \"kid\", \"kid\", \"kid\", \"kid\", \"kid\", \"kid\", \"kill\", \"kill\", \"kill\", \"kill\", \"kill\", \"kill\", \"kill\", \"kirkuk\", \"kirkuk\", \"kirkuk\", \"kirkuk\", \"kirkuk\", \"kirkuk\", \"kirkuk\", \"kislyak\", \"kislyak\", \"kislyak\", \"kislyak\", \"kislyak\", \"kislyak\", \"kislyak\", \"kneel\", \"kneel\", \"kneel\", \"kneel\", \"kneel\", \"kneel\", \"kneel\", \"know\", \"know\", \"know\", \"know\", \"know\", \"know\", \"know\", \"krg\", \"krg\", \"krg\", \"krg\", \"krg\", \"krg\", \"krg\", \"kurd\", \"kurd\", \"kurd\", \"kurd\", \"kurd\", \"kurd\", \"kurd\", \"kurdish\", \"kurdish\", \"kurdish\", \"kurdish\", \"kurdish\", \"kurdish\", \"kurdish\", \"labour\", \"labour\", \"labour\", \"labour\", \"labour\", \"labour\", \"labour\", \"last\", \"last\", \"last\", \"last\", \"last\", \"last\", \"last\", \"law\", \"law\", \"law\", \"law\", \"law\", \"law\", \"law\", \"lawmaker\", \"lawmaker\", \"lawmaker\", \"lawmaker\", \"lawmaker\", \"lawmaker\", \"lawmaker\", \"lawyer\", \"lawyer\", \"lawyer\", \"lawyer\", \"lawyer\", \"lawyer\", \"lawyer\", \"leader\", \"leader\", \"leader\", \"leader\", \"leader\", \"leader\", \"leader\", \"leak\", \"leak\", \"leak\", \"leak\", \"leak\", \"leak\", \"leak\", \"leak\", \"lebanon\", \"lebanon\", \"lebanon\", \"lebanon\", \"lebanon\", \"lebanon\", \"lebanon\", \"legislation\", \"legislation\", \"legislation\", \"legislation\", \"legislation\", \"legislation\", \"legislation\", \"legislative\", \"legislative\", \"legislative\", \"legislative\", \"legislative\", \"legislative\", \"legislative\", \"lewandowski\", \"lewandowski\", \"lewandowski\", \"lewandowski\", \"lewandowski\", \"lewandowski\", \"lewandowski\", \"libya\", \"libya\", \"libya\", \"libya\", \"libya\", \"libya\", \"libya\", \"life\", \"life\", \"life\", \"life\", \"life\", \"life\", \"life\", \"lindner\", \"lindner\", \"lindner\", \"lindner\", \"lindner\", \"lindner\", \"lindner\", \"live\", \"live\", \"live\", \"live\", \"live\", \"live\", \"live\", \"london\", \"london\", \"london\", \"london\", \"london\", \"london\", \"london\", \"madrid\", \"madrid\", \"madrid\", \"madrid\", \"madrid\", \"madrid\", \"madrid\", \"maduro\", \"maduro\", \"maduro\", \"maduro\", \"maduro\", \"maduro\", \"maduro\", \"maher\", \"maher\", \"maher\", \"maher\", \"maher\", \"maher\", \"maher\", \"make\", \"make\", \"make\", \"make\", \"make\", \"make\", \"make\", \"man\", \"man\", \"man\", \"man\", \"man\", \"man\", \"man\", \"manafort\", \"manafort\", \"manafort\", \"manafort\", \"manafort\", \"manafort\", \"manafort\", \"many\", \"many\", \"many\", \"many\", \"many\", \"many\", \"many\", \"mass_shooting\", \"mass_shooting\", \"mass_shooting\", \"mass_shooting\", \"mass_shooting\", \"mass_shooting\", \"mass_shooting\", \"mattis\", \"mattis\", \"mattis\", \"mattis\", \"mattis\", \"mattis\", \"mattis\", \"measure\", \"measure\", \"measure\", \"measure\", \"measure\", \"measure\", \"measure\", \"medicaid\", \"medicaid\", \"medicaid\", \"medicaid\", \"medicaid\", \"medicaid\", \"medicaid\", \"meet\", \"meet\", \"meet\", \"meet\", \"meet\", \"meet\", \"meet\", \"melania\", \"melania\", \"melania\", \"melania\", \"melania\", \"melania\", \"melania\", \"merkel\", \"merkel\", \"merkel\", \"merkel\", \"merkel\", \"merkel\", \"merkel\", \"migrant\", \"migrant\", \"migrant\", \"migrant\", \"migrant\", \"migrant\", \"migrant\", \"militant\", \"militant\", \"militant\", \"militant\", \"militant\", \"militant\", \"militant\", \"military\", \"military\", \"military\", \"military\", \"military\", \"military\", \"military\", \"militia\", \"militia\", \"militia\", \"militia\", \"militia\", \"militia\", \"militia\", \"minister\", \"minister\", \"minister\", \"minister\", \"minister\", \"minister\", \"minister\", \"missile\", \"missile\", \"missile\", \"missile\", \"missile\", \"missile\", \"missile\", \"mitt_romney\", \"mitt_romney\", \"mitt_romney\", \"mitt_romney\", \"mitt_romney\", \"mitt_romney\", \"mitt_romney\", \"mnangagwa\", \"mnangagwa\", \"mnangagwa\", \"mnangagwa\", \"mnangagwa\", \"mnangagwa\", \"mnangagwa\", \"mnuchin\", \"mnuchin\", \"mnuchin\", \"mnuchin\", \"mnuchin\", \"mnuchin\", \"mnuchin\", \"moore\", \"moore\", \"moore\", \"moore\", \"moore\", \"moore\", \"moore\", \"mortgage\", \"mortgage\", \"mortgage\", \"mortgage\", \"mortgage\", \"mortgage\", \"mortgage\", \"mosul\", \"mosul\", \"mosul\", \"mosul\", \"mosul\", \"mosul\", \"mosul\", \"mother\", \"mother\", \"mother\", \"mother\", \"mother\", \"mother\", \"mother\", \"msnbc\", \"msnbc\", \"msnbc\", \"msnbc\", \"msnbc\", \"msnbc\", \"msnbc\", \"mueller\", \"mueller\", \"mueller\", \"mueller\", \"mueller\", \"mueller\", \"mueller\", \"mueller\", \"mugabe\", \"mugabe\", \"mugabe\", \"mugabe\", \"mugabe\", \"mugabe\", \"mugabe\", \"mulvaney\", \"mulvaney\", \"mulvaney\", \"mulvaney\", \"mulvaney\", \"mulvaney\", \"mulvaney\", \"murder\", \"murder\", \"murder\", \"murder\", \"murder\", \"murder\", \"murder\", \"music\", \"music\", \"music\", \"music\", \"music\", \"music\", \"music\", \"myanmar\", \"myanmar\", \"myanmar\", \"myanmar\", \"myanmar\", \"myanmar\", \"myanmar\", \"nasa\", \"nasa\", \"nasa\", \"nasa\", \"nasa\", \"nasa\", \"nasa\", \"nasa\", \"national\", \"national\", \"national\", \"national\", \"national\", \"national\", \"national\", \"nato\", \"nato\", \"nato\", \"nato\", \"nato\", \"nato\", \"nato\", \"nba\", \"nba\", \"nba\", \"nba\", \"nba\", \"nba\", \"nba\", \"netanyahu\", \"netanyahu\", \"netanyahu\", \"netanyahu\", \"netanyahu\", \"netanyahu\", \"netanyahu\", \"new\", \"new\", \"new\", \"new\", \"new\", \"new\", \"new\", \"new_hampshire\", \"new_hampshire\", \"new_hampshire\", \"new_hampshire\", \"new_hampshire\", \"new_hampshire\", \"new_hampshire\", \"nfl\", \"nfl\", \"nfl\", \"nfl\", \"nfl\", \"nfl\", \"nfl\", \"nigeria\", \"nigeria\", \"nigeria\", \"nigeria\", \"nigeria\", \"nigeria\", \"nigeria\", \"nominee\", \"nominee\", \"nominee\", \"nominee\", \"nominee\", \"nominee\", \"nominee\", \"north_korea\", \"north_korea\", \"north_korea\", \"north_korea\", \"north_korea\", \"north_korea\", \"north_korea\", \"north_korean\", \"north_korean\", \"north_korean\", \"north_korean\", \"north_korean\", \"north_korean\", \"north_korean\", \"nra\", \"nra\", \"nra\", \"nra\", \"nra\", \"nra\", \"nra\", \"nsa\", \"nsa\", \"nsa\", \"nsa\", \"nsa\", \"nsa\", \"nsa\", \"nuclear\", \"nuclear\", \"nuclear\", \"nuclear\", \"nuclear\", \"nuclear\", \"nuclear\", \"nuclear\", \"nune\", \"nune\", \"nune\", \"nune\", \"nune\", \"nune\", \"nune\", \"obama\", \"obama\", \"obama\", \"obama\", \"obama\", \"obama\", \"obama\", \"obamacare\", \"obamacare\", \"obamacare\", \"obamacare\", \"obamacare\", \"obamacare\", \"obamacare\", \"officer\", \"officer\", \"officer\", \"officer\", \"officer\", \"officer\", \"officer\", \"official\", \"official\", \"official\", \"official\", \"official\", \"official\", \"official\", \"oil\", \"oil\", \"oil\", \"oil\", \"oil\", \"oil\", \"oil\", \"oil\", \"opposition\", \"opposition\", \"opposition\", \"opposition\", \"opposition\", \"opposition\", \"opposition\", \"overhaul\", \"overhaul\", \"overhaul\", \"overhaul\", \"overhaul\", \"overhaul\", \"overhaul\", \"paddock\", \"paddock\", \"paddock\", \"paddock\", \"paddock\", \"paddock\", \"paddock\", \"pakistan\", \"pakistan\", \"pakistan\", \"pakistan\", \"pakistan\", \"pakistan\", \"pakistan\", \"palestinian\", \"palestinian\", \"palestinian\", \"palestinian\", \"palestinian\", \"palestinian\", \"palestinian\", \"palestinians\", \"palestinians\", \"palestinians\", \"palestinians\", \"palestinians\", \"palestinians\", \"palestinians\", \"parent\", \"parent\", \"parent\", \"parent\", \"parent\", \"parent\", \"parent\", \"park\", \"park\", \"park\", \"park\", \"park\", \"park\", \"park\", \"parliament\", \"parliament\", \"parliament\", \"parliament\", \"parliament\", \"parliament\", \"parliament\", \"parliamentary\", \"parliamentary\", \"parliamentary\", \"parliamentary\", \"parliamentary\", \"parliamentary\", \"parliamentary\", \"party\", \"party\", \"party\", \"party\", \"party\", \"party\", \"party\", \"pass\", \"pass\", \"pass\", \"pass\", \"pass\", \"pass\", \"pass\", \"pastor\", \"pastor\", \"pastor\", \"pastor\", \"pastor\", \"pastor\", \"pastor\", \"people\", \"people\", \"people\", \"people\", \"people\", \"people\", \"people\", \"percent\", \"percent\", \"percent\", \"percent\", \"percent\", \"percent\", \"percent\", \"pipeline\", \"pipeline\", \"pipeline\", \"pipeline\", \"pipeline\", \"pipeline\", \"pipeline\", \"pipeline\", \"pis\", \"pis\", \"pis\", \"pis\", \"pis\", \"pis\", \"pis\", \"plan\", \"plan\", \"plan\", \"plan\", \"plan\", \"plan\", \"plan\", \"poland\", \"poland\", \"poland\", \"poland\", \"poland\", \"poland\", \"poland\", \"police\", \"police\", \"police\", \"police\", \"police\", \"police\", \"police\", \"police_brutality\", \"police_brutality\", \"police_brutality\", \"police_brutality\", \"police_brutality\", \"police_brutality\", \"police_brutality\", \"policy\", \"policy\", \"policy\", \"policy\", \"policy\", \"policy\", \"policy\", \"political\", \"political\", \"political\", \"political\", \"political\", \"political\", \"political\", \"poll\", \"poll\", \"poll\", \"poll\", \"poll\", \"poll\", \"poll\", \"pope\", \"pope\", \"pope\", \"pope\", \"pope\", \"pope\", \"pope\", \"potus\", \"potus\", \"potus\", \"potus\", \"potus\", \"potus\", \"potus\", \"premium\", \"premium\", \"premium\", \"premium\", \"premium\", \"premium\", \"premium\", \"president\", \"president\", \"president\", \"president\", \"president\", \"president\", \"president\", \"presidential\", \"presidential\", \"presidential\", \"presidential\", \"presidential\", \"presidential\", \"presidential\", \"presumptive\", \"presumptive\", \"presumptive\", \"presumptive\", \"presumptive\", \"presumptive\", \"presumptive\", \"price\", \"price\", \"price\", \"price\", \"price\", \"price\", \"price\", \"primary\", \"primary\", \"primary\", \"primary\", \"primary\", \"primary\", \"primary\", \"prime_minister\", \"prime_minister\", \"prime_minister\", \"prime_minister\", \"prime_minister\", \"prime_minister\", \"prime_minister\", \"probe\", \"probe\", \"probe\", \"probe\", \"probe\", \"probe\", \"probe\", \"program\", \"program\", \"program\", \"program\", \"program\", \"program\", \"program\", \"proposal\", \"proposal\", \"proposal\", \"proposal\", \"proposal\", \"proposal\", \"proposal\", \"prosecutor\", \"prosecutor\", \"prosecutor\", \"prosecutor\", \"prosecutor\", \"prosecutor\", \"prosecutor\", \"protest\", \"protest\", \"protest\", \"protest\", \"protest\", \"protest\", \"protest\", \"protest\", \"protester\", \"protester\", \"protester\", \"protester\", \"protester\", \"protester\", \"protester\", \"provision\", \"provision\", \"provision\", \"provision\", \"provision\", \"provision\", \"provision\", \"pruitt\", \"pruitt\", \"pruitt\", \"pruitt\", \"pruitt\", \"pruitt\", \"pruitt\", \"pruitt\", \"puerto_ricos\", \"puerto_ricos\", \"puerto_ricos\", \"puerto_ricos\", \"puerto_ricos\", \"puerto_ricos\", \"puerto_ricos\", \"puigdemont\", \"puigdemont\", \"puigdemont\", \"puigdemont\", \"puigdemont\", \"puigdemont\", \"puigdemont\", \"pyongyang\", \"pyongyang\", \"pyongyang\", \"pyongyang\", \"pyongyang\", \"pyongyang\", \"pyongyang\", \"qatar\", \"qatar\", \"qatar\", \"qatar\", \"qatar\", \"qatar\", \"qatar\", \"quot\", \"quot\", \"quot\", \"quot\", \"quot\", \"quot\", \"quot\", \"quot\", \"quot_amp\", \"quot_amp\", \"quot_amp\", \"quot_amp\", \"quot_amp\", \"quot_amp\", \"quot_amp\", \"quot_amp\", \"quot_quot\", \"quot_quot\", \"quot_quot\", \"quot_quot\", \"quot_quot\", \"quot_quot\", \"quot_quot\", \"quot_quot\", \"quot_var\", \"quot_var\", \"quot_var\", \"quot_var\", \"quot_var\", \"quot_var\", \"quot_var\", \"quot_var\", \"race\", \"race\", \"race\", \"race\", \"race\", \"race\", \"race\", \"rakhine\", \"rakhine\", \"rakhine\", \"rakhine\", \"rakhine\", \"rakhine\", \"rakhine\", \"rape\", \"rape\", \"rape\", \"rape\", \"rape\", \"rape\", \"rape\", \"raqqa\", \"raqqa\", \"raqqa\", \"raqqa\", \"raqqa\", \"raqqa\", \"raqqa\", \"rate\", \"rate\", \"rate\", \"rate\", \"rate\", \"rate\", \"rate\", \"realdonaldtrump\", \"realdonaldtrump\", \"realdonaldtrump\", \"realdonaldtrump\", \"realdonaldtrump\", \"realdonaldtrump\", \"realdonaldtrump\", \"rebel\", \"rebel\", \"rebel\", \"rebel\", \"rebel\", \"rebel\", \"rebel\", \"referendum\", \"referendum\", \"referendum\", \"referendum\", \"referendum\", \"referendum\", \"referendum\", \"reform\", \"reform\", \"reform\", \"reform\", \"reform\", \"reform\", \"reform\", \"refugee\", \"refugee\", \"refugee\", \"refugee\", \"refugee\", \"refugee\", \"refugee\", \"regulation\", \"regulation\", \"regulation\", \"regulation\", \"regulation\", \"regulation\", \"regulation\", \"regulation\", \"regulatory\", \"regulatory\", \"regulatory\", \"regulatory\", \"regulatory\", \"regulatory\", \"regulatory\", \"reilly\", \"reilly\", \"reilly\", \"reilly\", \"reilly\", \"reilly\", \"reilly\", \"release\", \"release\", \"release\", \"release\", \"release\", \"release\", \"release\", \"religion\", \"religion\", \"religion\", \"religion\", \"religion\", \"religion\", \"religion\", \"renewable_fuel\", \"renewable_fuel\", \"renewable_fuel\", \"renewable_fuel\", \"renewable_fuel\", \"renewable_fuel\", \"renewable_fuel\", \"renewable_fuel\", \"repeal\", \"repeal\", \"repeal\", \"repeal\", \"repeal\", \"repeal\", \"repeal\", \"report\", \"report\", \"report\", \"report\", \"report\", \"report\", \"report\", \"representative\", \"representative\", \"representative\", \"representative\", \"representative\", \"representative\", \"representative\", \"republican\", \"republican\", \"republican\", \"republican\", \"republican\", \"republican\", \"republican\", \"republicans\", \"republicans\", \"republicans\", \"republicans\", \"republicans\", \"republicans\", \"republicans\", \"requirement\", \"requirement\", \"requirement\", \"requirement\", \"requirement\", \"requirement\", \"requirement\", \"resettle\", \"resettle\", \"resettle\", \"resettle\", \"resettle\", \"resettle\", \"resettle\", \"reuters\", \"reuters\", \"reuters\", \"reuters\", \"reuters\", \"reuters\", \"reuters\", \"revenue\", \"revenue\", \"revenue\", \"revenue\", \"revenue\", \"revenue\", \"revenue\", \"rex_tillerson\", \"rex_tillerson\", \"rex_tillerson\", \"rex_tillerson\", \"rex_tillerson\", \"rex_tillerson\", \"rex_tillerson\", \"right\", \"right\", \"right\", \"right\", \"right\", \"right\", \"right\", \"riyadh\", \"riyadh\", \"riyadh\", \"riyadh\", \"riyadh\", \"riyadh\", \"riyadh\", \"rnc\", \"rnc\", \"rnc\", \"rnc\", \"rnc\", \"rnc\", \"rnc\", \"robert_mueller\", \"robert_mueller\", \"robert_mueller\", \"robert_mueller\", \"robert_mueller\", \"robert_mueller\", \"robert_mueller\", \"rock_sioux\", \"rock_sioux\", \"rock_sioux\", \"rock_sioux\", \"rock_sioux\", \"rock_sioux\", \"rock_sioux\", \"rock_sioux\", \"rohingya\", \"rohingya\", \"rohingya\", \"rohingya\", \"rohingya\", \"rohingya\", \"rohingya\", \"rohingya_muslims\", \"rohingya_muslims\", \"rohingya_muslims\", \"rohingya_muslims\", \"rohingya_muslims\", \"rohingya_muslims\", \"rohingya_muslims\", \"romney\", \"romney\", \"romney\", \"romney\", \"romney\", \"romney\", \"romney\", \"rosenstein\", \"rosenstein\", \"rosenstein\", \"rosenstein\", \"rosenstein\", \"rosenstein\", \"rosenstein\", \"rubio\", \"rubio\", \"rubio\", \"rubio\", \"rubio\", \"rubio\", \"rubio\", \"rule\", \"rule\", \"rule\", \"rule\", \"rule\", \"rule\", \"rule\", \"running_mate\", \"running_mate\", \"running_mate\", \"running_mate\", \"running_mate\", \"running_mate\", \"running_mate\", \"russia\", \"russia\", \"russia\", \"russia\", \"russia\", \"russia\", \"russia\", \"russian\", \"russian\", \"russian\", \"russian\", \"russian\", \"russian\", \"russian\", \"russian_meddling\", \"russian_meddling\", \"russian_meddling\", \"russian_meddling\", \"russian_meddling\", \"russian_meddling\", \"russian_meddling\", \"sanction\", \"sanction\", \"sanction\", \"sanction\", \"sanction\", \"sanction\", \"sanction\", \"sander\", \"sander\", \"sander\", \"sander\", \"sander\", \"sander\", \"sander\", \"saudi\", \"saudi\", \"saudi\", \"saudi\", \"saudi\", \"saudi\", \"saudi\", \"saudi_arabia\", \"saudi_arabia\", \"saudi_arabia\", \"saudi_arabia\", \"saudi_arabia\", \"saudi_arabia\", \"saudi_arabia\", \"say\", \"say\", \"say\", \"say\", \"say\", \"say\", \"say\", \"scalia\", \"scalia\", \"scalia\", \"scalia\", \"scalia\", \"scalia\", \"scalia\", \"schiff\", \"schiff\", \"schiff\", \"schiff\", \"schiff\", \"schiff\", \"schiff\", \"school\", \"school\", \"school\", \"school\", \"school\", \"school\", \"school\", \"sdf\", \"sdf\", \"sdf\", \"sdf\", \"sdf\", \"sdf\", \"sdf\", \"sean_hannity\", \"sean_hannity\", \"sean_hannity\", \"sean_hannity\", \"sean_hannity\", \"sean_hannity\", \"sean_hannity\", \"security\", \"security\", \"security\", \"security\", \"security\", \"security\", \"security\", \"see\", \"see\", \"see\", \"see\", \"see\", \"see\", \"see\", \"senate\", \"senate\", \"senate\", \"senate\", \"senate\", \"senate\", \"senate\", \"seoul\", \"seoul\", \"seoul\", \"seoul\", \"seoul\", \"seoul\", \"seoul\", \"server\", \"server\", \"server\", \"server\", \"server\", \"server\", \"server\", \"sex\", \"sex\", \"sex\", \"sex\", \"sex\", \"sex\", \"sex\", \"shoot\", \"shoot\", \"shoot\", \"shoot\", \"shoot\", \"shoot\", \"shoot\", \"shooter\", \"shooter\", \"shooter\", \"shooter\", \"shooter\", \"shooter\", \"shooter\", \"shooting\", \"shooting\", \"shooting\", \"shooting\", \"shooting\", \"shooting\", \"shooting\", \"show\", \"show\", \"show\", \"show\", \"show\", \"show\", \"show\", \"sierra_club\", \"sierra_club\", \"sierra_club\", \"sierra_club\", \"sierra_club\", \"sierra_club\", \"sierra_club\", \"sierra_club\", \"snyder\", \"snyder\", \"snyder\", \"snyder\", \"snyder\", \"snyder\", \"snyder\", \"snyder\", \"soldier\", \"soldier\", \"soldier\", \"soldier\", \"soldier\", \"soldier\", \"soldier\", \"somalia\", \"somalia\", \"somalia\", \"somalia\", \"somalia\", \"somalia\", \"somalia\", \"source\", \"source\", \"source\", \"source\", \"source\", \"source\", \"source\", \"source\", \"south_korea\", \"south_korea\", \"south_korea\", \"south_korea\", \"south_korea\", \"south_korea\", \"south_korea\", \"south_korean\", \"south_korean\", \"south_korean\", \"south_korean\", \"south_korean\", \"south_korean\", \"south_korean\", \"spain\", \"spain\", \"spain\", \"spain\", \"spain\", \"spain\", \"spain\", \"spanish\", \"spanish\", \"spanish\", \"spanish\", \"spanish\", \"spanish\", \"spanish\", \"spd\", \"spd\", \"spd\", \"spd\", \"spd\", \"spd\", \"spd\", \"special_counsel\", \"special_counsel\", \"special_counsel\", \"special_counsel\", \"special_counsel\", \"special_counsel\", \"special_counsel\", \"spending\", \"spending\", \"spending\", \"spending\", \"spending\", \"spending\", \"spending\", \"spy\", \"spy\", \"spy\", \"spy\", \"spy\", \"spy\", \"spy\", \"starbuck\", \"starbuck\", \"starbuck\", \"starbuck\", \"starbuck\", \"starbuck\", \"starbuck\", \"state\", \"state\", \"state\", \"state\", \"state\", \"state\", \"state\", \"statue\", \"statue\", \"statue\", \"statue\", \"statue\", \"statue\", \"statue\", \"steve_bannon\", \"steve_bannon\", \"steve_bannon\", \"steve_bannon\", \"steve_bannon\", \"steve_bannon\", \"steve_bannon\", \"storm\", \"storm\", \"storm\", \"storm\", \"storm\", \"storm\", \"storm\", \"storm\", \"student\", \"student\", \"student\", \"student\", \"student\", \"student\", \"student\", \"subpoena\", \"subpoena\", \"subpoena\", \"subpoena\", \"subpoena\", \"subpoena\", \"subpoena\", \"subsidy\", \"subsidy\", \"subsidy\", \"subsidy\", \"subsidy\", \"subsidy\", \"subsidy\", \"supporter\", \"supporter\", \"supporter\", \"supporter\", \"supporter\", \"supporter\", \"supporter\", \"suu_kyi\", \"suu_kyi\", \"suu_kyi\", \"suu_kyi\", \"suu_kyi\", \"suu_kyi\", \"suu_kyi\", \"syria\", \"syria\", \"syria\", \"syria\", \"syria\", \"syria\", \"syria\", \"syrian\", \"syrian\", \"syrian\", \"syrian\", \"syrian\", \"syrian\", \"syrian\", \"taiwan\", \"taiwan\", \"taiwan\", \"taiwan\", \"taiwan\", \"taiwan\", \"taiwan\", \"take\", \"take\", \"take\", \"take\", \"take\", \"take\", \"take\", \"taliban\", \"taliban\", \"taliban\", \"taliban\", \"taliban\", \"taliban\", \"taliban\", \"talk\", \"talk\", \"talk\", \"talk\", \"talk\", \"talk\", \"talk\", \"tax\", \"tax\", \"tax\", \"tax\", \"tax\", \"tax\", \"tax\", \"taxis\", \"taxis\", \"taxis\", \"taxis\", \"taxis\", \"taxis\", \"taxis\", \"ted_cruz\", \"ted_cruz\", \"ted_cruz\", \"ted_cruz\", \"ted_cruz\", \"ted_cruz\", \"ted_cruz\", \"teen\", \"teen\", \"teen\", \"teen\", \"teen\", \"teen\", \"teen\", \"tehran\", \"tehran\", \"tehran\", \"tehran\", \"tehran\", \"tehran\", \"tehran\", \"tell\", \"tell\", \"tell\", \"tell\", \"tell\", \"tell\", \"tell\", \"terrorist\", \"terrorist\", \"terrorist\", \"terrorist\", \"terrorist\", \"terrorist\", \"terrorist\", \"testify\", \"testify\", \"testify\", \"testify\", \"testify\", \"testify\", \"testify\", \"testimony\", \"testimony\", \"testimony\", \"testimony\", \"testimony\", \"testimony\", \"testimony\", \"thing\", \"thing\", \"thing\", \"thing\", \"thing\", \"thing\", \"thing\", \"think\", \"think\", \"think\", \"think\", \"think\", \"think\", \"think\", \"tillerson\", \"tillerson\", \"tillerson\", \"tillerson\", \"tillerson\", \"tillerson\", \"tillerson\", \"time\", \"time\", \"time\", \"time\", \"time\", \"time\", \"time\", \"trade\", \"trade\", \"trade\", \"trade\", \"trade\", \"trade\", \"trade\", \"tribe\", \"tribe\", \"tribe\", \"tribe\", \"tribe\", \"tribe\", \"tribe\", \"tribe\", \"troop\", \"troop\", \"troop\", \"troop\", \"troop\", \"troop\", \"troop\", \"trump\", \"trump\", \"trump\", \"trump\", \"trump\", \"trump\", \"trump\", \"turkey\", \"turkey\", \"turkey\", \"turkey\", \"turkey\", \"turkey\", \"turkey\", \"turkish\", \"turkish\", \"turkish\", \"turkish\", \"turkish\", \"turkish\", \"turkish\", \"tusk\", \"tusk\", \"tusk\", \"tusk\", \"tusk\", \"tusk\", \"tusk\", \"tweet\", \"tweet\", \"tweet\", \"tweet\", \"tweet\", \"tweet\", \"tweet\", \"twitter\", \"twitter\", \"twitter\", \"twitter\", \"twitter\", \"twitter\", \"twitter\", \"united_states\", \"united_states\", \"united_states\", \"united_states\", \"united_states\", \"united_states\", \"united_states\", \"use\", \"use\", \"use\", \"use\", \"use\", \"use\", \"use\", \"var\", \"var\", \"var\", \"var\", \"var\", \"var\", \"var\", \"var\", \"var_quot\", \"var_quot\", \"var_quot\", \"var_quot\", \"var_quot\", \"var_quot\", \"var_quot\", \"var_quot\", \"veselnitskaya\", \"veselnitskaya\", \"veselnitskaya\", \"veselnitskaya\", \"veselnitskaya\", \"veselnitskaya\", \"veselnitskaya\", \"victim\", \"victim\", \"victim\", \"victim\", \"victim\", \"victim\", \"victim\", \"video\", \"video\", \"video\", \"video\", \"video\", \"video\", \"video\", \"violence\", \"violence\", \"violence\", \"violence\", \"violence\", \"violence\", \"violence\", \"visit\", \"visit\", \"visit\", \"visit\", \"visit\", \"visit\", \"visit\", \"visit\", \"void_0\", \"void_0\", \"void_0\", \"void_0\", \"void_0\", \"void_0\", \"void_0\", \"void_0\", \"vote\", \"vote\", \"vote\", \"vote\", \"vote\", \"vote\", \"vote\", \"voter\", \"voter\", \"voter\", \"voter\", \"voter\", \"voter\", \"voter\", \"want\", \"want\", \"want\", \"want\", \"want\", \"want\", \"want\", \"warsaw\", \"warsaw\", \"warsaw\", \"warsaw\", \"warsaw\", \"warsaw\", \"warsaw\", \"washington\", \"washington\", \"washington\", \"washington\", \"washington\", \"washington\", \"washington\", \"water\", \"water\", \"water\", \"water\", \"water\", \"water\", \"water\", \"water\", \"wear\", \"wear\", \"wear\", \"wear\", \"wear\", \"wear\", \"wear\", \"white\", \"white\", \"white\", \"white\", \"white\", \"white\", \"white\", \"wikileak\", \"wikileak\", \"wikileak\", \"wikileak\", \"wikileak\", \"wikileak\", \"wikileak\", \"win\", \"win\", \"win\", \"win\", \"win\", \"win\", \"win\", \"wiretap\", \"wiretap\", \"wiretap\", \"wiretap\", \"wiretap\", \"wiretap\", \"wiretap\", \"woman\", \"woman\", \"woman\", \"woman\", \"woman\", \"woman\", \"woman\", \"work\", \"work\", \"work\", \"work\", \"work\", \"work\", \"work\", \"world\", \"world\", \"world\", \"world\", \"world\", \"world\", \"world\", \"xi\", \"xi\", \"xi\", \"xi\", \"xi\", \"xi\", \"xi\", \"year\", \"year\", \"year\", \"year\", \"year\", \"year\", \"year\", \"young\", \"young\", \"young\", \"young\", \"young\", \"young\", \"young\", \"zika\", \"zika\", \"zika\", \"zika\", \"zika\", \"zika\", \"zika\", \"zimbabwe\", \"zimbabwe\", \"zimbabwe\", \"zimbabwe\", \"zimbabwe\", \"zimbabwe\", \"zimbabwe\", \"zinke\", \"zinke\", \"zinke\", \"zinke\", \"zinke\", \"zinke\", \"zinke\", \"zinke\"]}, \"R\": 30, \"lambda.step\": 0.01, \"plot.opts\": {\"xlab\": \"PC1\", \"ylab\": \"PC2\"}, \"topic.order\": [4, 6, 2, 5, 3, 8, 7, 1]};\n",
              "\n",
              "function LDAvis_load_lib(url, callback){\n",
              "  var s = document.createElement('script');\n",
              "  s.src = url;\n",
              "  s.async = true;\n",
              "  s.onreadystatechange = s.onload = callback;\n",
              "  s.onerror = function(){console.warn(\"failed to load library \" + url);};\n",
              "  document.getElementsByTagName(\"head\")[0].appendChild(s);\n",
              "}\n",
              "\n",
              "if(typeof(LDAvis) !== \"undefined\"){\n",
              "   // already loaded: just create the visualization\n",
              "   !function(LDAvis){\n",
              "       new LDAvis(\"#\" + \"ldavis_el691402137686837281174935297\", ldavis_el691402137686837281174935297_data);\n",
              "   }(LDAvis);\n",
              "}else if(typeof define === \"function\" && define.amd){\n",
              "   // require.js is available: use it to load d3/LDAvis\n",
              "   require.config({paths: {d3: \"https://d3js.org/d3.v5\"}});\n",
              "   require([\"d3\"], function(d3){\n",
              "      window.d3 = d3;\n",
              "      LDAvis_load_lib(\"https://cdn.jsdelivr.net/gh/bmabey/pyLDAvis@3.3.1/pyLDAvis/js/ldavis.v3.0.0.js\", function(){\n",
              "        new LDAvis(\"#\" + \"ldavis_el691402137686837281174935297\", ldavis_el691402137686837281174935297_data);\n",
              "      });\n",
              "    });\n",
              "}else{\n",
              "    // require.js not available: dynamically load d3 & LDAvis\n",
              "    LDAvis_load_lib(\"https://d3js.org/d3.v5.js\", function(){\n",
              "         LDAvis_load_lib(\"https://cdn.jsdelivr.net/gh/bmabey/pyLDAvis@3.3.1/pyLDAvis/js/ldavis.v3.0.0.js\", function(){\n",
              "                 new LDAvis(\"#\" + \"ldavis_el691402137686837281174935297\", ldavis_el691402137686837281174935297_data);\n",
              "            })\n",
              "         });\n",
              "}\n",
              "</script>"
            ]
          },
          "metadata": {},
          "execution_count": 30
        }
      ]
    },
    {
      "cell_type": "markdown",
      "source": [
        "<font color='darkblue'> Finalmente asociamos cada noticia al *topic* de mayor relevancia en la misma haciendo uso de la función *select_topic*, visualizamos su *countplot* y guardamos el dataframe:</font>"
      ],
      "metadata": {
        "id": "Z_hUHCVTrKM6"
      }
    },
    {
      "cell_type": "code",
      "source": [
        "ISOT[\"topic_modelling\"] = lda_model.get_document_topics(corpus)"
      ],
      "metadata": {
        "id": "OMCQ6R1Ym6Al"
      },
      "execution_count": null,
      "outputs": []
    },
    {
      "cell_type": "code",
      "source": [
        "def select_topic(list):\n",
        "  return max(list, key = lambda i : i[0])[0]"
      ],
      "metadata": {
        "id": "mgmFLLYZm_6M"
      },
      "execution_count": null,
      "outputs": []
    },
    {
      "cell_type": "code",
      "source": [
        "ISOT[\"topic_modelling_max\"] = ISOT[\"topic_modelling\"].progress_apply(lambda x: select_topic(x))"
      ],
      "metadata": {
        "id": "WVvPiPuunDxl",
        "colab": {
          "base_uri": "https://localhost:8080/",
          "height": 49,
          "referenced_widgets": [
            "078c4d78f21b4be1ae81831879e2d0d5",
            "0fbb651df3974b7f936b4f4896d5beb5",
            "343bbd69793b414b93db572b10d9b6cb",
            "5e28fcd20381495c8271eee8f52cbc8f",
            "2d07672b8eab45e78f1f0b1a46119aad",
            "848e93bf8a1c4c658eb971465f094bc8",
            "641df2964d9145168e3f8e5208c72168",
            "bd0e5d3c41864a6298a03adc1cb14791",
            "b5136e99bf3b4dc78da1dccd2851424d",
            "44fe6e0af8d448c3a56d4cc21973dce3",
            "9c40ee2c0d384e10b76bb3be9ccdb523"
          ]
        },
        "outputId": "83c1a161-80b7-45df-9c3d-9dfcb760b757"
      },
      "execution_count": null,
      "outputs": [
        {
          "output_type": "display_data",
          "data": {
            "text/plain": [
              "  0%|          | 0/38265 [00:00<?, ?it/s]"
            ],
            "application/vnd.jupyter.widget-view+json": {
              "version_major": 2,
              "version_minor": 0,
              "model_id": "078c4d78f21b4be1ae81831879e2d0d5"
            }
          },
          "metadata": {}
        }
      ]
    },
    {
      "cell_type": "code",
      "source": [
        "ISOT.dtypes"
      ],
      "metadata": {
        "colab": {
          "base_uri": "https://localhost:8080/"
        },
        "id": "c8LZP-gxgXOh",
        "outputId": "0265b10e-1945-4403-9155-778b582e09c4"
      },
      "execution_count": null,
      "outputs": [
        {
          "output_type": "execute_result",
          "data": {
            "text/plain": [
              "title                    object\n",
              "text                     object\n",
              "subject                  object\n",
              "date                     object\n",
              "normaliza_text           object\n",
              "normaliza_title          object\n",
              "clean_text               object\n",
              "clean_title              object\n",
              "char_len_title            int64\n",
              "char_len_text             int64\n",
              "char_len_title_t          int64\n",
              "char_len_text_t           int64\n",
              "token_text_len            int64\n",
              "token_title_len           int64\n",
              "prop_uppercase_text     float64\n",
              "prop_uppercase_title    float64\n",
              "prop_long_text          float64\n",
              "prop_long_title         float64\n",
              "target                   object\n",
              "normaliza_b_filter       object\n",
              "topic_modelling          object\n",
              "topic_modelling_max       int64\n",
              "dtype: object"
            ]
          },
          "metadata": {},
          "execution_count": 36
        }
      ]
    },
    {
      "cell_type": "code",
      "source": [
        "ISOT['topic_modelling_max'][100:105]"
      ],
      "metadata": {
        "colab": {
          "base_uri": "https://localhost:8080/"
        },
        "id": "6eoLITDMgbUd",
        "outputId": "3726fa0b-9417-43cf-f9fe-2f4f283054c5"
      },
      "execution_count": null,
      "outputs": [
        {
          "output_type": "execute_result",
          "data": {
            "text/plain": [
              "100    7\n",
              "101    7\n",
              "102    6\n",
              "103    5\n",
              "104    6\n",
              "Name: topic_modelling_max, dtype: int64"
            ]
          },
          "metadata": {},
          "execution_count": 38
        }
      ]
    },
    {
      "cell_type": "code",
      "source": [
        "import seaborn as sns"
      ],
      "metadata": {
        "id": "3HGcTKp6gvWb"
      },
      "execution_count": null,
      "outputs": []
    },
    {
      "cell_type": "code",
      "source": [
        "display(ISOT[\"topic_modelling_max\"].value_counts(normalize=True)*100)\n",
        "sns.set(rc={'figure.figsize':(11.0,8.0)})\n",
        "ax = sns.countplot(x=\"topic_modelling_max\", data = ISOT).set(title='Distribución de topics')"
      ],
      "metadata": {
        "colab": {
          "base_uri": "https://localhost:8080/",
          "height": 674
        },
        "id": "4B4JlnJ5gmRu",
        "outputId": "3e79c9a5-b4b7-4d14-f98f-1b437762a1af"
      },
      "execution_count": null,
      "outputs": [
        {
          "output_type": "display_data",
          "data": {
            "text/plain": [
              "7    34.707958\n",
              "5    28.684176\n",
              "6    15.267215\n",
              "3    10.686005\n",
              "4     8.051744\n",
              "2     1.604600\n",
              "1     0.995688\n",
              "0     0.002613\n",
              "Name: topic_modelling_max, dtype: float64"
            ]
          },
          "metadata": {}
        },
        {
          "output_type": "display_data",
          "data": {
            "text/plain": [
              "<Figure size 792x576 with 1 Axes>"
            ],
            "image/png": "[encoded data removed]"
          },
          "metadata": {}
        }
      ]
    },
    {
      "cell_type": "code",
      "source": [
        "path = '/content/drive/MyDrive/Fake_News/'\n",
        "pickle_out = open(path + 'ISOT_topic_pickle', 'wb')\n",
        "pickle.dump(ISOT, pickle_out)\n",
        "pickle_out.close()"
      ],
      "metadata": {
        "id": "KqXTtEEPhVSX"
      },
      "execution_count": null,
      "outputs": []
    }
  ]
}