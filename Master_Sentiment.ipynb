{
  "nbformat": 4,
  "nbformat_minor": 0,
  "metadata": {
    "colab": {
      "provenance": [],
      "authorship_tag": "ABX9TyMsLYE2M71h+XI1KFHuz4dc",
      "include_colab_link": true
    },
    "kernelspec": {
      "name": "python3",
      "display_name": "Python 3"
    },
    "language_info": {
      "name": "python"
    },
    "widgets": {
      "application/vnd.jupyter.widget-state+json": {
        "94ea3eb1b7e9426abfb05fbcc67ec94c": {
          "model_module": "@jupyter-widgets/controls",
          "model_name": "HBoxModel",
          "model_module_version": "1.5.0",
          "state": {
            "_dom_classes": [],
            "_model_module": "@jupyter-widgets/controls",
            "_model_module_version": "1.5.0",
            "_model_name": "HBoxModel",
            "_view_count": null,
            "_view_module": "@jupyter-widgets/controls",
            "_view_module_version": "1.5.0",
            "_view_name": "HBoxView",
            "box_style": "",
            "children": [
              "IPY_MODEL_06659401e0244abfb0109c442aae59f7",
              "IPY_MODEL_9235573349f340dc95e0d8bad82ea0b7",
              "IPY_MODEL_0941b9510a344fb9a9b513700499b09a"
            ],
            "layout": "IPY_MODEL_37e794cc2e2343b895b3ac26446a3cfa"
          }
        },
        "06659401e0244abfb0109c442aae59f7": {
          "model_module": "@jupyter-widgets/controls",
          "model_name": "HTMLModel",
          "model_module_version": "1.5.0",
          "state": {
            "_dom_classes": [],
            "_model_module": "@jupyter-widgets/controls",
            "_model_module_version": "1.5.0",
            "_model_name": "HTMLModel",
            "_view_count": null,
            "_view_module": "@jupyter-widgets/controls",
            "_view_module_version": "1.5.0",
            "_view_name": "HTMLView",
            "description": "",
            "description_tooltip": null,
            "layout": "IPY_MODEL_751376b9f6cd42adb4d5263cf5e17a8a",
            "placeholder": "​",
            "style": "IPY_MODEL_ab940efb1bd64f02b689a6f1784e8b83",
            "value": "100%"
          }
        },
        "9235573349f340dc95e0d8bad82ea0b7": {
          "model_module": "@jupyter-widgets/controls",
          "model_name": "FloatProgressModel",
          "model_module_version": "1.5.0",
          "state": {
            "_dom_classes": [],
            "_model_module": "@jupyter-widgets/controls",
            "_model_module_version": "1.5.0",
            "_model_name": "FloatProgressModel",
            "_view_count": null,
            "_view_module": "@jupyter-widgets/controls",
            "_view_module_version": "1.5.0",
            "_view_name": "ProgressView",
            "bar_style": "success",
            "description": "",
            "description_tooltip": null,
            "layout": "IPY_MODEL_01d2ac0a7f4141f3ac16807668743ff3",
            "max": 38265,
            "min": 0,
            "orientation": "horizontal",
            "style": "IPY_MODEL_0d54bd8e863842d8b9b0306b54f9810a",
            "value": 38265
          }
        },
        "0941b9510a344fb9a9b513700499b09a": {
          "model_module": "@jupyter-widgets/controls",
          "model_name": "HTMLModel",
          "model_module_version": "1.5.0",
          "state": {
            "_dom_classes": [],
            "_model_module": "@jupyter-widgets/controls",
            "_model_module_version": "1.5.0",
            "_model_name": "HTMLModel",
            "_view_count": null,
            "_view_module": "@jupyter-widgets/controls",
            "_view_module_version": "1.5.0",
            "_view_name": "HTMLView",
            "description": "",
            "description_tooltip": null,
            "layout": "IPY_MODEL_0efc7bcd678c4c65a5cf53718808e1ab",
            "placeholder": "​",
            "style": "IPY_MODEL_7ea6e5fddadf4605b1b8645662fd5df3",
            "value": " 38265/38265 [01:06&lt;00:00, 613.03it/s]"
          }
        },
        "37e794cc2e2343b895b3ac26446a3cfa": {
          "model_module": "@jupyter-widgets/base",
          "model_name": "LayoutModel",
          "model_module_version": "1.2.0",
          "state": {
            "_model_module": "@jupyter-widgets/base",
            "_model_module_version": "1.2.0",
            "_model_name": "LayoutModel",
            "_view_count": null,
            "_view_module": "@jupyter-widgets/base",
            "_view_module_version": "1.2.0",
            "_view_name": "LayoutView",
            "align_content": null,
            "align_items": null,
            "align_self": null,
            "border": null,
            "bottom": null,
            "display": null,
            "flex": null,
            "flex_flow": null,
            "grid_area": null,
            "grid_auto_columns": null,
            "grid_auto_flow": null,
            "grid_auto_rows": null,
            "grid_column": null,
            "grid_gap": null,
            "grid_row": null,
            "grid_template_areas": null,
            "grid_template_columns": null,
            "grid_template_rows": null,
            "height": null,
            "justify_content": null,
            "justify_items": null,
            "left": null,
            "margin": null,
            "max_height": null,
            "max_width": null,
            "min_height": null,
            "min_width": null,
            "object_fit": null,
            "object_position": null,
            "order": null,
            "overflow": null,
            "overflow_x": null,
            "overflow_y": null,
            "padding": null,
            "right": null,
            "top": null,
            "visibility": null,
            "width": null
          }
        },
        "751376b9f6cd42adb4d5263cf5e17a8a": {
          "model_module": "@jupyter-widgets/base",
          "model_name": "LayoutModel",
          "model_module_version": "1.2.0",
          "state": {
            "_model_module": "@jupyter-widgets/base",
            "_model_module_version": "1.2.0",
            "_model_name": "LayoutModel",
            "_view_count": null,
            "_view_module": "@jupyter-widgets/base",
            "_view_module_version": "1.2.0",
            "_view_name": "LayoutView",
            "align_content": null,
            "align_items": null,
            "align_self": null,
            "border": null,
            "bottom": null,
            "display": null,
            "flex": null,
            "flex_flow": null,
            "grid_area": null,
            "grid_auto_columns": null,
            "grid_auto_flow": null,
            "grid_auto_rows": null,
            "grid_column": null,
            "grid_gap": null,
            "grid_row": null,
            "grid_template_areas": null,
            "grid_template_columns": null,
            "grid_template_rows": null,
            "height": null,
            "justify_content": null,
            "justify_items": null,
            "left": null,
            "margin": null,
            "max_height": null,
            "max_width": null,
            "min_height": null,
            "min_width": null,
            "object_fit": null,
            "object_position": null,
            "order": null,
            "overflow": null,
            "overflow_x": null,
            "overflow_y": null,
            "padding": null,
            "right": null,
            "top": null,
            "visibility": null,
            "width": null
          }
        },
        "ab940efb1bd64f02b689a6f1784e8b83": {
          "model_module": "@jupyter-widgets/controls",
          "model_name": "DescriptionStyleModel",
          "model_module_version": "1.5.0",
          "state": {
            "_model_module": "@jupyter-widgets/controls",
            "_model_module_version": "1.5.0",
            "_model_name": "DescriptionStyleModel",
            "_view_count": null,
            "_view_module": "@jupyter-widgets/base",
            "_view_module_version": "1.2.0",
            "_view_name": "StyleView",
            "description_width": ""
          }
        },
        "01d2ac0a7f4141f3ac16807668743ff3": {
          "model_module": "@jupyter-widgets/base",
          "model_name": "LayoutModel",
          "model_module_version": "1.2.0",
          "state": {
            "_model_module": "@jupyter-widgets/base",
            "_model_module_version": "1.2.0",
            "_model_name": "LayoutModel",
            "_view_count": null,
            "_view_module": "@jupyter-widgets/base",
            "_view_module_version": "1.2.0",
            "_view_name": "LayoutView",
            "align_content": null,
            "align_items": null,
            "align_self": null,
            "border": null,
            "bottom": null,
            "display": null,
            "flex": null,
            "flex_flow": null,
            "grid_area": null,
            "grid_auto_columns": null,
            "grid_auto_flow": null,
            "grid_auto_rows": null,
            "grid_column": null,
            "grid_gap": null,
            "grid_row": null,
            "grid_template_areas": null,
            "grid_template_columns": null,
            "grid_template_rows": null,
            "height": null,
            "justify_content": null,
            "justify_items": null,
            "left": null,
            "margin": null,
            "max_height": null,
            "max_width": null,
            "min_height": null,
            "min_width": null,
            "object_fit": null,
            "object_position": null,
            "order": null,
            "overflow": null,
            "overflow_x": null,
            "overflow_y": null,
            "padding": null,
            "right": null,
            "top": null,
            "visibility": null,
            "width": null
          }
        },
        "0d54bd8e863842d8b9b0306b54f9810a": {
          "model_module": "@jupyter-widgets/controls",
          "model_name": "ProgressStyleModel",
          "model_module_version": "1.5.0",
          "state": {
            "_model_module": "@jupyter-widgets/controls",
            "_model_module_version": "1.5.0",
            "_model_name": "ProgressStyleModel",
            "_view_count": null,
            "_view_module": "@jupyter-widgets/base",
            "_view_module_version": "1.2.0",
            "_view_name": "StyleView",
            "bar_color": null,
            "description_width": ""
          }
        },
        "0efc7bcd678c4c65a5cf53718808e1ab": {
          "model_module": "@jupyter-widgets/base",
          "model_name": "LayoutModel",
          "model_module_version": "1.2.0",
          "state": {
            "_model_module": "@jupyter-widgets/base",
            "_model_module_version": "1.2.0",
            "_model_name": "LayoutModel",
            "_view_count": null,
            "_view_module": "@jupyter-widgets/base",
            "_view_module_version": "1.2.0",
            "_view_name": "LayoutView",
            "align_content": null,
            "align_items": null,
            "align_self": null,
            "border": null,
            "bottom": null,
            "display": null,
            "flex": null,
            "flex_flow": null,
            "grid_area": null,
            "grid_auto_columns": null,
            "grid_auto_flow": null,
            "grid_auto_rows": null,
            "grid_column": null,
            "grid_gap": null,
            "grid_row": null,
            "grid_template_areas": null,
            "grid_template_columns": null,
            "grid_template_rows": null,
            "height": null,
            "justify_content": null,
            "justify_items": null,
            "left": null,
            "margin": null,
            "max_height": null,
            "max_width": null,
            "min_height": null,
            "min_width": null,
            "object_fit": null,
            "object_position": null,
            "order": null,
            "overflow": null,
            "overflow_x": null,
            "overflow_y": null,
            "padding": null,
            "right": null,
            "top": null,
            "visibility": null,
            "width": null
          }
        },
        "7ea6e5fddadf4605b1b8645662fd5df3": {
          "model_module": "@jupyter-widgets/controls",
          "model_name": "DescriptionStyleModel",
          "model_module_version": "1.5.0",
          "state": {
            "_model_module": "@jupyter-widgets/controls",
            "_model_module_version": "1.5.0",
            "_model_name": "DescriptionStyleModel",
            "_view_count": null,
            "_view_module": "@jupyter-widgets/base",
            "_view_module_version": "1.2.0",
            "_view_name": "StyleView",
            "description_width": ""
          }
        },
        "4457e2025d61420d91b75d8c0acabadf": {
          "model_module": "@jupyter-widgets/controls",
          "model_name": "HBoxModel",
          "model_module_version": "1.5.0",
          "state": {
            "_dom_classes": [],
            "_model_module": "@jupyter-widgets/controls",
            "_model_module_version": "1.5.0",
            "_model_name": "HBoxModel",
            "_view_count": null,
            "_view_module": "@jupyter-widgets/controls",
            "_view_module_version": "1.5.0",
            "_view_name": "HBoxView",
            "box_style": "",
            "children": [
              "IPY_MODEL_f21e66225e35434d960d2b39a6e46340",
              "IPY_MODEL_7fc4fa4b5e2d4806a52c343748c963d7",
              "IPY_MODEL_d09e847e50d84e07a109e1eb8ea44416"
            ],
            "layout": "IPY_MODEL_76db8d3ffe1f4d5a8c4080b51ef2bbaf"
          }
        },
        "f21e66225e35434d960d2b39a6e46340": {
          "model_module": "@jupyter-widgets/controls",
          "model_name": "HTMLModel",
          "model_module_version": "1.5.0",
          "state": {
            "_dom_classes": [],
            "_model_module": "@jupyter-widgets/controls",
            "_model_module_version": "1.5.0",
            "_model_name": "HTMLModel",
            "_view_count": null,
            "_view_module": "@jupyter-widgets/controls",
            "_view_module_version": "1.5.0",
            "_view_name": "HTMLView",
            "description": "",
            "description_tooltip": null,
            "layout": "IPY_MODEL_734a25a01cc745d0a2ac99ba91570192",
            "placeholder": "​",
            "style": "IPY_MODEL_123b852735b34155b721343b85ad494d",
            "value": "100%"
          }
        },
        "7fc4fa4b5e2d4806a52c343748c963d7": {
          "model_module": "@jupyter-widgets/controls",
          "model_name": "FloatProgressModel",
          "model_module_version": "1.5.0",
          "state": {
            "_dom_classes": [],
            "_model_module": "@jupyter-widgets/controls",
            "_model_module_version": "1.5.0",
            "_model_name": "FloatProgressModel",
            "_view_count": null,
            "_view_module": "@jupyter-widgets/controls",
            "_view_module_version": "1.5.0",
            "_view_name": "ProgressView",
            "bar_style": "success",
            "description": "",
            "description_tooltip": null,
            "layout": "IPY_MODEL_0a0cbe60688f4aa9bca64d4a800c3607",
            "max": 38265,
            "min": 0,
            "orientation": "horizontal",
            "style": "IPY_MODEL_4511d2cc0ddd4e28861cc87ad4322205",
            "value": 38265
          }
        },
        "d09e847e50d84e07a109e1eb8ea44416": {
          "model_module": "@jupyter-widgets/controls",
          "model_name": "HTMLModel",
          "model_module_version": "1.5.0",
          "state": {
            "_dom_classes": [],
            "_model_module": "@jupyter-widgets/controls",
            "_model_module_version": "1.5.0",
            "_model_name": "HTMLModel",
            "_view_count": null,
            "_view_module": "@jupyter-widgets/controls",
            "_view_module_version": "1.5.0",
            "_view_name": "HTMLView",
            "description": "",
            "description_tooltip": null,
            "layout": "IPY_MODEL_9de883bad28a41608f87a28849f3eda3",
            "placeholder": "​",
            "style": "IPY_MODEL_314df46cf1b44fd2a2f6e413224b31bd",
            "value": " 38265/38265 [01:07&lt;00:00, 596.61it/s]"
          }
        },
        "76db8d3ffe1f4d5a8c4080b51ef2bbaf": {
          "model_module": "@jupyter-widgets/base",
          "model_name": "LayoutModel",
          "model_module_version": "1.2.0",
          "state": {
            "_model_module": "@jupyter-widgets/base",
            "_model_module_version": "1.2.0",
            "_model_name": "LayoutModel",
            "_view_count": null,
            "_view_module": "@jupyter-widgets/base",
            "_view_module_version": "1.2.0",
            "_view_name": "LayoutView",
            "align_content": null,
            "align_items": null,
            "align_self": null,
            "border": null,
            "bottom": null,
            "display": null,
            "flex": null,
            "flex_flow": null,
            "grid_area": null,
            "grid_auto_columns": null,
            "grid_auto_flow": null,
            "grid_auto_rows": null,
            "grid_column": null,
            "grid_gap": null,
            "grid_row": null,
            "grid_template_areas": null,
            "grid_template_columns": null,
            "grid_template_rows": null,
            "height": null,
            "justify_content": null,
            "justify_items": null,
            "left": null,
            "margin": null,
            "max_height": null,
            "max_width": null,
            "min_height": null,
            "min_width": null,
            "object_fit": null,
            "object_position": null,
            "order": null,
            "overflow": null,
            "overflow_x": null,
            "overflow_y": null,
            "padding": null,
            "right": null,
            "top": null,
            "visibility": null,
            "width": null
          }
        },
        "734a25a01cc745d0a2ac99ba91570192": {
          "model_module": "@jupyter-widgets/base",
          "model_name": "LayoutModel",
          "model_module_version": "1.2.0",
          "state": {
            "_model_module": "@jupyter-widgets/base",
            "_model_module_version": "1.2.0",
            "_model_name": "LayoutModel",
            "_view_count": null,
            "_view_module": "@jupyter-widgets/base",
            "_view_module_version": "1.2.0",
            "_view_name": "LayoutView",
            "align_content": null,
            "align_items": null,
            "align_self": null,
            "border": null,
            "bottom": null,
            "display": null,
            "flex": null,
            "flex_flow": null,
            "grid_area": null,
            "grid_auto_columns": null,
            "grid_auto_flow": null,
            "grid_auto_rows": null,
            "grid_column": null,
            "grid_gap": null,
            "grid_row": null,
            "grid_template_areas": null,
            "grid_template_columns": null,
            "grid_template_rows": null,
            "height": null,
            "justify_content": null,
            "justify_items": null,
            "left": null,
            "margin": null,
            "max_height": null,
            "max_width": null,
            "min_height": null,
            "min_width": null,
            "object_fit": null,
            "object_position": null,
            "order": null,
            "overflow": null,
            "overflow_x": null,
            "overflow_y": null,
            "padding": null,
            "right": null,
            "top": null,
            "visibility": null,
            "width": null
          }
        },
        "123b852735b34155b721343b85ad494d": {
          "model_module": "@jupyter-widgets/controls",
          "model_name": "DescriptionStyleModel",
          "model_module_version": "1.5.0",
          "state": {
            "_model_module": "@jupyter-widgets/controls",
            "_model_module_version": "1.5.0",
            "_model_name": "DescriptionStyleModel",
            "_view_count": null,
            "_view_module": "@jupyter-widgets/base",
            "_view_module_version": "1.2.0",
            "_view_name": "StyleView",
            "description_width": ""
          }
        },
        "0a0cbe60688f4aa9bca64d4a800c3607": {
          "model_module": "@jupyter-widgets/base",
          "model_name": "LayoutModel",
          "model_module_version": "1.2.0",
          "state": {
            "_model_module": "@jupyter-widgets/base",
            "_model_module_version": "1.2.0",
            "_model_name": "LayoutModel",
            "_view_count": null,
            "_view_module": "@jupyter-widgets/base",
            "_view_module_version": "1.2.0",
            "_view_name": "LayoutView",
            "align_content": null,
            "align_items": null,
            "align_self": null,
            "border": null,
            "bottom": null,
            "display": null,
            "flex": null,
            "flex_flow": null,
            "grid_area": null,
            "grid_auto_columns": null,
            "grid_auto_flow": null,
            "grid_auto_rows": null,
            "grid_column": null,
            "grid_gap": null,
            "grid_row": null,
            "grid_template_areas": null,
            "grid_template_columns": null,
            "grid_template_rows": null,
            "height": null,
            "justify_content": null,
            "justify_items": null,
            "left": null,
            "margin": null,
            "max_height": null,
            "max_width": null,
            "min_height": null,
            "min_width": null,
            "object_fit": null,
            "object_position": null,
            "order": null,
            "overflow": null,
            "overflow_x": null,
            "overflow_y": null,
            "padding": null,
            "right": null,
            "top": null,
            "visibility": null,
            "width": null
          }
        },
        "4511d2cc0ddd4e28861cc87ad4322205": {
          "model_module": "@jupyter-widgets/controls",
          "model_name": "ProgressStyleModel",
          "model_module_version": "1.5.0",
          "state": {
            "_model_module": "@jupyter-widgets/controls",
            "_model_module_version": "1.5.0",
            "_model_name": "ProgressStyleModel",
            "_view_count": null,
            "_view_module": "@jupyter-widgets/base",
            "_view_module_version": "1.2.0",
            "_view_name": "StyleView",
            "bar_color": null,
            "description_width": ""
          }
        },
        "9de883bad28a41608f87a28849f3eda3": {
          "model_module": "@jupyter-widgets/base",
          "model_name": "LayoutModel",
          "model_module_version": "1.2.0",
          "state": {
            "_model_module": "@jupyter-widgets/base",
            "_model_module_version": "1.2.0",
            "_model_name": "LayoutModel",
            "_view_count": null,
            "_view_module": "@jupyter-widgets/base",
            "_view_module_version": "1.2.0",
            "_view_name": "LayoutView",
            "align_content": null,
            "align_items": null,
            "align_self": null,
            "border": null,
            "bottom": null,
            "display": null,
            "flex": null,
            "flex_flow": null,
            "grid_area": null,
            "grid_auto_columns": null,
            "grid_auto_flow": null,
            "grid_auto_rows": null,
            "grid_column": null,
            "grid_gap": null,
            "grid_row": null,
            "grid_template_areas": null,
            "grid_template_columns": null,
            "grid_template_rows": null,
            "height": null,
            "justify_content": null,
            "justify_items": null,
            "left": null,
            "margin": null,
            "max_height": null,
            "max_width": null,
            "min_height": null,
            "min_width": null,
            "object_fit": null,
            "object_position": null,
            "order": null,
            "overflow": null,
            "overflow_x": null,
            "overflow_y": null,
            "padding": null,
            "right": null,
            "top": null,
            "visibility": null,
            "width": null
          }
        },
        "314df46cf1b44fd2a2f6e413224b31bd": {
          "model_module": "@jupyter-widgets/controls",
          "model_name": "DescriptionStyleModel",
          "model_module_version": "1.5.0",
          "state": {
            "_model_module": "@jupyter-widgets/controls",
            "_model_module_version": "1.5.0",
            "_model_name": "DescriptionStyleModel",
            "_view_count": null,
            "_view_module": "@jupyter-widgets/base",
            "_view_module_version": "1.2.0",
            "_view_name": "StyleView",
            "description_width": ""
          }
        },
        "e6fb05def1bd4cba9e536375ec10827c": {
          "model_module": "@jupyter-widgets/controls",
          "model_name": "HBoxModel",
          "model_module_version": "1.5.0",
          "state": {
            "_dom_classes": [],
            "_model_module": "@jupyter-widgets/controls",
            "_model_module_version": "1.5.0",
            "_model_name": "HBoxModel",
            "_view_count": null,
            "_view_module": "@jupyter-widgets/controls",
            "_view_module_version": "1.5.0",
            "_view_name": "HBoxView",
            "box_style": "",
            "children": [
              "IPY_MODEL_f2f8ed3e14d545fdb694caefab189362",
              "IPY_MODEL_70587572cd894f558bcbec6725a0bdb6",
              "IPY_MODEL_8e811e8f92414d2b858f8f9580fc79f4"
            ],
            "layout": "IPY_MODEL_33e9d9f9962644e4a648aadca22b26f6"
          }
        },
        "f2f8ed3e14d545fdb694caefab189362": {
          "model_module": "@jupyter-widgets/controls",
          "model_name": "HTMLModel",
          "model_module_version": "1.5.0",
          "state": {
            "_dom_classes": [],
            "_model_module": "@jupyter-widgets/controls",
            "_model_module_version": "1.5.0",
            "_model_name": "HTMLModel",
            "_view_count": null,
            "_view_module": "@jupyter-widgets/controls",
            "_view_module_version": "1.5.0",
            "_view_name": "HTMLView",
            "description": "",
            "description_tooltip": null,
            "layout": "IPY_MODEL_30396c7430c148bfa9fd8ba68ced82cf",
            "placeholder": "​",
            "style": "IPY_MODEL_09b785000a534e6caf7122ef507bfd2b",
            "value": "100%"
          }
        },
        "70587572cd894f558bcbec6725a0bdb6": {
          "model_module": "@jupyter-widgets/controls",
          "model_name": "FloatProgressModel",
          "model_module_version": "1.5.0",
          "state": {
            "_dom_classes": [],
            "_model_module": "@jupyter-widgets/controls",
            "_model_module_version": "1.5.0",
            "_model_name": "FloatProgressModel",
            "_view_count": null,
            "_view_module": "@jupyter-widgets/controls",
            "_view_module_version": "1.5.0",
            "_view_name": "ProgressView",
            "bar_style": "success",
            "description": "",
            "description_tooltip": null,
            "layout": "IPY_MODEL_0882e902072040b9ab2b6444ef93a513",
            "max": 38265,
            "min": 0,
            "orientation": "horizontal",
            "style": "IPY_MODEL_1928eb3cb9914e72b9aff7b0e4b1e813",
            "value": 38265
          }
        },
        "8e811e8f92414d2b858f8f9580fc79f4": {
          "model_module": "@jupyter-widgets/controls",
          "model_name": "HTMLModel",
          "model_module_version": "1.5.0",
          "state": {
            "_dom_classes": [],
            "_model_module": "@jupyter-widgets/controls",
            "_model_module_version": "1.5.0",
            "_model_name": "HTMLModel",
            "_view_count": null,
            "_view_module": "@jupyter-widgets/controls",
            "_view_module_version": "1.5.0",
            "_view_name": "HTMLView",
            "description": "",
            "description_tooltip": null,
            "layout": "IPY_MODEL_31d387b473de4e038d165421022f21ca",
            "placeholder": "​",
            "style": "IPY_MODEL_b54390c9479e4a8a8e83e461bcdb6fa6",
            "value": " 38265/38265 [00:00&lt;00:00, 139018.81it/s]"
          }
        },
        "33e9d9f9962644e4a648aadca22b26f6": {
          "model_module": "@jupyter-widgets/base",
          "model_name": "LayoutModel",
          "model_module_version": "1.2.0",
          "state": {
            "_model_module": "@jupyter-widgets/base",
            "_model_module_version": "1.2.0",
            "_model_name": "LayoutModel",
            "_view_count": null,
            "_view_module": "@jupyter-widgets/base",
            "_view_module_version": "1.2.0",
            "_view_name": "LayoutView",
            "align_content": null,
            "align_items": null,
            "align_self": null,
            "border": null,
            "bottom": null,
            "display": null,
            "flex": null,
            "flex_flow": null,
            "grid_area": null,
            "grid_auto_columns": null,
            "grid_auto_flow": null,
            "grid_auto_rows": null,
            "grid_column": null,
            "grid_gap": null,
            "grid_row": null,
            "grid_template_areas": null,
            "grid_template_columns": null,
            "grid_template_rows": null,
            "height": null,
            "justify_content": null,
            "justify_items": null,
            "left": null,
            "margin": null,
            "max_height": null,
            "max_width": null,
            "min_height": null,
            "min_width": null,
            "object_fit": null,
            "object_position": null,
            "order": null,
            "overflow": null,
            "overflow_x": null,
            "overflow_y": null,
            "padding": null,
            "right": null,
            "top": null,
            "visibility": null,
            "width": null
          }
        },
        "30396c7430c148bfa9fd8ba68ced82cf": {
          "model_module": "@jupyter-widgets/base",
          "model_name": "LayoutModel",
          "model_module_version": "1.2.0",
          "state": {
            "_model_module": "@jupyter-widgets/base",
            "_model_module_version": "1.2.0",
            "_model_name": "LayoutModel",
            "_view_count": null,
            "_view_module": "@jupyter-widgets/base",
            "_view_module_version": "1.2.0",
            "_view_name": "LayoutView",
            "align_content": null,
            "align_items": null,
            "align_self": null,
            "border": null,
            "bottom": null,
            "display": null,
            "flex": null,
            "flex_flow": null,
            "grid_area": null,
            "grid_auto_columns": null,
            "grid_auto_flow": null,
            "grid_auto_rows": null,
            "grid_column": null,
            "grid_gap": null,
            "grid_row": null,
            "grid_template_areas": null,
            "grid_template_columns": null,
            "grid_template_rows": null,
            "height": null,
            "justify_content": null,
            "justify_items": null,
            "left": null,
            "margin": null,
            "max_height": null,
            "max_width": null,
            "min_height": null,
            "min_width": null,
            "object_fit": null,
            "object_position": null,
            "order": null,
            "overflow": null,
            "overflow_x": null,
            "overflow_y": null,
            "padding": null,
            "right": null,
            "top": null,
            "visibility": null,
            "width": null
          }
        },
        "09b785000a534e6caf7122ef507bfd2b": {
          "model_module": "@jupyter-widgets/controls",
          "model_name": "DescriptionStyleModel",
          "model_module_version": "1.5.0",
          "state": {
            "_model_module": "@jupyter-widgets/controls",
            "_model_module_version": "1.5.0",
            "_model_name": "DescriptionStyleModel",
            "_view_count": null,
            "_view_module": "@jupyter-widgets/base",
            "_view_module_version": "1.2.0",
            "_view_name": "StyleView",
            "description_width": ""
          }
        },
        "0882e902072040b9ab2b6444ef93a513": {
          "model_module": "@jupyter-widgets/base",
          "model_name": "LayoutModel",
          "model_module_version": "1.2.0",
          "state": {
            "_model_module": "@jupyter-widgets/base",
            "_model_module_version": "1.2.0",
            "_model_name": "LayoutModel",
            "_view_count": null,
            "_view_module": "@jupyter-widgets/base",
            "_view_module_version": "1.2.0",
            "_view_name": "LayoutView",
            "align_content": null,
            "align_items": null,
            "align_self": null,
            "border": null,
            "bottom": null,
            "display": null,
            "flex": null,
            "flex_flow": null,
            "grid_area": null,
            "grid_auto_columns": null,
            "grid_auto_flow": null,
            "grid_auto_rows": null,
            "grid_column": null,
            "grid_gap": null,
            "grid_row": null,
            "grid_template_areas": null,
            "grid_template_columns": null,
            "grid_template_rows": null,
            "height": null,
            "justify_content": null,
            "justify_items": null,
            "left": null,
            "margin": null,
            "max_height": null,
            "max_width": null,
            "min_height": null,
            "min_width": null,
            "object_fit": null,
            "object_position": null,
            "order": null,
            "overflow": null,
            "overflow_x": null,
            "overflow_y": null,
            "padding": null,
            "right": null,
            "top": null,
            "visibility": null,
            "width": null
          }
        },
        "1928eb3cb9914e72b9aff7b0e4b1e813": {
          "model_module": "@jupyter-widgets/controls",
          "model_name": "ProgressStyleModel",
          "model_module_version": "1.5.0",
          "state": {
            "_model_module": "@jupyter-widgets/controls",
            "_model_module_version": "1.5.0",
            "_model_name": "ProgressStyleModel",
            "_view_count": null,
            "_view_module": "@jupyter-widgets/base",
            "_view_module_version": "1.2.0",
            "_view_name": "StyleView",
            "bar_color": null,
            "description_width": ""
          }
        },
        "31d387b473de4e038d165421022f21ca": {
          "model_module": "@jupyter-widgets/base",
          "model_name": "LayoutModel",
          "model_module_version": "1.2.0",
          "state": {
            "_model_module": "@jupyter-widgets/base",
            "_model_module_version": "1.2.0",
            "_model_name": "LayoutModel",
            "_view_count": null,
            "_view_module": "@jupyter-widgets/base",
            "_view_module_version": "1.2.0",
            "_view_name": "LayoutView",
            "align_content": null,
            "align_items": null,
            "align_self": null,
            "border": null,
            "bottom": null,
            "display": null,
            "flex": null,
            "flex_flow": null,
            "grid_area": null,
            "grid_auto_columns": null,
            "grid_auto_flow": null,
            "grid_auto_rows": null,
            "grid_column": null,
            "grid_gap": null,
            "grid_row": null,
            "grid_template_areas": null,
            "grid_template_columns": null,
            "grid_template_rows": null,
            "height": null,
            "justify_content": null,
            "justify_items": null,
            "left": null,
            "margin": null,
            "max_height": null,
            "max_width": null,
            "min_height": null,
            "min_width": null,
            "object_fit": null,
            "object_position": null,
            "order": null,
            "overflow": null,
            "overflow_x": null,
            "overflow_y": null,
            "padding": null,
            "right": null,
            "top": null,
            "visibility": null,
            "width": null
          }
        },
        "b54390c9479e4a8a8e83e461bcdb6fa6": {
          "model_module": "@jupyter-widgets/controls",
          "model_name": "DescriptionStyleModel",
          "model_module_version": "1.5.0",
          "state": {
            "_model_module": "@jupyter-widgets/controls",
            "_model_module_version": "1.5.0",
            "_model_name": "DescriptionStyleModel",
            "_view_count": null,
            "_view_module": "@jupyter-widgets/base",
            "_view_module_version": "1.2.0",
            "_view_name": "StyleView",
            "description_width": ""
          }
        },
        "94ecdb6c824f41bf92e0a81e9f0c3a4a": {
          "model_module": "@jupyter-widgets/controls",
          "model_name": "HBoxModel",
          "model_module_version": "1.5.0",
          "state": {
            "_dom_classes": [],
            "_model_module": "@jupyter-widgets/controls",
            "_model_module_version": "1.5.0",
            "_model_name": "HBoxModel",
            "_view_count": null,
            "_view_module": "@jupyter-widgets/controls",
            "_view_module_version": "1.5.0",
            "_view_name": "HBoxView",
            "box_style": "",
            "children": [
              "IPY_MODEL_a578ff3b7522419daa2d229fe54cddac",
              "IPY_MODEL_c9a5adad35bc4a3e9dd564c06659a2d6",
              "IPY_MODEL_79a95221d6e5476c96acf1ea7086868c"
            ],
            "layout": "IPY_MODEL_032e6a6c95cb4396a87378ade7794aa8"
          }
        },
        "a578ff3b7522419daa2d229fe54cddac": {
          "model_module": "@jupyter-widgets/controls",
          "model_name": "HTMLModel",
          "model_module_version": "1.5.0",
          "state": {
            "_dom_classes": [],
            "_model_module": "@jupyter-widgets/controls",
            "_model_module_version": "1.5.0",
            "_model_name": "HTMLModel",
            "_view_count": null,
            "_view_module": "@jupyter-widgets/controls",
            "_view_module_version": "1.5.0",
            "_view_name": "HTMLView",
            "description": "",
            "description_tooltip": null,
            "layout": "IPY_MODEL_1a0ca6800af84ea4827f520498601c87",
            "placeholder": "​",
            "style": "IPY_MODEL_ebb8a988b4f3484e8c5a2131470d1bca",
            "value": "100%"
          }
        },
        "c9a5adad35bc4a3e9dd564c06659a2d6": {
          "model_module": "@jupyter-widgets/controls",
          "model_name": "FloatProgressModel",
          "model_module_version": "1.5.0",
          "state": {
            "_dom_classes": [],
            "_model_module": "@jupyter-widgets/controls",
            "_model_module_version": "1.5.0",
            "_model_name": "FloatProgressModel",
            "_view_count": null,
            "_view_module": "@jupyter-widgets/controls",
            "_view_module_version": "1.5.0",
            "_view_name": "ProgressView",
            "bar_style": "success",
            "description": "",
            "description_tooltip": null,
            "layout": "IPY_MODEL_175686b32f2944aab5ad85761b3f8728",
            "max": 38265,
            "min": 0,
            "orientation": "horizontal",
            "style": "IPY_MODEL_b2fac71810d64d18a2d877876cc34676",
            "value": 38265
          }
        },
        "79a95221d6e5476c96acf1ea7086868c": {
          "model_module": "@jupyter-widgets/controls",
          "model_name": "HTMLModel",
          "model_module_version": "1.5.0",
          "state": {
            "_dom_classes": [],
            "_model_module": "@jupyter-widgets/controls",
            "_model_module_version": "1.5.0",
            "_model_name": "HTMLModel",
            "_view_count": null,
            "_view_module": "@jupyter-widgets/controls",
            "_view_module_version": "1.5.0",
            "_view_name": "HTMLView",
            "description": "",
            "description_tooltip": null,
            "layout": "IPY_MODEL_a426ed028583459eae0cc61c01f969ab",
            "placeholder": "​",
            "style": "IPY_MODEL_818314eb7456438994e3c3a391612c89",
            "value": " 38265/38265 [00:09&lt;00:00, 4099.05it/s]"
          }
        },
        "032e6a6c95cb4396a87378ade7794aa8": {
          "model_module": "@jupyter-widgets/base",
          "model_name": "LayoutModel",
          "model_module_version": "1.2.0",
          "state": {
            "_model_module": "@jupyter-widgets/base",
            "_model_module_version": "1.2.0",
            "_model_name": "LayoutModel",
            "_view_count": null,
            "_view_module": "@jupyter-widgets/base",
            "_view_module_version": "1.2.0",
            "_view_name": "LayoutView",
            "align_content": null,
            "align_items": null,
            "align_self": null,
            "border": null,
            "bottom": null,
            "display": null,
            "flex": null,
            "flex_flow": null,
            "grid_area": null,
            "grid_auto_columns": null,
            "grid_auto_flow": null,
            "grid_auto_rows": null,
            "grid_column": null,
            "grid_gap": null,
            "grid_row": null,
            "grid_template_areas": null,
            "grid_template_columns": null,
            "grid_template_rows": null,
            "height": null,
            "justify_content": null,
            "justify_items": null,
            "left": null,
            "margin": null,
            "max_height": null,
            "max_width": null,
            "min_height": null,
            "min_width": null,
            "object_fit": null,
            "object_position": null,
            "order": null,
            "overflow": null,
            "overflow_x": null,
            "overflow_y": null,
            "padding": null,
            "right": null,
            "top": null,
            "visibility": null,
            "width": null
          }
        },
        "1a0ca6800af84ea4827f520498601c87": {
          "model_module": "@jupyter-widgets/base",
          "model_name": "LayoutModel",
          "model_module_version": "1.2.0",
          "state": {
            "_model_module": "@jupyter-widgets/base",
            "_model_module_version": "1.2.0",
            "_model_name": "LayoutModel",
            "_view_count": null,
            "_view_module": "@jupyter-widgets/base",
            "_view_module_version": "1.2.0",
            "_view_name": "LayoutView",
            "align_content": null,
            "align_items": null,
            "align_self": null,
            "border": null,
            "bottom": null,
            "display": null,
            "flex": null,
            "flex_flow": null,
            "grid_area": null,
            "grid_auto_columns": null,
            "grid_auto_flow": null,
            "grid_auto_rows": null,
            "grid_column": null,
            "grid_gap": null,
            "grid_row": null,
            "grid_template_areas": null,
            "grid_template_columns": null,
            "grid_template_rows": null,
            "height": null,
            "justify_content": null,
            "justify_items": null,
            "left": null,
            "margin": null,
            "max_height": null,
            "max_width": null,
            "min_height": null,
            "min_width": null,
            "object_fit": null,
            "object_position": null,
            "order": null,
            "overflow": null,
            "overflow_x": null,
            "overflow_y": null,
            "padding": null,
            "right": null,
            "top": null,
            "visibility": null,
            "width": null
          }
        },
        "ebb8a988b4f3484e8c5a2131470d1bca": {
          "model_module": "@jupyter-widgets/controls",
          "model_name": "DescriptionStyleModel",
          "model_module_version": "1.5.0",
          "state": {
            "_model_module": "@jupyter-widgets/controls",
            "_model_module_version": "1.5.0",
            "_model_name": "DescriptionStyleModel",
            "_view_count": null,
            "_view_module": "@jupyter-widgets/base",
            "_view_module_version": "1.2.0",
            "_view_name": "StyleView",
            "description_width": ""
          }
        },
        "175686b32f2944aab5ad85761b3f8728": {
          "model_module": "@jupyter-widgets/base",
          "model_name": "LayoutModel",
          "model_module_version": "1.2.0",
          "state": {
            "_model_module": "@jupyter-widgets/base",
            "_model_module_version": "1.2.0",
            "_model_name": "LayoutModel",
            "_view_count": null,
            "_view_module": "@jupyter-widgets/base",
            "_view_module_version": "1.2.0",
            "_view_name": "LayoutView",
            "align_content": null,
            "align_items": null,
            "align_self": null,
            "border": null,
            "bottom": null,
            "display": null,
            "flex": null,
            "flex_flow": null,
            "grid_area": null,
            "grid_auto_columns": null,
            "grid_auto_flow": null,
            "grid_auto_rows": null,
            "grid_column": null,
            "grid_gap": null,
            "grid_row": null,
            "grid_template_areas": null,
            "grid_template_columns": null,
            "grid_template_rows": null,
            "height": null,
            "justify_content": null,
            "justify_items": null,
            "left": null,
            "margin": null,
            "max_height": null,
            "max_width": null,
            "min_height": null,
            "min_width": null,
            "object_fit": null,
            "object_position": null,
            "order": null,
            "overflow": null,
            "overflow_x": null,
            "overflow_y": null,
            "padding": null,
            "right": null,
            "top": null,
            "visibility": null,
            "width": null
          }
        },
        "b2fac71810d64d18a2d877876cc34676": {
          "model_module": "@jupyter-widgets/controls",
          "model_name": "ProgressStyleModel",
          "model_module_version": "1.5.0",
          "state": {
            "_model_module": "@jupyter-widgets/controls",
            "_model_module_version": "1.5.0",
            "_model_name": "ProgressStyleModel",
            "_view_count": null,
            "_view_module": "@jupyter-widgets/base",
            "_view_module_version": "1.2.0",
            "_view_name": "StyleView",
            "bar_color": null,
            "description_width": ""
          }
        },
        "a426ed028583459eae0cc61c01f969ab": {
          "model_module": "@jupyter-widgets/base",
          "model_name": "LayoutModel",
          "model_module_version": "1.2.0",
          "state": {
            "_model_module": "@jupyter-widgets/base",
            "_model_module_version": "1.2.0",
            "_model_name": "LayoutModel",
            "_view_count": null,
            "_view_module": "@jupyter-widgets/base",
            "_view_module_version": "1.2.0",
            "_view_name": "LayoutView",
            "align_content": null,
            "align_items": null,
            "align_self": null,
            "border": null,
            "bottom": null,
            "display": null,
            "flex": null,
            "flex_flow": null,
            "grid_area": null,
            "grid_auto_columns": null,
            "grid_auto_flow": null,
            "grid_auto_rows": null,
            "grid_column": null,
            "grid_gap": null,
            "grid_row": null,
            "grid_template_areas": null,
            "grid_template_columns": null,
            "grid_template_rows": null,
            "height": null,
            "justify_content": null,
            "justify_items": null,
            "left": null,
            "margin": null,
            "max_height": null,
            "max_width": null,
            "min_height": null,
            "min_width": null,
            "object_fit": null,
            "object_position": null,
            "order": null,
            "overflow": null,
            "overflow_x": null,
            "overflow_y": null,
            "padding": null,
            "right": null,
            "top": null,
            "visibility": null,
            "width": null
          }
        },
        "818314eb7456438994e3c3a391612c89": {
          "model_module": "@jupyter-widgets/controls",
          "model_name": "DescriptionStyleModel",
          "model_module_version": "1.5.0",
          "state": {
            "_model_module": "@jupyter-widgets/controls",
            "_model_module_version": "1.5.0",
            "_model_name": "DescriptionStyleModel",
            "_view_count": null,
            "_view_module": "@jupyter-widgets/base",
            "_view_module_version": "1.2.0",
            "_view_name": "StyleView",
            "description_width": ""
          }
        },
        "31bcb70adc24412aa6590f52a878df78": {
          "model_module": "@jupyter-widgets/controls",
          "model_name": "HBoxModel",
          "model_module_version": "1.5.0",
          "state": {
            "_dom_classes": [],
            "_model_module": "@jupyter-widgets/controls",
            "_model_module_version": "1.5.0",
            "_model_name": "HBoxModel",
            "_view_count": null,
            "_view_module": "@jupyter-widgets/controls",
            "_view_module_version": "1.5.0",
            "_view_name": "HBoxView",
            "box_style": "",
            "children": [
              "IPY_MODEL_ccf099aa69264ff1995b500d0726a68a",
              "IPY_MODEL_157264a99f7744f9986cfe736f7b891b",
              "IPY_MODEL_1adcff269f1a444eb75f7a9df72783ab"
            ],
            "layout": "IPY_MODEL_a18e040f38ee4c4e9cd8497e172647bb"
          }
        },
        "ccf099aa69264ff1995b500d0726a68a": {
          "model_module": "@jupyter-widgets/controls",
          "model_name": "HTMLModel",
          "model_module_version": "1.5.0",
          "state": {
            "_dom_classes": [],
            "_model_module": "@jupyter-widgets/controls",
            "_model_module_version": "1.5.0",
            "_model_name": "HTMLModel",
            "_view_count": null,
            "_view_module": "@jupyter-widgets/controls",
            "_view_module_version": "1.5.0",
            "_view_name": "HTMLView",
            "description": "",
            "description_tooltip": null,
            "layout": "IPY_MODEL_e762eb1fa9bb441fb222a96b79cba6d0",
            "placeholder": "​",
            "style": "IPY_MODEL_c9ca1d081c4048a281f096ff5d349be5",
            "value": "100%"
          }
        },
        "157264a99f7744f9986cfe736f7b891b": {
          "model_module": "@jupyter-widgets/controls",
          "model_name": "FloatProgressModel",
          "model_module_version": "1.5.0",
          "state": {
            "_dom_classes": [],
            "_model_module": "@jupyter-widgets/controls",
            "_model_module_version": "1.5.0",
            "_model_name": "FloatProgressModel",
            "_view_count": null,
            "_view_module": "@jupyter-widgets/controls",
            "_view_module_version": "1.5.0",
            "_view_name": "ProgressView",
            "bar_style": "success",
            "description": "",
            "description_tooltip": null,
            "layout": "IPY_MODEL_55630731db414f749514f63d5b577451",
            "max": 38265,
            "min": 0,
            "orientation": "horizontal",
            "style": "IPY_MODEL_2827a040617340f5baf7413cf2e8149d",
            "value": 38265
          }
        },
        "1adcff269f1a444eb75f7a9df72783ab": {
          "model_module": "@jupyter-widgets/controls",
          "model_name": "HTMLModel",
          "model_module_version": "1.5.0",
          "state": {
            "_dom_classes": [],
            "_model_module": "@jupyter-widgets/controls",
            "_model_module_version": "1.5.0",
            "_model_name": "HTMLModel",
            "_view_count": null,
            "_view_module": "@jupyter-widgets/controls",
            "_view_module_version": "1.5.0",
            "_view_name": "HTMLView",
            "description": "",
            "description_tooltip": null,
            "layout": "IPY_MODEL_57b42df495064c639b65a226ac47da69",
            "placeholder": "​",
            "style": "IPY_MODEL_80335bf043f341e6928da16216f0d105",
            "value": " 38265/38265 [00:09&lt;00:00, 4155.36it/s]"
          }
        },
        "a18e040f38ee4c4e9cd8497e172647bb": {
          "model_module": "@jupyter-widgets/base",
          "model_name": "LayoutModel",
          "model_module_version": "1.2.0",
          "state": {
            "_model_module": "@jupyter-widgets/base",
            "_model_module_version": "1.2.0",
            "_model_name": "LayoutModel",
            "_view_count": null,
            "_view_module": "@jupyter-widgets/base",
            "_view_module_version": "1.2.0",
            "_view_name": "LayoutView",
            "align_content": null,
            "align_items": null,
            "align_self": null,
            "border": null,
            "bottom": null,
            "display": null,
            "flex": null,
            "flex_flow": null,
            "grid_area": null,
            "grid_auto_columns": null,
            "grid_auto_flow": null,
            "grid_auto_rows": null,
            "grid_column": null,
            "grid_gap": null,
            "grid_row": null,
            "grid_template_areas": null,
            "grid_template_columns": null,
            "grid_template_rows": null,
            "height": null,
            "justify_content": null,
            "justify_items": null,
            "left": null,
            "margin": null,
            "max_height": null,
            "max_width": null,
            "min_height": null,
            "min_width": null,
            "object_fit": null,
            "object_position": null,
            "order": null,
            "overflow": null,
            "overflow_x": null,
            "overflow_y": null,
            "padding": null,
            "right": null,
            "top": null,
            "visibility": null,
            "width": null
          }
        },
        "e762eb1fa9bb441fb222a96b79cba6d0": {
          "model_module": "@jupyter-widgets/base",
          "model_name": "LayoutModel",
          "model_module_version": "1.2.0",
          "state": {
            "_model_module": "@jupyter-widgets/base",
            "_model_module_version": "1.2.0",
            "_model_name": "LayoutModel",
            "_view_count": null,
            "_view_module": "@jupyter-widgets/base",
            "_view_module_version": "1.2.0",
            "_view_name": "LayoutView",
            "align_content": null,
            "align_items": null,
            "align_self": null,
            "border": null,
            "bottom": null,
            "display": null,
            "flex": null,
            "flex_flow": null,
            "grid_area": null,
            "grid_auto_columns": null,
            "grid_auto_flow": null,
            "grid_auto_rows": null,
            "grid_column": null,
            "grid_gap": null,
            "grid_row": null,
            "grid_template_areas": null,
            "grid_template_columns": null,
            "grid_template_rows": null,
            "height": null,
            "justify_content": null,
            "justify_items": null,
            "left": null,
            "margin": null,
            "max_height": null,
            "max_width": null,
            "min_height": null,
            "min_width": null,
            "object_fit": null,
            "object_position": null,
            "order": null,
            "overflow": null,
            "overflow_x": null,
            "overflow_y": null,
            "padding": null,
            "right": null,
            "top": null,
            "visibility": null,
            "width": null
          }
        },
        "c9ca1d081c4048a281f096ff5d349be5": {
          "model_module": "@jupyter-widgets/controls",
          "model_name": "DescriptionStyleModel",
          "model_module_version": "1.5.0",
          "state": {
            "_model_module": "@jupyter-widgets/controls",
            "_model_module_version": "1.5.0",
            "_model_name": "DescriptionStyleModel",
            "_view_count": null,
            "_view_module": "@jupyter-widgets/base",
            "_view_module_version": "1.2.0",
            "_view_name": "StyleView",
            "description_width": ""
          }
        },
        "55630731db414f749514f63d5b577451": {
          "model_module": "@jupyter-widgets/base",
          "model_name": "LayoutModel",
          "model_module_version": "1.2.0",
          "state": {
            "_model_module": "@jupyter-widgets/base",
            "_model_module_version": "1.2.0",
            "_model_name": "LayoutModel",
            "_view_count": null,
            "_view_module": "@jupyter-widgets/base",
            "_view_module_version": "1.2.0",
            "_view_name": "LayoutView",
            "align_content": null,
            "align_items": null,
            "align_self": null,
            "border": null,
            "bottom": null,
            "display": null,
            "flex": null,
            "flex_flow": null,
            "grid_area": null,
            "grid_auto_columns": null,
            "grid_auto_flow": null,
            "grid_auto_rows": null,
            "grid_column": null,
            "grid_gap": null,
            "grid_row": null,
            "grid_template_areas": null,
            "grid_template_columns": null,
            "grid_template_rows": null,
            "height": null,
            "justify_content": null,
            "justify_items": null,
            "left": null,
            "margin": null,
            "max_height": null,
            "max_width": null,
            "min_height": null,
            "min_width": null,
            "object_fit": null,
            "object_position": null,
            "order": null,
            "overflow": null,
            "overflow_x": null,
            "overflow_y": null,
            "padding": null,
            "right": null,
            "top": null,
            "visibility": null,
            "width": null
          }
        },
        "2827a040617340f5baf7413cf2e8149d": {
          "model_module": "@jupyter-widgets/controls",
          "model_name": "ProgressStyleModel",
          "model_module_version": "1.5.0",
          "state": {
            "_model_module": "@jupyter-widgets/controls",
            "_model_module_version": "1.5.0",
            "_model_name": "ProgressStyleModel",
            "_view_count": null,
            "_view_module": "@jupyter-widgets/base",
            "_view_module_version": "1.2.0",
            "_view_name": "StyleView",
            "bar_color": null,
            "description_width": ""
          }
        },
        "57b42df495064c639b65a226ac47da69": {
          "model_module": "@jupyter-widgets/base",
          "model_name": "LayoutModel",
          "model_module_version": "1.2.0",
          "state": {
            "_model_module": "@jupyter-widgets/base",
            "_model_module_version": "1.2.0",
            "_model_name": "LayoutModel",
            "_view_count": null,
            "_view_module": "@jupyter-widgets/base",
            "_view_module_version": "1.2.0",
            "_view_name": "LayoutView",
            "align_content": null,
            "align_items": null,
            "align_self": null,
            "border": null,
            "bottom": null,
            "display": null,
            "flex": null,
            "flex_flow": null,
            "grid_area": null,
            "grid_auto_columns": null,
            "grid_auto_flow": null,
            "grid_auto_rows": null,
            "grid_column": null,
            "grid_gap": null,
            "grid_row": null,
            "grid_template_areas": null,
            "grid_template_columns": null,
            "grid_template_rows": null,
            "height": null,
            "justify_content": null,
            "justify_items": null,
            "left": null,
            "margin": null,
            "max_height": null,
            "max_width": null,
            "min_height": null,
            "min_width": null,
            "object_fit": null,
            "object_position": null,
            "order": null,
            "overflow": null,
            "overflow_x": null,
            "overflow_y": null,
            "padding": null,
            "right": null,
            "top": null,
            "visibility": null,
            "width": null
          }
        },
        "80335bf043f341e6928da16216f0d105": {
          "model_module": "@jupyter-widgets/controls",
          "model_name": "DescriptionStyleModel",
          "model_module_version": "1.5.0",
          "state": {
            "_model_module": "@jupyter-widgets/controls",
            "_model_module_version": "1.5.0",
            "_model_name": "DescriptionStyleModel",
            "_view_count": null,
            "_view_module": "@jupyter-widgets/base",
            "_view_module_version": "1.2.0",
            "_view_name": "StyleView",
            "description_width": ""
          }
        },
        "d7b9e1d8be1346a68a090212474417bd": {
          "model_module": "@jupyter-widgets/controls",
          "model_name": "HBoxModel",
          "model_module_version": "1.5.0",
          "state": {
            "_dom_classes": [],
            "_model_module": "@jupyter-widgets/controls",
            "_model_module_version": "1.5.0",
            "_model_name": "HBoxModel",
            "_view_count": null,
            "_view_module": "@jupyter-widgets/controls",
            "_view_module_version": "1.5.0",
            "_view_name": "HBoxView",
            "box_style": "",
            "children": [
              "IPY_MODEL_95696a6f24d74bdd94eaab5bd157f327",
              "IPY_MODEL_7d2f712d071a460f8951f1da01d82dad",
              "IPY_MODEL_2a35c7219b7d421087de0bedecbdbbf0"
            ],
            "layout": "IPY_MODEL_07b25c9f800243b8b005498f251c0817"
          }
        },
        "95696a6f24d74bdd94eaab5bd157f327": {
          "model_module": "@jupyter-widgets/controls",
          "model_name": "HTMLModel",
          "model_module_version": "1.5.0",
          "state": {
            "_dom_classes": [],
            "_model_module": "@jupyter-widgets/controls",
            "_model_module_version": "1.5.0",
            "_model_name": "HTMLModel",
            "_view_count": null,
            "_view_module": "@jupyter-widgets/controls",
            "_view_module_version": "1.5.0",
            "_view_name": "HTMLView",
            "description": "",
            "description_tooltip": null,
            "layout": "IPY_MODEL_46df0881e59f4565817bf74922b1cb7a",
            "placeholder": "​",
            "style": "IPY_MODEL_a3d82ed6af4c40aea750e31e62d0b1f0",
            "value": "100%"
          }
        },
        "7d2f712d071a460f8951f1da01d82dad": {
          "model_module": "@jupyter-widgets/controls",
          "model_name": "FloatProgressModel",
          "model_module_version": "1.5.0",
          "state": {
            "_dom_classes": [],
            "_model_module": "@jupyter-widgets/controls",
            "_model_module_version": "1.5.0",
            "_model_name": "FloatProgressModel",
            "_view_count": null,
            "_view_module": "@jupyter-widgets/controls",
            "_view_module_version": "1.5.0",
            "_view_name": "ProgressView",
            "bar_style": "success",
            "description": "",
            "description_tooltip": null,
            "layout": "IPY_MODEL_f92182dcfb7d45babb7f577f56c9d9cd",
            "max": 38265,
            "min": 0,
            "orientation": "horizontal",
            "style": "IPY_MODEL_c21a6365903540b887b34445aef00c81",
            "value": 38265
          }
        },
        "2a35c7219b7d421087de0bedecbdbbf0": {
          "model_module": "@jupyter-widgets/controls",
          "model_name": "HTMLModel",
          "model_module_version": "1.5.0",
          "state": {
            "_dom_classes": [],
            "_model_module": "@jupyter-widgets/controls",
            "_model_module_version": "1.5.0",
            "_model_name": "HTMLModel",
            "_view_count": null,
            "_view_module": "@jupyter-widgets/controls",
            "_view_module_version": "1.5.0",
            "_view_name": "HTMLView",
            "description": "",
            "description_tooltip": null,
            "layout": "IPY_MODEL_00a8b228b5fa402e841e1e6753a51003",
            "placeholder": "​",
            "style": "IPY_MODEL_29eea4ba95ca44d6a82221548e6b7d22",
            "value": " 38265/38265 [00:00&lt;00:00, 160175.95it/s]"
          }
        },
        "07b25c9f800243b8b005498f251c0817": {
          "model_module": "@jupyter-widgets/base",
          "model_name": "LayoutModel",
          "model_module_version": "1.2.0",
          "state": {
            "_model_module": "@jupyter-widgets/base",
            "_model_module_version": "1.2.0",
            "_model_name": "LayoutModel",
            "_view_count": null,
            "_view_module": "@jupyter-widgets/base",
            "_view_module_version": "1.2.0",
            "_view_name": "LayoutView",
            "align_content": null,
            "align_items": null,
            "align_self": null,
            "border": null,
            "bottom": null,
            "display": null,
            "flex": null,
            "flex_flow": null,
            "grid_area": null,
            "grid_auto_columns": null,
            "grid_auto_flow": null,
            "grid_auto_rows": null,
            "grid_column": null,
            "grid_gap": null,
            "grid_row": null,
            "grid_template_areas": null,
            "grid_template_columns": null,
            "grid_template_rows": null,
            "height": null,
            "justify_content": null,
            "justify_items": null,
            "left": null,
            "margin": null,
            "max_height": null,
            "max_width": null,
            "min_height": null,
            "min_width": null,
            "object_fit": null,
            "object_position": null,
            "order": null,
            "overflow": null,
            "overflow_x": null,
            "overflow_y": null,
            "padding": null,
            "right": null,
            "top": null,
            "visibility": null,
            "width": null
          }
        },
        "46df0881e59f4565817bf74922b1cb7a": {
          "model_module": "@jupyter-widgets/base",
          "model_name": "LayoutModel",
          "model_module_version": "1.2.0",
          "state": {
            "_model_module": "@jupyter-widgets/base",
            "_model_module_version": "1.2.0",
            "_model_name": "LayoutModel",
            "_view_count": null,
            "_view_module": "@jupyter-widgets/base",
            "_view_module_version": "1.2.0",
            "_view_name": "LayoutView",
            "align_content": null,
            "align_items": null,
            "align_self": null,
            "border": null,
            "bottom": null,
            "display": null,
            "flex": null,
            "flex_flow": null,
            "grid_area": null,
            "grid_auto_columns": null,
            "grid_auto_flow": null,
            "grid_auto_rows": null,
            "grid_column": null,
            "grid_gap": null,
            "grid_row": null,
            "grid_template_areas": null,
            "grid_template_columns": null,
            "grid_template_rows": null,
            "height": null,
            "justify_content": null,
            "justify_items": null,
            "left": null,
            "margin": null,
            "max_height": null,
            "max_width": null,
            "min_height": null,
            "min_width": null,
            "object_fit": null,
            "object_position": null,
            "order": null,
            "overflow": null,
            "overflow_x": null,
            "overflow_y": null,
            "padding": null,
            "right": null,
            "top": null,
            "visibility": null,
            "width": null
          }
        },
        "a3d82ed6af4c40aea750e31e62d0b1f0": {
          "model_module": "@jupyter-widgets/controls",
          "model_name": "DescriptionStyleModel",
          "model_module_version": "1.5.0",
          "state": {
            "_model_module": "@jupyter-widgets/controls",
            "_model_module_version": "1.5.0",
            "_model_name": "DescriptionStyleModel",
            "_view_count": null,
            "_view_module": "@jupyter-widgets/base",
            "_view_module_version": "1.2.0",
            "_view_name": "StyleView",
            "description_width": ""
          }
        },
        "f92182dcfb7d45babb7f577f56c9d9cd": {
          "model_module": "@jupyter-widgets/base",
          "model_name": "LayoutModel",
          "model_module_version": "1.2.0",
          "state": {
            "_model_module": "@jupyter-widgets/base",
            "_model_module_version": "1.2.0",
            "_model_name": "LayoutModel",
            "_view_count": null,
            "_view_module": "@jupyter-widgets/base",
            "_view_module_version": "1.2.0",
            "_view_name": "LayoutView",
            "align_content": null,
            "align_items": null,
            "align_self": null,
            "border": null,
            "bottom": null,
            "display": null,
            "flex": null,
            "flex_flow": null,
            "grid_area": null,
            "grid_auto_columns": null,
            "grid_auto_flow": null,
            "grid_auto_rows": null,
            "grid_column": null,
            "grid_gap": null,
            "grid_row": null,
            "grid_template_areas": null,
            "grid_template_columns": null,
            "grid_template_rows": null,
            "height": null,
            "justify_content": null,
            "justify_items": null,
            "left": null,
            "margin": null,
            "max_height": null,
            "max_width": null,
            "min_height": null,
            "min_width": null,
            "object_fit": null,
            "object_position": null,
            "order": null,
            "overflow": null,
            "overflow_x": null,
            "overflow_y": null,
            "padding": null,
            "right": null,
            "top": null,
            "visibility": null,
            "width": null
          }
        },
        "c21a6365903540b887b34445aef00c81": {
          "model_module": "@jupyter-widgets/controls",
          "model_name": "ProgressStyleModel",
          "model_module_version": "1.5.0",
          "state": {
            "_model_module": "@jupyter-widgets/controls",
            "_model_module_version": "1.5.0",
            "_model_name": "ProgressStyleModel",
            "_view_count": null,
            "_view_module": "@jupyter-widgets/base",
            "_view_module_version": "1.2.0",
            "_view_name": "StyleView",
            "bar_color": null,
            "description_width": ""
          }
        },
        "00a8b228b5fa402e841e1e6753a51003": {
          "model_module": "@jupyter-widgets/base",
          "model_name": "LayoutModel",
          "model_module_version": "1.2.0",
          "state": {
            "_model_module": "@jupyter-widgets/base",
            "_model_module_version": "1.2.0",
            "_model_name": "LayoutModel",
            "_view_count": null,
            "_view_module": "@jupyter-widgets/base",
            "_view_module_version": "1.2.0",
            "_view_name": "LayoutView",
            "align_content": null,
            "align_items": null,
            "align_self": null,
            "border": null,
            "bottom": null,
            "display": null,
            "flex": null,
            "flex_flow": null,
            "grid_area": null,
            "grid_auto_columns": null,
            "grid_auto_flow": null,
            "grid_auto_rows": null,
            "grid_column": null,
            "grid_gap": null,
            "grid_row": null,
            "grid_template_areas": null,
            "grid_template_columns": null,
            "grid_template_rows": null,
            "height": null,
            "justify_content": null,
            "justify_items": null,
            "left": null,
            "margin": null,
            "max_height": null,
            "max_width": null,
            "min_height": null,
            "min_width": null,
            "object_fit": null,
            "object_position": null,
            "order": null,
            "overflow": null,
            "overflow_x": null,
            "overflow_y": null,
            "padding": null,
            "right": null,
            "top": null,
            "visibility": null,
            "width": null
          }
        },
        "29eea4ba95ca44d6a82221548e6b7d22": {
          "model_module": "@jupyter-widgets/controls",
          "model_name": "DescriptionStyleModel",
          "model_module_version": "1.5.0",
          "state": {
            "_model_module": "@jupyter-widgets/controls",
            "_model_module_version": "1.5.0",
            "_model_name": "DescriptionStyleModel",
            "_view_count": null,
            "_view_module": "@jupyter-widgets/base",
            "_view_module_version": "1.2.0",
            "_view_name": "StyleView",
            "description_width": ""
          }
        }
      }
    }
  },
  "cells": [
    {
      "cell_type": "markdown",
      "metadata": {
        "id": "view-in-github",
        "colab_type": "text"
      },
      "source": [
        "<a href=\"https://colab.research.google.com/github/Spocklight/Fake_News_Detection/blob/master/Master_Sentiment.ipynb\" target=\"_parent\"><img src=\"https://colab.research.google.com/assets/colab-badge.svg\" alt=\"Open In Colab\"/></a>"
      ]
    },
    {
      "cell_type": "markdown",
      "source": [
        "<h1><center>Detección de noticias falsas</center></h1>\n",
        "<h3><center>Alejandro Sierra Fernández</center></h3>\n",
        "<h4><center>01/08/2022</center></h4>"
      ],
      "metadata": {
        "id": "39PaC8-XCRPW"
      }
    },
    {
      "cell_type": "markdown",
      "source": [
        "*   <h2>Análisis de sentimiento</h2>\n",
        "\n",
        "<font color='darkblue'> En este Notebook aplicaremos la técnica conocida como *sentiment analysis* haciendo uso de la librería TextBlob. Obtendremos dos parámetros, la 'polaridad' y la 'subjetividad. El primero tiene un dominio D={-1,+1} y mide el grado de positividad y negatividad de un conjunto de palabras. EL segundo tiene un dominio D={0,1} y mide el grado de subjetividad, opinión, emoción o juicio de un mensaje.\n",
        "\n",
        "Empezamos cargando las librerías que vamos a emplear y el dataframe con nuestros datos:</font>"
      ],
      "metadata": {
        "id": "txBAgAfuCU1_"
      }
    },
    {
      "cell_type": "code",
      "source": [
        "from textblob import TextBlob\n",
        "\n",
        "from tqdm.autonotebook import tqdm  \n",
        "tqdm.pandas()\n",
        "\n",
        "import matplotlib.pyplot as plt\n",
        "import seaborn as sns\n",
        "import numpy as np\n",
        "import pandas as pd\n",
        "\n",
        "import re"
      ],
      "metadata": {
        "id": "ZzjfNrBTDzW5"
      },
      "execution_count": null,
      "outputs": []
    },
    {
      "cell_type": "code",
      "execution_count": null,
      "metadata": {
        "colab": {
          "base_uri": "https://localhost:8080/"
        },
        "id": "P2sNNN35CFFA",
        "outputId": "44b39ea1-3f26-4725-df6d-554c7493eb13"
      },
      "outputs": [
        {
          "output_type": "stream",
          "name": "stdout",
          "text": [
            "Drive already mounted at /content/drive; to attempt to forcibly remount, call drive.mount(\"/content/drive\", force_remount=True).\n"
          ]
        }
      ],
      "source": [
        "from google.colab import drive\n",
        "drive.mount('/content/drive')"
      ]
    },
    {
      "cell_type": "code",
      "source": [
        "import pickle                                    \n",
        "path = '/content/drive/MyDrive/Fake_News/'\n",
        "pickle_in = open(path + 'ISOT_topic_pickle', 'rb')\n",
        "ISOT = pickle.load(pickle_in)"
      ],
      "metadata": {
        "id": "qjrE2rX9CKSa"
      },
      "execution_count": null,
      "outputs": []
    },
    {
      "cell_type": "code",
      "source": [
        "display(ISOT.dtypes)"
      ],
      "metadata": {
        "colab": {
          "base_uri": "https://localhost:8080/",
          "height": 416
        },
        "id": "qHCUXCZhHzoT",
        "outputId": "9f0e8fb5-1730-4b63-d983-34afb9b4ba82"
      },
      "execution_count": null,
      "outputs": [
        {
          "output_type": "display_data",
          "data": {
            "text/plain": [
              "title                    object\n",
              "text                     object\n",
              "subject                  object\n",
              "date                     object\n",
              "normaliza_text           object\n",
              "normaliza_title          object\n",
              "clean_text               object\n",
              "clean_title              object\n",
              "char_len_title            int64\n",
              "char_len_text             int64\n",
              "char_len_title_t          int64\n",
              "char_len_text_t           int64\n",
              "token_text_len            int64\n",
              "token_title_len           int64\n",
              "prop_uppercase_text     float64\n",
              "prop_uppercase_title    float64\n",
              "prop_long_text          float64\n",
              "prop_long_title         float64\n",
              "target                   object\n",
              "normaliza_b_filter       object\n",
              "topic_modelling          object\n",
              "topic_modelling_max       int64\n",
              "dtype: object"
            ]
          },
          "metadata": {}
        }
      ]
    },
    {
      "cell_type": "markdown",
      "source": [
        "<font color='darkblue'> Definimos las funciones para obtener los dos parámetros definidos anteriormente. Además, definimos la función 'getAnalysis' para obtener una variable binaria y que describe una polaridad  positiva o negativa. La función la aplicaremos sobre las variables 'clean_text' y 'clean_title' de nuestro dataframe.</font>"
      ],
      "metadata": {
        "id": "sBMmKFWwH8sm"
      }
    },
    {
      "cell_type": "code",
      "source": [
        "def getPolarity(text):\n",
        "  return TextBlob(text).sentiment.polarity\n",
        "\n",
        "def getSubjectivity(text):\n",
        "  return TextBlob(text).sentiment.subjectivity\n",
        "\n",
        "def getAnalysis(score):\n",
        "  if score < 0:\n",
        "    return -1\n",
        "  elif score == 0:\n",
        "    return 0\n",
        "  else:\n",
        "    return 1"
      ],
      "metadata": {
        "id": "vBmDkJjBD_3R"
      },
      "execution_count": null,
      "outputs": []
    },
    {
      "cell_type": "code",
      "source": [
        "ISOT['Sentimiento_text'] = ISOT['clean_text'].progress_apply(lambda x: getPolarity(x))\n",
        "ISOT['Subjetividad_text'] = ISOT['clean_text'].progress_apply(lambda x: getSubjectivity(x))\n",
        "ISOT['Análisis_text'] = ISOT['Sentimiento_text'].progress_apply(lambda x: getAnalysis(x))\n",
        "\n",
        "ISOT['Sentimiento_title'] = ISOT['clean_title'].progress_apply(lambda x: getPolarity(x))\n",
        "ISOT['Subjetividad_title'] = ISOT['clean_title'].progress_apply(lambda x: getSubjectivity(x))\n",
        "ISOT['Análisis_title'] = ISOT['Sentimiento_title'].progress_apply(lambda x: getAnalysis(x))"
      ],
      "metadata": {
        "colab": {
          "base_uri": "https://localhost:8080/",
          "height": 209,
          "referenced_widgets": [
            "94ea3eb1b7e9426abfb05fbcc67ec94c",
            "06659401e0244abfb0109c442aae59f7",
            "9235573349f340dc95e0d8bad82ea0b7",
            "0941b9510a344fb9a9b513700499b09a",
            "37e794cc2e2343b895b3ac26446a3cfa",
            "751376b9f6cd42adb4d5263cf5e17a8a",
            "ab940efb1bd64f02b689a6f1784e8b83",
            "01d2ac0a7f4141f3ac16807668743ff3",
            "0d54bd8e863842d8b9b0306b54f9810a",
            "0efc7bcd678c4c65a5cf53718808e1ab",
            "7ea6e5fddadf4605b1b8645662fd5df3",
            "4457e2025d61420d91b75d8c0acabadf",
            "f21e66225e35434d960d2b39a6e46340",
            "7fc4fa4b5e2d4806a52c343748c963d7",
            "d09e847e50d84e07a109e1eb8ea44416",
            "76db8d3ffe1f4d5a8c4080b51ef2bbaf",
            "734a25a01cc745d0a2ac99ba91570192",
            "123b852735b34155b721343b85ad494d",
            "0a0cbe60688f4aa9bca64d4a800c3607",
            "4511d2cc0ddd4e28861cc87ad4322205",
            "9de883bad28a41608f87a28849f3eda3",
            "314df46cf1b44fd2a2f6e413224b31bd",
            "e6fb05def1bd4cba9e536375ec10827c",
            "f2f8ed3e14d545fdb694caefab189362",
            "70587572cd894f558bcbec6725a0bdb6",
            "8e811e8f92414d2b858f8f9580fc79f4",
            "33e9d9f9962644e4a648aadca22b26f6",
            "30396c7430c148bfa9fd8ba68ced82cf",
            "09b785000a534e6caf7122ef507bfd2b",
            "0882e902072040b9ab2b6444ef93a513",
            "1928eb3cb9914e72b9aff7b0e4b1e813",
            "31d387b473de4e038d165421022f21ca",
            "b54390c9479e4a8a8e83e461bcdb6fa6",
            "94ecdb6c824f41bf92e0a81e9f0c3a4a",
            "a578ff3b7522419daa2d229fe54cddac",
            "c9a5adad35bc4a3e9dd564c06659a2d6",
            "79a95221d6e5476c96acf1ea7086868c",
            "032e6a6c95cb4396a87378ade7794aa8",
            "1a0ca6800af84ea4827f520498601c87",
            "ebb8a988b4f3484e8c5a2131470d1bca",
            "175686b32f2944aab5ad85761b3f8728",
            "b2fac71810d64d18a2d877876cc34676",
            "a426ed028583459eae0cc61c01f969ab",
            "818314eb7456438994e3c3a391612c89",
            "31bcb70adc24412aa6590f52a878df78",
            "ccf099aa69264ff1995b500d0726a68a",
            "157264a99f7744f9986cfe736f7b891b",
            "1adcff269f1a444eb75f7a9df72783ab",
            "a18e040f38ee4c4e9cd8497e172647bb",
            "e762eb1fa9bb441fb222a96b79cba6d0",
            "c9ca1d081c4048a281f096ff5d349be5",
            "55630731db414f749514f63d5b577451",
            "2827a040617340f5baf7413cf2e8149d",
            "57b42df495064c639b65a226ac47da69",
            "80335bf043f341e6928da16216f0d105",
            "d7b9e1d8be1346a68a090212474417bd",
            "95696a6f24d74bdd94eaab5bd157f327",
            "7d2f712d071a460f8951f1da01d82dad",
            "2a35c7219b7d421087de0bedecbdbbf0",
            "07b25c9f800243b8b005498f251c0817",
            "46df0881e59f4565817bf74922b1cb7a",
            "a3d82ed6af4c40aea750e31e62d0b1f0",
            "f92182dcfb7d45babb7f577f56c9d9cd",
            "c21a6365903540b887b34445aef00c81",
            "00a8b228b5fa402e841e1e6753a51003",
            "29eea4ba95ca44d6a82221548e6b7d22"
          ]
        },
        "id": "j0HdAdkgIKn0",
        "outputId": "97cb53b9-a6ae-4844-f88f-0031e105da9c"
      },
      "execution_count": null,
      "outputs": [
        {
          "output_type": "display_data",
          "data": {
            "text/plain": [
              "  0%|          | 0/38265 [00:00<?, ?it/s]"
            ],
            "application/vnd.jupyter.widget-view+json": {
              "version_major": 2,
              "version_minor": 0,
              "model_id": "94ea3eb1b7e9426abfb05fbcc67ec94c"
            }
          },
          "metadata": {}
        },
        {
          "output_type": "display_data",
          "data": {
            "text/plain": [
              "  0%|          | 0/38265 [00:00<?, ?it/s]"
            ],
            "application/vnd.jupyter.widget-view+json": {
              "version_major": 2,
              "version_minor": 0,
              "model_id": "4457e2025d61420d91b75d8c0acabadf"
            }
          },
          "metadata": {}
        },
        {
          "output_type": "display_data",
          "data": {
            "text/plain": [
              "  0%|          | 0/38265 [00:00<?, ?it/s]"
            ],
            "application/vnd.jupyter.widget-view+json": {
              "version_major": 2,
              "version_minor": 0,
              "model_id": "e6fb05def1bd4cba9e536375ec10827c"
            }
          },
          "metadata": {}
        },
        {
          "output_type": "display_data",
          "data": {
            "text/plain": [
              "  0%|          | 0/38265 [00:00<?, ?it/s]"
            ],
            "application/vnd.jupyter.widget-view+json": {
              "version_major": 2,
              "version_minor": 0,
              "model_id": "94ecdb6c824f41bf92e0a81e9f0c3a4a"
            }
          },
          "metadata": {}
        },
        {
          "output_type": "display_data",
          "data": {
            "text/plain": [
              "  0%|          | 0/38265 [00:00<?, ?it/s]"
            ],
            "application/vnd.jupyter.widget-view+json": {
              "version_major": 2,
              "version_minor": 0,
              "model_id": "31bcb70adc24412aa6590f52a878df78"
            }
          },
          "metadata": {}
        },
        {
          "output_type": "display_data",
          "data": {
            "text/plain": [
              "  0%|          | 0/38265 [00:00<?, ?it/s]"
            ],
            "application/vnd.jupyter.widget-view+json": {
              "version_major": 2,
              "version_minor": 0,
              "model_id": "d7b9e1d8be1346a68a090212474417bd"
            }
          },
          "metadata": {}
        }
      ]
    },
    {
      "cell_type": "markdown",
      "source": [
        "<font color='darkblue'> Obtenemos los  countplots, histogramas y boxplots de las nuevas variables que acabamos de definir. Lo hacemos tanto para las noticias falsas como para las verdaderas.</font>"
      ],
      "metadata": {
        "id": "OnSURE-pC7ej"
      }
    },
    {
      "cell_type": "code",
      "source": [
        "fig, axes = plt.subplots(nrows=1, ncols=2, figsize=(8, 8))\n",
        "sns.set_theme(style=\"darkgrid\")\n",
        "sns.countplot(x=\"Análisis_text\", data = ISOT[ISOT['target']=='Fake'], ax=axes[0]).set(title='Sentimiento de las noticias falsas')\n",
        "sns.countplot(x=\"Análisis_text\", data = ISOT[ISOT['target']=='True'], ax=axes[1]).set(title='Sentimiento de las noticias verdaderas')\n",
        "fig.tight_layout()\n",
        "fig.show()"
      ],
      "metadata": {
        "colab": {
          "base_uri": "https://localhost:8080/",
          "height": 581
        },
        "id": "ClIe3QWnZE0Y",
        "outputId": "a98366f4-c840-457e-ce7f-76417b8f34f0"
      },
      "execution_count": null,
      "outputs": [
        {
          "output_type": "display_data",
          "data": {
            "text/plain": [
              "<Figure size 576x576 with 2 Axes>"
            ],
            "image/png": "[encoded data removed]"
          },
          "metadata": {}
        }
      ]
    },
    {
      "cell_type": "code",
      "source": [
        "fig, axes = plt.subplots(nrows=1, ncols=2, figsize=(8, 8))\n",
        "sns.countplot(x=\"Análisis_title\", data = ISOT[ISOT['target']=='Fake'], ax=axes[0]).set(title='Sentimiento de los títulos falsos')\n",
        "sns.countplot(x=\"Análisis_title\", data = ISOT[ISOT['target']=='True'], ax=axes[1]).set(title='Sentimiento de los títulos verdaderos')\n",
        "fig.tight_layout()\n",
        "fig.show()"
      ],
      "metadata": {
        "colab": {
          "base_uri": "https://localhost:8080/",
          "height": 581
        },
        "id": "h7H6eXIGZvlL",
        "outputId": "56ef8ffc-3771-482f-8244-48a134d63011"
      },
      "execution_count": null,
      "outputs": [
        {
          "output_type": "display_data",
          "data": {
            "text/plain": [
              "<Figure size 576x576 with 2 Axes>"
            ],
            "image/png": "[encoded data removed]"
          },
          "metadata": {}
        }
      ]
    },
    {
      "cell_type": "code",
      "source": [
        "fig, axes = plt.subplots(nrows=1, ncols=2, figsize=(8, 8))\n",
        "sns.boxplot(y=\"Sentimiento_text\", x=ISOT[\"target\"], data=ISOT, ax=axes[0], palette=\"Blues\").set(title='Sentimiento de noticias')\n",
        "sns.boxplot(y=\"Subjetividad_text\", x=ISOT[\"target\"], data=ISOT, ax=axes[1], palette=\"Blues\").set(title='Subjetividad de noticias')\n",
        "fig.tight_layout()\n",
        "fig.show()"
      ],
      "metadata": {
        "colab": {
          "base_uri": "https://localhost:8080/",
          "height": 581
        },
        "id": "I8-oxGaIYJj3",
        "outputId": "a35e5a57-6e8d-4fce-89f3-fdcf003e88e9"
      },
      "execution_count": null,
      "outputs": [
        {
          "output_type": "display_data",
          "data": {
            "text/plain": [
              "<Figure size 576x576 with 2 Axes>"
            ],
            "image/png": "[encoded data removed]"
          },
          "metadata": {}
        }
      ]
    },
    {
      "cell_type": "code",
      "source": [
        "fig, axes = plt.subplots(nrows=1, ncols=2, figsize=(8, 8))\n",
        "sns.boxplot(y=\"Sentimiento_title\", x=ISOT[\"target\"], data=ISOT, ax=axes[0], palette=\"Blues\").set(title='Sentimiento de titulares')\n",
        "sns.boxplot(y=\"Subjetividad_title\", x=ISOT[\"target\"], data=ISOT, ax=axes[1], palette=\"Blues\").set(title='Subjetividad de titulares')\n",
        "fig.tight_layout()\n",
        "fig.show()"
      ],
      "metadata": {
        "colab": {
          "base_uri": "https://localhost:8080/",
          "height": 581
        },
        "id": "_k5HqepCYj-r",
        "outputId": "26cbb64b-5dc8-4a02-dd85-995ef39daffb"
      },
      "execution_count": null,
      "outputs": [
        {
          "output_type": "display_data",
          "data": {
            "text/plain": [
              "<Figure size 576x576 with 2 Axes>"
            ],
            "image/png": "[encoded data removed]"
          },
          "metadata": {}
        }
      ]
    },
    {
      "cell_type": "code",
      "source": [
        "sns.set_palette(\"Paired\")\n",
        "ISOT[ISOT['target']=='Fake'].hist(column=[\"Sentimiento_text\", \"Subjetividad_text\"], color='firebrick', bins=50, figsize=(15,10))\n",
        "plt.suptitle(\"Histogramas de noticias falsas\")\n",
        "plt.show()"
      ],
      "metadata": {
        "colab": {
          "base_uri": "https://localhost:8080/",
          "height": 666
        },
        "id": "RKAD1tdbWo_2",
        "outputId": "6ffbb9ae-d324-4798-892f-130a22e81b29"
      },
      "execution_count": null,
      "outputs": [
        {
          "output_type": "display_data",
          "data": {
            "text/plain": [
              "<Figure size 1080x720 with 2 Axes>"
            ],
            "image/png": "[encoded data removed]"
          },
          "metadata": {}
        }
      ]
    },
    {
      "cell_type": "code",
      "source": [
        "ISOT[ISOT['target']=='True'].hist(column=[\"Sentimiento_text\", \"Subjetividad_text\"], color='steelblue', bins=50, figsize=(15,10))\n",
        "plt.suptitle(\"Histogramas de noticias verdaderas\")\n",
        "plt.show()"
      ],
      "metadata": {
        "colab": {
          "base_uri": "https://localhost:8080/",
          "height": 666
        },
        "id": "33YHZv6KercT",
        "outputId": "95bb7cc6-832c-439f-9274-81dc9f92efdb"
      },
      "execution_count": null,
      "outputs": [
        {
          "output_type": "display_data",
          "data": {
            "text/plain": [
              "<Figure size 1080x720 with 2 Axes>"
            ],
            "image/png": "[encoded data removed]"
          },
          "metadata": {}
        }
      ]
    },
    {
      "cell_type": "code",
      "source": [
        "ISOT[ISOT['target']=='Fake'].hist(column=[\"Sentimiento_title\", \"Subjetividad_title\"], color='firebrick', bins=50, figsize=(15,10))\n",
        "plt.suptitle(\"Histogramas de titulares falsos\")\n",
        "plt.show()"
      ],
      "metadata": {
        "colab": {
          "base_uri": "https://localhost:8080/",
          "height": 666
        },
        "id": "i4ACfH64SUQM",
        "outputId": "9ed9dbb6-566d-4b51-8d9c-0134bdc27374"
      },
      "execution_count": null,
      "outputs": [
        {
          "output_type": "display_data",
          "data": {
            "text/plain": [
              "<Figure size 1080x720 with 2 Axes>"
            ],
            "image/png": "[encoded data removed]"
          },
          "metadata": {}
        }
      ]
    },
    {
      "cell_type": "code",
      "source": [
        "ISOT[ISOT['target']=='True'].hist(column=[\"Sentimiento_title\", \"Subjetividad_title\"], color='steelblue', bins=50, figsize=(15,10))\n",
        "plt.suptitle(\"Histogramas de titulares verdaderos\")\n",
        "plt.show()"
      ],
      "metadata": {
        "colab": {
          "base_uri": "https://localhost:8080/",
          "height": 666
        },
        "id": "4tJsbmuZfCoz",
        "outputId": "22bdd52f-f153-49b5-e41f-fe4437d9ce23"
      },
      "execution_count": null,
      "outputs": [
        {
          "output_type": "display_data",
          "data": {
            "text/plain": [
              "<Figure size 1080x720 with 2 Axes>"
            ],
            "image/png": "[encoded data removed]"
          },
          "metadata": {}
        }
      ]
    },
    {
      "cell_type": "code",
      "source": [
        "sns.set_theme(style=\"darkgrid\")\n",
        "fig = plt.figure(figsize=(14,12))\n",
        "\n",
        "plt1 = sns.distplot(ISOT[ISOT['target']=='Fake'][\"Subjetividad_text\"], hist=True)\n",
        "plt2 = sns.distplot(ISOT[ISOT['target']=='True'][\"Subjetividad_text\"], hist=True)\n",
        "fig.legend(labels=['Fake','True'], loc = 5)\n",
        "\n",
        "plt.xlabel('Subjetividad', fontsize=16)\n",
        "plt.ylabel('Densidad', fontsize=16)\n",
        "plt.title('Subjetividad de las noticias')\n",
        "\n",
        "plt.show()"
      ],
      "metadata": {
        "colab": {
          "base_uri": "https://localhost:8080/",
          "height": 827
        },
        "id": "qqo-ETNQhS1F",
        "outputId": "d83d6ede-6578-46c5-e9e1-448f583cafe4"
      },
      "execution_count": null,
      "outputs": [
        {
          "output_type": "stream",
          "name": "stderr",
          "text": [
            "/usr/local/lib/python3.7/dist-packages/seaborn/distributions.py:2619: FutureWarning: `distplot` is a deprecated function and will be removed in a future version. Please adapt your code to use either `displot` (a figure-level function with similar flexibility) or `histplot` (an axes-level function for histograms).\n",
            "  warnings.warn(msg, FutureWarning)\n",
            "/usr/local/lib/python3.7/dist-packages/seaborn/distributions.py:2619: FutureWarning: `distplot` is a deprecated function and will be removed in a future version. Please adapt your code to use either `displot` (a figure-level function with similar flexibility) or `histplot` (an axes-level function for histograms).\n",
            "  warnings.warn(msg, FutureWarning)\n"
          ]
        },
        {
          "output_type": "display_data",
          "data": {
            "text/plain": [
              "<Figure size 1008x864 with 1 Axes>"
            ],
            "image/png": "[encoded data removed]"
          },
          "metadata": {}
        }
      ]
    },
    {
      "cell_type": "code",
      "source": [
        "fig = plt.figure(figsize=(14,12))\n",
        "\n",
        "plt1 = sns.distplot(ISOT[ISOT['target']=='Fake'][\"Sentimiento_text\"], hist=True)\n",
        "plt2 = sns.distplot(ISOT[ISOT['target']=='True'][\"Sentimiento_text\"], hist=True)\n",
        "fig.legend(labels=['Fake','True'], loc = 5)\n",
        "\n",
        "plt.xlabel('Sentimiento', fontsize=16)\n",
        "plt.ylabel('Densidad', fontsize=16)\n",
        "plt.title('Sentimiento de las noticias')\n",
        "\n",
        "plt.show()"
      ],
      "metadata": {
        "colab": {
          "base_uri": "https://localhost:8080/",
          "height": 827
        },
        "id": "m3Ve7e46h29P",
        "outputId": "f6b9e17b-df97-4353-b43e-4044168ab7f9"
      },
      "execution_count": null,
      "outputs": [
        {
          "output_type": "stream",
          "name": "stderr",
          "text": [
            "/usr/local/lib/python3.7/dist-packages/seaborn/distributions.py:2619: FutureWarning: `distplot` is a deprecated function and will be removed in a future version. Please adapt your code to use either `displot` (a figure-level function with similar flexibility) or `histplot` (an axes-level function for histograms).\n",
            "  warnings.warn(msg, FutureWarning)\n",
            "/usr/local/lib/python3.7/dist-packages/seaborn/distributions.py:2619: FutureWarning: `distplot` is a deprecated function and will be removed in a future version. Please adapt your code to use either `displot` (a figure-level function with similar flexibility) or `histplot` (an axes-level function for histograms).\n",
            "  warnings.warn(msg, FutureWarning)\n"
          ]
        },
        {
          "output_type": "display_data",
          "data": {
            "text/plain": [
              "<Figure size 1008x864 with 1 Axes>"
            ],
            "image/png": "[encoded data removed]"
          },
          "metadata": {}
        }
      ]
    },
    {
      "cell_type": "markdown",
      "source": [
        "<font color='darkblue'> Obtenemos los histogramas de todas las variables numéricas que tenemos hasta ahora:</font>"
      ],
      "metadata": {
        "id": "MgKup6mqDTGE"
      }
    },
    {
      "cell_type": "code",
      "source": [
        "ISOT.hist(bins=50, figsize=(20,15))\n",
        "plt.show()"
      ],
      "metadata": {
        "colab": {
          "base_uri": "https://localhost:8080/",
          "height": 882
        },
        "id": "cieEX5Hci1bA",
        "outputId": "5ec4ba33-4241-4880-b097-276ca030fd33"
      },
      "execution_count": null,
      "outputs": [
        {
          "output_type": "display_data",
          "data": {
            "text/plain": [
              "<Figure size 1440x1080 with 20 Axes>"
            ],
            "image/png": "[encoded data removed]"
          },
          "metadata": {}
        }
      ]
    },
    {
      "cell_type": "code",
      "source": [
        "ISOT.dtypes"
      ],
      "metadata": {
        "colab": {
          "base_uri": "https://localhost:8080/"
        },
        "id": "VN3Cu30hjlTW",
        "outputId": "bceccb48-92fe-48cc-8048-12089ed7df2d"
      },
      "execution_count": null,
      "outputs": [
        {
          "output_type": "execute_result",
          "data": {
            "text/plain": [
              "title                    object\n",
              "text                     object\n",
              "subject                  object\n",
              "date                     object\n",
              "normaliza_text           object\n",
              "normaliza_title          object\n",
              "clean_text               object\n",
              "clean_title              object\n",
              "char_len_title            int64\n",
              "char_len_text             int64\n",
              "char_len_title_t          int64\n",
              "char_len_text_t           int64\n",
              "token_text_len            int64\n",
              "token_title_len           int64\n",
              "prop_uppercase_text     float64\n",
              "prop_uppercase_title    float64\n",
              "prop_long_text          float64\n",
              "prop_long_title         float64\n",
              "target                   object\n",
              "normaliza_b_filter       object\n",
              "topic_modelling          object\n",
              "topic_modelling_max       int64\n",
              "dtype: object"
            ]
          },
          "metadata": {},
          "execution_count": 165
        }
      ]
    },
    {
      "cell_type": "markdown",
      "source": [
        "*   <h2>Conversión a formato datetime</h2>\n",
        "\n",
        "<font color='darkblue'> Nos encargamos de la columna que describe la fecha. Estas se encuentran en formato string y las queremos en formato *datetime*. Antes de transformarlas comprobamos que todas tienen la misma longitud de caracteres, manteniendo su uniformidad.</font></n>"
      ],
      "metadata": {
        "id": "b4vYehUlCGia"
      }
    },
    {
      "cell_type": "code",
      "source": [
        "ISOT['date_len'] = [len(x) for x in ISOT['date']]\n",
        "print(ISOT['date_len'].value_counts())"
      ],
      "metadata": {
        "colab": {
          "base_uri": "https://localhost:8080/"
        },
        "id": "uWQM0xRdCEiU",
        "outputId": "a08fa651-2eed-4534-d565-a598a5b8693e"
      },
      "execution_count": null,
      "outputs": [
        {
          "output_type": "stream",
          "name": "stdout",
          "text": [
            "17     7742\n",
            "12     6687\n",
            "18     6057\n",
            "16     3687\n",
            "14     3625\n",
            "13     2902\n",
            "15     2629\n",
            "11     2472\n",
            "19     2423\n",
            "9        35\n",
            "149       1\n",
            "88        1\n",
            "74        1\n",
            "124       1\n",
            "66        1\n",
            "145       1\n",
            "Name: date_len, dtype: int64\n"
          ]
        }
      ]
    },
    {
      "cell_type": "markdown",
      "source": [
        "<font color='darkblue'> Vemos que hay algunas fechas que tienen longitudes sospechosas. Nos llaman la atención las de longitud 9 y aquellas que tienen una longitud superior a 19.\n",
        "\n",
        "Las exploramos_</font></n>"
      ],
      "metadata": {
        "id": "CfEIk1KdqsIy"
      }
    },
    {
      "cell_type": "code",
      "source": [
        "print(ISOT[ISOT['date_len']<10]['date'])"
      ],
      "metadata": {
        "colab": {
          "base_uri": "https://localhost:8080/"
        },
        "id": "1iFaRa5CNe4S",
        "outputId": "b393132a-4e98-4377-8e09-0b5932da03e5"
      },
      "execution_count": null,
      "outputs": [
        {
          "output_type": "stream",
          "name": "stdout",
          "text": [
            "901      19-Feb-18\n",
            "2581     18-Feb-18\n",
            "3138     16-Feb-18\n",
            "3879     17-Feb-18\n",
            "7379     18-Feb-18\n",
            "8654     15-Feb-18\n",
            "11840    17-Feb-18\n",
            "13244    16-Feb-18\n",
            "14169    15-Feb-18\n",
            "14967    16-Feb-18\n",
            "16650    15-Feb-18\n",
            "16708    15-Feb-18\n",
            "16814    17-Feb-18\n",
            "17293    17-Feb-18\n",
            "19662    18-Feb-18\n",
            "19741    18-Feb-18\n",
            "19833    16-Feb-18\n",
            "20160    16-Feb-18\n",
            "21547    16-Feb-18\n",
            "21936    17-Feb-18\n",
            "22856    18-Feb-18\n",
            "22969    15-Feb-18\n",
            "24240    19-Feb-18\n",
            "24263    18-Feb-18\n",
            "24647    15-Feb-18\n",
            "26806    16-Feb-18\n",
            "28363    15-Feb-18\n",
            "30744    19-Feb-18\n",
            "32496    15-Feb-18\n",
            "35487    18-Feb-18\n",
            "36172    17-Feb-18\n",
            "36287    17-Feb-18\n",
            "36353    16-Feb-18\n",
            "37242    15-Feb-18\n",
            "37504    14-Feb-18\n",
            "Name: date, dtype: object\n"
          ]
        }
      ]
    },
    {
      "cell_type": "code",
      "source": [
        "print(ISOT[ISOT['date_len']>19]['date'])"
      ],
      "metadata": {
        "colab": {
          "base_uri": "https://localhost:8080/"
        },
        "id": "fshSlVN_RtdX",
        "outputId": "06516611-fc51-4036-ddd4-09c1ff7eeae1"
      },
      "execution_count": null,
      "outputs": [
        {
          "output_type": "stream",
          "name": "stdout",
          "text": [
            "5217     https://100percentfedup.com/12-yr-old-black-co...\n",
            "9678     https://100percentfedup.com/video-hillary-aske...\n",
            "27279    https://fedup.wpengine.com/wp-content/uploads/...\n",
            "29175    MSNBC HOST Rudely Assumes Steel Worker Would N...\n",
            "33678    https://fedup.wpengine.com/wp-content/uploads/...\n",
            "37992    https://100percentfedup.com/served-roy-moore-v...\n",
            "Name: date, dtype: object\n"
          ]
        }
      ]
    },
    {
      "cell_type": "markdown",
      "source": [
        "<font color='darkblue'> Parece que las que tienen una longitud de 9 caracteres describen fechas, por lo que podremos transformarlas a formato datetime. Sin embargo, las que tienen una longitud muy grande son enlaces o noticias. Decidimos eliminar estas filas porque la fecha es una variable que podemos emplear a la hora de entrenar a nuestros modelos.</font></n>"
      ],
      "metadata": {
        "id": "TATHXQ6-rXWt"
      }
    },
    {
      "cell_type": "code",
      "source": [
        "ISOT = ISOT.drop(ISOT[ISOT['date_len'] > 19].index)"
      ],
      "metadata": {
        "id": "upJydtu5hDi0"
      },
      "execution_count": null,
      "outputs": []
    },
    {
      "cell_type": "markdown",
      "source": [
        "<font color='darkblue'> Finalmente modificamos todas las fechas de nuestro dataframe haciendo uso de un bucle *for* con funciones *try/except* anidadas que consideren todos los formatos en los que están escritas.</font></n>"
      ],
      "metadata": {
        "id": "97nWIiv4r8y_"
      }
    },
    {
      "cell_type": "code",
      "source": [
        "from datetime import datetime\n",
        "dates = []\n",
        "for x in ISOT['date']: \n",
        "  try : \n",
        "    date = datetime.strptime(x, '%B %d, %Y')\n",
        "  except ValueError:\n",
        "    try : \n",
        "      date = datetime.strptime(x, '%d-%b-%y')\n",
        "    except ValueError:\n",
        "      try :\n",
        "        date = datetime.strptime(x, '%b %d, %Y')\n",
        "      except ValueError:\n",
        "          date = datetime.strptime(x, '%B %d, %Y ')\n",
        "  dates.append(date)\n",
        "ISOT['date'] = dates"
      ],
      "metadata": {
        "id": "V7zfrP0Bh_nb"
      },
      "execution_count": null,
      "outputs": []
    },
    {
      "cell_type": "code",
      "source": [
        "del ISOT['date_len']"
      ],
      "metadata": {
        "id": "7XKQm-MimQsP"
      },
      "execution_count": null,
      "outputs": []
    },
    {
      "cell_type": "code",
      "source": [
        "ISOT.dtypes\n",
        "\n"
      ],
      "metadata": {
        "colab": {
          "base_uri": "https://localhost:8080/"
        },
        "id": "4_tGvaYemBlh",
        "outputId": "8553d196-9b58-47e7-8cd2-4c14facffd7d"
      },
      "execution_count": null,
      "outputs": [
        {
          "output_type": "execute_result",
          "data": {
            "text/plain": [
              "title                           object\n",
              "text                            object\n",
              "subject                         object\n",
              "date                    datetime64[ns]\n",
              "normaliza_text                  object\n",
              "normaliza_title                 object\n",
              "clean_text                      object\n",
              "clean_title                     object\n",
              "char_len_title                   int64\n",
              "char_len_text                    int64\n",
              "char_len_title_t                 int64\n",
              "char_len_text_t                  int64\n",
              "token_text_len                   int64\n",
              "token_title_len                  int64\n",
              "prop_uppercase_text            float64\n",
              "prop_uppercase_title           float64\n",
              "prop_long_text                 float64\n",
              "prop_long_title                float64\n",
              "target                          object\n",
              "normaliza_b_filter              object\n",
              "topic_modelling                 object\n",
              "topic_modelling_max              int64\n",
              "Sentimiento_text               float64\n",
              "Subjetividad_text              float64\n",
              "Análisis_text                    int64\n",
              "Sentimiento_title              float64\n",
              "Subjetividad_title             float64\n",
              "Análisis_title                   int64\n",
              "dtype: object"
            ]
          },
          "metadata": {},
          "execution_count": 208
        }
      ]
    },
    {
      "cell_type": "markdown",
      "source": [
        "<font color='darkblue'> Finalmente guardamos nuestro dataframe.</font>"
      ],
      "metadata": {
        "id": "-f32Txz4EHaC"
      }
    },
    {
      "cell_type": "code",
      "source": [
        "ISOT = ISOT.sample(frac=1).reset_index(drop=True)\n",
        "ISOT"
      ],
      "metadata": {
        "colab": {
          "base_uri": "https://localhost:8080/",
          "height": 1000
        },
        "id": "VzhzpTx_muG6",
        "outputId": "99328085-ade6-447f-e37c-feed359e185e"
      },
      "execution_count": null,
      "outputs": [
        {
          "output_type": "execute_result",
          "data": {
            "text/plain": [
              "                                                   title  \\\n",
              "0      Trump signs order for tighter vetting to preve...   \n",
              "1      Episode #162 â SUNDAY WIRE: âThe Revolutio...   \n",
              "2      Trump moves ahead with wall, puts stamp on U.S...   \n",
              "3      HILLARY SHARES PRO-ILLEGAL MANIFESTO: Plans To...   \n",
              "4      Appellate judges Garland, Srinivasan considere...   \n",
              "...                                                  ...   \n",
              "38254   Colorado Police Officer Convicted Of Murder I...   \n",
              "38255  Lebanon's Hariri must return home from Saudi t...   \n",
              "38256  Pope begins Myanmar trip in shadow of Rohingya...   \n",
              "38257   Public Schools In Kentucky Can Now âTeachâ...   \n",
              "38258  Senator warns against simultaneous overhaul of...   \n",
              "\n",
              "                                                    text       subject  \\\n",
              "0      WASHINGTON (Reuters) - U.S. President Donald T...  politicsNews   \n",
              "1      Episode #162 of SUNDAY WIRE SHOW resumes this ...       US_News   \n",
              "2      WASHINGTON (Reuters) - President Donald Trump ...  politicsNews   \n",
              "3      To hell with the common sense voter, Hillary b...      politics   \n",
              "4      WASHINGTON (Reuters) - The White House is vett...  politicsNews   \n",
              "...                                                  ...           ...   \n",
              "38254  On Thursday, June 23, 2016, a Colorado jury co...          News   \n",
              "38255  PARIS (Reuters) - Lebanon s Saad al-Hariri can...     worldnews   \n",
              "38256  YANGON (Reuters) - Pope Francis landed in Yang...     worldnews   \n",
              "38257  The Republicans are at it again   this time by...          News   \n",
              "38258  WASHINGTON (Reuters) - A senior U.S. Senate Re...  politicsNews   \n",
              "\n",
              "            date                                     normaliza_text  \\\n",
              "0     2017-01-27  [washington, reuters, president, donald, trump...   \n",
              "1     2016-11-27  [episode, 162, sunday, wire, show, resume, nov...   \n",
              "2     2017-01-25  [washington, reuters, president, donald, trump...   \n",
              "3     2016-06-25  [hell, common, sense, voter, hillary, believe,...   \n",
              "4     2016-03-05  [washington, reuters, white, house, vetting, f...   \n",
              "...          ...                                                ...   \n",
              "38254 2016-06-24  [thursday, june, 23, 2016, colorado, jury, con...   \n",
              "38255 2017-11-14  [paris, reuters, lebanon, saad, prove, free, r...   \n",
              "38256 2017-11-27  [yangon, reuters, pope, francis, land, yangon,...   \n",
              "38257 2017-06-28  [republicans, time, pass, bill, allow, public,...   \n",
              "38258 2016-12-01  [washington, reuter, senior, senate, republica...   \n",
              "\n",
              "                                         normaliza_title  \\\n",
              "0      [trump, sign, order, tight, vetting, prevent, ...   \n",
              "1      [episode, 162, sunday, wire, revolution, telev...   \n",
              "2      [trump, move, ahead, wall, put, stamp, immigra...   \n",
              "3      [hillary, share, manifesto, plan, open, border...   \n",
              "4      [appellate, judge, garland, srinivasan, consid...   \n",
              "...                                                  ...   \n",
              "38254  [colorado, police, officer, convict, murder, j...   \n",
              "38255  [lebanon, hariri, must, return, home, saudi, p...   \n",
              "38256  [pope, begin, myanmar, trip, shadow, rohingya,...   \n",
              "38257           [public, school, kentucky, teach, bible]   \n",
              "38258  [senator, warn, simultaneous, overhaul, medica...   \n",
              "\n",
              "                                              clean_text  \\\n",
              "0      washington reuters president donald trump frid...   \n",
              "1      episode 162 sunday wire show resume november 2...   \n",
              "2      washington reuters president donald trump wedn...   \n",
              "3      hell common sense voter hillary believe need a...   \n",
              "4      washington reuters white house vetting federal...   \n",
              "...                                                  ...   \n",
              "38254  thursday june 23 2016 colorado jury convict fo...   \n",
              "38255  paris reuters lebanon saad prove free return h...   \n",
              "38256  yangon reuters pope francis land yangon monday...   \n",
              "38257  republicans time pass bill allow public school...   \n",
              "38258  washington reuter senior senate republican war...   \n",
              "\n",
              "                                             clean_title  char_len_title  \\\n",
              "0       trump sign order tight vetting prevent terrorism              58   \n",
              "1      episode 162 sunday wire revolution televise gu...              98   \n",
              "2      trump move ahead wall put stamp immigration se...              76   \n",
              "3      hillary share manifesto plan open border creat...             115   \n",
              "4      appellate judge garland srinivasan consider to...              71   \n",
              "...                                                  ...             ...   \n",
              "38254  colorado police officer convict murder jack ja...              77   \n",
              "38255  lebanon hariri must return home saudi prove fr...              82   \n",
              "38256     pope begin myanmar trip shadow rohingya crisis              53   \n",
              "38257                 public school kentucky teach bible              57   \n",
              "38258  senator warn simultaneous overhaul medicare ob...              69   \n",
              "\n",
              "       char_len_text  ...  target  \\\n",
              "0                654  ...    True   \n",
              "1               1745  ...    Fake   \n",
              "2               6918  ...    True   \n",
              "3               4800  ...    Fake   \n",
              "4               1833  ...    True   \n",
              "...              ...  ...     ...   \n",
              "38254           2191  ...    Fake   \n",
              "38255           2520  ...    True   \n",
              "38256            715  ...    True   \n",
              "38257           2367  ...    Fake   \n",
              "38258           2566  ...    True   \n",
              "\n",
              "                                      normaliza_b_filter  \\\n",
              "0      [washington, reuters, president, donald, trump...   \n",
              "1      [episode, sunday, wire, show, resume, november...   \n",
              "2      [washington, reuters, president, donald, trump...   \n",
              "3      [hell, common_sense, voter, hillary, believe, ...   \n",
              "4      [washington, reuters, white, house, vetting, f...   \n",
              "...                                                  ...   \n",
              "38254  [thursday, june, colorado, jury, convict, form...   \n",
              "38255  [paris, reuters, lebanon, saad, prove, free, r...   \n",
              "38256  [yangon, reuters, pope_francis, land, yangon, ...   \n",
              "38257  [republicans, time, pass, bill, allow, public,...   \n",
              "38258  [washington, reuter, senior, senate, republica...   \n",
              "\n",
              "                                         topic_modelling  topic_modelling_max  \\\n",
              "0      [(2, 0.3180311), (3, 0.20010819), (4, 0.481027...                    4   \n",
              "1      [(1, 0.49241078), (2, 0.05911816), (3, 0.27540...                    7   \n",
              "2      [(1, 0.03007971), (2, 0.1735542), (3, 0.123792...                    7   \n",
              "3      [(1, 0.16177486), (3, 0.3916896), (5, 0.446401...                    5   \n",
              "4      [(1, 0.039390966), (5, 0.8018443), (7, 0.15841...                    7   \n",
              "...                                                  ...                  ...   \n",
              "38254  [(1, 0.66414905), (3, 0.06504034), (7, 0.27051...                    7   \n",
              "38255                 [(2, 0.10470789), (4, 0.89499766)]                    4   \n",
              "38256                 [(1, 0.14548634), (2, 0.85338163)]                    2   \n",
              "38257                  [(1, 0.77537763), (5, 0.2242915)]                    5   \n",
              "38258                 [(3, 0.044255696), (5, 0.9554462)]                    5   \n",
              "\n",
              "       Sentimiento_text  Subjetividad_text  Análisis_text  Sentimiento_title  \\\n",
              "0              0.077825           0.378344              1          -0.178571   \n",
              "1              0.091728           0.437931              1           0.000000   \n",
              "2             -0.033124           0.350857             -1           0.000000   \n",
              "3              0.041431           0.476418              1          -0.250000   \n",
              "4              0.104933           0.469532              1           0.500000   \n",
              "...                 ...                ...            ...                ...   \n",
              "38254         -0.001318           0.261067             -1           0.000000   \n",
              "38255          0.083524           0.393190              1           0.137500   \n",
              "38256          0.123810           0.476190              1           0.000000   \n",
              "38257          0.065520           0.419944              1           0.000000   \n",
              "38258          0.021928           0.295623              1           0.000000   \n",
              "\n",
              "      Subjetividad_title Análisis_title  \n",
              "0               0.285714             -1  \n",
              "1               0.000000              0  \n",
              "2               0.000000              0  \n",
              "3               0.500000             -1  \n",
              "4               0.500000              1  \n",
              "...                  ...            ...  \n",
              "38254           0.000000              0  \n",
              "38255           0.462500              1  \n",
              "38256           0.000000              0  \n",
              "38257           0.066667              0  \n",
              "38258           0.000000              0  \n",
              "\n",
              "[38259 rows x 28 columns]"
            ],
            "text/html": [
              "\n",
              "  <div id=\"df-9e621da9-6578-4581-8816-eaa5d4166bba\">\n",
              "    <div class=\"colab-df-container\">\n",
              "      <div>\n",
              "<style scoped>\n",
              "    .dataframe tbody tr th:only-of-type {\n",
              "        vertical-align: middle;\n",
              "    }\n",
              "\n",
              "    .dataframe tbody tr th {\n",
              "        vertical-align: top;\n",
              "    }\n",
              "\n",
              "    .dataframe thead th {\n",
              "        text-align: right;\n",
              "    }\n",
              "</style>\n",
              "<table border=\"1\" class=\"dataframe\">\n",
              "  <thead>\n",
              "    <tr style=\"text-align: right;\">\n",
              "      <th></th>\n",
              "      <th>title</th>\n",
              "      <th>text</th>\n",
              "      <th>subject</th>\n",
              "      <th>date</th>\n",
              "      <th>normaliza_text</th>\n",
              "      <th>normaliza_title</th>\n",
              "      <th>clean_text</th>\n",
              "      <th>clean_title</th>\n",
              "      <th>char_len_title</th>\n",
              "      <th>char_len_text</th>\n",
              "      <th>...</th>\n",
              "      <th>target</th>\n",
              "      <th>normaliza_b_filter</th>\n",
              "      <th>topic_modelling</th>\n",
              "      <th>topic_modelling_max</th>\n",
              "      <th>Sentimiento_text</th>\n",
              "      <th>Subjetividad_text</th>\n",
              "      <th>Análisis_text</th>\n",
              "      <th>Sentimiento_title</th>\n",
              "      <th>Subjetividad_title</th>\n",
              "      <th>Análisis_title</th>\n",
              "    </tr>\n",
              "  </thead>\n",
              "  <tbody>\n",
              "    <tr>\n",
              "      <th>0</th>\n",
              "      <td>Trump signs order for tighter vetting to preve...</td>\n",
              "      <td>WASHINGTON (Reuters) - U.S. President Donald T...</td>\n",
              "      <td>politicsNews</td>\n",
              "      <td>2017-01-27</td>\n",
              "      <td>[washington, reuters, president, donald, trump...</td>\n",
              "      <td>[trump, sign, order, tight, vetting, prevent, ...</td>\n",
              "      <td>washington reuters president donald trump frid...</td>\n",
              "      <td>trump sign order tight vetting prevent terrorism</td>\n",
              "      <td>58</td>\n",
              "      <td>654</td>\n",
              "      <td>...</td>\n",
              "      <td>True</td>\n",
              "      <td>[washington, reuters, president, donald, trump...</td>\n",
              "      <td>[(2, 0.3180311), (3, 0.20010819), (4, 0.481027...</td>\n",
              "      <td>4</td>\n",
              "      <td>0.077825</td>\n",
              "      <td>0.378344</td>\n",
              "      <td>1</td>\n",
              "      <td>-0.178571</td>\n",
              "      <td>0.285714</td>\n",
              "      <td>-1</td>\n",
              "    </tr>\n",
              "    <tr>\n",
              "      <th>1</th>\n",
              "      <td>Episode #162 â SUNDAY WIRE: âThe Revolutio...</td>\n",
              "      <td>Episode #162 of SUNDAY WIRE SHOW resumes this ...</td>\n",
              "      <td>US_News</td>\n",
              "      <td>2016-11-27</td>\n",
              "      <td>[episode, 162, sunday, wire, show, resume, nov...</td>\n",
              "      <td>[episode, 162, sunday, wire, revolution, telev...</td>\n",
              "      <td>episode 162 sunday wire show resume november 2...</td>\n",
              "      <td>episode 162 sunday wire revolution televise gu...</td>\n",
              "      <td>98</td>\n",
              "      <td>1745</td>\n",
              "      <td>...</td>\n",
              "      <td>Fake</td>\n",
              "      <td>[episode, sunday, wire, show, resume, november...</td>\n",
              "      <td>[(1, 0.49241078), (2, 0.05911816), (3, 0.27540...</td>\n",
              "      <td>7</td>\n",
              "      <td>0.091728</td>\n",
              "      <td>0.437931</td>\n",
              "      <td>1</td>\n",
              "      <td>0.000000</td>\n",
              "      <td>0.000000</td>\n",
              "      <td>0</td>\n",
              "    </tr>\n",
              "    <tr>\n",
              "      <th>2</th>\n",
              "      <td>Trump moves ahead with wall, puts stamp on U.S...</td>\n",
              "      <td>WASHINGTON (Reuters) - President Donald Trump ...</td>\n",
              "      <td>politicsNews</td>\n",
              "      <td>2017-01-25</td>\n",
              "      <td>[washington, reuters, president, donald, trump...</td>\n",
              "      <td>[trump, move, ahead, wall, put, stamp, immigra...</td>\n",
              "      <td>washington reuters president donald trump wedn...</td>\n",
              "      <td>trump move ahead wall put stamp immigration se...</td>\n",
              "      <td>76</td>\n",
              "      <td>6918</td>\n",
              "      <td>...</td>\n",
              "      <td>True</td>\n",
              "      <td>[washington, reuters, president, donald, trump...</td>\n",
              "      <td>[(1, 0.03007971), (2, 0.1735542), (3, 0.123792...</td>\n",
              "      <td>7</td>\n",
              "      <td>-0.033124</td>\n",
              "      <td>0.350857</td>\n",
              "      <td>-1</td>\n",
              "      <td>0.000000</td>\n",
              "      <td>0.000000</td>\n",
              "      <td>0</td>\n",
              "    </tr>\n",
              "    <tr>\n",
              "      <th>3</th>\n",
              "      <td>HILLARY SHARES PRO-ILLEGAL MANIFESTO: Plans To...</td>\n",
              "      <td>To hell with the common sense voter, Hillary b...</td>\n",
              "      <td>politics</td>\n",
              "      <td>2016-06-25</td>\n",
              "      <td>[hell, common, sense, voter, hillary, believe,...</td>\n",
              "      <td>[hillary, share, manifesto, plan, open, border...</td>\n",
              "      <td>hell common sense voter hillary believe need a...</td>\n",
              "      <td>hillary share manifesto plan open border creat...</td>\n",
              "      <td>115</td>\n",
              "      <td>4800</td>\n",
              "      <td>...</td>\n",
              "      <td>Fake</td>\n",
              "      <td>[hell, common_sense, voter, hillary, believe, ...</td>\n",
              "      <td>[(1, 0.16177486), (3, 0.3916896), (5, 0.446401...</td>\n",
              "      <td>5</td>\n",
              "      <td>0.041431</td>\n",
              "      <td>0.476418</td>\n",
              "      <td>1</td>\n",
              "      <td>-0.250000</td>\n",
              "      <td>0.500000</td>\n",
              "      <td>-1</td>\n",
              "    </tr>\n",
              "    <tr>\n",
              "      <th>4</th>\n",
              "      <td>Appellate judges Garland, Srinivasan considere...</td>\n",
              "      <td>WASHINGTON (Reuters) - The White House is vett...</td>\n",
              "      <td>politicsNews</td>\n",
              "      <td>2016-03-05</td>\n",
              "      <td>[washington, reuters, white, house, vetting, f...</td>\n",
              "      <td>[appellate, judge, garland, srinivasan, consid...</td>\n",
              "      <td>washington reuters white house vetting federal...</td>\n",
              "      <td>appellate judge garland srinivasan consider to...</td>\n",
              "      <td>71</td>\n",
              "      <td>1833</td>\n",
              "      <td>...</td>\n",
              "      <td>True</td>\n",
              "      <td>[washington, reuters, white, house, vetting, f...</td>\n",
              "      <td>[(1, 0.039390966), (5, 0.8018443), (7, 0.15841...</td>\n",
              "      <td>7</td>\n",
              "      <td>0.104933</td>\n",
              "      <td>0.469532</td>\n",
              "      <td>1</td>\n",
              "      <td>0.500000</td>\n",
              "      <td>0.500000</td>\n",
              "      <td>1</td>\n",
              "    </tr>\n",
              "    <tr>\n",
              "      <th>...</th>\n",
              "      <td>...</td>\n",
              "      <td>...</td>\n",
              "      <td>...</td>\n",
              "      <td>...</td>\n",
              "      <td>...</td>\n",
              "      <td>...</td>\n",
              "      <td>...</td>\n",
              "      <td>...</td>\n",
              "      <td>...</td>\n",
              "      <td>...</td>\n",
              "      <td>...</td>\n",
              "      <td>...</td>\n",
              "      <td>...</td>\n",
              "      <td>...</td>\n",
              "      <td>...</td>\n",
              "      <td>...</td>\n",
              "      <td>...</td>\n",
              "      <td>...</td>\n",
              "      <td>...</td>\n",
              "      <td>...</td>\n",
              "      <td>...</td>\n",
              "    </tr>\n",
              "    <tr>\n",
              "      <th>38254</th>\n",
              "      <td>Colorado Police Officer Convicted Of Murder I...</td>\n",
              "      <td>On Thursday, June 23, 2016, a Colorado jury co...</td>\n",
              "      <td>News</td>\n",
              "      <td>2016-06-24</td>\n",
              "      <td>[thursday, june, 23, 2016, colorado, jury, con...</td>\n",
              "      <td>[colorado, police, officer, convict, murder, j...</td>\n",
              "      <td>thursday june 23 2016 colorado jury convict fo...</td>\n",
              "      <td>colorado police officer convict murder jack ja...</td>\n",
              "      <td>77</td>\n",
              "      <td>2191</td>\n",
              "      <td>...</td>\n",
              "      <td>Fake</td>\n",
              "      <td>[thursday, june, colorado, jury, convict, form...</td>\n",
              "      <td>[(1, 0.66414905), (3, 0.06504034), (7, 0.27051...</td>\n",
              "      <td>7</td>\n",
              "      <td>-0.001318</td>\n",
              "      <td>0.261067</td>\n",
              "      <td>-1</td>\n",
              "      <td>0.000000</td>\n",
              "      <td>0.000000</td>\n",
              "      <td>0</td>\n",
              "    </tr>\n",
              "    <tr>\n",
              "      <th>38255</th>\n",
              "      <td>Lebanon's Hariri must return home from Saudi t...</td>\n",
              "      <td>PARIS (Reuters) - Lebanon s Saad al-Hariri can...</td>\n",
              "      <td>worldnews</td>\n",
              "      <td>2017-11-14</td>\n",
              "      <td>[paris, reuters, lebanon, saad, prove, free, r...</td>\n",
              "      <td>[lebanon, hariri, must, return, home, saudi, p...</td>\n",
              "      <td>paris reuters lebanon saad prove free return h...</td>\n",
              "      <td>lebanon hariri must return home saudi prove fr...</td>\n",
              "      <td>82</td>\n",
              "      <td>2520</td>\n",
              "      <td>...</td>\n",
              "      <td>True</td>\n",
              "      <td>[paris, reuters, lebanon, saad, prove, free, r...</td>\n",
              "      <td>[(2, 0.10470789), (4, 0.89499766)]</td>\n",
              "      <td>4</td>\n",
              "      <td>0.083524</td>\n",
              "      <td>0.393190</td>\n",
              "      <td>1</td>\n",
              "      <td>0.137500</td>\n",
              "      <td>0.462500</td>\n",
              "      <td>1</td>\n",
              "    </tr>\n",
              "    <tr>\n",
              "      <th>38256</th>\n",
              "      <td>Pope begins Myanmar trip in shadow of Rohingya...</td>\n",
              "      <td>YANGON (Reuters) - Pope Francis landed in Yang...</td>\n",
              "      <td>worldnews</td>\n",
              "      <td>2017-11-27</td>\n",
              "      <td>[yangon, reuters, pope, francis, land, yangon,...</td>\n",
              "      <td>[pope, begin, myanmar, trip, shadow, rohingya,...</td>\n",
              "      <td>yangon reuters pope francis land yangon monday...</td>\n",
              "      <td>pope begin myanmar trip shadow rohingya crisis</td>\n",
              "      <td>53</td>\n",
              "      <td>715</td>\n",
              "      <td>...</td>\n",
              "      <td>True</td>\n",
              "      <td>[yangon, reuters, pope_francis, land, yangon, ...</td>\n",
              "      <td>[(1, 0.14548634), (2, 0.85338163)]</td>\n",
              "      <td>2</td>\n",
              "      <td>0.123810</td>\n",
              "      <td>0.476190</td>\n",
              "      <td>1</td>\n",
              "      <td>0.000000</td>\n",
              "      <td>0.000000</td>\n",
              "      <td>0</td>\n",
              "    </tr>\n",
              "    <tr>\n",
              "      <th>38257</th>\n",
              "      <td>Public Schools In Kentucky Can Now âTeachâ...</td>\n",
              "      <td>The Republicans are at it again   this time by...</td>\n",
              "      <td>News</td>\n",
              "      <td>2017-06-28</td>\n",
              "      <td>[republicans, time, pass, bill, allow, public,...</td>\n",
              "      <td>[public, school, kentucky, teach, bible]</td>\n",
              "      <td>republicans time pass bill allow public school...</td>\n",
              "      <td>public school kentucky teach bible</td>\n",
              "      <td>57</td>\n",
              "      <td>2367</td>\n",
              "      <td>...</td>\n",
              "      <td>Fake</td>\n",
              "      <td>[republicans, time, pass, bill, allow, public,...</td>\n",
              "      <td>[(1, 0.77537763), (5, 0.2242915)]</td>\n",
              "      <td>5</td>\n",
              "      <td>0.065520</td>\n",
              "      <td>0.419944</td>\n",
              "      <td>1</td>\n",
              "      <td>0.000000</td>\n",
              "      <td>0.066667</td>\n",
              "      <td>0</td>\n",
              "    </tr>\n",
              "    <tr>\n",
              "      <th>38258</th>\n",
              "      <td>Senator warns against simultaneous overhaul of...</td>\n",
              "      <td>WASHINGTON (Reuters) - A senior U.S. Senate Re...</td>\n",
              "      <td>politicsNews</td>\n",
              "      <td>2016-12-01</td>\n",
              "      <td>[washington, reuter, senior, senate, republica...</td>\n",
              "      <td>[senator, warn, simultaneous, overhaul, medica...</td>\n",
              "      <td>washington reuter senior senate republican war...</td>\n",
              "      <td>senator warn simultaneous overhaul medicare ob...</td>\n",
              "      <td>69</td>\n",
              "      <td>2566</td>\n",
              "      <td>...</td>\n",
              "      <td>True</td>\n",
              "      <td>[washington, reuter, senior, senate, republica...</td>\n",
              "      <td>[(3, 0.044255696), (5, 0.9554462)]</td>\n",
              "      <td>5</td>\n",
              "      <td>0.021928</td>\n",
              "      <td>0.295623</td>\n",
              "      <td>1</td>\n",
              "      <td>0.000000</td>\n",
              "      <td>0.000000</td>\n",
              "      <td>0</td>\n",
              "    </tr>\n",
              "  </tbody>\n",
              "</table>\n",
              "<p>38259 rows × 28 columns</p>\n",
              "</div>\n",
              "      <button class=\"colab-df-convert\" onclick=\"convertToInteractive('df-9e621da9-6578-4581-8816-eaa5d4166bba')\"\n",
              "              title=\"Convert this dataframe to an interactive table.\"\n",
              "              style=\"display:none;\">\n",
              "        \n",
              "  <svg xmlns=\"http://www.w3.org/2000/svg\" height=\"24px\"viewBox=\"0 0 24 24\"\n",
              "       width=\"24px\">\n",
              "    <path d=\"M0 0h24v24H0V0z\" fill=\"none\"/>\n",
              "    <path d=\"M18.56 5.44l.94 2.06.94-2.06 2.06-.94-2.06-.94-.94-2.06-.94 2.06-2.06.94zm-11 1L8.5 8.5l.94-2.06 2.06-.94-2.06-.94L8.5 2.5l-.94 2.06-2.06.94zm10 10l.94 2.06.94-2.06 2.06-.94-2.06-.94-.94-2.06-.94 2.06-2.06.94z\"/><path d=\"M17.41 7.96l-1.37-1.37c-.4-.4-.92-.59-1.43-.59-.52 0-1.04.2-1.43.59L10.3 9.45l-7.72 7.72c-.78.78-.78 2.05 0 2.83L4 21.41c.39.39.9.59 1.41.59.51 0 1.02-.2 1.41-.59l7.78-7.78 2.81-2.81c.8-.78.8-2.07 0-2.86zM5.41 20L4 18.59l7.72-7.72 1.47 1.35L5.41 20z\"/>\n",
              "  </svg>\n",
              "      </button>\n",
              "      \n",
              "  <style>\n",
              "    .colab-df-container {\n",
              "      display:flex;\n",
              "      flex-wrap:wrap;\n",
              "      gap: 12px;\n",
              "    }\n",
              "\n",
              "    .colab-df-convert {\n",
              "      background-color: #E8F0FE;\n",
              "      border: none;\n",
              "      border-radius: 50%;\n",
              "      cursor: pointer;\n",
              "      display: none;\n",
              "      fill: #1967D2;\n",
              "      height: 32px;\n",
              "      padding: 0 0 0 0;\n",
              "      width: 32px;\n",
              "    }\n",
              "\n",
              "    .colab-df-convert:hover {\n",
              "      background-color: #E2EBFA;\n",
              "      box-shadow: 0px 1px 2px rgba(60, 64, 67, 0.3), 0px 1px 3px 1px rgba(60, 64, 67, 0.15);\n",
              "      fill: #174EA6;\n",
              "    }\n",
              "\n",
              "    [theme=dark] .colab-df-convert {\n",
              "      background-color: #3B4455;\n",
              "      fill: #D2E3FC;\n",
              "    }\n",
              "\n",
              "    [theme=dark] .colab-df-convert:hover {\n",
              "      background-color: #434B5C;\n",
              "      box-shadow: 0px 1px 3px 1px rgba(0, 0, 0, 0.15);\n",
              "      filter: drop-shadow(0px 1px 2px rgba(0, 0, 0, 0.3));\n",
              "      fill: #FFFFFF;\n",
              "    }\n",
              "  </style>\n",
              "\n",
              "      <script>\n",
              "        const buttonEl =\n",
              "          document.querySelector('#df-9e621da9-6578-4581-8816-eaa5d4166bba button.colab-df-convert');\n",
              "        buttonEl.style.display =\n",
              "          google.colab.kernel.accessAllowed ? 'block' : 'none';\n",
              "\n",
              "        async function convertToInteractive(key) {\n",
              "          const element = document.querySelector('#df-9e621da9-6578-4581-8816-eaa5d4166bba');\n",
              "          const dataTable =\n",
              "            await google.colab.kernel.invokeFunction('convertToInteractive',\n",
              "                                                     [key], {});\n",
              "          if (!dataTable) return;\n",
              "\n",
              "          const docLinkHtml = 'Like what you see? Visit the ' +\n",
              "            '<a target=\"_blank\" href=https://colab.research.google.com/notebooks/data_table.ipynb>data table notebook</a>'\n",
              "            + ' to learn more about interactive tables.';\n",
              "          element.innerHTML = '';\n",
              "          dataTable['output_type'] = 'display_data';\n",
              "          await google.colab.output.renderOutput(dataTable, element);\n",
              "          const docLink = document.createElement('div');\n",
              "          docLink.innerHTML = docLinkHtml;\n",
              "          element.appendChild(docLink);\n",
              "        }\n",
              "      </script>\n",
              "    </div>\n",
              "  </div>\n",
              "  "
            ]
          },
          "metadata": {},
          "execution_count": 209
        }
      ]
    },
    {
      "cell_type": "markdown",
      "source": [
        "<font color='darkblue'> Guardamos el dataframe .</font></n>"
      ],
      "metadata": {
        "id": "L6xtcOLusnC-"
      }
    },
    {
      "cell_type": "code",
      "source": [
        "path = '/content/drive/MyDrive/Fake_News/'\n",
        "pickle_out = open(path + 'ISOT_topic_sentiment_pickle', 'wb')\n",
        "pickle.dump(ISOT, pickle_out)\n",
        "pickle_out.close()"
      ],
      "metadata": {
        "id": "kcj9pHIYjcpc"
      },
      "execution_count": null,
      "outputs": []
    }
  ]
}