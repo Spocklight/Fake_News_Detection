{
  "nbformat": 4,
  "nbformat_minor": 0,
  "metadata": {
    "colab": {
      "provenance": [],
      "authorship_tag": "ABX9TyM7YwcpJsZr35Z3ueA65DvJ",
      "include_colab_link": true
    },
    "kernelspec": {
      "name": "python3",
      "display_name": "Python 3"
    },
    "language_info": {
      "name": "python"
    }
  },
  "cells": [
    {
      "cell_type": "markdown",
      "metadata": {
        "id": "view-in-github",
        "colab_type": "text"
      },
      "source": [
        "<a href=\"https://colab.research.google.com/github/Spocklight/Fake_News_Detection/blob/master/Master_Algoritmos_Neuronales.ipynb\" target=\"_parent\"><img src=\"https://colab.research.google.com/assets/colab-badge.svg\" alt=\"Open In Colab\"/></a>"
      ]
    },
    {
      "cell_type": "markdown",
      "source": [
        "<h1><center>Detección de noticias falsas</center></h1>\n",
        "<h3><center>Alejandro Sierra Fernández</center></h3>\n",
        "<h4><center>01/08/2022</center></h4>"
      ],
      "metadata": {
        "id": "SKsajrOFXD9h"
      }
    },
    {
      "cell_type": "markdown",
      "source": [
        "*   <h2>Aplicación de algoritmos neuronales</h2>\n",
        "\n",
        "<font color='darkblue'> En este Notebook exploraremos el desempeño que tienen sobres nuestros datos distintas redes neuronales. Empezamos cargando librerías y nuestro dataset.  </font>"
      ],
      "metadata": {
        "id": "hu5DSGF3XH6t"
      }
    },
    {
      "cell_type": "code",
      "execution_count": null,
      "metadata": {
        "colab": {
          "base_uri": "https://localhost:8080/"
        },
        "id": "XHyLLBM5CR6o",
        "outputId": "2e9fd67b-1d3a-479d-f6b2-187821c609a0"
      },
      "outputs": [
        {
          "output_type": "stream",
          "name": "stdout",
          "text": [
            "Looking in indexes: https://pypi.org/simple, https://us-python.pkg.dev/colab-wheels/public/simple/\n",
            "Requirement already satisfied: SciKeras in /usr/local/lib/python3.7/dist-packages (0.9.0)\n",
            "Requirement already satisfied: importlib-metadata>=3 in /usr/local/lib/python3.7/dist-packages (from SciKeras) (4.12.0)\n",
            "Requirement already satisfied: packaging>=0.21 in /usr/local/lib/python3.7/dist-packages (from SciKeras) (21.3)\n",
            "Requirement already satisfied: scikit-learn>=1.0.0 in /usr/local/lib/python3.7/dist-packages (from SciKeras) (1.0.2)\n",
            "Requirement already satisfied: typing-extensions>=3.6.4 in /usr/local/lib/python3.7/dist-packages (from importlib-metadata>=3->SciKeras) (4.1.1)\n",
            "Requirement already satisfied: zipp>=0.5 in /usr/local/lib/python3.7/dist-packages (from importlib-metadata>=3->SciKeras) (3.8.1)\n",
            "Requirement already satisfied: pyparsing!=3.0.5,>=2.0.2 in /usr/local/lib/python3.7/dist-packages (from packaging>=0.21->SciKeras) (3.0.9)\n",
            "Requirement already satisfied: scipy>=1.1.0 in /usr/local/lib/python3.7/dist-packages (from scikit-learn>=1.0.0->SciKeras) (1.7.3)\n",
            "Requirement already satisfied: numpy>=1.14.6 in /usr/local/lib/python3.7/dist-packages (from scikit-learn>=1.0.0->SciKeras) (1.21.6)\n",
            "Requirement already satisfied: threadpoolctl>=2.0.0 in /usr/local/lib/python3.7/dist-packages (from scikit-learn>=1.0.0->SciKeras) (3.1.0)\n",
            "Requirement already satisfied: joblib>=0.11 in /usr/local/lib/python3.7/dist-packages (from scikit-learn>=1.0.0->SciKeras) (1.1.0)\n"
          ]
        }
      ],
      "source": [
        "!pip install SciKeras\n",
        "\n",
        "from google.colab import drive\n",
        "from tqdm import tqdm\n",
        "from pprint import pprint\n",
        "import warnings \n",
        "import pickle  \n",
        "\n",
        "import pandas as pd\n",
        "import numpy as np\n",
        "import matplotlib.pyplot as plt\n",
        "import seaborn as sns\n",
        "\n",
        "import scipy as sp\n",
        "import tensorflow as tf\n",
        "\n",
        "from sklearn.model_selection import train_test_split, KFold, GridSearchCV, RandomizedSearchCV\n",
        "from sklearn.feature_extraction.text import TfidfVectorizer\n",
        "from sklearn.preprocessing import StandardScaler\n",
        "from sklearn.metrics import classification_report, confusion_matrix, plot_confusion_matrix\n",
        "from tensorflow import keras\n",
        "from keras.models import Sequential\n",
        "from keras. layers import Dense, Flatten, Input, LSTM, Dropout, Conv1D, MaxPool1D, Bidirectional\n",
        "from keras import regularizers\n",
        "from scikeras.wrappers import KerasClassifier\n",
        "\n",
        "\n"
      ]
    },
    {
      "cell_type": "code",
      "source": [
        "drive.mount('/content/drive')\n",
        "path = '/content/drive/MyDrive/Fake_News/'\n",
        "pickle_in = open(path + 'ISOT_topic_sentiment_pickle', 'rb')\n",
        "ISOT = pickle.load(pickle_in)"
      ],
      "metadata": {
        "colab": {
          "base_uri": "https://localhost:8080/"
        },
        "id": "AtNkE6JBXTnR",
        "outputId": "790191f2-7ff2-48c9-8097-ba8a7d165b21"
      },
      "execution_count": null,
      "outputs": [
        {
          "output_type": "stream",
          "name": "stdout",
          "text": [
            "Mounted at /content/drive\n"
          ]
        }
      ]
    },
    {
      "cell_type": "code",
      "source": [
        "display(ISOT.dtypes)"
      ],
      "metadata": {
        "colab": {
          "base_uri": "https://localhost:8080/",
          "height": 520
        },
        "id": "sOixcEx9XVT2",
        "outputId": "46633b27-f87c-482e-d680-d8e770add1ff"
      },
      "execution_count": null,
      "outputs": [
        {
          "output_type": "display_data",
          "data": {
            "text/plain": [
              "title                           object\n",
              "text                            object\n",
              "subject                         object\n",
              "date                    datetime64[ns]\n",
              "normaliza_text                  object\n",
              "normaliza_title                 object\n",
              "clean_text                      object\n",
              "clean_title                     object\n",
              "char_len_title                   int64\n",
              "char_len_text                    int64\n",
              "char_len_title_t                 int64\n",
              "char_len_text_t                  int64\n",
              "token_text_len                   int64\n",
              "token_title_len                  int64\n",
              "prop_uppercase_text            float64\n",
              "prop_uppercase_title           float64\n",
              "prop_long_text                 float64\n",
              "prop_long_title                float64\n",
              "target                          object\n",
              "normaliza_b_filter              object\n",
              "topic_modelling                 object\n",
              "topic_modelling_max              int64\n",
              "Sentimiento_text               float64\n",
              "Subjetividad_text              float64\n",
              "Análisis_text                    int64\n",
              "Sentimiento_title              float64\n",
              "Subjetividad_title             float64\n",
              "Análisis_title                   int64\n",
              "dtype: object"
            ]
          },
          "metadata": {}
        }
      ]
    },
    {
      "cell_type": "markdown",
      "source": [
        "<font color='darkblue'> A continuación, preparamos los datasets *train* y *target* y aplicamos las transformaciones ya comentadas en el notebook de algoritmos no neuronales..</n> "
      ],
      "metadata": {
        "id": "WspK0mz_K2IQ"
      }
    },
    {
      "cell_type": "code",
      "source": [
        "train, test = train_test_split(ISOT, test_size=0.2, random_state=25)\n",
        "print(train.shape)\n",
        "print(test.shape)"
      ],
      "metadata": {
        "colab": {
          "base_uri": "https://localhost:8080/"
        },
        "id": "W5dbgfmZXV2q",
        "outputId": "4ed07896-f712-41e1-afdf-79707a438998"
      },
      "execution_count": null,
      "outputs": [
        {
          "output_type": "stream",
          "name": "stdout",
          "text": [
            "(30607, 28)\n",
            "(7652, 28)\n"
          ]
        }
      ]
    },
    {
      "cell_type": "code",
      "source": [
        "train['target'].value_counts()"
      ],
      "metadata": {
        "colab": {
          "base_uri": "https://localhost:8080/"
        },
        "id": "o9DJgRB4XZNZ",
        "outputId": "c9a753a7-2e94-4b1f-d452-e5dcb0a36f92"
      },
      "execution_count": null,
      "outputs": [
        {
          "output_type": "execute_result",
          "data": {
            "text/plain": [
              "True    16694\n",
              "Fake    13913\n",
              "Name: target, dtype: int64"
            ]
          },
          "metadata": {},
          "execution_count": 5
        }
      ]
    },
    {
      "cell_type": "code",
      "source": [
        "count_1, count_0 = train[\"target\"].value_counts()\n",
        "\n",
        "class_0 = train[train.target=='Fake']\n",
        "class_1 = train[train.target=='True']\n",
        "class_1_under = class_1.sample(count_0)\n",
        "train_under = pd.concat([class_1_under, class_0], axis=0)\n",
        "\n",
        "train_under['target'].value_counts().plot(kind='bar', title='count (target)')\n",
        "train_under['target'].value_counts()\n",
        "train = train_under"
      ],
      "metadata": {
        "colab": {
          "base_uri": "https://localhost:8080/",
          "height": 294
        },
        "id": "vyg_7iQgXdT5",
        "outputId": "8fd6abcd-cd4e-4c80-c85f-c58765e43924"
      },
      "execution_count": null,
      "outputs": [
        {
          "output_type": "display_data",
          "data": {
            "text/plain": [
              "<Figure size 432x288 with 1 Axes>"
            ],
            "image/png": "[encoded data removed]"
          },
          "metadata": {
            "needs_background": "light"
          }
        }
      ]
    },
    {
      "cell_type": "code",
      "source": [
        "train['target'].value_counts()"
      ],
      "metadata": {
        "colab": {
          "base_uri": "https://localhost:8080/"
        },
        "id": "Lp8dnn7PXhDs",
        "outputId": "7ef17a86-1331-498c-f762-f5c414ce4040"
      },
      "execution_count": null,
      "outputs": [
        {
          "output_type": "execute_result",
          "data": {
            "text/plain": [
              "True    13913\n",
              "Fake    13913\n",
              "Name: target, dtype: int64"
            ]
          },
          "metadata": {},
          "execution_count": 7
        }
      ]
    },
    {
      "cell_type": "code",
      "source": [
        "train[\"target\"] = (train['target'] == 'True').astype(np.float32)  #True=1, Fake=0\n",
        "test[\"target\"] = (test['target'] == 'True').astype(np.float32)  #True=1, Fake=0"
      ],
      "metadata": {
        "id": "Nulb22OwXi4J"
      },
      "execution_count": null,
      "outputs": []
    },
    {
      "cell_type": "code",
      "source": [
        "vectorizador = TfidfVectorizer(max_features=100,                  \n",
        "                               ngram_range=(1,3),\n",
        "                               min_df=10,\n",
        "                               max_df=0.50,\n",
        "                               lowercase=False)\n",
        "\n",
        "vector_title_train = vectorizador.fit_transform(train[\"clean_title\"])\n",
        "vector_text_train = vectorizador.fit_transform(train[\"clean_text\"])\n",
        "vector_title_test = vectorizador.fit_transform(test[\"clean_title\"])\n",
        "vector_text_test = vectorizador.fit_transform(test[\"clean_text\"])"
      ],
      "metadata": {
        "id": "1f9IhkLcXk1Z"
      },
      "execution_count": null,
      "outputs": []
    },
    {
      "cell_type": "code",
      "source": [
        "extra_features_train_d = train[['Sentimiento_text', 'Análisis_text', 'Subjetividad_text', 'Sentimiento_title', 'Análisis_title', 'Subjetividad_title', 'topic_modelling_max',\n",
        "                              'prop_long_text', 'prop_long_title', 'prop_uppercase_text', 'prop_uppercase_title', 'token_title_len', 'token_text_len',\n",
        "                              'char_len_title', 'char_len_text']]\n",
        "\n",
        "extra_features_test_d = test[['Sentimiento_text', 'Análisis_text', 'Subjetividad_text', 'Sentimiento_title', 'Análisis_title', 'Subjetividad_title', 'topic_modelling_max',\n",
        "                              'prop_long_text', 'prop_long_title', 'prop_uppercase_text', 'prop_uppercase_title', 'token_title_len', 'token_text_len',\n",
        "                              'char_len_title', 'char_len_text']]\n",
        "\n",
        "sc = StandardScaler()\n",
        "extra_features_train = sc.fit_transform(extra_features_train_d)\n",
        "extra_features_test = sc.transform(extra_features_test_d)"
      ],
      "metadata": {
        "id": "FzjQ99HWXn_T"
      },
      "execution_count": null,
      "outputs": []
    },
    {
      "cell_type": "code",
      "source": [
        "y_train = train[\"target\"].values\n",
        "X_train_text = sp.sparse.hstack((vector_text_train, extra_features_train),format='csr')\n",
        "X_train_title = sp.sparse.hstack((vector_title_train, extra_features_train),format='csr')\n",
        "\n",
        "y_test = test[\"target\"].values\n",
        "X_test_text = sp.sparse.hstack((vector_text_test, extra_features_test),format='csr')\n",
        "X_test_title = sp.sparse.hstack((vector_title_test, extra_features_test),format='csr')"
      ],
      "metadata": {
        "id": "xid_NJisXsYo"
      },
      "execution_count": null,
      "outputs": []
    },
    {
      "cell_type": "code",
      "source": [
        "X_train_text = X_train_text.toarray()\n",
        "X_train_title = X_train_title.toarray()\n",
        "X_test_text = X_test_text.toarray()\n",
        "X_test_title = X_test_title.toarray()\n"
      ],
      "metadata": {
        "id": "6SHulC0CXxpu"
      },
      "execution_count": null,
      "outputs": []
    },
    {
      "cell_type": "markdown",
      "source": [
        "<font color='darkblue'> Definimos una función para mostrar la evolución la función de pérdida y de la precisión.</n>"
      ],
      "metadata": {
        "id": "1PTIYjnlOcwv"
      }
    },
    {
      "cell_type": "code",
      "source": [
        "def show_loss_accuracy_evolution(hist):\n",
        "\n",
        "    fig, (ax1, ax2) = plt.subplots(1, 2, figsize=(16, 6))\n",
        "\n",
        "    ax1.set_xlabel('Epoch')\n",
        "    ax1.set_ylabel('Binary Crossentropy')\n",
        "    ax1.plot(hist['epoch'], hist['loss'], label='Train Error')\n",
        "    ax1.plot(hist['epoch'], hist['val_loss'], label = 'Val Error')\n",
        "    ax1.grid()\n",
        "    ax1.legend()\n",
        "\n",
        "    ax2.set_xlabel('Epoch')\n",
        "    ax2.set_ylabel('Accuracy')\n",
        "    ax2.plot(hist['epoch'], hist['accuracy'], label='Train Accuracy')\n",
        "    ax2.plot(hist['epoch'], hist['val_accuracy'], label = 'Val Accuracy')\n",
        "    ax2.grid()\n",
        "    ax2.legend()\n",
        "\n",
        "    plt.show()"
      ],
      "metadata": {
        "id": "aWS9R5TNtQaa"
      },
      "execution_count": null,
      "outputs": []
    },
    {
      "cell_type": "markdown",
      "source": [
        "*   <h3>Redes neuronales densas</h3>"
      ],
      "metadata": {
        "id": "xJQNNdsqVysx"
      }
    },
    {
      "cell_type": "markdown",
      "source": [
        "<font color='darkblue'> Definimos la función *create_model* con el primer modelo y que recibe como entrada el número de neuronas de las dos primeras capas densas. Lo hacemos de este modo en lugar de definirlo directamente para poder aplicarle ajuste de parámetros. Para ello empleamos el *KerasClassifier*, que recibe como entrada *create_model*, para después pasarlo a la función *RandomizedSearchCV*</n>"
      ],
      "metadata": {
        "id": "yDldbvciOwqx"
      }
    },
    {
      "cell_type": "code",
      "source": [
        "def create_model(neuron1, neuron2):\n",
        "  model = Sequential(name='Dense_Tuning_Model')\n",
        "  model.add(Dense(neuron1, input_shape=(X_train_text.shape[1], ), kernel_initializer='uniform', activation='relu', name=\"input_layer\"))\n",
        "  model.add(Dropout(0.2), name=\"first_dropout\")\n",
        "  model.add(Dense(neuron2, kernel_initializer='uniform', activation='relu', name='Dense1'))\n",
        "  model.add(Dropout(0.2), name=\"second_dropout\")\n",
        "  model.add(Dense(1, kernel_initializer='uniform', activation='sigmoid', name=\"output:layer\"))\n",
        "  model.compile(loss='binary_crossentropy', optimizer='adam', metrics=['accuracy'])\n",
        "  return model\n",
        "\n",
        "seed = 7\n",
        "tf.random.set_seed(seed)"
      ],
      "metadata": {
        "id": "VDc-rkYgivQC"
      },
      "execution_count": null,
      "outputs": []
    },
    {
      "cell_type": "code",
      "source": [
        "Dense_tuned = KerasClassifier(build_fn=create_model, epochs=100, batch_size=64, verbose=1)\n",
        "\n",
        "param_grids = {'model__neuron1': [64, 128, 256], \n",
        "               'model__neuron2': [64, 128, 256]}"
      ],
      "metadata": {
        "id": "sBL3UjD7mRaX"
      },
      "execution_count": null,
      "outputs": []
    },
    {
      "cell_type": "code",
      "source": [
        "grid = RandomizedSearchCV(estimator=Dense_tuned, param_distributions=param_grids, n_iter=5, cv=KFold(n_splits=3), verbose=10, random_state=42)\n",
        "grid_result = grid.fit(X_train_text, y_train, epochs=5)"
      ],
      "metadata": {
        "colab": {
          "base_uri": "https://localhost:8080/"
        },
        "id": "RUuLpH93jFi0",
        "outputId": "b1888d2f-a475-44a5-b53e-07b7993b5eeb"
      },
      "execution_count": null,
      "outputs": [
        {
          "output_type": "stream",
          "name": "stdout",
          "text": [
            "Fitting 3 folds for each of 5 candidates, totalling 15 fits\n",
            "[CV 1/3; 1/5] START model__neuron1=256, model__neuron2=128......................\n",
            "Epoch 1/5\n"
          ]
        },
        {
          "output_type": "stream",
          "name": "stderr",
          "text": [
            "/usr/local/lib/python3.7/dist-packages/scikeras/wrappers.py:302: UserWarning: ``build_fn`` will be renamed to ``model`` in a future release, at which point use of ``build_fn`` will raise an Error instead.\n",
            "  \"``build_fn`` will be renamed to ``model`` in a future release,\"\n"
          ]
        },
        {
          "output_type": "stream",
          "name": "stdout",
          "text": [
            "290/290 [==============================] - 1s 3ms/step - loss: 0.0895 - accuracy: 0.9629\n",
            "Epoch 2/5\n",
            "290/290 [==============================] - 1s 3ms/step - loss: 0.0112 - accuracy: 0.9962\n",
            "Epoch 3/5\n",
            "290/290 [==============================] - 1s 3ms/step - loss: 0.0084 - accuracy: 0.9971\n",
            "Epoch 4/5\n",
            "290/290 [==============================] - 1s 3ms/step - loss: 0.0078 - accuracy: 0.9968\n",
            "Epoch 5/5\n",
            "290/290 [==============================] - 1s 3ms/step - loss: 0.0048 - accuracy: 0.9981\n",
            "145/145 [==============================] - 0s 1ms/step\n",
            "[CV 1/3; 1/5] END model__neuron1=256, model__neuron2=128;, score=0.992 total time=   5.9s\n",
            "[CV 2/3; 1/5] START model__neuron1=256, model__neuron2=128......................\n",
            "Epoch 1/5\n"
          ]
        },
        {
          "output_type": "stream",
          "name": "stderr",
          "text": [
            "/usr/local/lib/python3.7/dist-packages/scikeras/wrappers.py:302: UserWarning: ``build_fn`` will be renamed to ``model`` in a future release, at which point use of ``build_fn`` will raise an Error instead.\n",
            "  \"``build_fn`` will be renamed to ``model`` in a future release,\"\n"
          ]
        },
        {
          "output_type": "stream",
          "name": "stdout",
          "text": [
            "290/290 [==============================] - 1s 3ms/step - loss: 0.0862 - accuracy: 0.9790\n",
            "Epoch 2/5\n",
            "290/290 [==============================] - 1s 3ms/step - loss: 0.0133 - accuracy: 0.9959\n",
            "Epoch 3/5\n",
            "290/290 [==============================] - 1s 3ms/step - loss: 0.0114 - accuracy: 0.9967\n",
            "Epoch 4/5\n",
            "290/290 [==============================] - 1s 3ms/step - loss: 0.0084 - accuracy: 0.9975\n",
            "Epoch 5/5\n",
            "290/290 [==============================] - 1s 3ms/step - loss: 0.0079 - accuracy: 0.9972\n",
            "145/145 [==============================] - 0s 1ms/step\n",
            "[CV 2/3; 1/5] END model__neuron1=256, model__neuron2=128;, score=0.996 total time=   5.9s\n",
            "[CV 3/3; 1/5] START model__neuron1=256, model__neuron2=128......................\n",
            "Epoch 1/5\n"
          ]
        },
        {
          "output_type": "stream",
          "name": "stderr",
          "text": [
            "/usr/local/lib/python3.7/dist-packages/scikeras/wrappers.py:302: UserWarning: ``build_fn`` will be renamed to ``model`` in a future release, at which point use of ``build_fn`` will raise an Error instead.\n",
            "  \"``build_fn`` will be renamed to ``model`` in a future release,\"\n"
          ]
        },
        {
          "output_type": "stream",
          "name": "stdout",
          "text": [
            "290/290 [==============================] - 1s 3ms/step - loss: 0.0817 - accuracy: 0.9738\n",
            "Epoch 2/5\n",
            "290/290 [==============================] - 1s 3ms/step - loss: 0.0122 - accuracy: 0.9961\n",
            "Epoch 3/5\n",
            "290/290 [==============================] - 1s 3ms/step - loss: 0.0078 - accuracy: 0.9975\n",
            "Epoch 4/5\n",
            "290/290 [==============================] - 1s 3ms/step - loss: 0.0077 - accuracy: 0.9973\n",
            "Epoch 5/5\n",
            "290/290 [==============================] - 1s 2ms/step - loss: 0.0047 - accuracy: 0.9985\n",
            "145/145 [==============================] - 0s 1ms/step\n",
            "[CV 3/3; 1/5] END model__neuron1=256, model__neuron2=128;, score=0.986 total time=   6.0s\n",
            "[CV 1/3; 2/5] START model__neuron1=64, model__neuron2=128.......................\n",
            "Epoch 1/5\n"
          ]
        },
        {
          "output_type": "stream",
          "name": "stderr",
          "text": [
            "/usr/local/lib/python3.7/dist-packages/scikeras/wrappers.py:302: UserWarning: ``build_fn`` will be renamed to ``model`` in a future release, at which point use of ``build_fn`` will raise an Error instead.\n",
            "  \"``build_fn`` will be renamed to ``model`` in a future release,\"\n"
          ]
        },
        {
          "output_type": "stream",
          "name": "stdout",
          "text": [
            "290/290 [==============================] - 1s 2ms/step - loss: 0.1285 - accuracy: 0.9508\n",
            "Epoch 2/5\n",
            "290/290 [==============================] - 1s 2ms/step - loss: 0.0148 - accuracy: 0.9953\n",
            "Epoch 3/5\n",
            "290/290 [==============================] - 1s 2ms/step - loss: 0.0110 - accuracy: 0.9958\n",
            "Epoch 4/5\n",
            "290/290 [==============================] - 1s 2ms/step - loss: 0.0088 - accuracy: 0.9967\n",
            "Epoch 5/5\n",
            "290/290 [==============================] - 1s 2ms/step - loss: 0.0066 - accuracy: 0.9978\n",
            "145/145 [==============================] - 0s 902us/step\n",
            "[CV 1/3; 2/5] END model__neuron1=64, model__neuron2=128;, score=0.994 total time=   3.5s\n",
            "[CV 2/3; 2/5] START model__neuron1=64, model__neuron2=128.......................\n",
            "Epoch 1/5\n"
          ]
        },
        {
          "output_type": "stream",
          "name": "stderr",
          "text": [
            "/usr/local/lib/python3.7/dist-packages/scikeras/wrappers.py:302: UserWarning: ``build_fn`` will be renamed to ``model`` in a future release, at which point use of ``build_fn`` will raise an Error instead.\n",
            "  \"``build_fn`` will be renamed to ``model`` in a future release,\"\n"
          ]
        },
        {
          "output_type": "stream",
          "name": "stdout",
          "text": [
            "290/290 [==============================] - 66s 2ms/step - loss: 0.1219 - accuracy: 0.9721\n",
            "Epoch 2/5\n",
            "290/290 [==============================] - 1s 2ms/step - loss: 0.0154 - accuracy: 0.9957\n",
            "Epoch 3/5\n",
            "290/290 [==============================] - 1s 2ms/step - loss: 0.0136 - accuracy: 0.9958\n",
            "Epoch 4/5\n",
            "290/290 [==============================] - 1s 2ms/step - loss: 0.0100 - accuracy: 0.9969\n",
            "Epoch 5/5\n",
            "290/290 [==============================] - 0s 2ms/step - loss: 0.0080 - accuracy: 0.9976\n",
            "145/145 [==============================] - 0s 962us/step\n",
            "[CV 2/3; 2/5] END model__neuron1=64, model__neuron2=128;, score=0.996 total time= 1.2min\n",
            "[CV 3/3; 2/5] START model__neuron1=64, model__neuron2=128.......................\n",
            "Epoch 1/5\n"
          ]
        },
        {
          "output_type": "stream",
          "name": "stderr",
          "text": [
            "/usr/local/lib/python3.7/dist-packages/scikeras/wrappers.py:302: UserWarning: ``build_fn`` will be renamed to ``model`` in a future release, at which point use of ``build_fn`` will raise an Error instead.\n",
            "  \"``build_fn`` will be renamed to ``model`` in a future release,\"\n"
          ]
        },
        {
          "output_type": "stream",
          "name": "stdout",
          "text": [
            "290/290 [==============================] - 1s 2ms/step - loss: 0.1191 - accuracy: 0.9579\n",
            "Epoch 2/5\n",
            "290/290 [==============================] - 1s 2ms/step - loss: 0.0148 - accuracy: 0.9955\n",
            "Epoch 3/5\n",
            "290/290 [==============================] - 1s 2ms/step - loss: 0.0098 - accuracy: 0.9971\n",
            "Epoch 4/5\n",
            "290/290 [==============================] - 1s 2ms/step - loss: 0.0092 - accuracy: 0.9972\n",
            "Epoch 5/5\n",
            "290/290 [==============================] - 1s 2ms/step - loss: 0.0075 - accuracy: 0.9971\n",
            "145/145 [==============================] - 0s 897us/step\n",
            "[CV 3/3; 2/5] END model__neuron1=64, model__neuron2=128;, score=0.988 total time=   3.5s\n",
            "[CV 1/3; 3/5] START model__neuron1=128, model__neuron2=256......................\n",
            "Epoch 1/5\n"
          ]
        },
        {
          "output_type": "stream",
          "name": "stderr",
          "text": [
            "/usr/local/lib/python3.7/dist-packages/scikeras/wrappers.py:302: UserWarning: ``build_fn`` will be renamed to ``model`` in a future release, at which point use of ``build_fn`` will raise an Error instead.\n",
            "  \"``build_fn`` will be renamed to ``model`` in a future release,\"\n"
          ]
        },
        {
          "output_type": "stream",
          "name": "stdout",
          "text": [
            "290/290 [==============================] - 1s 3ms/step - loss: 0.0898 - accuracy: 0.9633\n",
            "Epoch 2/5\n",
            "290/290 [==============================] - 1s 3ms/step - loss: 0.0133 - accuracy: 0.9951\n",
            "Epoch 3/5\n",
            "290/290 [==============================] - 1s 3ms/step - loss: 0.0086 - accuracy: 0.9971\n",
            "Epoch 4/5\n",
            "290/290 [==============================] - 1s 3ms/step - loss: 0.0062 - accuracy: 0.9977\n",
            "Epoch 5/5\n",
            "290/290 [==============================] - 1s 2ms/step - loss: 0.0058 - accuracy: 0.9980\n",
            "145/145 [==============================] - 0s 1ms/step\n",
            "[CV 1/3; 3/5] END model__neuron1=128, model__neuron2=256;, score=0.994 total time=   4.7s\n",
            "[CV 2/3; 3/5] START model__neuron1=128, model__neuron2=256......................\n",
            "Epoch 1/5\n"
          ]
        },
        {
          "output_type": "stream",
          "name": "stderr",
          "text": [
            "/usr/local/lib/python3.7/dist-packages/scikeras/wrappers.py:302: UserWarning: ``build_fn`` will be renamed to ``model`` in a future release, at which point use of ``build_fn`` will raise an Error instead.\n",
            "  \"``build_fn`` will be renamed to ``model`` in a future release,\"\n"
          ]
        },
        {
          "output_type": "stream",
          "name": "stdout",
          "text": [
            "290/290 [==============================] - 1s 3ms/step - loss: 0.0883 - accuracy: 0.9770\n",
            "Epoch 2/5\n",
            "290/290 [==============================] - 1s 3ms/step - loss: 0.0147 - accuracy: 0.9953\n",
            "Epoch 3/5\n",
            "290/290 [==============================] - 1s 2ms/step - loss: 0.0117 - accuracy: 0.9965\n",
            "Epoch 4/5\n",
            "290/290 [==============================] - 1s 2ms/step - loss: 0.0091 - accuracy: 0.9976\n",
            "Epoch 5/5\n",
            "290/290 [==============================] - 1s 3ms/step - loss: 0.0081 - accuracy: 0.9973\n",
            "145/145 [==============================] - 0s 1ms/step\n",
            "[CV 2/3; 3/5] END model__neuron1=128, model__neuron2=256;, score=0.996 total time=   4.5s\n",
            "[CV 3/3; 3/5] START model__neuron1=128, model__neuron2=256......................\n",
            "Epoch 1/5\n"
          ]
        },
        {
          "output_type": "stream",
          "name": "stderr",
          "text": [
            "/usr/local/lib/python3.7/dist-packages/scikeras/wrappers.py:302: UserWarning: ``build_fn`` will be renamed to ``model`` in a future release, at which point use of ``build_fn`` will raise an Error instead.\n",
            "  \"``build_fn`` will be renamed to ``model`` in a future release,\"\n"
          ]
        },
        {
          "output_type": "stream",
          "name": "stdout",
          "text": [
            "290/290 [==============================] - 1s 2ms/step - loss: 0.0837 - accuracy: 0.9700\n",
            "Epoch 2/5\n",
            "290/290 [==============================] - 1s 3ms/step - loss: 0.0115 - accuracy: 0.9967\n",
            "Epoch 3/5\n",
            "290/290 [==============================] - 1s 3ms/step - loss: 0.0088 - accuracy: 0.9971\n",
            "Epoch 4/5\n",
            "290/290 [==============================] - 1s 2ms/step - loss: 0.0078 - accuracy: 0.9973\n",
            "Epoch 5/5\n",
            "290/290 [==============================] - 1s 3ms/step - loss: 0.0053 - accuracy: 0.9983\n",
            "145/145 [==============================] - 0s 1ms/step\n",
            "[CV 3/3; 3/5] END model__neuron1=128, model__neuron2=256;, score=0.986 total time=   4.8s\n",
            "[CV 1/3; 4/5] START model__neuron1=64, model__neuron2=64........................\n",
            "Epoch 1/5\n"
          ]
        },
        {
          "output_type": "stream",
          "name": "stderr",
          "text": [
            "/usr/local/lib/python3.7/dist-packages/scikeras/wrappers.py:302: UserWarning: ``build_fn`` will be renamed to ``model`` in a future release, at which point use of ``build_fn`` will raise an Error instead.\n",
            "  \"``build_fn`` will be renamed to ``model`` in a future release,\"\n"
          ]
        },
        {
          "output_type": "stream",
          "name": "stdout",
          "text": [
            "290/290 [==============================] - 1s 2ms/step - loss: 0.1470 - accuracy: 0.9475\n",
            "Epoch 2/5\n",
            "290/290 [==============================] - 1s 2ms/step - loss: 0.0151 - accuracy: 0.9950\n",
            "Epoch 3/5\n",
            "290/290 [==============================] - 1s 2ms/step - loss: 0.0107 - accuracy: 0.9965\n",
            "Epoch 4/5\n",
            "290/290 [==============================] - 1s 2ms/step - loss: 0.0091 - accuracy: 0.9968\n",
            "Epoch 5/5\n",
            "290/290 [==============================] - 1s 2ms/step - loss: 0.0073 - accuracy: 0.9980\n",
            "145/145 [==============================] - 0s 1ms/step\n",
            "[CV 1/3; 4/5] END model__neuron1=64, model__neuron2=64;, score=0.993 total time=   5.8s\n",
            "[CV 2/3; 4/5] START model__neuron1=64, model__neuron2=64........................\n",
            "Epoch 1/5\n"
          ]
        },
        {
          "output_type": "stream",
          "name": "stderr",
          "text": [
            "/usr/local/lib/python3.7/dist-packages/scikeras/wrappers.py:302: UserWarning: ``build_fn`` will be renamed to ``model`` in a future release, at which point use of ``build_fn`` will raise an Error instead.\n",
            "  \"``build_fn`` will be renamed to ``model`` in a future release,\"\n"
          ]
        },
        {
          "output_type": "stream",
          "name": "stdout",
          "text": [
            "290/290 [==============================] - 1s 2ms/step - loss: 0.1472 - accuracy: 0.9673\n",
            "Epoch 2/5\n",
            "290/290 [==============================] - 0s 2ms/step - loss: 0.0177 - accuracy: 0.9944\n",
            "Epoch 3/5\n",
            "290/290 [==============================] - 1s 2ms/step - loss: 0.0142 - accuracy: 0.9960\n",
            "Epoch 4/5\n",
            "290/290 [==============================] - 0s 2ms/step - loss: 0.0118 - accuracy: 0.9966\n",
            "Epoch 5/5\n",
            "290/290 [==============================] - 0s 2ms/step - loss: 0.0100 - accuracy: 0.9967\n",
            "145/145 [==============================] - 0s 987us/step\n",
            "[CV 2/3; 4/5] END model__neuron1=64, model__neuron2=64;, score=0.996 total time=   3.4s\n",
            "[CV 3/3; 4/5] START model__neuron1=64, model__neuron2=64........................\n",
            "Epoch 1/5\n"
          ]
        },
        {
          "output_type": "stream",
          "name": "stderr",
          "text": [
            "/usr/local/lib/python3.7/dist-packages/scikeras/wrappers.py:302: UserWarning: ``build_fn`` will be renamed to ``model`` in a future release, at which point use of ``build_fn`` will raise an Error instead.\n",
            "  \"``build_fn`` will be renamed to ``model`` in a future release,\"\n"
          ]
        },
        {
          "output_type": "stream",
          "name": "stdout",
          "text": [
            "290/290 [==============================] - 1s 2ms/step - loss: 0.1362 - accuracy: 0.9563\n",
            "Epoch 2/5\n",
            "290/290 [==============================] - 1s 2ms/step - loss: 0.0143 - accuracy: 0.9954\n",
            "Epoch 3/5\n",
            "290/290 [==============================] - 1s 2ms/step - loss: 0.0107 - accuracy: 0.9968\n",
            "Epoch 4/5\n",
            "290/290 [==============================] - 0s 2ms/step - loss: 0.0096 - accuracy: 0.9971\n",
            "Epoch 5/5\n",
            "290/290 [==============================] - 1s 2ms/step - loss: 0.0084 - accuracy: 0.9973\n",
            "145/145 [==============================] - 0s 2ms/step\n",
            "[CV 3/3; 4/5] END model__neuron1=64, model__neuron2=64;, score=0.990 total time=   3.6s\n",
            "[CV 1/3; 5/5] START model__neuron1=256, model__neuron2=256......................\n",
            "Epoch 1/5\n"
          ]
        },
        {
          "output_type": "stream",
          "name": "stderr",
          "text": [
            "/usr/local/lib/python3.7/dist-packages/scikeras/wrappers.py:302: UserWarning: ``build_fn`` will be renamed to ``model`` in a future release, at which point use of ``build_fn`` will raise an Error instead.\n",
            "  \"``build_fn`` will be renamed to ``model`` in a future release,\"\n"
          ]
        },
        {
          "output_type": "stream",
          "name": "stdout",
          "text": [
            "290/290 [==============================] - 2s 4ms/step - loss: 0.0727 - accuracy: 0.9702\n",
            "Epoch 2/5\n",
            "290/290 [==============================] - 1s 4ms/step - loss: 0.0106 - accuracy: 0.9961\n",
            "Epoch 3/5\n",
            "290/290 [==============================] - 1s 4ms/step - loss: 0.0093 - accuracy: 0.9967\n",
            "Epoch 4/5\n",
            "290/290 [==============================] - 1s 4ms/step - loss: 0.0065 - accuracy: 0.9978\n",
            "Epoch 5/5\n",
            "290/290 [==============================] - 1s 4ms/step - loss: 0.0044 - accuracy: 0.9986\n",
            "145/145 [==============================] - 0s 1ms/step\n",
            "[CV 1/3; 5/5] END model__neuron1=256, model__neuron2=256;, score=0.993 total time=  11.2s\n",
            "[CV 2/3; 5/5] START model__neuron1=256, model__neuron2=256......................\n",
            "Epoch 1/5\n"
          ]
        },
        {
          "output_type": "stream",
          "name": "stderr",
          "text": [
            "/usr/local/lib/python3.7/dist-packages/scikeras/wrappers.py:302: UserWarning: ``build_fn`` will be renamed to ``model`` in a future release, at which point use of ``build_fn`` will raise an Error instead.\n",
            "  \"``build_fn`` will be renamed to ``model`` in a future release,\"\n"
          ]
        },
        {
          "output_type": "stream",
          "name": "stdout",
          "text": [
            "290/290 [==============================] - 2s 4ms/step - loss: 0.0733 - accuracy: 0.9813\n",
            "Epoch 2/5\n",
            "290/290 [==============================] - 1s 4ms/step - loss: 0.0141 - accuracy: 0.9956\n",
            "Epoch 3/5\n",
            "290/290 [==============================] - 1s 3ms/step - loss: 0.0117 - accuracy: 0.9963\n",
            "Epoch 4/5\n",
            "290/290 [==============================] - 1s 4ms/step - loss: 0.0084 - accuracy: 0.9976\n",
            "Epoch 5/5\n",
            "290/290 [==============================] - 1s 4ms/step - loss: 0.0067 - accuracy: 0.9976\n",
            "145/145 [==============================] - 0s 1ms/step\n",
            "[CV 2/3; 5/5] END model__neuron1=256, model__neuron2=256;, score=0.996 total time=  11.1s\n",
            "[CV 3/3; 5/5] START model__neuron1=256, model__neuron2=256......................\n",
            "Epoch 1/5\n"
          ]
        },
        {
          "output_type": "stream",
          "name": "stderr",
          "text": [
            "/usr/local/lib/python3.7/dist-packages/scikeras/wrappers.py:302: UserWarning: ``build_fn`` will be renamed to ``model`` in a future release, at which point use of ``build_fn`` will raise an Error instead.\n",
            "  \"``build_fn`` will be renamed to ``model`` in a future release,\"\n"
          ]
        },
        {
          "output_type": "stream",
          "name": "stdout",
          "text": [
            "290/290 [==============================] - 2s 4ms/step - loss: 0.0701 - accuracy: 0.9754\n",
            "Epoch 2/5\n",
            "290/290 [==============================] - 1s 4ms/step - loss: 0.0122 - accuracy: 0.9959\n",
            "Epoch 3/5\n",
            "290/290 [==============================] - 1s 4ms/step - loss: 0.0081 - accuracy: 0.9973\n",
            "Epoch 4/5\n",
            "290/290 [==============================] - 1s 4ms/step - loss: 0.0070 - accuracy: 0.9975\n",
            "Epoch 5/5\n",
            "290/290 [==============================] - 1s 4ms/step - loss: 0.0054 - accuracy: 0.9980\n",
            "145/145 [==============================] - 0s 1ms/step\n",
            "[CV 3/3; 5/5] END model__neuron1=256, model__neuron2=256;, score=0.989 total time=  11.0s\n",
            "Epoch 1/5\n"
          ]
        },
        {
          "output_type": "stream",
          "name": "stderr",
          "text": [
            "/usr/local/lib/python3.7/dist-packages/scikeras/wrappers.py:302: UserWarning: ``build_fn`` will be renamed to ``model`` in a future release, at which point use of ``build_fn`` will raise an Error instead.\n",
            "  \"``build_fn`` will be renamed to ``model`` in a future release,\"\n"
          ]
        },
        {
          "output_type": "stream",
          "name": "stdout",
          "text": [
            "435/435 [==============================] - 1s 2ms/step - loss: 0.1026 - accuracy: 0.9762\n",
            "Epoch 2/5\n",
            "435/435 [==============================] - 1s 2ms/step - loss: 0.0147 - accuracy: 0.9952\n",
            "Epoch 3/5\n",
            "435/435 [==============================] - 1s 2ms/step - loss: 0.0122 - accuracy: 0.9963\n",
            "Epoch 4/5\n",
            "435/435 [==============================] - 1s 2ms/step - loss: 0.0101 - accuracy: 0.9967\n",
            "Epoch 5/5\n",
            "435/435 [==============================] - 1s 2ms/step - loss: 0.0094 - accuracy: 0.9970\n"
          ]
        }
      ]
    },
    {
      "cell_type": "markdown",
      "source": [
        "<font color='darkblue'> Ploteamos los resultados de las cinco combinaciones probadas:</n>"
      ],
      "metadata": {
        "id": "aNZiX5MWP5c5"
      }
    },
    {
      "cell_type": "code",
      "source": [
        "print(\"Best: %f using %s\" % (grid_result.best_score_, grid_result.best_params_))\n",
        "means = grid_result.cv_results_['mean_test_score']\n",
        "stds = grid_result.cv_results_['std_test_score']\n",
        "params = grid_result.cv_results_['params']\n",
        "for mean, stdev, param in zip(means, stds, params):\n",
        "    print(\"%f (%f) with: %r\" % (mean, stdev, param))"
      ],
      "metadata": {
        "colab": {
          "base_uri": "https://localhost:8080/"
        },
        "id": "ZNAaxkdvrfmt",
        "outputId": "4337742f-a39d-49fa-8983-32ec0fd52e2e"
      },
      "execution_count": null,
      "outputs": [
        {
          "output_type": "stream",
          "name": "stdout",
          "text": [
            "Best: 0.993208 using {'model__neuron2': 64, 'model__neuron1': 64}\n",
            "0.991519 (0.003994) with: {'model__neuron2': 128, 'model__neuron1': 256}\n",
            "0.992992 (0.003299) with: {'model__neuron2': 128, 'model__neuron1': 64}\n",
            "0.992130 (0.004229) with: {'model__neuron2': 256, 'model__neuron1': 128}\n",
            "0.993208 (0.002294) with: {'model__neuron2': 64, 'model__neuron1': 64}\n",
            "0.992812 (0.002649) with: {'model__neuron2': 256, 'model__neuron1': 256}\n"
          ]
        }
      ]
    },
    {
      "cell_type": "code",
      "source": [
        "print(Dense_tuned.build_fn(neuron1=64, neuron2=64).summary())  "
      ],
      "metadata": {
        "colab": {
          "base_uri": "https://localhost:8080/"
        },
        "id": "XH1BBfGHot7t",
        "outputId": "14a4a717-d8cc-48af-b90e-e4797cac5109"
      },
      "execution_count": null,
      "outputs": [
        {
          "output_type": "stream",
          "name": "stdout",
          "text": [
            "Model: \"sequential_31\"\n",
            "_________________________________________________________________\n",
            " Layer (type)                Output Shape              Param #   \n",
            "=================================================================\n",
            " dense_105 (Dense)           (None, 64)                7424      \n",
            "                                                                 \n",
            " dropout_62 (Dropout)        (None, 64)                0         \n",
            "                                                                 \n",
            " dense_106 (Dense)           (None, 64)                4160      \n",
            "                                                                 \n",
            " dropout_63 (Dropout)        (None, 64)                0         \n",
            "                                                                 \n",
            " dense_107 (Dense)           (None, 1)                 65        \n",
            "                                                                 \n",
            "=================================================================\n",
            "Total params: 11,649\n",
            "Trainable params: 11,649\n",
            "Non-trainable params: 0\n",
            "_________________________________________________________________\n",
            "None\n"
          ]
        }
      ]
    },
    {
      "cell_type": "markdown",
      "source": [
        "<font color='darkblue'> Creamos ahora el modelo con el número de neuronas que ha alcanzado la mayor precisión. Esta precisión entre las diferentes combinaciones es de tercer o cuarto orden, por lo que todos han funcionado prácticamente del mismo modo, alcanzando una precisión casi perfecta en el *train*.</n>"
      ],
      "metadata": {
        "id": "sQ_Xze_zQMPR"
      }
    },
    {
      "cell_type": "code",
      "source": [
        "Dense_tuned = Sequential(name='Dense_Tuning_Model')\n",
        "Dense_tuned.add(Dense(64, input_shape=(X_train_text.shape[1], ), kernel_initializer='uniform', activation='relu', name=\"input_layer\"))\n",
        "Dense_tuned.add(Dropout(0.2, name=\"first_dropout\"))\n",
        "Dense_tuned.add(Dense(64, kernel_initializer='uniform', activation='relu', name='Dense1'))\n",
        "Dense_tuned.add(Dropout(0.2, name=\"second_dropout\"))\n",
        "Dense_tuned.add(Dense(1, kernel_initializer='uniform', activation='sigmoid', name=\"output_layer\"))\n",
        "Dense_tuned.compile(loss='binary_crossentropy', optimizer='adam', metrics=['accuracy'])\n",
        "\n",
        "es_callback = keras.callbacks.EarlyStopping(monitor='val_loss',\n",
        "                                            patience=5,\n",
        "                                            verbose=1)\n",
        "\n",
        "history = Dense_tuned.fit(X_train_text,\n",
        "                    y_train,\n",
        "                    validation_split=0.25,\n",
        "                    epochs=20,\n",
        "                    batch_size=256,\n",
        "                    callbacks=[es_callback])"
      ],
      "metadata": {
        "colab": {
          "base_uri": "https://localhost:8080/"
        },
        "id": "x1YmMTDZsPcu",
        "outputId": "898c748f-6eca-471e-8967-c6f013d1146d"
      },
      "execution_count": null,
      "outputs": [
        {
          "output_type": "stream",
          "name": "stdout",
          "text": [
            "Epoch 1/20\n",
            "82/82 [==============================] - 1s 6ms/step - loss: 0.3954 - accuracy: 0.8948 - val_loss: 0.1554 - val_accuracy: 0.9416\n",
            "Epoch 2/20\n",
            "82/82 [==============================] - 0s 4ms/step - loss: 0.0483 - accuracy: 0.9873 - val_loss: 0.0429 - val_accuracy: 0.9845\n",
            "Epoch 3/20\n",
            "82/82 [==============================] - 0s 3ms/step - loss: 0.0226 - accuracy: 0.9938 - val_loss: 0.0317 - val_accuracy: 0.9878\n",
            "Epoch 4/20\n",
            "82/82 [==============================] - 0s 3ms/step - loss: 0.0158 - accuracy: 0.9958 - val_loss: 0.0262 - val_accuracy: 0.9911\n",
            "Epoch 5/20\n",
            "82/82 [==============================] - 0s 4ms/step - loss: 0.0136 - accuracy: 0.9959 - val_loss: 0.0230 - val_accuracy: 0.9915\n",
            "Epoch 6/20\n",
            "82/82 [==============================] - 0s 4ms/step - loss: 0.0112 - accuracy: 0.9967 - val_loss: 0.0282 - val_accuracy: 0.9908\n",
            "Epoch 7/20\n",
            "82/82 [==============================] - 0s 4ms/step - loss: 0.0104 - accuracy: 0.9969 - val_loss: 0.0385 - val_accuracy: 0.9859\n",
            "Epoch 8/20\n",
            "82/82 [==============================] - 0s 4ms/step - loss: 0.0099 - accuracy: 0.9969 - val_loss: 0.0184 - val_accuracy: 0.9934\n",
            "Epoch 9/20\n",
            "82/82 [==============================] - 0s 4ms/step - loss: 0.0086 - accuracy: 0.9970 - val_loss: 0.0173 - val_accuracy: 0.9948\n",
            "Epoch 10/20\n",
            "82/82 [==============================] - 0s 4ms/step - loss: 0.0086 - accuracy: 0.9975 - val_loss: 0.0276 - val_accuracy: 0.9909\n",
            "Epoch 11/20\n",
            "82/82 [==============================] - 0s 4ms/step - loss: 0.0075 - accuracy: 0.9975 - val_loss: 0.0196 - val_accuracy: 0.9934\n",
            "Epoch 12/20\n",
            "82/82 [==============================] - 0s 4ms/step - loss: 0.0073 - accuracy: 0.9976 - val_loss: 0.0264 - val_accuracy: 0.9917\n",
            "Epoch 13/20\n",
            "82/82 [==============================] - 0s 4ms/step - loss: 0.0059 - accuracy: 0.9982 - val_loss: 0.0254 - val_accuracy: 0.9912\n",
            "Epoch 14/20\n",
            "82/82 [==============================] - 0s 4ms/step - loss: 0.0061 - accuracy: 0.9982 - val_loss: 0.0235 - val_accuracy: 0.9917\n",
            "Epoch 14: early stopping\n"
          ]
        }
      ]
    },
    {
      "cell_type": "code",
      "source": [
        "hist = pd.DataFrame(history.history)\n",
        "hist['epoch'] = history.epoch\n",
        "show_loss_accuracy_evolution(hist)"
      ],
      "metadata": {
        "colab": {
          "base_uri": "https://localhost:8080/",
          "height": 388
        },
        "id": "o6Uftlrf6xt_",
        "outputId": "10133250-cc72-41e6-dd53-9600f2128367"
      },
      "execution_count": null,
      "outputs": [
        {
          "output_type": "display_data",
          "data": {
            "text/plain": [
              "<Figure size 1152x432 with 2 Axes>"
            ],
            "image/png": "[encoded data removed]"
          },
          "metadata": {
            "needs_background": "light"
          }
        }
      ]
    },
    {
      "cell_type": "markdown",
      "source": [
        "<font color='darkblue'> Aplicamos el método *.evaluate* sobre los datos del *test*. Este método predice las clases del array *'X_test_text'* y compara los resultados con el array *'y_test'*, devolviendo las métricas.</n>"
      ],
      "metadata": {
        "id": "nIt0xTIuRaQ8"
      }
    },
    {
      "cell_type": "code",
      "source": [
        "results = Dense_tuned.evaluate(X_test_text, y_test, verbose=0)\n",
        "print('Test Loss: {}'.format(results[0]))\n",
        "print('Test Accuracy: {}'.format(results[1]))"
      ],
      "metadata": {
        "colab": {
          "base_uri": "https://localhost:8080/"
        },
        "id": "8NT_iW1Jtd5p",
        "outputId": "4ae837bc-6c73-42c2-b8fc-eeef231a19ec"
      },
      "execution_count": null,
      "outputs": [
        {
          "output_type": "stream",
          "name": "stdout",
          "text": [
            "Test Loss: 0.08441241085529327\n",
            "Test Accuracy: 0.973993718624115\n"
          ]
        }
      ]
    },
    {
      "cell_type": "markdown",
      "source": [
        "<font color='darkblue'> A pesar de que apenas hay *overfitting*, vamos a aplicar regularizadores L2 para estudiar cómo afectan al modelo.</n>"
      ],
      "metadata": {
        "id": "XKMV26EcSYsj"
      }
    },
    {
      "cell_type": "code",
      "source": [
        "reg = regularizers.l2(5e-5)\n",
        "\n",
        "\n",
        "Dense_tuned_2 = Sequential(name='Dense_Tuning_Model')\n",
        "Dense_tuned_2.add(Dense(64, input_shape=(X_train_text.shape[1], ), kernel_initializer='uniform', activation='relu', name=\"input_layer\", kernel_regularizer=reg))\n",
        "Dense_tuned_2.add(Dropout(0.2, name=\"first_dropout\"))\n",
        "Dense_tuned_2.add(Dense(64, kernel_initializer='uniform', activation='relu', name='Dense1', kernel_regularizer=reg))\n",
        "Dense_tuned_2.add(Dropout(0.2, name=\"second_dropout\"))\n",
        "Dense_tuned_2.add(Dense(1, kernel_initializer='uniform', activation='sigmoid', name=\"output_layer\"))\n",
        "Dense_tuned_2.compile(loss='binary_crossentropy', optimizer='adam', metrics=['accuracy'])\n",
        "\n",
        "es_callback = keras.callbacks.EarlyStopping(monitor='val_loss',\n",
        "                                            patience=5,\n",
        "                                            verbose=1)\n",
        "\n",
        "history = Dense_tuned_2.fit(X_train_text,\n",
        "                    y_train,\n",
        "                    validation_split=0.25,\n",
        "                    epochs=20,\n",
        "                    batch_size=256,\n",
        "                    callbacks=[es_callback])"
      ],
      "metadata": {
        "colab": {
          "base_uri": "https://localhost:8080/"
        },
        "id": "JYEDnXA77Hvx",
        "outputId": "82b04733-b2cd-4ced-ff7e-8033575a660f"
      },
      "execution_count": null,
      "outputs": [
        {
          "output_type": "stream",
          "name": "stdout",
          "text": [
            "Epoch 1/20\n",
            "82/82 [==============================] - 1s 4ms/step - loss: 0.4004 - accuracy: 0.8636 - val_loss: 0.1815 - val_accuracy: 0.9368\n",
            "Epoch 2/20\n",
            "82/82 [==============================] - 0s 2ms/step - loss: 0.0524 - accuracy: 0.9866 - val_loss: 0.0468 - val_accuracy: 0.9855\n",
            "Epoch 3/20\n",
            "82/82 [==============================] - 0s 3ms/step - loss: 0.0244 - accuracy: 0.9947 - val_loss: 0.0348 - val_accuracy: 0.9889\n",
            "Epoch 4/20\n",
            "82/82 [==============================] - 0s 3ms/step - loss: 0.0192 - accuracy: 0.9952 - val_loss: 0.0241 - val_accuracy: 0.9934\n",
            "Epoch 5/20\n",
            "82/82 [==============================] - 0s 3ms/step - loss: 0.0164 - accuracy: 0.9965 - val_loss: 0.0271 - val_accuracy: 0.9918\n",
            "Epoch 6/20\n",
            "82/82 [==============================] - 0s 2ms/step - loss: 0.0155 - accuracy: 0.9965 - val_loss: 0.0269 - val_accuracy: 0.9917\n",
            "Epoch 7/20\n",
            "82/82 [==============================] - 0s 3ms/step - loss: 0.0151 - accuracy: 0.9969 - val_loss: 0.0262 - val_accuracy: 0.9922\n",
            "Epoch 8/20\n",
            "82/82 [==============================] - 0s 3ms/step - loss: 0.0144 - accuracy: 0.9967 - val_loss: 0.0285 - val_accuracy: 0.9915\n",
            "Epoch 9/20\n",
            "82/82 [==============================] - 0s 3ms/step - loss: 0.0129 - accuracy: 0.9974 - val_loss: 0.0235 - val_accuracy: 0.9935\n",
            "Epoch 10/20\n",
            "82/82 [==============================] - 0s 3ms/step - loss: 0.0127 - accuracy: 0.9972 - val_loss: 0.0217 - val_accuracy: 0.9938\n",
            "Epoch 11/20\n",
            "82/82 [==============================] - 0s 2ms/step - loss: 0.0121 - accuracy: 0.9974 - val_loss: 0.0275 - val_accuracy: 0.9922\n",
            "Epoch 12/20\n",
            "82/82 [==============================] - 0s 3ms/step - loss: 0.0113 - accuracy: 0.9977 - val_loss: 0.0209 - val_accuracy: 0.9948\n",
            "Epoch 13/20\n",
            "82/82 [==============================] - 0s 2ms/step - loss: 0.0123 - accuracy: 0.9972 - val_loss: 0.0267 - val_accuracy: 0.9918\n",
            "Epoch 14/20\n",
            "82/82 [==============================] - 0s 2ms/step - loss: 0.0109 - accuracy: 0.9980 - val_loss: 0.0294 - val_accuracy: 0.9904\n",
            "Epoch 15/20\n",
            "82/82 [==============================] - 0s 3ms/step - loss: 0.0105 - accuracy: 0.9982 - val_loss: 0.0184 - val_accuracy: 0.9950\n",
            "Epoch 16/20\n",
            "82/82 [==============================] - 0s 3ms/step - loss: 0.0103 - accuracy: 0.9983 - val_loss: 0.0296 - val_accuracy: 0.9909\n",
            "Epoch 17/20\n",
            "82/82 [==============================] - 0s 3ms/step - loss: 0.0100 - accuracy: 0.9983 - val_loss: 0.0248 - val_accuracy: 0.9932\n",
            "Epoch 18/20\n",
            "82/82 [==============================] - 0s 3ms/step - loss: 0.0098 - accuracy: 0.9981 - val_loss: 0.0277 - val_accuracy: 0.9918\n",
            "Epoch 19/20\n",
            "82/82 [==============================] - 0s 2ms/step - loss: 0.0093 - accuracy: 0.9983 - val_loss: 0.0216 - val_accuracy: 0.9943\n",
            "Epoch 20/20\n",
            "82/82 [==============================] - 0s 3ms/step - loss: 0.0093 - accuracy: 0.9984 - val_loss: 0.0240 - val_accuracy: 0.9934\n",
            "Epoch 20: early stopping\n"
          ]
        }
      ]
    },
    {
      "cell_type": "code",
      "source": [
        "print(Dense_tuned_2.summary())"
      ],
      "metadata": {
        "colab": {
          "base_uri": "https://localhost:8080/"
        },
        "id": "fw8JSJVi08gG",
        "outputId": "c38625b9-452b-4665-a71b-e54efbf81c1a"
      },
      "execution_count": null,
      "outputs": [
        {
          "output_type": "stream",
          "name": "stdout",
          "text": [
            "Model: \"Dense_Tuning_Model\"\n",
            "_________________________________________________________________\n",
            " Layer (type)                Output Shape              Param #   \n",
            "=================================================================\n",
            " input_layer (Dense)         (None, 64)                7424      \n",
            "                                                                 \n",
            " first_dropout (Dropout)     (None, 64)                0         \n",
            "                                                                 \n",
            " Dense1 (Dense)              (None, 64)                4160      \n",
            "                                                                 \n",
            " second_dropout (Dropout)    (None, 64)                0         \n",
            "                                                                 \n",
            " output_layer (Dense)        (None, 1)                 65        \n",
            "                                                                 \n",
            "=================================================================\n",
            "Total params: 11,649\n",
            "Trainable params: 11,649\n",
            "Non-trainable params: 0\n",
            "_________________________________________________________________\n",
            "None\n"
          ]
        }
      ]
    },
    {
      "cell_type": "code",
      "source": [
        "hist = pd.DataFrame(history.history)\n",
        "hist['epoch'] = history.epoch\n",
        "show_loss_accuracy_evolution(hist)"
      ],
      "metadata": {
        "colab": {
          "base_uri": "https://localhost:8080/",
          "height": 389
        },
        "id": "Zuc-Qodw8ONt",
        "outputId": "34240a57-340c-4c91-a1ee-6f639dc68fd9"
      },
      "execution_count": null,
      "outputs": [
        {
          "output_type": "display_data",
          "data": {
            "text/plain": [
              "<Figure size 1152x432 with 2 Axes>"
            ],
            "image/png": "[encoded data removed]"
          },
          "metadata": {
            "needs_background": "light"
          }
        }
      ]
    },
    {
      "cell_type": "code",
      "source": [
        "results = Dense_tuned_2.evaluate(X_test_text, y_test, verbose=0)\n",
        "print('Test Loss: {}'.format(results[0]))\n",
        "print('Test Accuracy: {}'.format(results[1]))"
      ],
      "metadata": {
        "colab": {
          "base_uri": "https://localhost:8080/"
        },
        "id": "m-kfafYb4ShT",
        "outputId": "18a18f7b-7580-48bb-9d83-a68c8639c84e"
      },
      "execution_count": null,
      "outputs": [
        {
          "output_type": "stream",
          "name": "stdout",
          "text": [
            "Test Loss: 0.07248186320066452\n",
            "Test Accuracy: 0.9797438383102417\n"
          ]
        }
      ]
    },
    {
      "cell_type": "markdown",
      "source": [
        "<font color='darkblue'> Este modelo ha mejorado algo más los resultados, por lo que nos quedamos con él para hacer predicciones:</n>"
      ],
      "metadata": {
        "id": "9xUxq15yUIS7"
      }
    },
    {
      "cell_type": "code",
      "source": [
        "predict_x=Dense_tuned_2.predict(X_test_text) \n",
        "y_pred = (predict_x > 0.5).astype('int32')"
      ],
      "metadata": {
        "id": "zeZ0KB8g4UV8"
      },
      "execution_count": null,
      "outputs": []
    },
    {
      "cell_type": "code",
      "source": [
        "cm = confusion_matrix(y_test, y_pred)\n",
        "plt.figure(figsize = (6, 6))\n",
        "sns.heatmap(cm, annot = True, cmap=\"Blues\", fmt = \"d\")\n",
        "from sklearn.metrics import classification_report\n",
        "print(classification_report(y_test, y_pred))    \n"
      ],
      "metadata": {
        "colab": {
          "base_uri": "https://localhost:8080/",
          "height": 530
        },
        "id": "LZg87nfHw1kn",
        "outputId": "4b5e0cc6-ee01-4a33-bb01-183554b486a2"
      },
      "execution_count": null,
      "outputs": [
        {
          "output_type": "stream",
          "name": "stdout",
          "text": [
            "              precision    recall  f1-score   support\n",
            "\n",
            "         0.0       0.98      0.97      0.98      3526\n",
            "         1.0       0.98      0.98      0.98      4126\n",
            "\n",
            "    accuracy                           0.98      7652\n",
            "   macro avg       0.98      0.98      0.98      7652\n",
            "weighted avg       0.98      0.98      0.98      7652\n",
            "\n"
          ]
        },
        {
          "output_type": "display_data",
          "data": {
            "text/plain": [
              "<Figure size 432x432 with 2 Axes>"
            ],
            "image/png": "[encoded data removed]"
          },
          "metadata": {
            "needs_background": "light"
          }
        }
      ]
    },
    {
      "cell_type": "markdown",
      "source": [
        "*   <h3>Redes neuronales recurrentes</h3>"
      ],
      "metadata": {
        "id": "0YcqsqBrV5uj"
      }
    },
    {
      "cell_type": "markdown",
      "source": [
        "<font color='darkblue'> Aplicamos ahora redes LSTM, esta vez ajustando los parámetros de forma manual (los resultados son todos iguales hasta tercer o cuarto orden:</n>"
      ],
      "metadata": {
        "id": "kKusT_TYa9gN"
      }
    },
    {
      "cell_type": "code",
      "source": [
        "reg = regularizers.l2(5e-5)\n",
        "\n",
        "X_train_text3D = X_train_text.reshape(X_train_text.shape[0], 1, X_train_text.shape[-1])\n",
        "\n",
        "model_LSTM=Sequential(name=\"Modelo1_LSTM\")\n",
        "model_LSTM.add(LSTM(100, input_shape = (1, X_train_text[0].size), return_sequences=True, kernel_regularizer=reg, dropout=0.2, name=\"LSTM1\"))\n",
        "model_LSTM.add(LSTM(100, kernel_regularizer=reg, dropout=0.2, name=\"LSTM2\"))\n",
        "model_LSTM.add(Dense(1,activation='sigmoid', name=\"Output_Layer\"))\n",
        "model_LSTM.compile(loss='binary_crossentropy',optimizer='adam',metrics=['accuracy'])\n",
        "print(model_LSTM.summary())"
      ],
      "metadata": {
        "colab": {
          "base_uri": "https://localhost:8080/"
        },
        "id": "CmJ_4PBMW4vz",
        "outputId": "9682f3f3-b1e6-4e63-c98f-5a6e903fbb1d"
      },
      "execution_count": null,
      "outputs": [
        {
          "output_type": "stream",
          "name": "stdout",
          "text": [
            "Model: \"Modelo1_LSTM\"\n",
            "_________________________________________________________________\n",
            " Layer (type)                Output Shape              Param #   \n",
            "=================================================================\n",
            " LSTM1 (LSTM)                (None, 1, 100)            86400     \n",
            "                                                                 \n",
            " LSTM2 (LSTM)                (None, 100)               80400     \n",
            "                                                                 \n",
            " Output_Layer (Dense)        (None, 1)                 101       \n",
            "                                                                 \n",
            "=================================================================\n",
            "Total params: 166,901\n",
            "Trainable params: 166,901\n",
            "Non-trainable params: 0\n",
            "_________________________________________________________________\n",
            "None\n"
          ]
        }
      ]
    },
    {
      "cell_type": "code",
      "source": [
        "es_callback = keras.callbacks.EarlyStopping(monitor='val_loss',\n",
        "                                            patience=7,\n",
        "                                            verbose=1)\n",
        "\n",
        "history = model_LSTM.fit(X_train_text3D,\n",
        "                    y_train,\n",
        "                    validation_split=0.25,\n",
        "                    epochs=20,\n",
        "                    batch_size=256,\n",
        "                    callbacks=[es_callback])"
      ],
      "metadata": {
        "colab": {
          "base_uri": "https://localhost:8080/"
        },
        "id": "lzRixs88DJ9D",
        "outputId": "c9e68373-68fb-4a3b-9f69-d383a593e140"
      },
      "execution_count": null,
      "outputs": [
        {
          "output_type": "stream",
          "name": "stdout",
          "text": [
            "Epoch 1/20\n",
            "82/82 [==============================] - 6s 26ms/step - loss: 0.4155 - accuracy: 0.8673 - val_loss: 0.2827 - val_accuracy: 0.9054\n",
            "Epoch 2/20\n",
            "82/82 [==============================] - 7s 80ms/step - loss: 0.1164 - accuracy: 0.9677 - val_loss: 0.0981 - val_accuracy: 0.9707\n",
            "Epoch 3/20\n",
            "82/82 [==============================] - 6s 74ms/step - loss: 0.0820 - accuracy: 0.9778 - val_loss: 0.0879 - val_accuracy: 0.9725\n",
            "Epoch 4/20\n",
            "82/82 [==============================] - 5s 66ms/step - loss: 0.0719 - accuracy: 0.9799 - val_loss: 0.0865 - val_accuracy: 0.9731\n",
            "Epoch 5/20\n",
            "82/82 [==============================] - 4s 45ms/step - loss: 0.0662 - accuracy: 0.9816 - val_loss: 0.0740 - val_accuracy: 0.9764\n",
            "Epoch 6/20\n",
            "82/82 [==============================] - 7s 84ms/step - loss: 0.0621 - accuracy: 0.9831 - val_loss: 0.0735 - val_accuracy: 0.9764\n",
            "Epoch 7/20\n",
            "82/82 [==============================] - 7s 80ms/step - loss: 0.0601 - accuracy: 0.9839 - val_loss: 0.0734 - val_accuracy: 0.9764\n",
            "Epoch 8/20\n",
            "82/82 [==============================] - 6s 77ms/step - loss: 0.0576 - accuracy: 0.9839 - val_loss: 0.0615 - val_accuracy: 0.9810\n",
            "Epoch 9/20\n",
            "82/82 [==============================] - 6s 73ms/step - loss: 0.0546 - accuracy: 0.9849 - val_loss: 0.0637 - val_accuracy: 0.9794\n",
            "Epoch 10/20\n",
            "82/82 [==============================] - 4s 43ms/step - loss: 0.0525 - accuracy: 0.9850 - val_loss: 0.0618 - val_accuracy: 0.9799\n",
            "Epoch 11/20\n",
            "82/82 [==============================] - 3s 36ms/step - loss: 0.0519 - accuracy: 0.9855 - val_loss: 0.0492 - val_accuracy: 0.9853\n",
            "Epoch 12/20\n",
            "82/82 [==============================] - 4s 46ms/step - loss: 0.0542 - accuracy: 0.9837 - val_loss: 0.0598 - val_accuracy: 0.9803\n",
            "Epoch 13/20\n",
            "82/82 [==============================] - 7s 81ms/step - loss: 0.0519 - accuracy: 0.9852 - val_loss: 0.0599 - val_accuracy: 0.9805\n",
            "Epoch 14/20\n",
            "82/82 [==============================] - 6s 77ms/step - loss: 0.0500 - accuracy: 0.9859 - val_loss: 0.0514 - val_accuracy: 0.9838\n",
            "Epoch 15/20\n",
            "82/82 [==============================] - 4s 54ms/step - loss: 0.0494 - accuracy: 0.9863 - val_loss: 0.0633 - val_accuracy: 0.9786\n",
            "Epoch 16/20\n",
            "82/82 [==============================] - 4s 49ms/step - loss: 0.0486 - accuracy: 0.9863 - val_loss: 0.0671 - val_accuracy: 0.9777\n",
            "Epoch 17/20\n",
            "82/82 [==============================] - 6s 77ms/step - loss: 0.0505 - accuracy: 0.9851 - val_loss: 0.0602 - val_accuracy: 0.9796\n",
            "Epoch 18/20\n",
            "82/82 [==============================] - 6s 79ms/step - loss: 0.0474 - accuracy: 0.9861 - val_loss: 0.0597 - val_accuracy: 0.9805\n",
            "Epoch 18: early stopping\n"
          ]
        }
      ]
    },
    {
      "cell_type": "code",
      "source": [
        "print(model_LSTM.summary())"
      ],
      "metadata": {
        "colab": {
          "base_uri": "https://localhost:8080/"
        },
        "id": "Ckl4hn0ZFDc3",
        "outputId": "742dee21-2df3-4c03-9dad-4961becc23c1"
      },
      "execution_count": null,
      "outputs": [
        {
          "output_type": "stream",
          "name": "stdout",
          "text": [
            "Model: \"Modelo1_LSTM\"\n",
            "_________________________________________________________________\n",
            " Layer (type)                Output Shape              Param #   \n",
            "=================================================================\n",
            " LSTM1 (LSTM)                (None, 1, 100)            86400     \n",
            "                                                                 \n",
            " LSTM2 (LSTM)                (None, 100)               80400     \n",
            "                                                                 \n",
            " Output_Layer (Dense)        (None, 1)                 101       \n",
            "                                                                 \n",
            "=================================================================\n",
            "Total params: 166,901\n",
            "Trainable params: 166,901\n",
            "Non-trainable params: 0\n",
            "_________________________________________________________________\n",
            "None\n"
          ]
        }
      ]
    },
    {
      "cell_type": "code",
      "source": [
        "hist = pd.DataFrame(history.history)\n",
        "hist['epoch'] = history.epoch\n",
        "show_loss_accuracy_evolution(hist)"
      ],
      "metadata": {
        "colab": {
          "base_uri": "https://localhost:8080/",
          "height": 388
        },
        "id": "ediPE81sFSlS",
        "outputId": "691f11e0-47a6-453b-9a80-16e65addeae6"
      },
      "execution_count": null,
      "outputs": [
        {
          "output_type": "display_data",
          "data": {
            "text/plain": [
              "<Figure size 1152x432 with 2 Axes>"
            ],
            "image/png": "[encoded data removed]"
          },
          "metadata": {
            "needs_background": "light"
          }
        }
      ]
    },
    {
      "cell_type": "code",
      "source": [
        "X_test_words3D = X_test_text.reshape(X_test_text.shape[0], 1, X_test_text.shape[-1])\n",
        "\n",
        "predict = model_LSTM.predict(X_test_words3D)\n",
        "y_pred = (predict_x > 0.5).astype('int32')   \n",
        "\n",
        "m = confusion_matrix(y_test, y_pred)\n",
        "plt.figure(figsize = (6, 6))\n",
        "sns.heatmap(cm, annot = True, cmap=\"Blues\", fmt = \"d\")\n",
        "print(classification_report(y_test, y_pred))    "
      ],
      "metadata": {
        "colab": {
          "base_uri": "https://localhost:8080/",
          "height": 530
        },
        "id": "PHMi1qNzET3K",
        "outputId": "cada6aac-f912-42b7-bed5-2536cb04a845"
      },
      "execution_count": null,
      "outputs": [
        {
          "output_type": "stream",
          "name": "stdout",
          "text": [
            "              precision    recall  f1-score   support\n",
            "\n",
            "         0.0       0.98      0.97      0.98      3526\n",
            "         1.0       0.98      0.98      0.98      4126\n",
            "\n",
            "    accuracy                           0.98      7652\n",
            "   macro avg       0.98      0.98      0.98      7652\n",
            "weighted avg       0.98      0.98      0.98      7652\n",
            "\n"
          ]
        },
        {
          "output_type": "display_data",
          "data": {
            "text/plain": [
              "<Figure size 432x432 with 2 Axes>"
            ],
            "image/png": "[encoded data removed]"
          },
          "metadata": {
            "needs_background": "light"
          }
        }
      ]
    },
    {
      "cell_type": "code",
      "source": [
        "X_train_text[0]"
      ],
      "metadata": {
        "colab": {
          "base_uri": "https://localhost:8080/"
        },
        "id": "1LYvwUNInTzC",
        "outputId": "2ca824b3-e483-47ef-d5b5-832b98ea7c54"
      },
      "execution_count": null,
      "outputs": [
        {
          "output_type": "execute_result",
          "data": {
            "text/plain": [
              "array([ 0.10244997,  0.        ,  0.07219727,  0.        ,  0.09792961,\n",
              "        0.10726456,  0.        ,  0.        ,  0.32414088,  0.09371981,\n",
              "        0.        ,  0.        ,  0.08254301,  0.25580652,  0.        ,\n",
              "        0.09213263,  0.        ,  0.07125112,  0.07583806,  0.09476411,\n",
              "        0.        ,  0.08924734,  0.        ,  0.        ,  0.        ,\n",
              "        0.        ,  0.        ,  0.        ,  0.        ,  0.        ,\n",
              "        0.        ,  0.08693944,  0.        ,  0.        ,  0.        ,\n",
              "        0.        ,  0.        ,  0.        ,  0.        ,  0.        ,\n",
              "        0.06825389,  0.        ,  0.        ,  0.        ,  0.1096215 ,\n",
              "        0.        ,  0.09823701,  0.19708076,  0.        ,  0.23697387,\n",
              "        0.18732522,  0.        ,  0.        ,  0.        ,  0.19191661,\n",
              "        0.13869121,  0.        ,  0.        ,  0.        ,  0.10531906,\n",
              "        0.        ,  0.        ,  0.        ,  0.        ,  0.        ,\n",
              "        0.        ,  0.07306255,  0.        ,  0.        ,  0.5310822 ,\n",
              "        0.        ,  0.        ,  0.        ,  0.18839573,  0.15608532,\n",
              "        0.10063708,  0.09409369,  0.09554815,  0.        ,  0.07330561,\n",
              "        0.        ,  0.        ,  0.        ,  0.        ,  0.18056293,\n",
              "        0.09719034,  0.18166055,  0.        ,  0.        ,  0.        ,\n",
              "        0.        ,  0.        ,  0.        ,  0.        ,  0.        ,\n",
              "        0.09393219,  0.10562107,  0.        ,  0.18424329,  0.        ,\n",
              "       -0.29936325,  0.67108072, -0.520623  , -1.52043499, -1.51704234,\n",
              "        1.72604902,  1.04890912, -0.30478986,  0.06244593, -0.24468408,\n",
              "       -0.92210369,  0.00868523,  0.78510078, -0.54205412,  0.68604385])"
            ]
          },
          "metadata": {},
          "execution_count": 26
        }
      ]
    },
    {
      "cell_type": "code",
      "source": [
        "print(X_train_text3D.shape)\n",
        "print(X_train_text.shape[0])"
      ],
      "metadata": {
        "colab": {
          "base_uri": "https://localhost:8080/"
        },
        "id": "8D9iAm3hnlQJ",
        "outputId": "c9cccab4-0fb0-47fe-ad87-2dac7f311118"
      },
      "execution_count": null,
      "outputs": [
        {
          "output_type": "stream",
          "name": "stdout",
          "text": [
            "(27826, 1, 115)\n",
            "27826\n"
          ]
        }
      ]
    },
    {
      "cell_type": "markdown",
      "source": [
        "*   <h3>Redes neuronales convolucionales y bidireccionales</h3>"
      ],
      "metadata": {
        "id": "9P2SUelIfbnK"
      }
    },
    {
      "cell_type": "code",
      "source": [
        "X_train_text3D = X_train_text.reshape(X_train_text.shape[0], X_train_text.shape[-1], 1)\n",
        "\n",
        "model_CNNB=Sequential(name='Modelo1_CONV')\n",
        "model_CNNB.add(Conv1D(32, 5, input_shape = (X_train_text[0].size, 1), activation='relu', name='CNN1'))\n",
        "model_CNNB.add(MaxPool1D())\n",
        "model_CNNB.add(Conv1D(32, 5, name='CNN2'))\n",
        "model_CNNB.add(MaxPool1D())\n",
        "model_CNNB.add(Bidirectional(LSTM(100), name='Bidirectional'))\n",
        "model_CNNB.add(Dropout(0.3))\n",
        "model_CNNB.add(Dense(1,activation='sigmoid', name=\"Output_Layer\"))\n",
        "model_CNNB.compile(loss='binary_crossentropy',optimizer='adam',metrics=['accuracy'])\n",
        "\n",
        "es_callback = keras.callbacks.EarlyStopping(monitor='val_loss',\n",
        "                                            patience=5,\n",
        "                                            verbose=1)\n",
        "\n",
        "history =   model_CNNB.fit(X_train_text3D,\n",
        "                    y_train,\n",
        "                    validation_split=0.25,\n",
        "                    epochs=20,\n",
        "                    batch_size=500,\n",
        "                    callbacks=[es_callback])"
      ],
      "metadata": {
        "colab": {
          "base_uri": "https://localhost:8080/"
        },
        "id": "fA6Q_86ofXJZ",
        "outputId": "0ba44515-246e-48b2-d6c8-36d484cd7437"
      },
      "execution_count": null,
      "outputs": [
        {
          "output_type": "stream",
          "name": "stdout",
          "text": [
            "Epoch 1/20\n",
            "42/42 [==============================] - 42s 750ms/step - loss: 0.6272 - accuracy: 0.6686 - val_loss: 0.9226 - val_accuracy: 0.1358\n",
            "Epoch 2/20\n",
            "42/42 [==============================] - 27s 654ms/step - loss: 0.3853 - accuracy: 0.8261 - val_loss: 0.4329 - val_accuracy: 0.7957\n",
            "Epoch 3/20\n",
            "42/42 [==============================] - 33s 785ms/step - loss: 0.1925 - accuracy: 0.9301 - val_loss: 0.3692 - val_accuracy: 0.8616\n",
            "Epoch 4/20\n",
            "42/42 [==============================] - 33s 794ms/step - loss: 0.1454 - accuracy: 0.9495 - val_loss: 0.3934 - val_accuracy: 0.8469\n",
            "Epoch 5/20\n",
            "42/42 [==============================] - 34s 818ms/step - loss: 0.1250 - accuracy: 0.9578 - val_loss: 0.1732 - val_accuracy: 0.9320\n",
            "Epoch 6/20\n",
            "42/42 [==============================] - 32s 769ms/step - loss: 0.1015 - accuracy: 0.9644 - val_loss: 0.2478 - val_accuracy: 0.9064\n",
            "Epoch 7/20\n",
            "42/42 [==============================] - 23s 557ms/step - loss: 0.0924 - accuracy: 0.9686 - val_loss: 0.1975 - val_accuracy: 0.9280\n",
            "Epoch 8/20\n",
            "42/42 [==============================] - 21s 492ms/step - loss: 0.0820 - accuracy: 0.9727 - val_loss: 0.1393 - val_accuracy: 0.9508\n",
            "Epoch 9/20\n",
            "42/42 [==============================] - 30s 715ms/step - loss: 0.0751 - accuracy: 0.9744 - val_loss: 0.1803 - val_accuracy: 0.9330\n",
            "Epoch 10/20\n",
            "42/42 [==============================] - 31s 744ms/step - loss: 0.0656 - accuracy: 0.9781 - val_loss: 0.1435 - val_accuracy: 0.9458\n",
            "Epoch 11/20\n",
            "42/42 [==============================] - 43s 1s/step - loss: 0.0783 - accuracy: 0.9731 - val_loss: 0.1100 - val_accuracy: 0.9662\n",
            "Epoch 12/20\n",
            "42/42 [==============================] - 44s 1s/step - loss: 0.0596 - accuracy: 0.9792 - val_loss: 0.0629 - val_accuracy: 0.9796\n",
            "Epoch 13/20\n",
            "42/42 [==============================] - 33s 803ms/step - loss: 0.0546 - accuracy: 0.9814 - val_loss: 0.1132 - val_accuracy: 0.9626\n",
            "Epoch 14/20\n",
            "42/42 [==============================] - 27s 640ms/step - loss: 0.0494 - accuracy: 0.9828 - val_loss: 0.2315 - val_accuracy: 0.9261\n",
            "Epoch 15/20\n",
            "42/42 [==============================] - 31s 726ms/step - loss: 0.0628 - accuracy: 0.9790 - val_loss: 0.0876 - val_accuracy: 0.9715\n",
            "Epoch 16/20\n",
            "42/42 [==============================] - 38s 905ms/step - loss: 0.0539 - accuracy: 0.9812 - val_loss: 0.0990 - val_accuracy: 0.9691\n",
            "Epoch 17/20\n",
            "42/42 [==============================] - 42s 1s/step - loss: 0.0497 - accuracy: 0.9832 - val_loss: 0.0415 - val_accuracy: 0.9876\n",
            "Epoch 18/20\n",
            "42/42 [==============================] - 37s 898ms/step - loss: 0.0479 - accuracy: 0.9836 - val_loss: 0.0676 - val_accuracy: 0.9777\n",
            "Epoch 19/20\n",
            "42/42 [==============================] - 29s 684ms/step - loss: 0.0443 - accuracy: 0.9852 - val_loss: 0.1978 - val_accuracy: 0.9402\n",
            "Epoch 20/20\n",
            "42/42 [==============================] - 28s 672ms/step - loss: 0.0392 - accuracy: 0.9870 - val_loss: 0.0638 - val_accuracy: 0.9823\n"
          ]
        }
      ]
    },
    {
      "cell_type": "code",
      "source": [
        "print(model_CNNB.summary())"
      ],
      "metadata": {
        "colab": {
          "base_uri": "https://localhost:8080/"
        },
        "id": "c21s0cM1kc3X",
        "outputId": "34979d4a-053e-4fd1-89d3-cccb7ceea0a0"
      },
      "execution_count": null,
      "outputs": [
        {
          "output_type": "stream",
          "name": "stdout",
          "text": [
            "Model: \"Modelo1_CONV\"\n",
            "_________________________________________________________________\n",
            " Layer (type)                Output Shape              Param #   \n",
            "=================================================================\n",
            " CNN1 (Conv1D)               (None, 111, 32)           192       \n",
            "                                                                 \n",
            " max_pooling1d (MaxPooling1D  (None, 55, 32)           0         \n",
            " )                                                               \n",
            "                                                                 \n",
            " CNN2 (Conv1D)               (None, 51, 32)            5152      \n",
            "                                                                 \n",
            " max_pooling1d_1 (MaxPooling  (None, 25, 32)           0         \n",
            " 1D)                                                             \n",
            "                                                                 \n",
            " Bidirectional (Bidirectiona  (None, 200)              106400    \n",
            " l)                                                              \n",
            "                                                                 \n",
            " dropout (Dropout)           (None, 200)               0         \n",
            "                                                                 \n",
            " Output_Layer (Dense)        (None, 1)                 201       \n",
            "                                                                 \n",
            "=================================================================\n",
            "Total params: 111,945\n",
            "Trainable params: 111,945\n",
            "Non-trainable params: 0\n",
            "_________________________________________________________________\n",
            "None\n"
          ]
        }
      ]
    },
    {
      "cell_type": "code",
      "source": [
        "hist = pd.DataFrame(history.history)\n",
        "hist['epoch'] = history.epoch\n",
        "show_loss_accuracy_evolution(hist)"
      ],
      "metadata": {
        "colab": {
          "base_uri": "https://localhost:8080/",
          "height": 388
        },
        "id": "rF1EMerBkmlz",
        "outputId": "95c2e3fa-14f2-45cc-a522-9fcdafbee15a"
      },
      "execution_count": null,
      "outputs": [
        {
          "output_type": "display_data",
          "data": {
            "text/plain": [
              "<Figure size 1152x432 with 2 Axes>"
            ],
            "image/png": "[encoded data removed]"
          },
          "metadata": {
            "needs_background": "light"
          }
        }
      ]
    },
    {
      "cell_type": "code",
      "source": [
        "X_test_words3D = X_test_text.reshape(X_test_text.shape[0], X_test_text.shape[-1], 1)\n",
        "\n",
        "predict = model_CNNB.predict(X_test_words3D)\n",
        "y_pred = (predict > 0.5).astype('int32')   \n",
        "\n",
        "cm = confusion_matrix(y_test, y_pred)\n",
        "plt.figure(figsize = (6, 6))\n",
        "sns.heatmap(cm, annot = True, cmap=\"Blues\", fmt = \"d\")\n",
        "print(classification_report(y_test, y_pred))    "
      ],
      "metadata": {
        "colab": {
          "base_uri": "https://localhost:8080/",
          "height": 530
        },
        "id": "3UL-7jF_oOLk",
        "outputId": "ae8e2743-8762-4f4f-ab98-148a9bcd0a94"
      },
      "execution_count": null,
      "outputs": [
        {
          "output_type": "stream",
          "name": "stdout",
          "text": [
            "              precision    recall  f1-score   support\n",
            "\n",
            "         0.0       0.98      0.98      0.98      3526\n",
            "         1.0       0.98      0.98      0.98      4126\n",
            "\n",
            "    accuracy                           0.98      7652\n",
            "   macro avg       0.98      0.98      0.98      7652\n",
            "weighted avg       0.98      0.98      0.98      7652\n",
            "\n"
          ]
        },
        {
          "output_type": "display_data",
          "data": {
            "text/plain": [
              "<Figure size 432x432 with 2 Axes>"
            ],
            "image/png": "[encoded data removed]"
          },
          "metadata": {
            "needs_background": "light"
          }
        }
      ]
    },
    {
      "cell_type": "markdown",
      "source": [
        "*   <h3>Clasificaciones erróneas</h3>"
      ],
      "metadata": {
        "id": "_GRVp9iNouG9"
      }
    },
    {
      "cell_type": "code",
      "source": [
        "pred_label = (y_pred >= 0.5)\n",
        "print(len(y_pred))"
      ],
      "metadata": {
        "colab": {
          "base_uri": "https://localhost:8080/"
        },
        "id": "OOfUMNjmxINy",
        "outputId": "c6b00a30-4999-43f0-dc38-218fea3c2a25"
      },
      "execution_count": null,
      "outputs": [
        {
          "output_type": "stream",
          "name": "stdout",
          "text": [
            "7652\n"
          ]
        }
      ]
    },
    {
      "cell_type": "code",
      "source": [
        "df = pd.DataFrame(pred_label, columns=['pred_label'])\n",
        "test_s = test[['text', 'target']]\n",
        "df_pred = test_s.join(df.set_index(test_s.index)) \n",
        "df_pred"
      ],
      "metadata": {
        "colab": {
          "base_uri": "https://localhost:8080/",
          "height": 424
        },
        "id": "gXrDMEFNws1u",
        "outputId": "d35cd520-509a-4558-b92e-af676ae2b9a8"
      },
      "execution_count": null,
      "outputs": [
        {
          "output_type": "execute_result",
          "data": {
            "text/plain": [
              "                                                    text  target  pred_label\n",
              "15204  Corruption is nothing new for Hillary and Bill...     0.0       False\n",
              "2387   DES MOINES (Reuters) - An influential conserva...     1.0        True\n",
              "311    MADRID (Reuters) - The leader of Spain s Socia...     1.0        True\n",
              "22106  Paul Manafort, Donald Trump s new convention m...     0.0       False\n",
              "24309  TEHRAN (Reuters) - All parties to the Iran nuc...     1.0        True\n",
              "...                                                  ...     ...         ...\n",
              "6637   Beware of morning talk show hosts turned  news...     0.0       False\n",
              "23316  WASHINGTON (Reuters) - U.S. Secretary of State...     1.0        True\n",
              "23861  WASHINGTON (Reuters) - Frustrated U.S. lawmake...     1.0        True\n",
              "30300  BAGHDAD (Reuters) - Iraq s Supreme Justice Cou...     1.0        True\n",
              "26116  Donald Trump fired acting Attorney General Sal...     0.0       False\n",
              "\n",
              "[7652 rows x 3 columns]"
            ],
            "text/html": [
              "\n",
              "  <div id=\"df-58b336c3-08fe-417b-adaf-7f89cda2fee0\">\n",
              "    <div class=\"colab-df-container\">\n",
              "      <div>\n",
              "<style scoped>\n",
              "    .dataframe tbody tr th:only-of-type {\n",
              "        vertical-align: middle;\n",
              "    }\n",
              "\n",
              "    .dataframe tbody tr th {\n",
              "        vertical-align: top;\n",
              "    }\n",
              "\n",
              "    .dataframe thead th {\n",
              "        text-align: right;\n",
              "    }\n",
              "</style>\n",
              "<table border=\"1\" class=\"dataframe\">\n",
              "  <thead>\n",
              "    <tr style=\"text-align: right;\">\n",
              "      <th></th>\n",
              "      <th>text</th>\n",
              "      <th>target</th>\n",
              "      <th>pred_label</th>\n",
              "    </tr>\n",
              "  </thead>\n",
              "  <tbody>\n",
              "    <tr>\n",
              "      <th>15204</th>\n",
              "      <td>Corruption is nothing new for Hillary and Bill...</td>\n",
              "      <td>0.0</td>\n",
              "      <td>False</td>\n",
              "    </tr>\n",
              "    <tr>\n",
              "      <th>2387</th>\n",
              "      <td>DES MOINES (Reuters) - An influential conserva...</td>\n",
              "      <td>1.0</td>\n",
              "      <td>True</td>\n",
              "    </tr>\n",
              "    <tr>\n",
              "      <th>311</th>\n",
              "      <td>MADRID (Reuters) - The leader of Spain s Socia...</td>\n",
              "      <td>1.0</td>\n",
              "      <td>True</td>\n",
              "    </tr>\n",
              "    <tr>\n",
              "      <th>22106</th>\n",
              "      <td>Paul Manafort, Donald Trump s new convention m...</td>\n",
              "      <td>0.0</td>\n",
              "      <td>False</td>\n",
              "    </tr>\n",
              "    <tr>\n",
              "      <th>24309</th>\n",
              "      <td>TEHRAN (Reuters) - All parties to the Iran nuc...</td>\n",
              "      <td>1.0</td>\n",
              "      <td>True</td>\n",
              "    </tr>\n",
              "    <tr>\n",
              "      <th>...</th>\n",
              "      <td>...</td>\n",
              "      <td>...</td>\n",
              "      <td>...</td>\n",
              "    </tr>\n",
              "    <tr>\n",
              "      <th>6637</th>\n",
              "      <td>Beware of morning talk show hosts turned  news...</td>\n",
              "      <td>0.0</td>\n",
              "      <td>False</td>\n",
              "    </tr>\n",
              "    <tr>\n",
              "      <th>23316</th>\n",
              "      <td>WASHINGTON (Reuters) - U.S. Secretary of State...</td>\n",
              "      <td>1.0</td>\n",
              "      <td>True</td>\n",
              "    </tr>\n",
              "    <tr>\n",
              "      <th>23861</th>\n",
              "      <td>WASHINGTON (Reuters) - Frustrated U.S. lawmake...</td>\n",
              "      <td>1.0</td>\n",
              "      <td>True</td>\n",
              "    </tr>\n",
              "    <tr>\n",
              "      <th>30300</th>\n",
              "      <td>BAGHDAD (Reuters) - Iraq s Supreme Justice Cou...</td>\n",
              "      <td>1.0</td>\n",
              "      <td>True</td>\n",
              "    </tr>\n",
              "    <tr>\n",
              "      <th>26116</th>\n",
              "      <td>Donald Trump fired acting Attorney General Sal...</td>\n",
              "      <td>0.0</td>\n",
              "      <td>False</td>\n",
              "    </tr>\n",
              "  </tbody>\n",
              "</table>\n",
              "<p>7652 rows × 3 columns</p>\n",
              "</div>\n",
              "      <button class=\"colab-df-convert\" onclick=\"convertToInteractive('df-58b336c3-08fe-417b-adaf-7f89cda2fee0')\"\n",
              "              title=\"Convert this dataframe to an interactive table.\"\n",
              "              style=\"display:none;\">\n",
              "        \n",
              "  <svg xmlns=\"http://www.w3.org/2000/svg\" height=\"24px\"viewBox=\"0 0 24 24\"\n",
              "       width=\"24px\">\n",
              "    <path d=\"M0 0h24v24H0V0z\" fill=\"none\"/>\n",
              "    <path d=\"M18.56 5.44l.94 2.06.94-2.06 2.06-.94-2.06-.94-.94-2.06-.94 2.06-2.06.94zm-11 1L8.5 8.5l.94-2.06 2.06-.94-2.06-.94L8.5 2.5l-.94 2.06-2.06.94zm10 10l.94 2.06.94-2.06 2.06-.94-2.06-.94-.94-2.06-.94 2.06-2.06.94z\"/><path d=\"M17.41 7.96l-1.37-1.37c-.4-.4-.92-.59-1.43-.59-.52 0-1.04.2-1.43.59L10.3 9.45l-7.72 7.72c-.78.78-.78 2.05 0 2.83L4 21.41c.39.39.9.59 1.41.59.51 0 1.02-.2 1.41-.59l7.78-7.78 2.81-2.81c.8-.78.8-2.07 0-2.86zM5.41 20L4 18.59l7.72-7.72 1.47 1.35L5.41 20z\"/>\n",
              "  </svg>\n",
              "      </button>\n",
              "      \n",
              "  <style>\n",
              "    .colab-df-container {\n",
              "      display:flex;\n",
              "      flex-wrap:wrap;\n",
              "      gap: 12px;\n",
              "    }\n",
              "\n",
              "    .colab-df-convert {\n",
              "      background-color: #E8F0FE;\n",
              "      border: none;\n",
              "      border-radius: 50%;\n",
              "      cursor: pointer;\n",
              "      display: none;\n",
              "      fill: #1967D2;\n",
              "      height: 32px;\n",
              "      padding: 0 0 0 0;\n",
              "      width: 32px;\n",
              "    }\n",
              "\n",
              "    .colab-df-convert:hover {\n",
              "      background-color: #E2EBFA;\n",
              "      box-shadow: 0px 1px 2px rgba(60, 64, 67, 0.3), 0px 1px 3px 1px rgba(60, 64, 67, 0.15);\n",
              "      fill: #174EA6;\n",
              "    }\n",
              "\n",
              "    [theme=dark] .colab-df-convert {\n",
              "      background-color: #3B4455;\n",
              "      fill: #D2E3FC;\n",
              "    }\n",
              "\n",
              "    [theme=dark] .colab-df-convert:hover {\n",
              "      background-color: #434B5C;\n",
              "      box-shadow: 0px 1px 3px 1px rgba(0, 0, 0, 0.15);\n",
              "      filter: drop-shadow(0px 1px 2px rgba(0, 0, 0, 0.3));\n",
              "      fill: #FFFFFF;\n",
              "    }\n",
              "  </style>\n",
              "\n",
              "      <script>\n",
              "        const buttonEl =\n",
              "          document.querySelector('#df-58b336c3-08fe-417b-adaf-7f89cda2fee0 button.colab-df-convert');\n",
              "        buttonEl.style.display =\n",
              "          google.colab.kernel.accessAllowed ? 'block' : 'none';\n",
              "\n",
              "        async function convertToInteractive(key) {\n",
              "          const element = document.querySelector('#df-58b336c3-08fe-417b-adaf-7f89cda2fee0');\n",
              "          const dataTable =\n",
              "            await google.colab.kernel.invokeFunction('convertToInteractive',\n",
              "                                                     [key], {});\n",
              "          if (!dataTable) return;\n",
              "\n",
              "          const docLinkHtml = 'Like what you see? Visit the ' +\n",
              "            '<a target=\"_blank\" href=https://colab.research.google.com/notebooks/data_table.ipynb>data table notebook</a>'\n",
              "            + ' to learn more about interactive tables.';\n",
              "          element.innerHTML = '';\n",
              "          dataTable['output_type'] = 'display_data';\n",
              "          await google.colab.output.renderOutput(dataTable, element);\n",
              "          const docLink = document.createElement('div');\n",
              "          docLink.innerHTML = docLinkHtml;\n",
              "          element.appendChild(docLink);\n",
              "        }\n",
              "      </script>\n",
              "    </div>\n",
              "  </div>\n",
              "  "
            ]
          },
          "metadata": {},
          "execution_count": 20
        }
      ]
    },
    {
      "cell_type": "code",
      "source": [
        "Errores_df = df_pred[df_pred.target != df_pred.pred_label]\n",
        "Errores_df"
      ],
      "metadata": {
        "colab": {
          "base_uri": "https://localhost:8080/",
          "height": 424
        },
        "id": "kTmox2Pnj7zf",
        "outputId": "1313ae5d-452a-4163-d01e-642c51df1e1e"
      },
      "execution_count": null,
      "outputs": [
        {
          "output_type": "execute_result",
          "data": {
            "text/plain": [
              "                                                    text  target  pred_label\n",
              "23342  WASHINGTON (Reuters) - The chairman of the U.S...     1.0       False\n",
              "16811  Donald Trump is becoming a liability to the Re...     0.0        True\n",
              "31007  SAN FRANCISCO (Reuters) - Oracle Corp (ORCL.N)...     1.0       False\n",
              "34930  In the coming days, a creationist conspiracy t...     0.0        True\n",
              "27035  The following statementsÂ were posted to the v...     1.0       False\n",
              "...                                                  ...     ...         ...\n",
              "195    WASHINGTON (Reuters) - Milwaukee County Sherif...     1.0       False\n",
              "19791  Apparently, the White House is not pleased tha...     0.0        True\n",
              "14579  21st Century Wire says Ron Paul told RT that t...     0.0        True\n",
              "7576   GENEVA (Reuters) - Fighting in Yemen s capital...     1.0       False\n",
              "10839  BRUSSELS (Reuters) - European Council Presiden...     1.0       False\n",
              "\n",
              "[148 rows x 3 columns]"
            ],
            "text/html": [
              "\n",
              "  <div id=\"df-1c1453c3-7edc-4be3-bb72-1774cc138370\">\n",
              "    <div class=\"colab-df-container\">\n",
              "      <div>\n",
              "<style scoped>\n",
              "    .dataframe tbody tr th:only-of-type {\n",
              "        vertical-align: middle;\n",
              "    }\n",
              "\n",
              "    .dataframe tbody tr th {\n",
              "        vertical-align: top;\n",
              "    }\n",
              "\n",
              "    .dataframe thead th {\n",
              "        text-align: right;\n",
              "    }\n",
              "</style>\n",
              "<table border=\"1\" class=\"dataframe\">\n",
              "  <thead>\n",
              "    <tr style=\"text-align: right;\">\n",
              "      <th></th>\n",
              "      <th>text</th>\n",
              "      <th>target</th>\n",
              "      <th>pred_label</th>\n",
              "    </tr>\n",
              "  </thead>\n",
              "  <tbody>\n",
              "    <tr>\n",
              "      <th>23342</th>\n",
              "      <td>WASHINGTON (Reuters) - The chairman of the U.S...</td>\n",
              "      <td>1.0</td>\n",
              "      <td>False</td>\n",
              "    </tr>\n",
              "    <tr>\n",
              "      <th>16811</th>\n",
              "      <td>Donald Trump is becoming a liability to the Re...</td>\n",
              "      <td>0.0</td>\n",
              "      <td>True</td>\n",
              "    </tr>\n",
              "    <tr>\n",
              "      <th>31007</th>\n",
              "      <td>SAN FRANCISCO (Reuters) - Oracle Corp (ORCL.N)...</td>\n",
              "      <td>1.0</td>\n",
              "      <td>False</td>\n",
              "    </tr>\n",
              "    <tr>\n",
              "      <th>34930</th>\n",
              "      <td>In the coming days, a creationist conspiracy t...</td>\n",
              "      <td>0.0</td>\n",
              "      <td>True</td>\n",
              "    </tr>\n",
              "    <tr>\n",
              "      <th>27035</th>\n",
              "      <td>The following statementsÂ were posted to the v...</td>\n",
              "      <td>1.0</td>\n",
              "      <td>False</td>\n",
              "    </tr>\n",
              "    <tr>\n",
              "      <th>...</th>\n",
              "      <td>...</td>\n",
              "      <td>...</td>\n",
              "      <td>...</td>\n",
              "    </tr>\n",
              "    <tr>\n",
              "      <th>195</th>\n",
              "      <td>WASHINGTON (Reuters) - Milwaukee County Sherif...</td>\n",
              "      <td>1.0</td>\n",
              "      <td>False</td>\n",
              "    </tr>\n",
              "    <tr>\n",
              "      <th>19791</th>\n",
              "      <td>Apparently, the White House is not pleased tha...</td>\n",
              "      <td>0.0</td>\n",
              "      <td>True</td>\n",
              "    </tr>\n",
              "    <tr>\n",
              "      <th>14579</th>\n",
              "      <td>21st Century Wire says Ron Paul told RT that t...</td>\n",
              "      <td>0.0</td>\n",
              "      <td>True</td>\n",
              "    </tr>\n",
              "    <tr>\n",
              "      <th>7576</th>\n",
              "      <td>GENEVA (Reuters) - Fighting in Yemen s capital...</td>\n",
              "      <td>1.0</td>\n",
              "      <td>False</td>\n",
              "    </tr>\n",
              "    <tr>\n",
              "      <th>10839</th>\n",
              "      <td>BRUSSELS (Reuters) - European Council Presiden...</td>\n",
              "      <td>1.0</td>\n",
              "      <td>False</td>\n",
              "    </tr>\n",
              "  </tbody>\n",
              "</table>\n",
              "<p>148 rows × 3 columns</p>\n",
              "</div>\n",
              "      <button class=\"colab-df-convert\" onclick=\"convertToInteractive('df-1c1453c3-7edc-4be3-bb72-1774cc138370')\"\n",
              "              title=\"Convert this dataframe to an interactive table.\"\n",
              "              style=\"display:none;\">\n",
              "        \n",
              "  <svg xmlns=\"http://www.w3.org/2000/svg\" height=\"24px\"viewBox=\"0 0 24 24\"\n",
              "       width=\"24px\">\n",
              "    <path d=\"M0 0h24v24H0V0z\" fill=\"none\"/>\n",
              "    <path d=\"M18.56 5.44l.94 2.06.94-2.06 2.06-.94-2.06-.94-.94-2.06-.94 2.06-2.06.94zm-11 1L8.5 8.5l.94-2.06 2.06-.94-2.06-.94L8.5 2.5l-.94 2.06-2.06.94zm10 10l.94 2.06.94-2.06 2.06-.94-2.06-.94-.94-2.06-.94 2.06-2.06.94z\"/><path d=\"M17.41 7.96l-1.37-1.37c-.4-.4-.92-.59-1.43-.59-.52 0-1.04.2-1.43.59L10.3 9.45l-7.72 7.72c-.78.78-.78 2.05 0 2.83L4 21.41c.39.39.9.59 1.41.59.51 0 1.02-.2 1.41-.59l7.78-7.78 2.81-2.81c.8-.78.8-2.07 0-2.86zM5.41 20L4 18.59l7.72-7.72 1.47 1.35L5.41 20z\"/>\n",
              "  </svg>\n",
              "      </button>\n",
              "      \n",
              "  <style>\n",
              "    .colab-df-container {\n",
              "      display:flex;\n",
              "      flex-wrap:wrap;\n",
              "      gap: 12px;\n",
              "    }\n",
              "\n",
              "    .colab-df-convert {\n",
              "      background-color: #E8F0FE;\n",
              "      border: none;\n",
              "      border-radius: 50%;\n",
              "      cursor: pointer;\n",
              "      display: none;\n",
              "      fill: #1967D2;\n",
              "      height: 32px;\n",
              "      padding: 0 0 0 0;\n",
              "      width: 32px;\n",
              "    }\n",
              "\n",
              "    .colab-df-convert:hover {\n",
              "      background-color: #E2EBFA;\n",
              "      box-shadow: 0px 1px 2px rgba(60, 64, 67, 0.3), 0px 1px 3px 1px rgba(60, 64, 67, 0.15);\n",
              "      fill: #174EA6;\n",
              "    }\n",
              "\n",
              "    [theme=dark] .colab-df-convert {\n",
              "      background-color: #3B4455;\n",
              "      fill: #D2E3FC;\n",
              "    }\n",
              "\n",
              "    [theme=dark] .colab-df-convert:hover {\n",
              "      background-color: #434B5C;\n",
              "      box-shadow: 0px 1px 3px 1px rgba(0, 0, 0, 0.15);\n",
              "      filter: drop-shadow(0px 1px 2px rgba(0, 0, 0, 0.3));\n",
              "      fill: #FFFFFF;\n",
              "    }\n",
              "  </style>\n",
              "\n",
              "      <script>\n",
              "        const buttonEl =\n",
              "          document.querySelector('#df-1c1453c3-7edc-4be3-bb72-1774cc138370 button.colab-df-convert');\n",
              "        buttonEl.style.display =\n",
              "          google.colab.kernel.accessAllowed ? 'block' : 'none';\n",
              "\n",
              "        async function convertToInteractive(key) {\n",
              "          const element = document.querySelector('#df-1c1453c3-7edc-4be3-bb72-1774cc138370');\n",
              "          const dataTable =\n",
              "            await google.colab.kernel.invokeFunction('convertToInteractive',\n",
              "                                                     [key], {});\n",
              "          if (!dataTable) return;\n",
              "\n",
              "          const docLinkHtml = 'Like what you see? Visit the ' +\n",
              "            '<a target=\"_blank\" href=https://colab.research.google.com/notebooks/data_table.ipynb>data table notebook</a>'\n",
              "            + ' to learn more about interactive tables.';\n",
              "          element.innerHTML = '';\n",
              "          dataTable['output_type'] = 'display_data';\n",
              "          await google.colab.output.renderOutput(dataTable, element);\n",
              "          const docLink = document.createElement('div');\n",
              "          docLink.innerHTML = docLinkHtml;\n",
              "          element.appendChild(docLink);\n",
              "        }\n",
              "      </script>\n",
              "    </div>\n",
              "  </div>\n",
              "  "
            ]
          },
          "metadata": {},
          "execution_count": 23
        }
      ]
    },
    {
      "cell_type": "code",
      "source": [
        "sns.countplot(y=\"target\", palette=\"coolwarm\", data=Errores_df).set_title('Distribución de los errores en la clasificación')\n",
        "plt.show()"
      ],
      "metadata": {
        "colab": {
          "base_uri": "https://localhost:8080/",
          "height": 295
        },
        "id": "4CE3wYIjkRYz",
        "outputId": "a9bbaf46-1391-45e6-bda2-55d38078c957"
      },
      "execution_count": null,
      "outputs": [
        {
          "output_type": "display_data",
          "data": {
            "text/plain": [
              "<Figure size 432x288 with 1 Axes>"
            ],
            "image/png": "[encoded data removed]"
          },
          "metadata": {
            "needs_background": "light"
          }
        }
      ]
    },
    {
      "cell_type": "markdown",
      "source": [
        "<font color='darkblue'>Vemos que este último modelo se equivoca más a la hora de clasificar las noticias verdaderas, que las considera falsas, aunque la distribución está bastante balanceada. Este es el único modelo en el que ocurre esto, pues las matrices de confusión de los anteriores nos informaban de que los modelos se equivocaban con más frecuencia  a la hora de identificar las noticias falsas. Veamos algunas de estas noticias:</n>\n",
        "\n"
      ],
      "metadata": {
        "id": "2jHDKDxNk2WP"
      }
    },
    {
      "cell_type": "code",
      "source": [
        "mal_clasificadas = df_pred[df_pred.target != df_pred.pred_label].text.values\n",
        "mal_clasificadas[1]"
      ],
      "metadata": {
        "colab": {
          "base_uri": "https://localhost:8080/",
          "height": 418
        },
        "id": "pbyhrLkVoQzK",
        "outputId": "beb26ea4-6b4d-4801-c7d0-171fbae70078"
      },
      "execution_count": null,
      "outputs": [
        {
          "output_type": "execute_result",
          "data": {
            "text/plain": [
              "'Donald Trump is becoming a liability to the Republican Party, so GOP leaders are backing away from their nominee and aligning themselves with President Obama s condemnation of his Muslim ban.Ever since Trump became the nominee, Republicans have been torn between kissing his ass and distancing themselves from his hateful rhetoric. But ever since the Orlando mass shooting, Republicans have been finding themselves stuck between a rock and a hard place.Trump renewed his call to ban Muslims from entering the United States and expanded the idea by calling for banning anybody from a nation that has a history of terrorism against the United States. That could technically mean Japan and Germany as well as many other nations that are now our allies.Trump also claimed that President Obama is weak on terrorism because he hasn t used certain words to somehow make ISIS magically disappear.In response, President Obama took Trump to the woodshed. What exactly would using this language accomplish?  Obama angrily asked.  What exactly would it change? Would it make ISIL less committed to try and kill Americans? Would it bring in more allies? Is there a military strategy that is served by this? The answer is none of the above. Calling a threat by a different name does not make it go away. President Obama also strongly condemned Trump s proposed ban on Muslims. Are we going to start treating all Muslim-Americans differently? Are we going to start subjecting them to special surveillance? Are we going to start discriminating them because of their faith? We ve heard these suggestions during the course of this campaign. Do Republican officials actually agree with this? Because that s not the America we want. It doesn t reflect our Democratic ideals. It will make us less safe. And in a stunning move, many Republicans have joined President Obama to condemn Trump. I do not think a Muslim ban is in our country s interest,  House Speaker Paul Ryan responded.  I do not think it is reflective of our principles, not just as a party but as a country. Traditionally, it is a time when people rally around our country, and it s obviously not what s occurred, and it s very disappointing,  said Senator Bob Corker.  It wasn t the type (of address) that one would expect a person who is wanting to lead the greatest nation in the world to make.Senator Lindsey Graham also expressed a lack of confidence in Trump s leadership qualifications. I don t think he has the judgment or the temperament, the experience to deal with what we are facing,  he said.GOP Rep. Adam Kinzinger also condemned Trump perhaps more strongly than his GOP colleagues. I guess I appreciate Mr. Trump s fieriness in talking about it, but you don t do it by alienating the very people that we need, and those are moderate Muslims. We have to use the folks that frankly are not radicalized, which is the vast majority of Muslims, to win this war. Kinzinger would know since, unlike Trump, he served his country by fighting in Iraq and Afghanistan as a pilot. He knows that it s important to have Muslim allies on the ground feeding intelligence and offering support to our troops.Arizona Rep. Jeff Flake also criticized Trump and pointed out that he has to do better if he wants to get enough votes in November. He s won 13 million votes total so far; he s got to get 65 million or so to win the general election, which includes a lot of independents and Republicans that don t feel as he does. He can t win the general election talking the way he is. And these reactions are just the tip of the iceberg. Yet somehow, many of these Republicans STILL support Trump as the nominee and standard-bearer of their party.But that doesn t change the fact that for the first time Republicans and President Obama have united in agreement on something. Donald Trump is dangerous and he is unqualified to be president. It s just up to Republicans whether or not he remains the nominee. But if they continue to support him, it will be up to the American electorate to make sure he never becomes president and that the Republicans who continue to support him are thrown out of office.Featured Image: Pete Souza'"
            ],
            "application/vnd.google.colaboratory.intrinsic+json": {
              "type": "string"
            }
          },
          "metadata": {},
          "execution_count": 28
        }
      ]
    }
  ]
}